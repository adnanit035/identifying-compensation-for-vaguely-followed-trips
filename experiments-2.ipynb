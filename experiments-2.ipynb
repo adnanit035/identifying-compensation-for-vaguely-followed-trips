{
 "cells": [
  {
   "cell_type": "code",
   "execution_count": 1,
   "id": "initial_id",
   "metadata": {
    "collapsed": true,
    "ExecuteTime": {
     "end_time": "2024-01-01T00:51:06.820424Z",
     "start_time": "2024-01-01T00:51:03.868797300Z"
    }
   },
   "outputs": [],
   "source": [
    "import json\n",
    "import pandas as pd\n",
    "import numpy as np\n",
    "import matplotlib.pyplot as plt\n",
    "import random\n",
    "from geopy.distance import geodesic\n",
    "from sklearn.cluster import KMeans\n",
    "from sklearn.metrics import silhouette_score\n",
    "from sklearn.preprocessing import StandardScaler\n",
    "from sklearn.decomposition import PCA\n",
    "from sklearn.cluster import DBSCAN\n",
    "from sklearn.cluster import AgglomerativeClustering\n",
    "from sklearn.cluster import MeanShift\n",
    "from sklearn.cluster import SpectralClustering\n",
    "from sklearn.cluster import OPTICS\n",
    "from sklearn.cluster import AffinityPropagation\n",
    "from sklearn.cluster import Birch\n",
    "from sklearn.cluster import MiniBatchKMeans"
   ]
  },
  {
   "cell_type": "markdown",
   "source": [
    "## Data Loading"
   ],
   "metadata": {
    "collapsed": false
   },
   "id": "289a90664732ade6"
  },
  {
   "cell_type": "code",
   "outputs": [],
   "source": [
    "# Load the standard and actual routes data\n",
    "with open('Dataset/standard_routes.json', 'r') as file:\n",
    "    standard_routes = json.load(file)\n",
    "\n",
    "with open('Dataset/actual_routes.json', 'r') as file:\n",
    "    actual_routes = json.load(file)"
   ],
   "metadata": {
    "collapsed": false,
    "ExecuteTime": {
     "end_time": "2024-01-01T06:25:55.972866300Z",
     "start_time": "2024-01-01T06:25:55.948168900Z"
    }
   },
   "id": "65d03249439e7e1b",
   "execution_count": 253
  },
  {
   "cell_type": "markdown",
   "source": [
    "#### Sample Data Exploration"
   ],
   "metadata": {
    "collapsed": false
   },
   "id": "909bede05c72a4e8"
  },
  {
   "cell_type": "code",
   "outputs": [],
   "source": [
    "# Analyzing the structure of the data\n",
    "structure_standard = {\"total_routes\": len(standard_routes), \"example_route\": standard_routes[0]}\n",
    "structure_actual = {\"total_routes\": len(actual_routes), \"example_route\": actual_routes[0]}"
   ],
   "metadata": {
    "collapsed": false,
    "ExecuteTime": {
     "end_time": "2024-01-01T06:25:56.386749100Z",
     "start_time": "2024-01-01T06:25:56.373330700Z"
    }
   },
   "id": "c09af2a31bac0d9f",
   "execution_count": 254
  },
  {
   "cell_type": "code",
   "outputs": [
    {
     "data": {
      "text/plain": "{'total_routes': 50,\n 'example_route': {'id': 's1',\n  'route': [{'from': 'Pescara',\n    'to': 'Terni',\n    'merchandise': {'pens': 7, 'coca-cola': 25}},\n   {'from': 'Terni',\n    'to': 'Rome',\n    'merchandise': {'coca-cola': 30, 'bread': 32}},\n   {'from': 'Rome', 'to': 'Perugia', 'merchandise': {'pens': 30, 'honey': 18}},\n   {'from': 'Perugia', 'to': 'Forlì', 'merchandise': {'butter': 18}},\n   {'from': 'Forlì',\n    'to': 'Bologna',\n    'merchandise': {'coca-cola': 43, 'butter': 12}},\n   {'from': 'Bologna',\n    'to': 'Prato',\n    'merchandise': {'tomatoes': 4, 'bread': 15, 'coca-cola': 23}}]}}"
     },
     "execution_count": 255,
     "metadata": {},
     "output_type": "execute_result"
    }
   ],
   "source": [
    "structure_standard"
   ],
   "metadata": {
    "collapsed": false,
    "ExecuteTime": {
     "end_time": "2024-01-01T06:25:56.633842300Z",
     "start_time": "2024-01-01T06:25:56.596526600Z"
    }
   },
   "id": "67c36cfc230a321d",
   "execution_count": 255
  },
  {
   "cell_type": "code",
   "outputs": [
    {
     "data": {
      "text/plain": "{'total_routes': 656,\n 'example_route': {'id': 'a61038',\n  'driver': 'D38',\n  'route': [{'from': 'Pescara',\n    'to': 'Terni',\n    'merchandise': {'pens': 7, 'coca-cola': 25}},\n   {'from': 'Terni',\n    'to': 'Latina',\n    'merchandise': {'coca-cola': 30, 'bread': 35}},\n   {'from': 'Latina',\n    'to': 'Perugia',\n    'merchandise': {'pens': 30, 'honey': 12}},\n   {'from': 'Perugia', 'to': 'Forlì', 'merchandise': {'butter': 18}},\n   {'from': 'Forlì',\n    'to': 'Bologna',\n    'merchandise': {'coca-cola': 43, 'butter': 12}},\n   {'from': 'Bologna',\n    'to': 'Prato',\n    'merchandise': {'tomatoes': 4, 'bread': 15, 'coca-cola': 23}}],\n  'sroute': 's1'}}"
     },
     "execution_count": 256,
     "metadata": {},
     "output_type": "execute_result"
    }
   ],
   "source": [
    "structure_actual"
   ],
   "metadata": {
    "collapsed": false,
    "ExecuteTime": {
     "end_time": "2024-01-01T06:25:56.847685800Z",
     "start_time": "2024-01-01T06:25:56.804450600Z"
    }
   },
   "id": "ff9bb57e2f6aa99e",
   "execution_count": 256
  },
  {
   "cell_type": "markdown",
   "source": [
    "## Data Analysis"
   ],
   "metadata": {
    "collapsed": false
   },
   "id": "7e3b94be241f14b1"
  },
  {
   "cell_type": "code",
   "outputs": [],
   "source": [
    "# Converting the data into a dataframe\n",
    "standard_routes_df = pd.DataFrame(standard_routes)\n",
    "actual_routes_df = pd.DataFrame(actual_routes)"
   ],
   "metadata": {
    "collapsed": false,
    "ExecuteTime": {
     "end_time": "2024-01-01T06:25:57.226121600Z",
     "start_time": "2024-01-01T06:25:57.185164500Z"
    }
   },
   "id": "49b2445f58e8aee9",
   "execution_count": 257
  },
  {
   "cell_type": "code",
   "outputs": [
    {
     "data": {
      "text/plain": "     id                                              route\n0    s1  [{'from': 'Pescara', 'to': 'Terni', 'merchandi...\n1    s2  [{'from': 'Latina', 'to': 'Salerno', 'merchand...\n2    s3  [{'from': 'Bergamo', 'to': 'Monza', 'merchandi...\n3    s4  [{'from': 'Venice', 'to': 'Udine', 'merchandis...\n4    s5  [{'from': 'Bologna', 'to': 'Forlì', 'merchandi...\n5    s6  [{'from': 'Rimini', 'to': 'Forlì', 'merchandis...\n6    s7  [{'from': 'Turin', 'to': 'Genoa', 'merchandise...\n7    s8  [{'from': 'Padova', 'to': 'Bologna', 'merchand...\n8    s9  [{'from': 'Novara', 'to': 'Piacenza', 'merchan...\n9   s10  [{'from': 'Naples', 'to': 'Pescara', 'merchand...\n10  s11  [{'from': 'Rimini', 'to': 'Forlì', 'merchandis...\n11  s12  [{'from': 'Siracusa', 'to': 'Messina', 'mercha...\n12  s13  [{'from': 'Livorno', 'to': 'Reggio Emilia', 'm...\n13  s14  [{'from': 'Genoa', 'to': 'Milan', 'merchandise...\n14  s15  [{'from': 'Bergamo', 'to': 'Verona', 'merchand...\n15  s16  [{'from': 'Brescia', 'to': 'Piacenza', 'mercha...\n16  s17  [{'from': 'Perugia', 'to': 'Forlì', 'merchandi...\n17  s18  [{'from': 'Giugliano in Campania', 'to': 'Napl...\n18  s19  [{'from': 'Bari', 'to': 'Pescara', 'merchandis...\n19  s20  [{'from': 'Ancona', 'to': 'Ravenna', 'merchand...\n20  s21  [{'from': 'Ferrara', 'to': 'Padova', 'merchand...\n21  s22  [{'from': 'Perugia', 'to': 'Ancona', 'merchand...\n22  s23  [{'from': 'Venice', 'to': 'Verona', 'merchandi...\n23  s24  [{'from': 'Novara', 'to': 'Bergamo', 'merchand...\n24  s25  [{'from': 'Vicenza', 'to': 'Ferrara', 'merchan...\n25  s26  [{'from': 'Foggia', 'to': 'Pescara', 'merchand...\n26  s27  [{'from': 'Milan', 'to': 'Piacenza', 'merchand...\n27  s28  [{'from': 'Palermo', 'to': 'Siracusa', 'mercha...\n28  s29  [{'from': 'Giugliano in Campania', 'to': 'Sale...\n29  s30  [{'from': 'Ravenna', 'to': 'Modena', 'merchand...\n30  s31  [{'from': 'Pescara', 'to': 'Foggia', 'merchand...\n31  s32  [{'from': 'Parma', 'to': 'Modena', 'merchandis...\n32  s33  [{'from': 'Prato', 'to': 'Reggio Emilia', 'mer...\n33  s34  [{'from': 'Rome', 'to': 'Terni', 'merchandise'...\n34  s35  [{'from': 'Brescia', 'to': 'Parma', 'merchandi...\n35  s36  [{'from': 'Salerno', 'to': 'Giugliano in Campa...\n36  s37  [{'from': 'Naples', 'to': 'Giugliano in Campan...\n37  s38  [{'from': 'Reggio Emilia', 'to': 'Parma', 'mer...\n38  s39  [{'from': 'Naples', 'to': 'Salerno', 'merchand...\n39  s40  [{'from': 'Monza', 'to': 'Parma', 'merchandise...\n40  s41  [{'from': 'Ravenna', 'to': 'Modena', 'merchand...\n41  s42  [{'from': 'Forlì', 'to': 'Ravenna', 'merchandi...\n42  s43  [{'from': 'Cagliari', 'to': 'Latina', 'merchan...\n43  s44  [{'from': 'Verona', 'to': 'Ferrara', 'merchand...\n44  s45  [{'from': 'Cagliari', 'to': 'Rome', 'merchandi...\n45  s46  [{'from': 'Bolzano', 'to': 'Brescia', 'merchan...\n46  s47  [{'from': 'Reggio di Calabria', 'to': 'Messina...\n47  s48  [{'from': 'Trento', 'to': 'Verona', 'merchandi...\n48  s49  [{'from': 'Padova', 'to': 'Venice', 'merchandi...\n49  s50  [{'from': 'Rome', 'to': 'Giugliano in Campania...",
      "text/html": "<div>\n<style scoped>\n    .dataframe tbody tr th:only-of-type {\n        vertical-align: middle;\n    }\n\n    .dataframe tbody tr th {\n        vertical-align: top;\n    }\n\n    .dataframe thead th {\n        text-align: right;\n    }\n</style>\n<table border=\"1\" class=\"dataframe\">\n  <thead>\n    <tr style=\"text-align: right;\">\n      <th></th>\n      <th>id</th>\n      <th>route</th>\n    </tr>\n  </thead>\n  <tbody>\n    <tr>\n      <th>0</th>\n      <td>s1</td>\n      <td>[{'from': 'Pescara', 'to': 'Terni', 'merchandi...</td>\n    </tr>\n    <tr>\n      <th>1</th>\n      <td>s2</td>\n      <td>[{'from': 'Latina', 'to': 'Salerno', 'merchand...</td>\n    </tr>\n    <tr>\n      <th>2</th>\n      <td>s3</td>\n      <td>[{'from': 'Bergamo', 'to': 'Monza', 'merchandi...</td>\n    </tr>\n    <tr>\n      <th>3</th>\n      <td>s4</td>\n      <td>[{'from': 'Venice', 'to': 'Udine', 'merchandis...</td>\n    </tr>\n    <tr>\n      <th>4</th>\n      <td>s5</td>\n      <td>[{'from': 'Bologna', 'to': 'Forlì', 'merchandi...</td>\n    </tr>\n    <tr>\n      <th>5</th>\n      <td>s6</td>\n      <td>[{'from': 'Rimini', 'to': 'Forlì', 'merchandis...</td>\n    </tr>\n    <tr>\n      <th>6</th>\n      <td>s7</td>\n      <td>[{'from': 'Turin', 'to': 'Genoa', 'merchandise...</td>\n    </tr>\n    <tr>\n      <th>7</th>\n      <td>s8</td>\n      <td>[{'from': 'Padova', 'to': 'Bologna', 'merchand...</td>\n    </tr>\n    <tr>\n      <th>8</th>\n      <td>s9</td>\n      <td>[{'from': 'Novara', 'to': 'Piacenza', 'merchan...</td>\n    </tr>\n    <tr>\n      <th>9</th>\n      <td>s10</td>\n      <td>[{'from': 'Naples', 'to': 'Pescara', 'merchand...</td>\n    </tr>\n    <tr>\n      <th>10</th>\n      <td>s11</td>\n      <td>[{'from': 'Rimini', 'to': 'Forlì', 'merchandis...</td>\n    </tr>\n    <tr>\n      <th>11</th>\n      <td>s12</td>\n      <td>[{'from': 'Siracusa', 'to': 'Messina', 'mercha...</td>\n    </tr>\n    <tr>\n      <th>12</th>\n      <td>s13</td>\n      <td>[{'from': 'Livorno', 'to': 'Reggio Emilia', 'm...</td>\n    </tr>\n    <tr>\n      <th>13</th>\n      <td>s14</td>\n      <td>[{'from': 'Genoa', 'to': 'Milan', 'merchandise...</td>\n    </tr>\n    <tr>\n      <th>14</th>\n      <td>s15</td>\n      <td>[{'from': 'Bergamo', 'to': 'Verona', 'merchand...</td>\n    </tr>\n    <tr>\n      <th>15</th>\n      <td>s16</td>\n      <td>[{'from': 'Brescia', 'to': 'Piacenza', 'mercha...</td>\n    </tr>\n    <tr>\n      <th>16</th>\n      <td>s17</td>\n      <td>[{'from': 'Perugia', 'to': 'Forlì', 'merchandi...</td>\n    </tr>\n    <tr>\n      <th>17</th>\n      <td>s18</td>\n      <td>[{'from': 'Giugliano in Campania', 'to': 'Napl...</td>\n    </tr>\n    <tr>\n      <th>18</th>\n      <td>s19</td>\n      <td>[{'from': 'Bari', 'to': 'Pescara', 'merchandis...</td>\n    </tr>\n    <tr>\n      <th>19</th>\n      <td>s20</td>\n      <td>[{'from': 'Ancona', 'to': 'Ravenna', 'merchand...</td>\n    </tr>\n    <tr>\n      <th>20</th>\n      <td>s21</td>\n      <td>[{'from': 'Ferrara', 'to': 'Padova', 'merchand...</td>\n    </tr>\n    <tr>\n      <th>21</th>\n      <td>s22</td>\n      <td>[{'from': 'Perugia', 'to': 'Ancona', 'merchand...</td>\n    </tr>\n    <tr>\n      <th>22</th>\n      <td>s23</td>\n      <td>[{'from': 'Venice', 'to': 'Verona', 'merchandi...</td>\n    </tr>\n    <tr>\n      <th>23</th>\n      <td>s24</td>\n      <td>[{'from': 'Novara', 'to': 'Bergamo', 'merchand...</td>\n    </tr>\n    <tr>\n      <th>24</th>\n      <td>s25</td>\n      <td>[{'from': 'Vicenza', 'to': 'Ferrara', 'merchan...</td>\n    </tr>\n    <tr>\n      <th>25</th>\n      <td>s26</td>\n      <td>[{'from': 'Foggia', 'to': 'Pescara', 'merchand...</td>\n    </tr>\n    <tr>\n      <th>26</th>\n      <td>s27</td>\n      <td>[{'from': 'Milan', 'to': 'Piacenza', 'merchand...</td>\n    </tr>\n    <tr>\n      <th>27</th>\n      <td>s28</td>\n      <td>[{'from': 'Palermo', 'to': 'Siracusa', 'mercha...</td>\n    </tr>\n    <tr>\n      <th>28</th>\n      <td>s29</td>\n      <td>[{'from': 'Giugliano in Campania', 'to': 'Sale...</td>\n    </tr>\n    <tr>\n      <th>29</th>\n      <td>s30</td>\n      <td>[{'from': 'Ravenna', 'to': 'Modena', 'merchand...</td>\n    </tr>\n    <tr>\n      <th>30</th>\n      <td>s31</td>\n      <td>[{'from': 'Pescara', 'to': 'Foggia', 'merchand...</td>\n    </tr>\n    <tr>\n      <th>31</th>\n      <td>s32</td>\n      <td>[{'from': 'Parma', 'to': 'Modena', 'merchandis...</td>\n    </tr>\n    <tr>\n      <th>32</th>\n      <td>s33</td>\n      <td>[{'from': 'Prato', 'to': 'Reggio Emilia', 'mer...</td>\n    </tr>\n    <tr>\n      <th>33</th>\n      <td>s34</td>\n      <td>[{'from': 'Rome', 'to': 'Terni', 'merchandise'...</td>\n    </tr>\n    <tr>\n      <th>34</th>\n      <td>s35</td>\n      <td>[{'from': 'Brescia', 'to': 'Parma', 'merchandi...</td>\n    </tr>\n    <tr>\n      <th>35</th>\n      <td>s36</td>\n      <td>[{'from': 'Salerno', 'to': 'Giugliano in Campa...</td>\n    </tr>\n    <tr>\n      <th>36</th>\n      <td>s37</td>\n      <td>[{'from': 'Naples', 'to': 'Giugliano in Campan...</td>\n    </tr>\n    <tr>\n      <th>37</th>\n      <td>s38</td>\n      <td>[{'from': 'Reggio Emilia', 'to': 'Parma', 'mer...</td>\n    </tr>\n    <tr>\n      <th>38</th>\n      <td>s39</td>\n      <td>[{'from': 'Naples', 'to': 'Salerno', 'merchand...</td>\n    </tr>\n    <tr>\n      <th>39</th>\n      <td>s40</td>\n      <td>[{'from': 'Monza', 'to': 'Parma', 'merchandise...</td>\n    </tr>\n    <tr>\n      <th>40</th>\n      <td>s41</td>\n      <td>[{'from': 'Ravenna', 'to': 'Modena', 'merchand...</td>\n    </tr>\n    <tr>\n      <th>41</th>\n      <td>s42</td>\n      <td>[{'from': 'Forlì', 'to': 'Ravenna', 'merchandi...</td>\n    </tr>\n    <tr>\n      <th>42</th>\n      <td>s43</td>\n      <td>[{'from': 'Cagliari', 'to': 'Latina', 'merchan...</td>\n    </tr>\n    <tr>\n      <th>43</th>\n      <td>s44</td>\n      <td>[{'from': 'Verona', 'to': 'Ferrara', 'merchand...</td>\n    </tr>\n    <tr>\n      <th>44</th>\n      <td>s45</td>\n      <td>[{'from': 'Cagliari', 'to': 'Rome', 'merchandi...</td>\n    </tr>\n    <tr>\n      <th>45</th>\n      <td>s46</td>\n      <td>[{'from': 'Bolzano', 'to': 'Brescia', 'merchan...</td>\n    </tr>\n    <tr>\n      <th>46</th>\n      <td>s47</td>\n      <td>[{'from': 'Reggio di Calabria', 'to': 'Messina...</td>\n    </tr>\n    <tr>\n      <th>47</th>\n      <td>s48</td>\n      <td>[{'from': 'Trento', 'to': 'Verona', 'merchandi...</td>\n    </tr>\n    <tr>\n      <th>48</th>\n      <td>s49</td>\n      <td>[{'from': 'Padova', 'to': 'Venice', 'merchandi...</td>\n    </tr>\n    <tr>\n      <th>49</th>\n      <td>s50</td>\n      <td>[{'from': 'Rome', 'to': 'Giugliano in Campania...</td>\n    </tr>\n  </tbody>\n</table>\n</div>"
     },
     "execution_count": 258,
     "metadata": {},
     "output_type": "execute_result"
    }
   ],
   "source": [
    "standard_routes_df.head(50)"
   ],
   "metadata": {
    "collapsed": false,
    "ExecuteTime": {
     "end_time": "2024-01-01T06:25:57.543485700Z",
     "start_time": "2024-01-01T06:25:57.405082700Z"
    }
   },
   "id": "872c4cb0b8dcb49f",
   "execution_count": 258
  },
  {
   "cell_type": "code",
   "outputs": [
    {
     "data": {
      "text/plain": "        id driver                                              route sroute\n0   a61038    D38  [{'from': 'Pescara', 'to': 'Terni', 'merchandi...     s1\n1   a64038    D38  [{'from': 'Pescara', 'to': 'Terni', 'merchandi...     s1\n2   a66586    D38  [{'from': 'Pescara', 'to': 'Terni', 'merchandi...     s1\n3    a4774    D38  [{'from': 'Pescara', 'to': 'Terni', 'merchandi...     s1\n4   a75494    D38  [{'from': 'Pescara', 'to': 'Terni', 'merchandi...     s1\n5   a17114    D38  [{'from': 'Pescara', 'to': 'Terni', 'merchandi...     s1\n6   a94472    D38  [{'from': 'Pescara', 'to': 'Terni', 'merchandi...     s1\n7   a78407    D38  [{'from': 'Pescara', 'to': 'Terni', 'merchandi...     s1\n8   a98081    D38  [{'from': 'Pescara', 'to': 'Terni', 'merchandi...     s1\n9   a81263    D38  [{'from': 'Pescara', 'to': 'Terni', 'merchandi...     s1\n10  a66258    D38  [{'from': 'Pescara', 'to': 'Terni', 'merchandi...     s1\n11  a80285    D38  [{'from': 'Foggia', 'to': 'Pescara', 'merchand...     s1\n12  a98489    D38  [{'from': 'Pescara', 'to': 'Terni', 'merchandi...     s1\n13  a10246    D38  [{'from': 'Pescara', 'to': 'Terni', 'merchandi...     s1\n14  a67881    D38  [{'from': 'Pescara', 'to': 'Terni', 'merchandi...     s1\n15  a91997    D38  [{'from': 'Pescara', 'to': 'Terni', 'merchandi...     s1\n16  a88139    D38  [{'from': 'Pescara', 'to': 'Terni', 'merchandi...     s1\n17  a47534    D38  [{'from': 'Pescara', 'to': 'Terni', 'merchandi...     s1\n18  a44733    D13  [{'from': 'Latina', 'to': 'Salerno', 'merchand...     s2\n19  a46344    D13  [{'from': 'Naples', 'to': 'Salerno', 'merchand...     s2\n20  a44070    D13  [{'from': 'Latina', 'to': 'Salerno', 'merchand...     s2\n21  a73610    D13  [{'from': 'Latina', 'to': 'Salerno', 'merchand...     s2\n22  a73350    D13  [{'from': 'Latina', 'to': 'Salerno', 'merchand...     s2\n23  a66996    D13  [{'from': 'Latina', 'to': 'Salerno', 'merchand...     s2\n24  a88903    D13  [{'from': 'Terni', 'to': 'Latina', 'merchandis...     s2\n25  a49821    D13  [{'from': 'Naples', 'to': 'Latina', 'merchandi...     s2\n26  a84613    D13  [{'from': 'Latina', 'to': 'Salerno', 'merchand...     s2\n27  a29938    D13  [{'from': 'Latina', 'to': 'Salerno', 'merchand...     s2\n28  a45576    D19  [{'from': 'Bergamo', 'to': 'Piacenza', 'mercha...     s3\n29   a2179    D19  [{'from': 'Novara', 'to': 'Bergamo', 'merchand...     s3\n30   a7046    D19  [{'from': 'Novara', 'to': 'Bergamo', 'merchand...     s3\n31  a22601    D19  [{'from': 'Novara', 'to': 'Bergamo', 'merchand...     s3\n32  a43975    D19  [{'from': 'Novara', 'to': 'Bergamo', 'merchand...     s3\n33  a31438    D19  [{'from': 'Bergamo', 'to': 'Monza', 'merchandi...     s3\n34  a50669    D19  [{'from': 'Novara', 'to': 'Bergamo', 'merchand...     s3\n35  a62409    D19  [{'from': 'Novara', 'to': 'Bergamo', 'merchand...     s3\n36  a90022    D19  [{'from': 'Novara', 'to': 'Bergamo', 'merchand...     s3\n37  a16039    D19  [{'from': 'Novara', 'to': 'Bergamo', 'merchand...     s3\n38   a3761    D19  [{'from': 'Novara', 'to': 'Bergamo', 'merchand...     s3\n39  a63026    D19  [{'from': 'Novara', 'to': 'Bergamo', 'merchand...     s3\n40  a59946    D19  [{'from': 'Bergamo', 'to': 'Monza', 'merchandi...     s3\n41   a4082    D19  [{'from': 'Novara', 'to': 'Bergamo', 'merchand...     s3\n42  a49661    D31  [{'from': 'Trieste', 'to': 'Venice', 'merchand...     s4\n43  a31172    D31  [{'from': 'Venice', 'to': 'Udine', 'merchandis...     s4\n44  a88389    D31  [{'from': 'Trento', 'to': 'Venice', 'merchandi...     s4\n45  a49119    D31  [{'from': 'Venice', 'to': 'Vicenza', 'merchand...     s4\n46  a63972    D31  [{'from': 'Trento', 'to': 'Venice', 'merchandi...     s4\n47  a51754    D31  [{'from': 'Vicenza', 'to': 'Venice', 'merchand...     s4\n48   a4636    D31  [{'from': 'Venice', 'to': 'Udine', 'merchandis...     s4\n49  a97975    D31  [{'from': 'Trieste', 'to': 'Venice', 'merchand...     s4",
      "text/html": "<div>\n<style scoped>\n    .dataframe tbody tr th:only-of-type {\n        vertical-align: middle;\n    }\n\n    .dataframe tbody tr th {\n        vertical-align: top;\n    }\n\n    .dataframe thead th {\n        text-align: right;\n    }\n</style>\n<table border=\"1\" class=\"dataframe\">\n  <thead>\n    <tr style=\"text-align: right;\">\n      <th></th>\n      <th>id</th>\n      <th>driver</th>\n      <th>route</th>\n      <th>sroute</th>\n    </tr>\n  </thead>\n  <tbody>\n    <tr>\n      <th>0</th>\n      <td>a61038</td>\n      <td>D38</td>\n      <td>[{'from': 'Pescara', 'to': 'Terni', 'merchandi...</td>\n      <td>s1</td>\n    </tr>\n    <tr>\n      <th>1</th>\n      <td>a64038</td>\n      <td>D38</td>\n      <td>[{'from': 'Pescara', 'to': 'Terni', 'merchandi...</td>\n      <td>s1</td>\n    </tr>\n    <tr>\n      <th>2</th>\n      <td>a66586</td>\n      <td>D38</td>\n      <td>[{'from': 'Pescara', 'to': 'Terni', 'merchandi...</td>\n      <td>s1</td>\n    </tr>\n    <tr>\n      <th>3</th>\n      <td>a4774</td>\n      <td>D38</td>\n      <td>[{'from': 'Pescara', 'to': 'Terni', 'merchandi...</td>\n      <td>s1</td>\n    </tr>\n    <tr>\n      <th>4</th>\n      <td>a75494</td>\n      <td>D38</td>\n      <td>[{'from': 'Pescara', 'to': 'Terni', 'merchandi...</td>\n      <td>s1</td>\n    </tr>\n    <tr>\n      <th>5</th>\n      <td>a17114</td>\n      <td>D38</td>\n      <td>[{'from': 'Pescara', 'to': 'Terni', 'merchandi...</td>\n      <td>s1</td>\n    </tr>\n    <tr>\n      <th>6</th>\n      <td>a94472</td>\n      <td>D38</td>\n      <td>[{'from': 'Pescara', 'to': 'Terni', 'merchandi...</td>\n      <td>s1</td>\n    </tr>\n    <tr>\n      <th>7</th>\n      <td>a78407</td>\n      <td>D38</td>\n      <td>[{'from': 'Pescara', 'to': 'Terni', 'merchandi...</td>\n      <td>s1</td>\n    </tr>\n    <tr>\n      <th>8</th>\n      <td>a98081</td>\n      <td>D38</td>\n      <td>[{'from': 'Pescara', 'to': 'Terni', 'merchandi...</td>\n      <td>s1</td>\n    </tr>\n    <tr>\n      <th>9</th>\n      <td>a81263</td>\n      <td>D38</td>\n      <td>[{'from': 'Pescara', 'to': 'Terni', 'merchandi...</td>\n      <td>s1</td>\n    </tr>\n    <tr>\n      <th>10</th>\n      <td>a66258</td>\n      <td>D38</td>\n      <td>[{'from': 'Pescara', 'to': 'Terni', 'merchandi...</td>\n      <td>s1</td>\n    </tr>\n    <tr>\n      <th>11</th>\n      <td>a80285</td>\n      <td>D38</td>\n      <td>[{'from': 'Foggia', 'to': 'Pescara', 'merchand...</td>\n      <td>s1</td>\n    </tr>\n    <tr>\n      <th>12</th>\n      <td>a98489</td>\n      <td>D38</td>\n      <td>[{'from': 'Pescara', 'to': 'Terni', 'merchandi...</td>\n      <td>s1</td>\n    </tr>\n    <tr>\n      <th>13</th>\n      <td>a10246</td>\n      <td>D38</td>\n      <td>[{'from': 'Pescara', 'to': 'Terni', 'merchandi...</td>\n      <td>s1</td>\n    </tr>\n    <tr>\n      <th>14</th>\n      <td>a67881</td>\n      <td>D38</td>\n      <td>[{'from': 'Pescara', 'to': 'Terni', 'merchandi...</td>\n      <td>s1</td>\n    </tr>\n    <tr>\n      <th>15</th>\n      <td>a91997</td>\n      <td>D38</td>\n      <td>[{'from': 'Pescara', 'to': 'Terni', 'merchandi...</td>\n      <td>s1</td>\n    </tr>\n    <tr>\n      <th>16</th>\n      <td>a88139</td>\n      <td>D38</td>\n      <td>[{'from': 'Pescara', 'to': 'Terni', 'merchandi...</td>\n      <td>s1</td>\n    </tr>\n    <tr>\n      <th>17</th>\n      <td>a47534</td>\n      <td>D38</td>\n      <td>[{'from': 'Pescara', 'to': 'Terni', 'merchandi...</td>\n      <td>s1</td>\n    </tr>\n    <tr>\n      <th>18</th>\n      <td>a44733</td>\n      <td>D13</td>\n      <td>[{'from': 'Latina', 'to': 'Salerno', 'merchand...</td>\n      <td>s2</td>\n    </tr>\n    <tr>\n      <th>19</th>\n      <td>a46344</td>\n      <td>D13</td>\n      <td>[{'from': 'Naples', 'to': 'Salerno', 'merchand...</td>\n      <td>s2</td>\n    </tr>\n    <tr>\n      <th>20</th>\n      <td>a44070</td>\n      <td>D13</td>\n      <td>[{'from': 'Latina', 'to': 'Salerno', 'merchand...</td>\n      <td>s2</td>\n    </tr>\n    <tr>\n      <th>21</th>\n      <td>a73610</td>\n      <td>D13</td>\n      <td>[{'from': 'Latina', 'to': 'Salerno', 'merchand...</td>\n      <td>s2</td>\n    </tr>\n    <tr>\n      <th>22</th>\n      <td>a73350</td>\n      <td>D13</td>\n      <td>[{'from': 'Latina', 'to': 'Salerno', 'merchand...</td>\n      <td>s2</td>\n    </tr>\n    <tr>\n      <th>23</th>\n      <td>a66996</td>\n      <td>D13</td>\n      <td>[{'from': 'Latina', 'to': 'Salerno', 'merchand...</td>\n      <td>s2</td>\n    </tr>\n    <tr>\n      <th>24</th>\n      <td>a88903</td>\n      <td>D13</td>\n      <td>[{'from': 'Terni', 'to': 'Latina', 'merchandis...</td>\n      <td>s2</td>\n    </tr>\n    <tr>\n      <th>25</th>\n      <td>a49821</td>\n      <td>D13</td>\n      <td>[{'from': 'Naples', 'to': 'Latina', 'merchandi...</td>\n      <td>s2</td>\n    </tr>\n    <tr>\n      <th>26</th>\n      <td>a84613</td>\n      <td>D13</td>\n      <td>[{'from': 'Latina', 'to': 'Salerno', 'merchand...</td>\n      <td>s2</td>\n    </tr>\n    <tr>\n      <th>27</th>\n      <td>a29938</td>\n      <td>D13</td>\n      <td>[{'from': 'Latina', 'to': 'Salerno', 'merchand...</td>\n      <td>s2</td>\n    </tr>\n    <tr>\n      <th>28</th>\n      <td>a45576</td>\n      <td>D19</td>\n      <td>[{'from': 'Bergamo', 'to': 'Piacenza', 'mercha...</td>\n      <td>s3</td>\n    </tr>\n    <tr>\n      <th>29</th>\n      <td>a2179</td>\n      <td>D19</td>\n      <td>[{'from': 'Novara', 'to': 'Bergamo', 'merchand...</td>\n      <td>s3</td>\n    </tr>\n    <tr>\n      <th>30</th>\n      <td>a7046</td>\n      <td>D19</td>\n      <td>[{'from': 'Novara', 'to': 'Bergamo', 'merchand...</td>\n      <td>s3</td>\n    </tr>\n    <tr>\n      <th>31</th>\n      <td>a22601</td>\n      <td>D19</td>\n      <td>[{'from': 'Novara', 'to': 'Bergamo', 'merchand...</td>\n      <td>s3</td>\n    </tr>\n    <tr>\n      <th>32</th>\n      <td>a43975</td>\n      <td>D19</td>\n      <td>[{'from': 'Novara', 'to': 'Bergamo', 'merchand...</td>\n      <td>s3</td>\n    </tr>\n    <tr>\n      <th>33</th>\n      <td>a31438</td>\n      <td>D19</td>\n      <td>[{'from': 'Bergamo', 'to': 'Monza', 'merchandi...</td>\n      <td>s3</td>\n    </tr>\n    <tr>\n      <th>34</th>\n      <td>a50669</td>\n      <td>D19</td>\n      <td>[{'from': 'Novara', 'to': 'Bergamo', 'merchand...</td>\n      <td>s3</td>\n    </tr>\n    <tr>\n      <th>35</th>\n      <td>a62409</td>\n      <td>D19</td>\n      <td>[{'from': 'Novara', 'to': 'Bergamo', 'merchand...</td>\n      <td>s3</td>\n    </tr>\n    <tr>\n      <th>36</th>\n      <td>a90022</td>\n      <td>D19</td>\n      <td>[{'from': 'Novara', 'to': 'Bergamo', 'merchand...</td>\n      <td>s3</td>\n    </tr>\n    <tr>\n      <th>37</th>\n      <td>a16039</td>\n      <td>D19</td>\n      <td>[{'from': 'Novara', 'to': 'Bergamo', 'merchand...</td>\n      <td>s3</td>\n    </tr>\n    <tr>\n      <th>38</th>\n      <td>a3761</td>\n      <td>D19</td>\n      <td>[{'from': 'Novara', 'to': 'Bergamo', 'merchand...</td>\n      <td>s3</td>\n    </tr>\n    <tr>\n      <th>39</th>\n      <td>a63026</td>\n      <td>D19</td>\n      <td>[{'from': 'Novara', 'to': 'Bergamo', 'merchand...</td>\n      <td>s3</td>\n    </tr>\n    <tr>\n      <th>40</th>\n      <td>a59946</td>\n      <td>D19</td>\n      <td>[{'from': 'Bergamo', 'to': 'Monza', 'merchandi...</td>\n      <td>s3</td>\n    </tr>\n    <tr>\n      <th>41</th>\n      <td>a4082</td>\n      <td>D19</td>\n      <td>[{'from': 'Novara', 'to': 'Bergamo', 'merchand...</td>\n      <td>s3</td>\n    </tr>\n    <tr>\n      <th>42</th>\n      <td>a49661</td>\n      <td>D31</td>\n      <td>[{'from': 'Trieste', 'to': 'Venice', 'merchand...</td>\n      <td>s4</td>\n    </tr>\n    <tr>\n      <th>43</th>\n      <td>a31172</td>\n      <td>D31</td>\n      <td>[{'from': 'Venice', 'to': 'Udine', 'merchandis...</td>\n      <td>s4</td>\n    </tr>\n    <tr>\n      <th>44</th>\n      <td>a88389</td>\n      <td>D31</td>\n      <td>[{'from': 'Trento', 'to': 'Venice', 'merchandi...</td>\n      <td>s4</td>\n    </tr>\n    <tr>\n      <th>45</th>\n      <td>a49119</td>\n      <td>D31</td>\n      <td>[{'from': 'Venice', 'to': 'Vicenza', 'merchand...</td>\n      <td>s4</td>\n    </tr>\n    <tr>\n      <th>46</th>\n      <td>a63972</td>\n      <td>D31</td>\n      <td>[{'from': 'Trento', 'to': 'Venice', 'merchandi...</td>\n      <td>s4</td>\n    </tr>\n    <tr>\n      <th>47</th>\n      <td>a51754</td>\n      <td>D31</td>\n      <td>[{'from': 'Vicenza', 'to': 'Venice', 'merchand...</td>\n      <td>s4</td>\n    </tr>\n    <tr>\n      <th>48</th>\n      <td>a4636</td>\n      <td>D31</td>\n      <td>[{'from': 'Venice', 'to': 'Udine', 'merchandis...</td>\n      <td>s4</td>\n    </tr>\n    <tr>\n      <th>49</th>\n      <td>a97975</td>\n      <td>D31</td>\n      <td>[{'from': 'Trieste', 'to': 'Venice', 'merchand...</td>\n      <td>s4</td>\n    </tr>\n  </tbody>\n</table>\n</div>"
     },
     "execution_count": 259,
     "metadata": {},
     "output_type": "execute_result"
    }
   ],
   "source": [
    "actual_routes_df.head(50)"
   ],
   "metadata": {
    "collapsed": false,
    "ExecuteTime": {
     "end_time": "2024-01-01T06:25:57.845083400Z",
     "start_time": "2024-01-01T06:25:57.663221700Z"
    }
   },
   "id": "a4cf60a6c33c4baf",
   "execution_count": 259
  },
  {
   "cell_type": "code",
   "outputs": [
    {
     "data": {
      "text/plain": "   driver sroute  count\n0      D1    s45     10\n1     D10     s8      7\n2     D11    s25      9\n3     D12    s29     18\n4     D13     s2     10\n5     D14    s24      7\n6     D15    s15     14\n7     D16    s22      7\n8     D17    s39     12\n9     D18    s28      5\n10    D19     s3     14\n11     D2    s33     20\n12    D20    s12     13\n13    D21    s26     12\n14    D22    s32      5\n15    D23    s10     17\n16    D24     s9      6\n17    D25    s34      6\n18    D26    s18     15\n19    D27    s50     17\n20    D28    s44     18\n21    D29    s47     17\n22     D3    s49     15\n23    D30    s31     12\n24    D31     s4     20\n25    D32    s43     17\n26    D33    s41      9\n27    D34    s42     15\n28    D35    s14     12\n29    D36    s17     18\n30    D37    s36     13\n31    D38     s1     18\n32    D39    s48     14\n33     D4    s27     18\n34    D40     s5      9\n35    D41    s20     16\n36    D42    s11     17\n37    D43    s13     14\n38    D44    s23     19\n39    D45    s21     19\n40    D46    s30     19\n41    D47    s40      5\n42    D48    s35     11\n43    D49    s37     18\n44     D5     s7      6\n45    D50    s38     17\n46     D6    s19     15\n47     D7    s16      9\n48     D8     s6      5\n49     D9    s46     17",
      "text/html": "<div>\n<style scoped>\n    .dataframe tbody tr th:only-of-type {\n        vertical-align: middle;\n    }\n\n    .dataframe tbody tr th {\n        vertical-align: top;\n    }\n\n    .dataframe thead th {\n        text-align: right;\n    }\n</style>\n<table border=\"1\" class=\"dataframe\">\n  <thead>\n    <tr style=\"text-align: right;\">\n      <th></th>\n      <th>driver</th>\n      <th>sroute</th>\n      <th>count</th>\n    </tr>\n  </thead>\n  <tbody>\n    <tr>\n      <th>0</th>\n      <td>D1</td>\n      <td>s45</td>\n      <td>10</td>\n    </tr>\n    <tr>\n      <th>1</th>\n      <td>D10</td>\n      <td>s8</td>\n      <td>7</td>\n    </tr>\n    <tr>\n      <th>2</th>\n      <td>D11</td>\n      <td>s25</td>\n      <td>9</td>\n    </tr>\n    <tr>\n      <th>3</th>\n      <td>D12</td>\n      <td>s29</td>\n      <td>18</td>\n    </tr>\n    <tr>\n      <th>4</th>\n      <td>D13</td>\n      <td>s2</td>\n      <td>10</td>\n    </tr>\n    <tr>\n      <th>5</th>\n      <td>D14</td>\n      <td>s24</td>\n      <td>7</td>\n    </tr>\n    <tr>\n      <th>6</th>\n      <td>D15</td>\n      <td>s15</td>\n      <td>14</td>\n    </tr>\n    <tr>\n      <th>7</th>\n      <td>D16</td>\n      <td>s22</td>\n      <td>7</td>\n    </tr>\n    <tr>\n      <th>8</th>\n      <td>D17</td>\n      <td>s39</td>\n      <td>12</td>\n    </tr>\n    <tr>\n      <th>9</th>\n      <td>D18</td>\n      <td>s28</td>\n      <td>5</td>\n    </tr>\n    <tr>\n      <th>10</th>\n      <td>D19</td>\n      <td>s3</td>\n      <td>14</td>\n    </tr>\n    <tr>\n      <th>11</th>\n      <td>D2</td>\n      <td>s33</td>\n      <td>20</td>\n    </tr>\n    <tr>\n      <th>12</th>\n      <td>D20</td>\n      <td>s12</td>\n      <td>13</td>\n    </tr>\n    <tr>\n      <th>13</th>\n      <td>D21</td>\n      <td>s26</td>\n      <td>12</td>\n    </tr>\n    <tr>\n      <th>14</th>\n      <td>D22</td>\n      <td>s32</td>\n      <td>5</td>\n    </tr>\n    <tr>\n      <th>15</th>\n      <td>D23</td>\n      <td>s10</td>\n      <td>17</td>\n    </tr>\n    <tr>\n      <th>16</th>\n      <td>D24</td>\n      <td>s9</td>\n      <td>6</td>\n    </tr>\n    <tr>\n      <th>17</th>\n      <td>D25</td>\n      <td>s34</td>\n      <td>6</td>\n    </tr>\n    <tr>\n      <th>18</th>\n      <td>D26</td>\n      <td>s18</td>\n      <td>15</td>\n    </tr>\n    <tr>\n      <th>19</th>\n      <td>D27</td>\n      <td>s50</td>\n      <td>17</td>\n    </tr>\n    <tr>\n      <th>20</th>\n      <td>D28</td>\n      <td>s44</td>\n      <td>18</td>\n    </tr>\n    <tr>\n      <th>21</th>\n      <td>D29</td>\n      <td>s47</td>\n      <td>17</td>\n    </tr>\n    <tr>\n      <th>22</th>\n      <td>D3</td>\n      <td>s49</td>\n      <td>15</td>\n    </tr>\n    <tr>\n      <th>23</th>\n      <td>D30</td>\n      <td>s31</td>\n      <td>12</td>\n    </tr>\n    <tr>\n      <th>24</th>\n      <td>D31</td>\n      <td>s4</td>\n      <td>20</td>\n    </tr>\n    <tr>\n      <th>25</th>\n      <td>D32</td>\n      <td>s43</td>\n      <td>17</td>\n    </tr>\n    <tr>\n      <th>26</th>\n      <td>D33</td>\n      <td>s41</td>\n      <td>9</td>\n    </tr>\n    <tr>\n      <th>27</th>\n      <td>D34</td>\n      <td>s42</td>\n      <td>15</td>\n    </tr>\n    <tr>\n      <th>28</th>\n      <td>D35</td>\n      <td>s14</td>\n      <td>12</td>\n    </tr>\n    <tr>\n      <th>29</th>\n      <td>D36</td>\n      <td>s17</td>\n      <td>18</td>\n    </tr>\n    <tr>\n      <th>30</th>\n      <td>D37</td>\n      <td>s36</td>\n      <td>13</td>\n    </tr>\n    <tr>\n      <th>31</th>\n      <td>D38</td>\n      <td>s1</td>\n      <td>18</td>\n    </tr>\n    <tr>\n      <th>32</th>\n      <td>D39</td>\n      <td>s48</td>\n      <td>14</td>\n    </tr>\n    <tr>\n      <th>33</th>\n      <td>D4</td>\n      <td>s27</td>\n      <td>18</td>\n    </tr>\n    <tr>\n      <th>34</th>\n      <td>D40</td>\n      <td>s5</td>\n      <td>9</td>\n    </tr>\n    <tr>\n      <th>35</th>\n      <td>D41</td>\n      <td>s20</td>\n      <td>16</td>\n    </tr>\n    <tr>\n      <th>36</th>\n      <td>D42</td>\n      <td>s11</td>\n      <td>17</td>\n    </tr>\n    <tr>\n      <th>37</th>\n      <td>D43</td>\n      <td>s13</td>\n      <td>14</td>\n    </tr>\n    <tr>\n      <th>38</th>\n      <td>D44</td>\n      <td>s23</td>\n      <td>19</td>\n    </tr>\n    <tr>\n      <th>39</th>\n      <td>D45</td>\n      <td>s21</td>\n      <td>19</td>\n    </tr>\n    <tr>\n      <th>40</th>\n      <td>D46</td>\n      <td>s30</td>\n      <td>19</td>\n    </tr>\n    <tr>\n      <th>41</th>\n      <td>D47</td>\n      <td>s40</td>\n      <td>5</td>\n    </tr>\n    <tr>\n      <th>42</th>\n      <td>D48</td>\n      <td>s35</td>\n      <td>11</td>\n    </tr>\n    <tr>\n      <th>43</th>\n      <td>D49</td>\n      <td>s37</td>\n      <td>18</td>\n    </tr>\n    <tr>\n      <th>44</th>\n      <td>D5</td>\n      <td>s7</td>\n      <td>6</td>\n    </tr>\n    <tr>\n      <th>45</th>\n      <td>D50</td>\n      <td>s38</td>\n      <td>17</td>\n    </tr>\n    <tr>\n      <th>46</th>\n      <td>D6</td>\n      <td>s19</td>\n      <td>15</td>\n    </tr>\n    <tr>\n      <th>47</th>\n      <td>D7</td>\n      <td>s16</td>\n      <td>9</td>\n    </tr>\n    <tr>\n      <th>48</th>\n      <td>D8</td>\n      <td>s6</td>\n      <td>5</td>\n    </tr>\n    <tr>\n      <th>49</th>\n      <td>D9</td>\n      <td>s46</td>\n      <td>17</td>\n    </tr>\n  </tbody>\n</table>\n</div>"
     },
     "execution_count": 260,
     "metadata": {},
     "output_type": "execute_result"
    }
   ],
   "source": [
    "# Finding the number of actual routes for each driver and standard route\n",
    "actual_routes_count = actual_routes_df.groupby(['driver', 'sroute']).size().reset_index(name='count')\n",
    "actual_routes_count"
   ],
   "metadata": {
    "collapsed": false,
    "ExecuteTime": {
     "end_time": "2024-01-01T06:25:57.989892100Z",
     "start_time": "2024-01-01T06:25:57.885870500Z"
    }
   },
   "id": "a639defd571724ef",
   "execution_count": 260
  },
  {
   "cell_type": "code",
   "outputs": [
    {
     "data": {
      "text/plain": "<Axes: xlabel='driver'>"
     },
     "execution_count": 261,
     "metadata": {},
     "output_type": "execute_result"
    },
    {
     "data": {
      "text/plain": "<Figure size 2000x1000 with 1 Axes>",
      "image/png": "[encoded data removed]"
     },
     "metadata": {},
     "output_type": "display_data"
    }
   ],
   "source": [
    "# Show the graph for number of actual routes for each driver and standard route using a bar chart and should be sorted in descending order\n",
    "actual_routes_count.sort_values(by='count', ascending=False).plot.bar(x='driver', y='count', figsize=(20, 10))"
   ],
   "metadata": {
    "collapsed": false,
    "ExecuteTime": {
     "end_time": "2024-01-01T06:25:58.787957500Z",
     "start_time": "2024-01-01T06:25:58.207331700Z"
    }
   },
   "id": "f98d7a6fb514db8f",
   "execution_count": 261
  },
  {
   "cell_type": "code",
   "outputs": [
    {
     "data": {
      "text/plain": "   sroute  count\n0      s1      1\n1     s10      1\n2     s11      1\n3     s12      1\n4     s13      1\n5     s14      1\n6     s15      1\n7     s16      1\n8     s17      1\n9     s18      1\n10    s19      1\n11     s2      1\n12    s20      1\n13    s21      1\n14    s22      1\n15    s23      1\n16    s24      1\n17    s25      1\n18    s26      1\n19    s27      1\n20    s28      1\n21    s29      1\n22     s3      1\n23    s30      1\n24    s31      1\n25    s32      1\n26    s33      1\n27    s34      1\n28    s35      1\n29    s36      1\n30    s37      1\n31    s38      1\n32    s39      1\n33     s4      1\n34    s40      1\n35    s41      1\n36    s42      1\n37    s43      1\n38    s44      1\n39    s45      1\n40    s46      1\n41    s47      1\n42    s48      1\n43    s49      1\n44     s5      1\n45    s50      1\n46     s6      1\n47     s7      1\n48     s8      1\n49     s9      1",
      "text/html": "<div>\n<style scoped>\n    .dataframe tbody tr th:only-of-type {\n        vertical-align: middle;\n    }\n\n    .dataframe tbody tr th {\n        vertical-align: top;\n    }\n\n    .dataframe thead th {\n        text-align: right;\n    }\n</style>\n<table border=\"1\" class=\"dataframe\">\n  <thead>\n    <tr style=\"text-align: right;\">\n      <th></th>\n      <th>sroute</th>\n      <th>count</th>\n    </tr>\n  </thead>\n  <tbody>\n    <tr>\n      <th>0</th>\n      <td>s1</td>\n      <td>1</td>\n    </tr>\n    <tr>\n      <th>1</th>\n      <td>s10</td>\n      <td>1</td>\n    </tr>\n    <tr>\n      <th>2</th>\n      <td>s11</td>\n      <td>1</td>\n    </tr>\n    <tr>\n      <th>3</th>\n      <td>s12</td>\n      <td>1</td>\n    </tr>\n    <tr>\n      <th>4</th>\n      <td>s13</td>\n      <td>1</td>\n    </tr>\n    <tr>\n      <th>5</th>\n      <td>s14</td>\n      <td>1</td>\n    </tr>\n    <tr>\n      <th>6</th>\n      <td>s15</td>\n      <td>1</td>\n    </tr>\n    <tr>\n      <th>7</th>\n      <td>s16</td>\n      <td>1</td>\n    </tr>\n    <tr>\n      <th>8</th>\n      <td>s17</td>\n      <td>1</td>\n    </tr>\n    <tr>\n      <th>9</th>\n      <td>s18</td>\n      <td>1</td>\n    </tr>\n    <tr>\n      <th>10</th>\n      <td>s19</td>\n      <td>1</td>\n    </tr>\n    <tr>\n      <th>11</th>\n      <td>s2</td>\n      <td>1</td>\n    </tr>\n    <tr>\n      <th>12</th>\n      <td>s20</td>\n      <td>1</td>\n    </tr>\n    <tr>\n      <th>13</th>\n      <td>s21</td>\n      <td>1</td>\n    </tr>\n    <tr>\n      <th>14</th>\n      <td>s22</td>\n      <td>1</td>\n    </tr>\n    <tr>\n      <th>15</th>\n      <td>s23</td>\n      <td>1</td>\n    </tr>\n    <tr>\n      <th>16</th>\n      <td>s24</td>\n      <td>1</td>\n    </tr>\n    <tr>\n      <th>17</th>\n      <td>s25</td>\n      <td>1</td>\n    </tr>\n    <tr>\n      <th>18</th>\n      <td>s26</td>\n      <td>1</td>\n    </tr>\n    <tr>\n      <th>19</th>\n      <td>s27</td>\n      <td>1</td>\n    </tr>\n    <tr>\n      <th>20</th>\n      <td>s28</td>\n      <td>1</td>\n    </tr>\n    <tr>\n      <th>21</th>\n      <td>s29</td>\n      <td>1</td>\n    </tr>\n    <tr>\n      <th>22</th>\n      <td>s3</td>\n      <td>1</td>\n    </tr>\n    <tr>\n      <th>23</th>\n      <td>s30</td>\n      <td>1</td>\n    </tr>\n    <tr>\n      <th>24</th>\n      <td>s31</td>\n      <td>1</td>\n    </tr>\n    <tr>\n      <th>25</th>\n      <td>s32</td>\n      <td>1</td>\n    </tr>\n    <tr>\n      <th>26</th>\n      <td>s33</td>\n      <td>1</td>\n    </tr>\n    <tr>\n      <th>27</th>\n      <td>s34</td>\n      <td>1</td>\n    </tr>\n    <tr>\n      <th>28</th>\n      <td>s35</td>\n      <td>1</td>\n    </tr>\n    <tr>\n      <th>29</th>\n      <td>s36</td>\n      <td>1</td>\n    </tr>\n    <tr>\n      <th>30</th>\n      <td>s37</td>\n      <td>1</td>\n    </tr>\n    <tr>\n      <th>31</th>\n      <td>s38</td>\n      <td>1</td>\n    </tr>\n    <tr>\n      <th>32</th>\n      <td>s39</td>\n      <td>1</td>\n    </tr>\n    <tr>\n      <th>33</th>\n      <td>s4</td>\n      <td>1</td>\n    </tr>\n    <tr>\n      <th>34</th>\n      <td>s40</td>\n      <td>1</td>\n    </tr>\n    <tr>\n      <th>35</th>\n      <td>s41</td>\n      <td>1</td>\n    </tr>\n    <tr>\n      <th>36</th>\n      <td>s42</td>\n      <td>1</td>\n    </tr>\n    <tr>\n      <th>37</th>\n      <td>s43</td>\n      <td>1</td>\n    </tr>\n    <tr>\n      <th>38</th>\n      <td>s44</td>\n      <td>1</td>\n    </tr>\n    <tr>\n      <th>39</th>\n      <td>s45</td>\n      <td>1</td>\n    </tr>\n    <tr>\n      <th>40</th>\n      <td>s46</td>\n      <td>1</td>\n    </tr>\n    <tr>\n      <th>41</th>\n      <td>s47</td>\n      <td>1</td>\n    </tr>\n    <tr>\n      <th>42</th>\n      <td>s48</td>\n      <td>1</td>\n    </tr>\n    <tr>\n      <th>43</th>\n      <td>s49</td>\n      <td>1</td>\n    </tr>\n    <tr>\n      <th>44</th>\n      <td>s5</td>\n      <td>1</td>\n    </tr>\n    <tr>\n      <th>45</th>\n      <td>s50</td>\n      <td>1</td>\n    </tr>\n    <tr>\n      <th>46</th>\n      <td>s6</td>\n      <td>1</td>\n    </tr>\n    <tr>\n      <th>47</th>\n      <td>s7</td>\n      <td>1</td>\n    </tr>\n    <tr>\n      <th>48</th>\n      <td>s8</td>\n      <td>1</td>\n    </tr>\n    <tr>\n      <th>49</th>\n      <td>s9</td>\n      <td>1</td>\n    </tr>\n  </tbody>\n</table>\n</div>"
     },
     "execution_count": 262,
     "metadata": {},
     "output_type": "execute_result"
    }
   ],
   "source": [
    "# Finding the number of drivers for each standard route\n",
    "standard_routes_count = actual_routes_count.groupby('sroute').size().reset_index(name='count')\n",
    "standard_routes_count"
   ],
   "metadata": {
    "collapsed": false,
    "ExecuteTime": {
     "end_time": "2024-01-01T06:25:59.226094500Z",
     "start_time": "2024-01-01T06:25:59.152880100Z"
    }
   },
   "id": "91fba992aa734c5",
   "execution_count": 262
  },
  {
   "cell_type": "code",
   "outputs": [
    {
     "data": {
      "text/plain": "   driver  count\n0      D1      1\n1     D10      1\n2     D11      1\n3     D12      1\n4     D13      1\n5     D14      1\n6     D15      1\n7     D16      1\n8     D17      1\n9     D18      1\n10    D19      1\n11     D2      1\n12    D20      1\n13    D21      1\n14    D22      1\n15    D23      1\n16    D24      1\n17    D25      1\n18    D26      1\n19    D27      1\n20    D28      1\n21    D29      1\n22     D3      1\n23    D30      1\n24    D31      1\n25    D32      1\n26    D33      1\n27    D34      1\n28    D35      1\n29    D36      1\n30    D37      1\n31    D38      1\n32    D39      1\n33     D4      1\n34    D40      1\n35    D41      1\n36    D42      1\n37    D43      1\n38    D44      1\n39    D45      1\n40    D46      1\n41    D47      1\n42    D48      1\n43    D49      1\n44     D5      1\n45    D50      1\n46     D6      1\n47     D7      1\n48     D8      1\n49     D9      1",
      "text/html": "<div>\n<style scoped>\n    .dataframe tbody tr th:only-of-type {\n        vertical-align: middle;\n    }\n\n    .dataframe tbody tr th {\n        vertical-align: top;\n    }\n\n    .dataframe thead th {\n        text-align: right;\n    }\n</style>\n<table border=\"1\" class=\"dataframe\">\n  <thead>\n    <tr style=\"text-align: right;\">\n      <th></th>\n      <th>driver</th>\n      <th>count</th>\n    </tr>\n  </thead>\n  <tbody>\n    <tr>\n      <th>0</th>\n      <td>D1</td>\n      <td>1</td>\n    </tr>\n    <tr>\n      <th>1</th>\n      <td>D10</td>\n      <td>1</td>\n    </tr>\n    <tr>\n      <th>2</th>\n      <td>D11</td>\n      <td>1</td>\n    </tr>\n    <tr>\n      <th>3</th>\n      <td>D12</td>\n      <td>1</td>\n    </tr>\n    <tr>\n      <th>4</th>\n      <td>D13</td>\n      <td>1</td>\n    </tr>\n    <tr>\n      <th>5</th>\n      <td>D14</td>\n      <td>1</td>\n    </tr>\n    <tr>\n      <th>6</th>\n      <td>D15</td>\n      <td>1</td>\n    </tr>\n    <tr>\n      <th>7</th>\n      <td>D16</td>\n      <td>1</td>\n    </tr>\n    <tr>\n      <th>8</th>\n      <td>D17</td>\n      <td>1</td>\n    </tr>\n    <tr>\n      <th>9</th>\n      <td>D18</td>\n      <td>1</td>\n    </tr>\n    <tr>\n      <th>10</th>\n      <td>D19</td>\n      <td>1</td>\n    </tr>\n    <tr>\n      <th>11</th>\n      <td>D2</td>\n      <td>1</td>\n    </tr>\n    <tr>\n      <th>12</th>\n      <td>D20</td>\n      <td>1</td>\n    </tr>\n    <tr>\n      <th>13</th>\n      <td>D21</td>\n      <td>1</td>\n    </tr>\n    <tr>\n      <th>14</th>\n      <td>D22</td>\n      <td>1</td>\n    </tr>\n    <tr>\n      <th>15</th>\n      <td>D23</td>\n      <td>1</td>\n    </tr>\n    <tr>\n      <th>16</th>\n      <td>D24</td>\n      <td>1</td>\n    </tr>\n    <tr>\n      <th>17</th>\n      <td>D25</td>\n      <td>1</td>\n    </tr>\n    <tr>\n      <th>18</th>\n      <td>D26</td>\n      <td>1</td>\n    </tr>\n    <tr>\n      <th>19</th>\n      <td>D27</td>\n      <td>1</td>\n    </tr>\n    <tr>\n      <th>20</th>\n      <td>D28</td>\n      <td>1</td>\n    </tr>\n    <tr>\n      <th>21</th>\n      <td>D29</td>\n      <td>1</td>\n    </tr>\n    <tr>\n      <th>22</th>\n      <td>D3</td>\n      <td>1</td>\n    </tr>\n    <tr>\n      <th>23</th>\n      <td>D30</td>\n      <td>1</td>\n    </tr>\n    <tr>\n      <th>24</th>\n      <td>D31</td>\n      <td>1</td>\n    </tr>\n    <tr>\n      <th>25</th>\n      <td>D32</td>\n      <td>1</td>\n    </tr>\n    <tr>\n      <th>26</th>\n      <td>D33</td>\n      <td>1</td>\n    </tr>\n    <tr>\n      <th>27</th>\n      <td>D34</td>\n      <td>1</td>\n    </tr>\n    <tr>\n      <th>28</th>\n      <td>D35</td>\n      <td>1</td>\n    </tr>\n    <tr>\n      <th>29</th>\n      <td>D36</td>\n      <td>1</td>\n    </tr>\n    <tr>\n      <th>30</th>\n      <td>D37</td>\n      <td>1</td>\n    </tr>\n    <tr>\n      <th>31</th>\n      <td>D38</td>\n      <td>1</td>\n    </tr>\n    <tr>\n      <th>32</th>\n      <td>D39</td>\n      <td>1</td>\n    </tr>\n    <tr>\n      <th>33</th>\n      <td>D4</td>\n      <td>1</td>\n    </tr>\n    <tr>\n      <th>34</th>\n      <td>D40</td>\n      <td>1</td>\n    </tr>\n    <tr>\n      <th>35</th>\n      <td>D41</td>\n      <td>1</td>\n    </tr>\n    <tr>\n      <th>36</th>\n      <td>D42</td>\n      <td>1</td>\n    </tr>\n    <tr>\n      <th>37</th>\n      <td>D43</td>\n      <td>1</td>\n    </tr>\n    <tr>\n      <th>38</th>\n      <td>D44</td>\n      <td>1</td>\n    </tr>\n    <tr>\n      <th>39</th>\n      <td>D45</td>\n      <td>1</td>\n    </tr>\n    <tr>\n      <th>40</th>\n      <td>D46</td>\n      <td>1</td>\n    </tr>\n    <tr>\n      <th>41</th>\n      <td>D47</td>\n      <td>1</td>\n    </tr>\n    <tr>\n      <th>42</th>\n      <td>D48</td>\n      <td>1</td>\n    </tr>\n    <tr>\n      <th>43</th>\n      <td>D49</td>\n      <td>1</td>\n    </tr>\n    <tr>\n      <th>44</th>\n      <td>D5</td>\n      <td>1</td>\n    </tr>\n    <tr>\n      <th>45</th>\n      <td>D50</td>\n      <td>1</td>\n    </tr>\n    <tr>\n      <th>46</th>\n      <td>D6</td>\n      <td>1</td>\n    </tr>\n    <tr>\n      <th>47</th>\n      <td>D7</td>\n      <td>1</td>\n    </tr>\n    <tr>\n      <th>48</th>\n      <td>D8</td>\n      <td>1</td>\n    </tr>\n    <tr>\n      <th>49</th>\n      <td>D9</td>\n      <td>1</td>\n    </tr>\n  </tbody>\n</table>\n</div>"
     },
     "execution_count": 263,
     "metadata": {},
     "output_type": "execute_result"
    }
   ],
   "source": [
    "# Finding the number of standard routes for each driver\n",
    "driver_routes_count = actual_routes_count.groupby('driver').size().reset_index(name='count')\n",
    "driver_routes_count"
   ],
   "metadata": {
    "collapsed": false,
    "ExecuteTime": {
     "end_time": "2024-01-01T06:25:59.811735100Z",
     "start_time": "2024-01-01T06:25:59.767669900Z"
    }
   },
   "id": "d5490a3d83d09be2",
   "execution_count": 263
  },
  {
   "cell_type": "code",
   "outputs": [
    {
     "data": {
      "text/plain": "     total_actual_routes  same_varied_actual_routes  same_std_route  \\\nD38                   18                          2               0   \nD13                   10                          1               0   \nD19                   14                          2               2   \nD31                   20                          6               0   \nD40                    9                          2               3   \nD8                     5                          1               2   \nD5                     6                          1               0   \nD10                    7                          2               0   \nD24                    6                          2               0   \nD23                   17                          4               0   \nD42                   17                          3               6   \nD20                   13                          3               0   \nD43                   14                          3               5   \nD35                   12                          1               9   \nD15                   14                          2               0   \nD7                     9                          1               0   \nD36                   18                          1               0   \nD26                   15                          2               0   \nD6                    15                          2               2   \nD41                   16                          4               3   \nD45                   19                          1               0   \nD16                    7                          1               0   \nD44                   19                          2               1   \nD14                    7                          1               0   \nD11                    9                          2               0   \nD21                   12                          2               0   \nD4                    18                          1               0   \nD18                    5                          1               0   \nD12                   18                          3               8   \nD46                   19                          4               0   \nD30                   12                          1               0   \nD22                    5                          1               0   \nD2                    20                          4               0   \nD25                    6                          1               1   \nD48                   11                          1               0   \nD37                   13                          2               1   \nD49                   18                          3               3   \nD50                   17                          3               7   \nD17                   12                          2               0   \nD47                    5                          1               0   \nD33                    9                          1               0   \nD34                   15                          2               0   \nD32                   17                          2               0   \nD28                   18                          4               0   \nD1                    10                          1               1   \nD9                    17                          2               0   \nD29                   17                          5               0   \nD39                   14                          3               2   \nD3                    15                          4               2   \nD27                   17                          2               1   \n\n     different_varied_actual_routes  \nD38                              16  \nD13                               9  \nD19                              10  \nD31                              14  \nD40                               4  \nD8                                2  \nD5                                5  \nD10                               5  \nD24                               4  \nD23                              13  \nD42                               8  \nD20                              10  \nD43                               6  \nD35                               2  \nD15                              12  \nD7                                8  \nD36                              17  \nD26                              13  \nD6                               11  \nD41                               9  \nD45                              18  \nD16                               6  \nD44                              16  \nD14                               6  \nD11                               7  \nD21                              10  \nD4                               17  \nD18                               4  \nD12                               7  \nD46                              15  \nD30                              11  \nD22                               4  \nD2                               16  \nD25                               4  \nD48                              10  \nD37                              10  \nD49                              12  \nD50                               7  \nD17                              10  \nD47                               4  \nD33                               8  \nD34                              13  \nD32                              15  \nD28                              14  \nD1                                8  \nD9                               15  \nD29                              12  \nD39                               9  \nD3                                9  \nD27                              14  ",
      "text/html": "<div>\n<style scoped>\n    .dataframe tbody tr th:only-of-type {\n        vertical-align: middle;\n    }\n\n    .dataframe tbody tr th {\n        vertical-align: top;\n    }\n\n    .dataframe thead th {\n        text-align: right;\n    }\n</style>\n<table border=\"1\" class=\"dataframe\">\n  <thead>\n    <tr style=\"text-align: right;\">\n      <th></th>\n      <th>total_actual_routes</th>\n      <th>same_varied_actual_routes</th>\n      <th>same_std_route</th>\n      <th>different_varied_actual_routes</th>\n    </tr>\n  </thead>\n  <tbody>\n    <tr>\n      <th>D38</th>\n      <td>18</td>\n      <td>2</td>\n      <td>0</td>\n      <td>16</td>\n    </tr>\n    <tr>\n      <th>D13</th>\n      <td>10</td>\n      <td>1</td>\n      <td>0</td>\n      <td>9</td>\n    </tr>\n    <tr>\n      <th>D19</th>\n      <td>14</td>\n      <td>2</td>\n      <td>2</td>\n      <td>10</td>\n    </tr>\n    <tr>\n      <th>D31</th>\n      <td>20</td>\n      <td>6</td>\n      <td>0</td>\n      <td>14</td>\n    </tr>\n    <tr>\n      <th>D40</th>\n      <td>9</td>\n      <td>2</td>\n      <td>3</td>\n      <td>4</td>\n    </tr>\n    <tr>\n      <th>D8</th>\n      <td>5</td>\n      <td>1</td>\n      <td>2</td>\n      <td>2</td>\n    </tr>\n    <tr>\n      <th>D5</th>\n      <td>6</td>\n      <td>1</td>\n      <td>0</td>\n      <td>5</td>\n    </tr>\n    <tr>\n      <th>D10</th>\n      <td>7</td>\n      <td>2</td>\n      <td>0</td>\n      <td>5</td>\n    </tr>\n    <tr>\n      <th>D24</th>\n      <td>6</td>\n      <td>2</td>\n      <td>0</td>\n      <td>4</td>\n    </tr>\n    <tr>\n      <th>D23</th>\n      <td>17</td>\n      <td>4</td>\n      <td>0</td>\n      <td>13</td>\n    </tr>\n    <tr>\n      <th>D42</th>\n      <td>17</td>\n      <td>3</td>\n      <td>6</td>\n      <td>8</td>\n    </tr>\n    <tr>\n      <th>D20</th>\n      <td>13</td>\n      <td>3</td>\n      <td>0</td>\n      <td>10</td>\n    </tr>\n    <tr>\n      <th>D43</th>\n      <td>14</td>\n      <td>3</td>\n      <td>5</td>\n      <td>6</td>\n    </tr>\n    <tr>\n      <th>D35</th>\n      <td>12</td>\n      <td>1</td>\n      <td>9</td>\n      <td>2</td>\n    </tr>\n    <tr>\n      <th>D15</th>\n      <td>14</td>\n      <td>2</td>\n      <td>0</td>\n      <td>12</td>\n    </tr>\n    <tr>\n      <th>D7</th>\n      <td>9</td>\n      <td>1</td>\n      <td>0</td>\n      <td>8</td>\n    </tr>\n    <tr>\n      <th>D36</th>\n      <td>18</td>\n      <td>1</td>\n      <td>0</td>\n      <td>17</td>\n    </tr>\n    <tr>\n      <th>D26</th>\n      <td>15</td>\n      <td>2</td>\n      <td>0</td>\n      <td>13</td>\n    </tr>\n    <tr>\n      <th>D6</th>\n      <td>15</td>\n      <td>2</td>\n      <td>2</td>\n      <td>11</td>\n    </tr>\n    <tr>\n      <th>D41</th>\n      <td>16</td>\n      <td>4</td>\n      <td>3</td>\n      <td>9</td>\n    </tr>\n    <tr>\n      <th>D45</th>\n      <td>19</td>\n      <td>1</td>\n      <td>0</td>\n      <td>18</td>\n    </tr>\n    <tr>\n      <th>D16</th>\n      <td>7</td>\n      <td>1</td>\n      <td>0</td>\n      <td>6</td>\n    </tr>\n    <tr>\n      <th>D44</th>\n      <td>19</td>\n      <td>2</td>\n      <td>1</td>\n      <td>16</td>\n    </tr>\n    <tr>\n      <th>D14</th>\n      <td>7</td>\n      <td>1</td>\n      <td>0</td>\n      <td>6</td>\n    </tr>\n    <tr>\n      <th>D11</th>\n      <td>9</td>\n      <td>2</td>\n      <td>0</td>\n      <td>7</td>\n    </tr>\n    <tr>\n      <th>D21</th>\n      <td>12</td>\n      <td>2</td>\n      <td>0</td>\n      <td>10</td>\n    </tr>\n    <tr>\n      <th>D4</th>\n      <td>18</td>\n      <td>1</td>\n      <td>0</td>\n      <td>17</td>\n    </tr>\n    <tr>\n      <th>D18</th>\n      <td>5</td>\n      <td>1</td>\n      <td>0</td>\n      <td>4</td>\n    </tr>\n    <tr>\n      <th>D12</th>\n      <td>18</td>\n      <td>3</td>\n      <td>8</td>\n      <td>7</td>\n    </tr>\n    <tr>\n      <th>D46</th>\n      <td>19</td>\n      <td>4</td>\n      <td>0</td>\n      <td>15</td>\n    </tr>\n    <tr>\n      <th>D30</th>\n      <td>12</td>\n      <td>1</td>\n      <td>0</td>\n      <td>11</td>\n    </tr>\n    <tr>\n      <th>D22</th>\n      <td>5</td>\n      <td>1</td>\n      <td>0</td>\n      <td>4</td>\n    </tr>\n    <tr>\n      <th>D2</th>\n      <td>20</td>\n      <td>4</td>\n      <td>0</td>\n      <td>16</td>\n    </tr>\n    <tr>\n      <th>D25</th>\n      <td>6</td>\n      <td>1</td>\n      <td>1</td>\n      <td>4</td>\n    </tr>\n    <tr>\n      <th>D48</th>\n      <td>11</td>\n      <td>1</td>\n      <td>0</td>\n      <td>10</td>\n    </tr>\n    <tr>\n      <th>D37</th>\n      <td>13</td>\n      <td>2</td>\n      <td>1</td>\n      <td>10</td>\n    </tr>\n    <tr>\n      <th>D49</th>\n      <td>18</td>\n      <td>3</td>\n      <td>3</td>\n      <td>12</td>\n    </tr>\n    <tr>\n      <th>D50</th>\n      <td>17</td>\n      <td>3</td>\n      <td>7</td>\n      <td>7</td>\n    </tr>\n    <tr>\n      <th>D17</th>\n      <td>12</td>\n      <td>2</td>\n      <td>0</td>\n      <td>10</td>\n    </tr>\n    <tr>\n      <th>D47</th>\n      <td>5</td>\n      <td>1</td>\n      <td>0</td>\n      <td>4</td>\n    </tr>\n    <tr>\n      <th>D33</th>\n      <td>9</td>\n      <td>1</td>\n      <td>0</td>\n      <td>8</td>\n    </tr>\n    <tr>\n      <th>D34</th>\n      <td>15</td>\n      <td>2</td>\n      <td>0</td>\n      <td>13</td>\n    </tr>\n    <tr>\n      <th>D32</th>\n      <td>17</td>\n      <td>2</td>\n      <td>0</td>\n      <td>15</td>\n    </tr>\n    <tr>\n      <th>D28</th>\n      <td>18</td>\n      <td>4</td>\n      <td>0</td>\n      <td>14</td>\n    </tr>\n    <tr>\n      <th>D1</th>\n      <td>10</td>\n      <td>1</td>\n      <td>1</td>\n      <td>8</td>\n    </tr>\n    <tr>\n      <th>D9</th>\n      <td>17</td>\n      <td>2</td>\n      <td>0</td>\n      <td>15</td>\n    </tr>\n    <tr>\n      <th>D29</th>\n      <td>17</td>\n      <td>5</td>\n      <td>0</td>\n      <td>12</td>\n    </tr>\n    <tr>\n      <th>D39</th>\n      <td>14</td>\n      <td>3</td>\n      <td>2</td>\n      <td>9</td>\n    </tr>\n    <tr>\n      <th>D3</th>\n      <td>15</td>\n      <td>4</td>\n      <td>2</td>\n      <td>9</td>\n    </tr>\n    <tr>\n      <th>D27</th>\n      <td>17</td>\n      <td>2</td>\n      <td>1</td>\n      <td>14</td>\n    </tr>\n  </tbody>\n</table>\n</div>"
     },
     "execution_count": 264,
     "metadata": {},
     "output_type": "execute_result"
    }
   ],
   "source": [
    "import json\n",
    "from collections import Counter\n",
    "\n",
    "def route_to_string(route):\n",
    "    \"\"\"\n",
    "    Convert a route (list of leg dictionaries) to a standardized string format.\n",
    "    \"\"\"\n",
    "    return ' '.join([\"{}-{}\".format(leg['from'], leg['to']) for leg in route])\n",
    "\n",
    "def calculate_route_statistics(driver_routes, std_route_dict):\n",
    "    \"\"\"\n",
    "    Calculate statistics for a driver's routes.\n",
    "    \"\"\"\n",
    "    same_varied_actual_routes = Counter()\n",
    "    different_varied_actual_routes = 0\n",
    "    same_std_route = 0\n",
    "\n",
    "    for _, route_row in driver_routes.iterrows():\n",
    "        std_route = std_route_dict.get(route_row['sroute'], \"\")\n",
    "        act_route = route_to_string(route_row['route'])\n",
    "        \n",
    "        same_varied_actual_routes.update([act_route])\n",
    "        \n",
    "        if act_route == std_route:\n",
    "            same_std_route += 1\n",
    "        else:\n",
    "            different_varied_actual_routes += 1\n",
    "            \n",
    "    repeated_actual_routes = sum(1 for count in same_varied_actual_routes.values() if count > 1)\n",
    "\n",
    "    return {\n",
    "        'total_actual_routes': len(driver_routes),\n",
    "        'same_varied_actual_routes': repeated_actual_routes,\n",
    "        'same_std_route': same_std_route,\n",
    "        'different_varied_actual_routes': different_varied_actual_routes - repeated_actual_routes\n",
    "    }\n",
    "\n",
    "def analyze_driver_routes(actual_routes_df_, standard_routes_df_):\n",
    "    \"\"\"\n",
    "    Analyze routes for all drivers.\n",
    "    \"\"\"\n",
    "    driver_actual_routes_analysis = {}\n",
    "\n",
    "    # Create a dictionary mapping standard route IDs to their route strings\n",
    "    std_route_dict = {row['id']: route_to_string(row['route']) for _, row in standard_routes_df_.iterrows()}\n",
    "\n",
    "    for driver_ in actual_routes_df_['driver'].unique():\n",
    "        driver_routes = actual_routes_df_[actual_routes_df_['driver'] == driver_]\n",
    "        driver_actual_routes_analysis[driver_] = calculate_route_statistics(driver_routes, std_route_dict)\n",
    "\n",
    "    return driver_actual_routes_analysis\n",
    "\n",
    "# Use the analyze_driver_routes function to get the analysis\n",
    "driver_actual_routes_followed_analysis = analyze_driver_routes(actual_routes_df, standard_routes_df)\n",
    "\n",
    "# Convert the analysis to a DataFrame\n",
    "driver_actual_routes_followed_analysis_df = pd.DataFrame(driver_actual_routes_followed_analysis).T\n",
    "driver_actual_routes_followed_analysis_df"
   ],
   "metadata": {
    "collapsed": false,
    "ExecuteTime": {
     "end_time": "2024-01-01T06:26:00.829901200Z",
     "start_time": "2024-01-01T06:26:00.729602300Z"
    }
   },
   "id": "6624b20a398f66d2",
   "execution_count": 264
  },
  {
   "cell_type": "code",
   "outputs": [
    {
     "data": {
      "text/plain": "<Axes: >"
     },
     "execution_count": 265,
     "metadata": {},
     "output_type": "execute_result"
    },
    {
     "data": {
      "text/plain": "<Figure size 2000x1000 with 1 Axes>",
      "image/png": "[encoded data removed]"
     },
     "metadata": {},
     "output_type": "display_data"
    }
   ],
   "source": [
    "# Randomly plot analysis for 10 drivers\n",
    "random_drivers = random.sample(list(driver_actual_routes_followed_analysis.keys()), 10)\n",
    "driver_actual_routes_followed_analysis_df.loc[random_drivers].plot.bar(figsize=(20, 10))"
   ],
   "metadata": {
    "collapsed": false,
    "ExecuteTime": {
     "end_time": "2024-01-01T06:26:02.625481400Z",
     "start_time": "2024-01-01T06:26:02.333344700Z"
    }
   },
   "id": "55a674b2f88cac7c",
   "execution_count": 265
  },
  {
   "cell_type": "markdown",
   "source": [
    "## Route Analysis: \n",
    "By comparing the standard and actual routes, identify the common deviations made by drivers."
   ],
   "metadata": {
    "collapsed": false
   },
   "id": "db1d2e25686fe37e"
  },
  {
   "cell_type": "code",
   "outputs": [
    {
     "data": {
      "text/plain": "   id                                              route  \\\n0  s1  [{'from': 'Pescara', 'to': 'Terni', 'merchandi...   \n1  s2  [{'from': 'Latina', 'to': 'Salerno', 'merchand...   \n2  s3  [{'from': 'Bergamo', 'to': 'Monza', 'merchandi...   \n3  s4  [{'from': 'Venice', 'to': 'Udine', 'merchandis...   \n4  s5  [{'from': 'Bologna', 'to': 'Forlì', 'merchandi...   \n\n                                        actual_route  \n0  [{'from': 'Pescara', 'to': 'Terni', 'merchandi...  \n1  [{'from': 'Pescara', 'to': 'Terni', 'merchandi...  \n2  [{'from': 'Pescara', 'to': 'Terni', 'merchandi...  \n3  [{'from': 'Pescara', 'to': 'Terni', 'merchandi...  \n4  [{'from': 'Pescara', 'to': 'Terni', 'merchandi...  ",
      "text/html": "<div>\n<style scoped>\n    .dataframe tbody tr th:only-of-type {\n        vertical-align: middle;\n    }\n\n    .dataframe tbody tr th {\n        vertical-align: top;\n    }\n\n    .dataframe thead th {\n        text-align: right;\n    }\n</style>\n<table border=\"1\" class=\"dataframe\">\n  <thead>\n    <tr style=\"text-align: right;\">\n      <th></th>\n      <th>id</th>\n      <th>route</th>\n      <th>actual_route</th>\n    </tr>\n  </thead>\n  <tbody>\n    <tr>\n      <th>0</th>\n      <td>s1</td>\n      <td>[{'from': 'Pescara', 'to': 'Terni', 'merchandi...</td>\n      <td>[{'from': 'Pescara', 'to': 'Terni', 'merchandi...</td>\n    </tr>\n    <tr>\n      <th>1</th>\n      <td>s2</td>\n      <td>[{'from': 'Latina', 'to': 'Salerno', 'merchand...</td>\n      <td>[{'from': 'Pescara', 'to': 'Terni', 'merchandi...</td>\n    </tr>\n    <tr>\n      <th>2</th>\n      <td>s3</td>\n      <td>[{'from': 'Bergamo', 'to': 'Monza', 'merchandi...</td>\n      <td>[{'from': 'Pescara', 'to': 'Terni', 'merchandi...</td>\n    </tr>\n    <tr>\n      <th>3</th>\n      <td>s4</td>\n      <td>[{'from': 'Venice', 'to': 'Udine', 'merchandis...</td>\n      <td>[{'from': 'Pescara', 'to': 'Terni', 'merchandi...</td>\n    </tr>\n    <tr>\n      <th>4</th>\n      <td>s5</td>\n      <td>[{'from': 'Bologna', 'to': 'Forlì', 'merchandi...</td>\n      <td>[{'from': 'Pescara', 'to': 'Terni', 'merchandi...</td>\n    </tr>\n  </tbody>\n</table>\n</div>"
     },
     "execution_count": 266,
     "metadata": {},
     "output_type": "execute_result"
    }
   ],
   "source": [
    "# Comparing the standard and actual routes\n",
    "standard_routes_df['actual_route'] = actual_routes_df['route']\n",
    "standard_routes_df.head()"
   ],
   "metadata": {
    "collapsed": false,
    "ExecuteTime": {
     "end_time": "2024-01-01T06:26:08.020259700Z",
     "start_time": "2024-01-01T06:26:07.952549500Z"
    }
   },
   "id": "3d324c36da0ccf72",
   "execution_count": 266
  },
  {
   "cell_type": "code",
   "outputs": [],
   "source": [
    "from collections import defaultdict\n",
    "\n",
    "# Function to convert route list to a dictionary for easy comparison\n",
    "def route_list_to_dict(route_list):\n",
    "    return {f\"{leg_['from']}-{leg_['to']}\": leg_['merchandise'] for leg_ in route_list}"
   ],
   "metadata": {
    "collapsed": false,
    "ExecuteTime": {
     "end_time": "2024-01-01T06:26:08.944885600Z",
     "start_time": "2024-01-01T06:26:08.927145800Z"
    }
   },
   "id": "919483c969ea9615",
   "execution_count": 267
  },
  {
   "cell_type": "code",
   "outputs": [
    {
     "data": {
      "text/plain": "{'s1': {'Pescara-Terni': {'pens': 7, 'coca-cola': 25},\n  'Terni-Rome': {'coca-cola': 30, 'bread': 32},\n  'Rome-Perugia': {'pens': 30, 'honey': 18},\n  'Perugia-Forlì': {'butter': 18},\n  'Forlì-Bologna': {'coca-cola': 43, 'butter': 12},\n  'Bologna-Prato': {'tomatoes': 4, 'bread': 15, 'coca-cola': 23}},\n 's2': {'Latina-Salerno': {'milk': 2,\n   'coca-cola': 38,\n   'butter': 9,\n   'bread': 8},\n  'Salerno-Foggia': {'bread': 10, 'tomatoes': 8, 'coca-cola': 8},\n  'Foggia-Bari': {'milk': 16, 'coca-cola': 35},\n  'Bari-Taranto': {'honey': 8, 'coca-cola': 47}},\n 's3': {'Bergamo-Monza': {'milk': 3},\n  'Monza-Milan': {'tomatoes': 35, 'bread': 30},\n  'Milan-Parma': {'milk': 22, 'bread': 12, 'honey': 43},\n  'Parma-Brescia': {'tomatoes': 50},\n  'Brescia-Verona': {'pens': 1}},\n 's4': {'Venice-Udine': {'milk': 49},\n  'Udine-Padova': {'tomatoes': 28},\n  'Padova-Ferrara': {'butter': 8, 'bread': 42, 'pens': 20, 'honey': 32},\n  'Ferrara-Reggio Emilia': {'bread': 41, 'milk': 3}},\n 's5': {'Bologna-Forlì': {'coca-cola': 31, 'butter': 40, 'tomatoes': 5},\n  'Forlì-Prato': {'tomatoes': 11, 'butter': 36},\n  'Prato-Livorno': {'milk': 34},\n  'Livorno-Parma': {'milk': 35},\n  'Parma-Brescia': {'coca-cola': 37, 'butter': 18, 'pens': 20},\n  'Brescia-Bergamo': {'tomatoes': 29, 'butter': 23, 'milk': 45},\n  'Bergamo-Piacenza': {'bread': 21, 'honey': 3, 'pens': 30}},\n 's6': {'Rimini-Forlì': {'milk': 34},\n  'Forlì-Ferrara': {'coca-cola': 30, 'honey': 23, 'pens': 45},\n  'Ferrara-Modena': {'bread': 29},\n  'Modena-Reggio Emilia': {'tomatoes': 12, 'butter': 38},\n  'Reggio Emilia-Piacenza': {'tomatoes': 49, 'honey': 49},\n  'Piacenza-Parma': {'pens': 43}},\n 's7': {'Turin-Genoa': {'coca-cola': 34, 'milk': 7, 'honey': 31},\n  'Genoa-Piacenza': {'coca-cola': 10},\n  'Piacenza-Bergamo': {'bread': 24, 'honey': 5},\n  'Bergamo-Milan': {'butter': 15, 'pens': 17},\n  'Milan-Parma': {'bread': 35, 'butter': 40, 'milk': 32},\n  'Parma-Verona': {'bread': 50, 'coca-cola': 1, 'tomatoes': 3},\n  'Verona-Padova': {'milk': 46}},\n 's8': {'Padova-Bologna': {'milk': 21, 'butter': 5, 'bread': 23, 'honey': 43},\n  'Bologna-Forlì': {'butter': 38, 'milk': 35},\n  'Forlì-Florence': {'coca-cola': 6},\n  'Florence-Modena': {'tomatoes': 23, 'honey': 18, 'butter': 7}},\n 's9': {'Novara-Piacenza': {'coca-cola': 47, 'tomatoes': 45},\n  'Piacenza-Parma': {'milk': 25, 'tomatoes': 16},\n  'Parma-Modena': {'milk': 38},\n  'Modena-Bologna': {'pens': 20},\n  'Bologna-Prato': {'tomatoes': 45, 'coca-cola': 2}},\n 's10': {'Naples-Pescara': {'honey': 32, 'bread': 16},\n  'Pescara-Foggia': {'pens': 30, 'milk': 19},\n  'Foggia-Taranto': {'butter': 10, 'tomatoes': 42, 'honey': 13},\n  'Taranto-Salerno': {'pens': 8}},\n 's11': {'Rimini-Forlì': {'bread': 42},\n  'Forlì-Florence': {'honey': 38, 'bread': 26},\n  'Florence-Modena': {'butter': 11},\n  'Modena-Reggio Emilia': {'milk': 49, 'coca-cola': 50}},\n 's12': {'Siracusa-Messina': {'pens': 32, 'butter': 37},\n  'Messina-Taranto': {'milk': 24, 'bread': 6, 'butter': 8}},\n 's13': {'Livorno-Reggio Emilia': {'pens': 33, 'coca-cola': 9},\n  'Reggio Emilia-Verona': {'honey': 26, 'pens': 47, 'milk': 34},\n  'Verona-Brescia': {'butter': 31, 'honey': 29},\n  'Brescia-Milan': {'honey': 18, 'bread': 11},\n  'Milan-Monza': {'milk': 1, 'pens': 36},\n  'Monza-Bergamo': {'pens': 16, 'honey': 38}},\n 's14': {'Genoa-Milan': {'pens': 32, 'honey': 4, 'butter': 38},\n  'Milan-Piacenza': {'milk': 23, 'butter': 6, 'bread': 5},\n  'Piacenza-Monza': {'pens': 22, 'butter': 50},\n  'Monza-Novara': {'butter': 4, 'bread': 34, 'tomatoes': 14, 'milk': 43}},\n 's15': {'Bergamo-Verona': {'butter': 29, 'honey': 14},\n  'Verona-Vicenza': {'pens': 31, 'honey': 41},\n  'Vicenza-Venice': {'bread': 15, 'coca-cola': 6},\n  'Venice-Udine': {'butter': 11, 'coca-cola': 21, 'tomatoes': 13},\n  'Udine-Trento': {'honey': 12, 'milk': 48},\n  'Trento-Brescia': {'butter': 7,\n   'coca-cola': 33,\n   'tomatoes': 21,\n   'honey': 43}},\n 's16': {'Brescia-Piacenza': {'bread': 31,\n   'honey': 11,\n   'milk': 28,\n   'pens': 30},\n  'Piacenza-Bergamo': {'butter': 42},\n  'Bergamo-Verona': {'coca-cola': 44, 'butter': 24, 'bread': 46},\n  'Verona-Padova': {'pens': 42, 'honey': 27, 'coca-cola': 42},\n  'Padova-Vicenza': {'tomatoes': 9, 'butter': 13},\n  'Vicenza-Trento': {'tomatoes': 26}},\n 's17': {'Perugia-Forlì': {'pens': 17, 'butter': 9, 'tomatoes': 46},\n  'Forlì-Bologna': {'coca-cola': 22, 'honey': 14, 'tomatoes': 5},\n  'Bologna-Reggio Emilia': {'butter': 36, 'pens': 22, 'milk': 46, 'honey': 21},\n  'Reggio Emilia-Verona': {'honey': 1, 'butter': 13},\n  'Verona-Brescia': {'butter': 8, 'coca-cola': 21}},\n 's18': {'Giugliano in Campania-Naples': {'honey': 31, 'pens': 6},\n  'Naples-Salerno': {'coca-cola': 50},\n  'Salerno-Foggia': {'pens': 12, 'butter': 14},\n  'Foggia-Pescara': {'butter': 48, 'milk': 42}},\n 's19': {'Bari-Pescara': {'honey': 41, 'butter': 1},\n  'Pescara-Latina': {'bread': 6, 'pens': 48, 'tomatoes': 22},\n  'Latina-Terni': {'bread': 25},\n  'Terni-Rimini': {'coca-cola': 27, 'honey': 32},\n  'Rimini-Florence': {'butter': 43, 'honey': 42, 'pens': 8}},\n 's20': {'Ancona-Ravenna': {'honey': 8},\n  'Ravenna-Rimini': {'honey': 44, 'pens': 44},\n  'Rimini-Florence': {'tomatoes': 49, 'pens': 18},\n  'Florence-Modena': {'milk': 41},\n  'Modena-Bologna': {'milk': 19, 'tomatoes': 49},\n  'Bologna-Prato': {'pens': 23, 'tomatoes': 41, 'milk': 42},\n  'Prato-Forlì': {'pens': 24}},\n 's21': {'Ferrara-Padova': {'bread': 24, 'honey': 36},\n  'Padova-Vicenza': {'milk': 17, 'butter': 23, 'pens': 37, 'tomatoes': 10},\n  'Vicenza-Brescia': {'bread': 47},\n  'Brescia-Bergamo': {'coca-cola': 23},\n  'Bergamo-Verona': {'tomatoes': 38, 'coca-cola': 6, 'bread': 17, 'milk': 41},\n  'Verona-Trento': {'coca-cola': 15, 'pens': 47},\n  'Trento-Bolzano': {'tomatoes': 1, 'milk': 4}},\n 's22': {'Perugia-Ancona': {'milk': 29, 'pens': 29},\n  'Ancona-Pescara': {'coca-cola': 28},\n  'Pescara-Latina': {'bread': 3, 'pens': 30, 'butter': 50},\n  'Latina-Salerno': {'bread': 40},\n  'Salerno-Giugliano in Campania': {'pens': 27, 'honey': 41},\n  'Giugliano in Campania-Naples': {'tomatoes': 47},\n  'Naples-Rome': {'coca-cola': 7, 'pens': 15}},\n 's23': {'Venice-Verona': {'tomatoes': 4},\n  'Verona-Padova': {'bread': 46, 'honey': 37, 'butter': 14},\n  'Padova-Trento': {'tomatoes': 35, 'milk': 21},\n  'Trento-Brescia': {'bread': 49},\n  'Brescia-Parma': {'milk': 15},\n  'Parma-Bologna': {'butter': 17}},\n 's24': {'Novara-Bergamo': {'pens': 18},\n  'Bergamo-Monza': {'milk': 39, 'pens': 21},\n  'Monza-Piacenza': {'butter': 39},\n  'Piacenza-Milan': {'butter': 16, 'coca-cola': 5},\n  'Milan-Parma': {'butter': 37},\n  'Parma-Verona': {'butter': 26},\n  'Verona-Ferrara': {'butter': 36}},\n 's25': {'Vicenza-Ferrara': {'honey': 18, 'milk': 44},\n  'Ferrara-Bologna': {'pens': 35, 'bread': 22},\n  'Bologna-Prato': {'honey': 3, 'milk': 15},\n  'Prato-Reggio Emilia': {'butter': 3, 'pens': 3, 'tomatoes': 25},\n  'Reggio Emilia-Modena': {'coca-cola': 36, 'tomatoes': 45, 'bread': 22},\n  'Modena-Verona': {'pens': 17, 'tomatoes': 6, 'coca-cola': 18}},\n 's26': {'Foggia-Pescara': {'pens': 47, 'bread': 38, 'milk': 14},\n  'Pescara-Latina': {'bread': 45, 'milk': 46, 'coca-cola': 46, 'honey': 17},\n  'Latina-Terni': {'butter': 21},\n  'Terni-Rome': {'tomatoes': 39, 'milk': 14, 'honey': 30},\n  'Rome-Giugliano in Campania': {'pens': 43, 'bread': 6}},\n 's27': {'Milan-Piacenza': {'coca-cola': 24, 'milk': 22, 'bread': 11},\n  'Piacenza-Parma': {'milk': 28, 'bread': 37, 'tomatoes': 7},\n  'Parma-Modena': {'pens': 25, 'coca-cola': 12},\n  'Modena-Reggio Emilia': {'butter': 5, 'coca-cola': 1}},\n 's28': {'Palermo-Siracusa': {'coca-cola': 23, 'pens': 42},\n  'Siracusa-Taranto': {'tomatoes': 2, 'butter': 12},\n  'Taranto-Foggia': {'coca-cola': 28},\n  'Foggia-Giugliano in Campania': {'pens': 39},\n  'Giugliano in Campania-Pescara': {'coca-cola': 43, 'tomatoes': 23},\n  'Pescara-Perugia': {'tomatoes': 10, 'coca-cola': 18, 'bread': 10},\n  'Perugia-Florence': {'coca-cola': 18, 'milk': 48}},\n 's29': {'Giugliano in Campania-Salerno': {'bread': 33, 'tomatoes': 43},\n  'Salerno-Bari': {'coca-cola': 33, 'honey': 42, 'milk': 2},\n  'Bari-Foggia': {'pens': 20, 'butter': 38},\n  'Foggia-Pescara': {'pens': 44, 'tomatoes': 50}},\n 's30': {'Ravenna-Modena': {'butter': 17},\n  'Modena-Reggio Emilia': {'tomatoes': 20},\n  'Reggio Emilia-Parma': {'milk': 29},\n  'Parma-Piacenza': {'coca-cola': 3, 'milk': 45},\n  'Piacenza-Milan': {'pens': 25, 'honey': 38, 'milk': 7},\n  'Milan-Novara': {'bread': 21, 'coca-cola': 27, 'honey': 36, 'pens': 36}},\n 's31': {'Pescara-Foggia': {'coca-cola': 47, 'honey': 44, 'pens': 28},\n  'Foggia-Salerno': {'honey': 39},\n  'Salerno-Giugliano in Campania': {'milk': 2},\n  'Giugliano in Campania-Rome': {'tomatoes': 40, 'pens': 15, 'milk': 29},\n  'Rome-Terni': {'pens': 44, 'bread': 2},\n  'Terni-Perugia': {'tomatoes': 17, 'bread': 40},\n  'Perugia-Florence': {'butter': 1, 'tomatoes': 13}},\n 's32': {'Parma-Modena': {'coca-cola': 35, 'tomatoes': 34},\n  'Modena-Verona': {'bread': 34, 'tomatoes': 6, 'coca-cola': 22},\n  'Verona-Trento': {'butter': 30, 'pens': 50, 'milk': 32}},\n 's33': {'Prato-Reggio Emilia': {'tomatoes': 25,\n   'butter': 3,\n   'honey': 37,\n   'bread': 29},\n  'Reggio Emilia-Modena': {'butter': 19, 'bread': 24, 'milk': 15},\n  'Modena-Verona': {'tomatoes': 37},\n  'Verona-Ferrara': {'bread': 28},\n  'Ferrara-Bologna': {'honey': 6, 'coca-cola': 6},\n  'Bologna-Forlì': {'tomatoes': 44, 'butter': 46},\n  'Forlì-Ravenna': {'tomatoes': 37, 'milk': 32, 'honey': 26}},\n 's34': {'Rome-Terni': {'tomatoes': 33},\n  'Terni-Rimini': {'pens': 7},\n  'Rimini-Perugia': {'butter': 35, 'milk': 30, 'coca-cola': 3},\n  'Perugia-Prato': {'coca-cola': 30, 'butter': 7}},\n 's35': {'Brescia-Parma': {'pens': 46},\n  'Parma-Reggio Emilia': {'tomatoes': 45, 'coca-cola': 46},\n  'Reggio Emilia-Verona': {'pens': 16},\n  'Verona-Padova': {'pens': 17, 'coca-cola': 24},\n  'Padova-Ferrara': {'butter': 28, 'honey': 25, 'milk': 40},\n  'Ferrara-Bologna': {'tomatoes': 30, 'butter': 30, 'honey': 28}},\n 's36': {'Salerno-Giugliano in Campania': {'coca-cola': 18,\n   'honey': 31,\n   'tomatoes': 36,\n   'milk': 46},\n  'Giugliano in Campania-Pescara': {'tomatoes': 46},\n  'Pescara-Terni': {'bread': 41, 'milk': 40, 'pens': 9},\n  'Terni-Rimini': {'pens': 40},\n  'Rimini-Bologna': {'coca-cola': 21, 'milk': 41},\n  'Bologna-Reggio Emilia': {'pens': 35}},\n 's37': {'Naples-Giugliano in Campania': {'coca-cola': 2},\n  'Giugliano in Campania-Latina': {'honey': 11, 'bread': 35, 'milk': 18},\n  'Latina-Rome': {'coca-cola': 15},\n  'Rome-Pescara': {'tomatoes': 14}},\n 's38': {'Reggio Emilia-Parma': {'bread': 34},\n  'Parma-Brescia': {'bread': 10, 'honey': 17},\n  'Brescia-Piacenza': {'tomatoes': 43, 'bread': 34, 'butter': 11},\n  'Piacenza-Bergamo': {'honey': 11, 'bread': 21}},\n 's39': {'Naples-Salerno': {'honey': 30, 'tomatoes': 17},\n  'Salerno-Pescara': {'honey': 16, 'butter': 24, 'milk': 2},\n  'Pescara-Ancona': {'butter': 21, 'tomatoes': 45, 'bread': 3},\n  'Ancona-Terni': {'butter': 30},\n  'Terni-Perugia': {'pens': 28, 'butter': 33, 'milk': 10},\n  'Perugia-Florence': {'coca-cola': 10, 'bread': 32},\n  'Florence-Modena': {'coca-cola': 3, 'butter': 6, 'tomatoes': 3, 'pens': 9}},\n 's40': {'Monza-Parma': {'butter': 11},\n  'Parma-Bologna': {'milk': 24, 'pens': 14},\n  'Bologna-Prato': {'milk': 14, 'bread': 42, 'honey': 16},\n  'Prato-Modena': {'pens': 36}},\n 's41': {'Ravenna-Modena': {'pens': 50, 'milk': 22},\n  'Modena-Prato': {'milk': 25, 'pens': 26, 'coca-cola': 34},\n  'Prato-Reggio Emilia': {'pens': 44, 'butter': 20, 'bread': 49},\n  'Reggio Emilia-Parma': {'butter': 13, 'milk': 48, 'honey': 7, 'pens': 28},\n  'Parma-Brescia': {'butter': 9, 'tomatoes': 23},\n  'Brescia-Milan': {'pens': 3},\n  'Milan-Piacenza': {'honey': 8, 'pens': 19}},\n 's42': {'Forlì-Ravenna': {'coca-cola': 6},\n  'Ravenna-Modena': {'pens': 45, 'honey': 46},\n  'Modena-Reggio Emilia': {'pens': 29},\n  'Reggio Emilia-Ferrara': {'coca-cola': 41, 'tomatoes': 15, 'milk': 45}},\n 's43': {'Cagliari-Latina': {'butter': 5, 'honey': 14},\n  'Latina-Salerno': {'coca-cola': 39, 'pens': 30},\n  'Salerno-Pescara': {'bread': 50, 'pens': 46},\n  'Pescara-Foggia': {'pens': 2, 'bread': 41},\n  'Foggia-Taranto': {'butter': 28}},\n 's44': {'Verona-Ferrara': {'tomatoes': 10, 'bread': 9},\n  'Ferrara-Bologna': {'honey': 40},\n  'Bologna-Prato': {'tomatoes': 18, 'coca-cola': 23},\n  'Prato-Reggio Emilia': {'honey': 19},\n  'Reggio Emilia-Parma': {'honey': 45, 'milk': 17, 'coca-cola': 13}},\n 's45': {'Cagliari-Rome': {'butter': 6, 'milk': 44},\n  'Rome-Terni': {'pens': 3, 'tomatoes': 19, 'butter': 29},\n  'Terni-Latina': {'coca-cola': 34},\n  'Latina-Salerno': {'milk': 18, 'tomatoes': 22},\n  'Salerno-Pescara': {'tomatoes': 3, 'coca-cola': 22},\n  'Pescara-Foggia': {'bread': 36, 'tomatoes': 49}},\n 's46': {'Bolzano-Brescia': {'pens': 35, 'milk': 18, 'tomatoes': 30},\n  'Brescia-Bergamo': {'coca-cola': 46, 'tomatoes': 32},\n  'Bergamo-Verona': {'honey': 28},\n  'Verona-Reggio Emilia': {'pens': 50, 'tomatoes': 18, 'milk': 27}},\n 's47': {'Reggio di Calabria-Messina': {'butter': 41, 'pens': 28},\n  'Messina-Siracusa': {'coca-cola': 38, 'tomatoes': 20}},\n 's48': {'Trento-Verona': {'butter': 29,\n   'coca-cola': 47,\n   'bread': 3,\n   'milk': 4},\n  'Verona-Reggio Emilia': {'coca-cola': 12},\n  'Reggio Emilia-Bologna': {'butter': 9},\n  'Bologna-Ferrara': {'coca-cola': 46},\n  'Ferrara-Ravenna': {'bread': 47},\n  'Ravenna-Modena': {'bread': 6, 'milk': 19, 'coca-cola': 41},\n  'Modena-Prato': {'milk': 48}},\n 's49': {'Padova-Venice': {'bread': 44, 'honey': 32},\n  'Venice-Ravenna': {'bread': 34},\n  'Ravenna-Bologna': {'honey': 40, 'bread': 31},\n  'Bologna-Prato': {'coca-cola': 21, 'butter': 35, 'honey': 33, 'pens': 1}},\n 's50': {'Rome-Giugliano in Campania': {'coca-cola': 2},\n  'Giugliano in Campania-Salerno': {'coca-cola': 7, 'honey': 49, 'milk': 50},\n  'Salerno-Pescara': {'honey': 48, 'coca-cola': 37},\n  'Pescara-Terni': {'tomatoes': 31, 'pens': 45}}}"
     },
     "execution_count": 268,
     "metadata": {},
     "output_type": "execute_result"
    }
   ],
   "source": [
    "# Convert standard routes to a dictionary format\n",
    "standard_routes_dict = {route['id']: route_list_to_dict(route['route']) for route in standard_routes}\n",
    "standard_routes_dict"
   ],
   "metadata": {
    "collapsed": false,
    "ExecuteTime": {
     "end_time": "2024-01-01T06:26:09.212802500Z",
     "start_time": "2024-01-01T06:26:09.171058900Z"
    }
   },
   "id": "fad6a0d17708334",
   "execution_count": 268
  },
  {
   "cell_type": "code",
   "outputs": [],
   "source": [
    "# Analyzing actual routes to find deviations\n",
    "deviations = defaultdict(int)\n",
    "route_merchandise_comparison = defaultdict(lambda: defaultdict(lambda: defaultdict(int)))\n",
    "\n",
    "for actual_route in actual_routes:\n",
    "    sroute_id = actual_route['sroute']\n",
    "    actual_route_dict = route_list_to_dict(actual_route['route'])\n",
    "    \n",
    "    # Compare each leg of the actual route with the standard route\n",
    "    for leg, merchandise in actual_route_dict.items():\n",
    "        if leg not in standard_routes_dict[sroute_id]:\n",
    "            # Deviation in route found \n",
    "            deviations[leg] += 1\n",
    "        else:\n",
    "            # Compare merchandise quantities if the route matches\n",
    "            for item, quantity in merchandise.items():\n",
    "                standard_quantity = standard_routes_dict[sroute_id][leg].get(item, 0)\n",
    "                route_merchandise_comparison[sroute_id][leg][item] += quantity - standard_quantity"
   ],
   "metadata": {
    "collapsed": false,
    "ExecuteTime": {
     "end_time": "2024-01-01T06:26:09.433628600Z",
     "start_time": "2024-01-01T06:26:09.420559700Z"
    }
   },
   "id": "1123d5df0a8c8016",
   "execution_count": 269
  },
  {
   "cell_type": "code",
   "outputs": [],
   "source": [
    "# Prepare data for analysis\n",
    "deviation_data = dict(deviations)"
   ],
   "metadata": {
    "collapsed": false,
    "ExecuteTime": {
     "end_time": "2024-01-01T06:26:09.679330500Z",
     "start_time": "2024-01-01T06:26:09.667112300Z"
    }
   },
   "id": "2fff4bced92215e3",
   "execution_count": 270
  },
  {
   "cell_type": "code",
   "outputs": [
    {
     "data": {
      "text/plain": "{'Terni-Latina': 20,\n 'Latina-Perugia': 17,\n 'Terni-Naples': 5,\n 'Naples-Rome': 10,\n 'Foggia-Pescara': 2,\n 'Perugia-Florence': 1,\n 'Florence-Forlì': 4,\n 'Forlì-Reggio Emilia': 9,\n 'Reggio Emilia-Bologna': 8,\n 'Perugia-Ferrara': 2,\n 'Ferrara-Bologna': 11,\n 'Perugia-Rimini': 6,\n 'Rimini-Bologna': 9,\n 'Rome-Ancona': 4,\n 'Ancona-Forlì': 2,\n 'Foggia-Naples': 14,\n 'Naples-Taranto': 3,\n 'Naples-Salerno': 10,\n 'Foggia-Giugliano in Campania': 9,\n 'Giugliano in Campania-Taranto': 5,\n 'Pescara-Bari': 1,\n 'Naples-Latina': 11,\n 'Salerno-Pescara': 2,\n 'Pescara-Foggia': 2,\n 'Naples-Bari': 4,\n 'Salerno-Naples': 11,\n 'Naples-Foggia': 5,\n 'Giugliano in Campania-Bari': 3,\n 'Bari-Messina': 1,\n 'Messina-Taranto': 10,\n 'Bergamo-Piacenza': 5,\n 'Piacenza-Monza': 1,\n 'Monza-Piacenza': 3,\n 'Piacenza-Milan': 2,\n 'Milan-Reggio Emilia': 1,\n 'Reggio Emilia-Parma': 15,\n 'Parma-Bologna': 10,\n 'Bologna-Brescia': 4,\n 'Novara-Bergamo': 16,\n 'Parma-Modena': 17,\n 'Modena-Brescia': 11,\n 'Brescia-Padova': 11,\n 'Padova-Verona': 16,\n 'Trieste-Venice': 4,\n 'Udine-Bologna': 5,\n 'Bologna-Padova': 6,\n 'Ferrara-Ravenna': 14,\n 'Ravenna-Reggio Emilia': 5,\n 'Ferrara-Piacenza': 1,\n 'Trento-Venice': 7,\n 'Udine-Vicenza': 2,\n 'Vicenza-Padova': 6,\n 'Venice-Vicenza': 15,\n 'Vicenza-Venice': 5,\n 'Padova-Vicenza': 4,\n 'Vicenza-Ferrara': 4,\n 'Bologna-Ferrara': 11,\n 'Ferrara-Modena': 6,\n 'Udine-Bolzano': 7,\n 'Bolzano-Padova': 4,\n 'Venice-Bolzano': 7,\n 'Ferrara-Verona': 5,\n 'Bologna-Ravenna': 5,\n 'Ravenna-Forlì': 6,\n 'Reggio Emilia-Prato': 5,\n 'Brescia-Novara': 6,\n 'Reggio Emilia-Livorno': 1,\n 'Livorno-Verona': 1,\n 'Verona-Brescia': 3,\n 'Prato-Florence': 6,\n 'Florence-Livorno': 3,\n 'Bergamo-Verona': 1,\n 'Verona-Piacenza': 6,\n 'Forlì-Prato': 3,\n 'Prato-Ferrara': 2,\n 'Reggio Emilia-Monza': 1,\n 'Milan-Parma': 7,\n 'Rimini-Florence': 2,\n 'Florence-Ferrara': 3,\n 'Bologna-Modena': 8,\n 'Modena-Bologna': 9,\n 'Bologna-Reggio Emilia': 13,\n 'Reggio Emilia-Bergamo': 8,\n 'Genoa-Reggio Emilia': 5,\n 'Turin-Novara': 7,\n 'Novara-Genoa': 1,\n 'Piacenza-Brescia': 12,\n 'Brescia-Bergamo': 2,\n 'Verona-Vicenza': 2,\n 'Padova-Venice': 11,\n 'Venice-Bologna': 2,\n 'Forlì-Livorno': 3,\n 'Livorno-Florence': 5,\n 'Trento-Padova': 1,\n 'Florence-Prato': 12,\n 'Prato-Modena': 6,\n 'Florence-Reggio Emilia': 7,\n 'Reggio Emilia-Novara': 2,\n 'Piacenza-Reggio Emilia': 15,\n 'Modena-Ferrara': 29,\n 'Bologna-Forlì': 7,\n 'Novara-Monza': 1,\n 'Ferrara-Prato': 8,\n 'Parma-Verona': 10,\n 'Verona-Bologna': 4,\n 'Piacenza-Verona': 6,\n 'Verona-Modena': 5,\n 'Latina-Pescara': 8,\n 'Latina-Foggia': 3,\n 'Foggia-Messina': 5,\n 'Messina-Salerno': 5,\n 'Perugia-Naples': 1,\n 'Pescara-Ancona': 3,\n 'Ancona-Foggia': 1,\n 'Foggia-Bari': 12,\n 'Bari-Taranto': 16,\n 'Taranto-Bari': 7,\n 'Giugliano in Campania-Naples': 4,\n 'Bari-Salerno': 7,\n 'Taranto-Latina': 3,\n 'Latina-Salerno': 12,\n 'Bologna-Rimini': 8,\n 'Forlì-Bologna': 12,\n 'Bologna-Florence': 17,\n 'Ravenna-Rimini': 3,\n 'Modena-Verona': 4,\n 'Verona-Reggio Emilia': 6,\n 'Modena-Piacenza': 1,\n 'Rimini-Prato': 4,\n 'Modena-Prato': 9,\n 'Prato-Reggio Emilia': 18,\n 'Messina-Bari': 7,\n 'Palermo-Messina': 3,\n 'Reggio di Calabria-Messina': 2,\n 'Siracusa-Reggio di Calabria': 1,\n 'Messina-Naples': 1,\n 'Palermo-Siracusa': 3,\n 'Ferrara-Livorno': 5,\n 'Reggio Emilia-Vicenza': 4,\n 'Vicenza-Verona': 8,\n 'Verona-Padova': 8,\n 'Padova-Brescia': 6,\n 'Brescia-Parma': 10,\n 'Parma-Milan': 6,\n 'Verona-Parma': 6,\n 'Reggio Emilia-Trento': 12,\n 'Trento-Verona': 2,\n 'Parma-Monza': 3,\n 'Milan-Novara': 7,\n 'Bologna-Verona': 2,\n 'Piacenza-Bergamo': 8,\n 'Bergamo-Monza': 5,\n 'Monza-Turin': 2,\n 'Milan-Brescia': 6,\n 'Brescia-Piacenza': 9,\n 'Brescia-Monza': 5,\n 'Genoa-Bergamo': 1,\n 'Udine-Padova': 5,\n 'Padova-Trento': 4,\n 'Ferrara-Bergamo': 6,\n 'Vicenza-Ravenna': 8,\n 'Ravenna-Venice': 5,\n 'Venice-Ferrara': 5,\n 'Ferrara-Udine': 4,\n 'Bolzano-Trento': 5,\n 'Trento-Monza': 1,\n 'Monza-Brescia': 3,\n 'Trento-Bolzano': 2,\n 'Bolzano-Brescia': 3,\n 'Ravenna-Udine': 1,\n 'Venice-Trieste': 1,\n 'Trieste-Trento': 1,\n 'Verona-Ferrara': 11,\n 'Ferrara-Vicenza': 1,\n 'Bergamo-Novara': 5,\n 'Novara-Verona': 2,\n 'Venice-Trento': 10,\n 'Monza-Verona': 4,\n 'Parma-Brescia': 18,\n 'Piacenza-Parma': 3,\n 'Parma-Bergamo': 2,\n 'Ferrara-Padova': 12,\n 'Verona-Venice': 6,\n 'Venice-Padova': 1,\n 'Ferrara-Trento': 8,\n 'Bologna-Parma': 1,\n 'Trento-Brescia': 14,\n 'Ferrara-Brescia': 1,\n 'Ferrara-Forlì': 6,\n 'Forlì-Modena': 4,\n 'Ferrara-Reggio Emilia': 19,\n 'Verona-Milan': 1,\n 'Prato-Perugia': 5,\n 'Verona-Bergamo': 6,\n 'Perugia-Ancona': 5,\n 'Bologna-Piacenza': 4,\n 'Reggio Emilia-Padova': 3,\n 'Reggio Emilia-Modena': 8,\n 'Latina-Giugliano in Campania': 5,\n 'Foggia-Terni': 2,\n 'Salerno-Taranto': 6,\n 'Taranto-Pescara': 3,\n 'Foggia-Latina': 6,\n 'Rome-Giugliano in Campania': 7,\n 'Foggia-Taranto': 2,\n 'Foggia-Perugia': 4,\n 'Giugliano in Campania-Rome': 4,\n 'Rome-Naples': 5,\n 'Taranto-Foggia': 3,\n 'Bari-Ancona': 11,\n 'Ancona-Latina': 13,\n 'Terni-Forlì': 4,\n 'Forlì-Florence': 3,\n 'Pescara-Giugliano in Campania': 2,\n 'Giugliano in Campania-Terni': 3,\n 'Ravenna-Ferrara': 12,\n 'Ferrara-Rimini': 6,\n 'Florence-Verona': 3,\n 'Ancona-Ferrara': 2,\n 'Ravenna-Perugia': 2,\n 'Livorno-Modena': 1,\n 'Modena-Reggio Emilia': 3,\n 'Reggio Emilia-Forlì': 1,\n 'Rimini-Livorno': 1,\n 'Florence-Parma': 1,\n 'Prato-Livorno': 5,\n 'Livorno-Forlì': 1,\n 'Ferrara-Venice': 9,\n 'Modena-Padova': 4,\n 'Ravenna-Padova': 1,\n 'Monza-Bergamo': 2,\n 'Venice-Brescia': 2,\n 'Brescia-Milan': 8,\n 'Milan-Bergamo': 3,\n 'Vicenza-Parma': 1,\n 'Bergamo-Reggio Emilia': 1,\n 'Reggio Emilia-Verona': 7,\n 'Padova-Bologna': 8,\n 'Bologna-Vicenza': 1,\n 'Vicenza-Piacenza': 1,\n 'Forlì-Padova': 1,\n 'Salerno-Foggia': 5,\n 'Giugliano in Campania-Foggia': 7,\n 'Foggia-Rome': 2,\n 'Forlì-Perugia': 4,\n 'Pescara-Terni': 3,\n 'Foggia-Salerno': 3,\n 'Latina-Bari': 4,\n 'Ancona-Ravenna': 1,\n 'Ravenna-Pescara': 1,\n 'Salerno-Bari': 10,\n 'Bari-Giugliano in Campania': 3,\n 'Ancona-Terni': 2,\n 'Piacenza-Bologna': 5,\n 'Padova-Bolzano': 10,\n 'Trento-Milan': 2,\n 'Parma-Ravenna': 1,\n 'Ravenna-Bologna': 7,\n 'Reggio Emilia-Venice': 1,\n 'Vicenza-Trento': 2,\n 'Brescia-Reggio Emilia': 1,\n 'Venice-Reggio Emilia': 1,\n 'Trento-Piacenza': 1,\n 'Parma-Reggio Emilia': 5,\n 'Bergamo-Brescia': 2,\n 'Monza-Reggio Emilia': 1,\n 'Reggio Emilia-Piacenza': 7,\n 'Brescia-Ferrara': 1,\n 'Ravenna-Vicenza': 4,\n 'Livorno-Reggio Emilia': 6,\n 'Prato-Piacenza': 8,\n 'Piacenza-Modena': 7,\n 'Brescia-Vicenza': 1,\n 'Bologna-Livorno': 2,\n 'Livorno-Prato': 2,\n 'Foggia-Ancona': 3,\n 'Perugia-Foggia': 4,\n 'Pescara-Perugia': 7,\n 'Perugia-Latina': 4,\n 'Bari-Pescara': 12,\n 'Rome-Perugia': 3,\n 'Perugia-Giugliano in Campania': 11,\n 'Naples-Pescara': 5,\n 'Pescara-Salerno': 4,\n 'Salerno-Latina': 9,\n 'Terni-Ancona': 7,\n 'Ancona-Rome': 2,\n 'Perugia-Pescara': 6,\n 'Perugia-Terni': 4,\n 'Latina-Rimini': 2,\n 'Rimini-Terni': 2,\n 'Perugia-Rome': 1,\n 'Brescia-Modena': 12,\n 'Parma-Prato': 4,\n 'Bergamo-Milan': 2,\n 'Palermo-Salerno': 2,\n 'Giugliano in Campania-Latina': 4,\n 'Siracusa-Bari': 1,\n 'Pescara-Forlì': 4,\n 'Naples-Giugliano in Campania': 10,\n 'Rome-Salerno': 3,\n 'Monza-Milan': 1,\n 'Milan-Genoa': 5,\n 'Genoa-Novara': 5,\n 'Ravenna-Verona': 1,\n 'Reggio Emilia-Brescia': 2,\n 'Reggio Emilia-Ferrara': 8,\n 'Ferrara-Parma': 9,\n 'Rome-Rimini': 1,\n 'Ancona-Pescara': 4,\n 'Ancona-Florence': 1,\n 'Naples-Terni': 3,\n 'Ancona-Perugia': 1,\n 'Latina-Rome': 3,\n 'Prato-Verona': 2,\n 'Modena-Parma': 12,\n 'Rimini-Forlì': 4,\n 'Modena-Vicenza': 1,\n 'Modena-Trento': 1,\n 'Florence-Ravenna': 3,\n 'Forlì-Rimini': 6,\n 'Rimini-Ravenna': 6,\n 'Piacenza-Prato': 4,\n 'Verona-Trento': 4,\n 'Trento-Ferrara': 4,\n 'Perugia-Livorno': 4,\n 'Perugia-Bologna': 1,\n 'Parma-Piacenza': 8,\n 'Padova-Ravenna': 13,\n 'Pescara-Latina': 2,\n 'Latina-Terni': 4,\n 'Giugliano in Campania-Perugia': 1,\n 'Ancona-Bologna': 1,\n 'Ancona-Rimini': 3,\n 'Prato-Bologna': 8,\n 'Giugliano in Campania-Salerno': 12,\n 'Salerno-Rome': 7,\n 'Salerno-Giugliano in Campania': 9,\n 'Terni-Rome': 1,\n 'Rome-Terni': 2,\n 'Terni-Pescara': 2,\n 'Giugliano in Campania-Pescara': 2,\n 'Forlì-Ancona': 3,\n 'Terni-Prato': 3,\n 'Florence-Bologna': 3,\n 'Novara-Piacenza': 5,\n 'Milan-Monza': 1,\n 'Rimini-Modena': 2,\n 'Ravenna-Prato': 9,\n 'Florence-Modena': 1,\n 'Parma-Ferrara': 3,\n 'Sassari-Cagliari': 10,\n 'Terni-Cagliari': 1,\n 'Terni-Foggia': 1,\n 'Cagliari-Rome': 1,\n 'Cagliari-Giugliano in Campania': 2,\n 'Naples-Cagliari': 1,\n 'Salerno-Ancona': 1,\n 'Cagliari-Terni': 1,\n 'Latina-Naples': 1,\n 'Cagliari-Sassari': 1,\n 'Sassari-Latina': 1,\n 'Verona-Ravenna': 2,\n 'Forlì-Verona': 1,\n 'Brescia-Verona': 7,\n 'Prato-Forlì': 2,\n 'Cagliari-Naples': 5,\n 'Vicenza-Brescia': 1,\n 'Trento-Reggio Emilia': 1,\n 'Milan-Bolzano': 1,\n 'Bergamo-Vicenza': 1,\n 'Vicenza-Reggio Emilia': 1,\n 'Parma-Bolzano': 2,\n 'Bergamo-Ferrara': 2,\n 'Monza-Bolzano': 1,\n 'Taranto-Reggio di Calabria': 2,\n 'Reggio di Calabria-Taranto': 1,\n 'Taranto-Messina': 1,\n 'Reggio di Calabria-Salerno': 3,\n 'Salerno-Messina': 3,\n 'Messina-Catania': 2,\n 'Palermo-Reggio di Calabria': 2,\n 'Taranto-Siracusa': 2,\n 'Messina-Palermo': 1,\n 'Venice-Verona': 3,\n 'Padova-Ferrara': 2,\n 'Brescia-Trento': 1,\n 'Forlì-Ferrara': 1,\n 'Venice-Rimini': 5,\n 'Venice-Florence': 2,\n 'Salerno-Perugia': 2}"
     },
     "execution_count": 271,
     "metadata": {},
     "output_type": "execute_result"
    }
   ],
   "source": [
    "deviation_data"
   ],
   "metadata": {
    "collapsed": false,
    "ExecuteTime": {
     "end_time": "2024-01-01T06:26:10.077158100Z",
     "start_time": "2024-01-01T06:26:09.998017100Z"
    }
   },
   "id": "5bb38e2b92e36c57",
   "execution_count": 271
  },
  {
   "cell_type": "code",
   "outputs": [
    {
     "data": {
      "text/plain": "{'s1': {'Pescara-Terni': defaultdict(int, {'pens': -42, 'coca-cola': 19}),\n  'Perugia-Forlì': defaultdict(int, {'butter': -40}),\n  'Forlì-Bologna': defaultdict(int, {'coca-cola': -160, 'butter': 29}),\n  'Bologna-Prato': defaultdict(int,\n              {'tomatoes': 35, 'bread': 13, 'coca-cola': -168}),\n  'Rome-Perugia': defaultdict(int, {'pens': -21, 'honey': -17}),\n  'Terni-Rome': defaultdict(int, {'coca-cola': 2, 'bread': -1})},\n 's2': {'Latina-Salerno': defaultdict(int,\n              {'milk': 15, 'coca-cola': -34, 'butter': -6, 'bread': 1}),\n  'Salerno-Foggia': defaultdict(int,\n              {'bread': 16, 'tomatoes': 16, 'coca-cola': -8}),\n  'Foggia-Bari': defaultdict(int, {'milk': 0, 'coca-cola': 0}),\n  'Bari-Taranto': defaultdict(int, {'honey': -4, 'coca-cola': -11})},\n 's3': {'Brescia-Verona': defaultdict(int, {'pens': 3}),\n  'Bergamo-Monza': defaultdict(int, {'milk': 47}),\n  'Monza-Milan': defaultdict(int, {'tomatoes': -57, 'bread': -73}),\n  'Milan-Parma': defaultdict(int, {'milk': -113, 'bread': -94, 'honey': -176}),\n  'Parma-Brescia': defaultdict(int, {'tomatoes': -70})},\n 's4': {'Venice-Udine': defaultdict(int, {'milk': -64}),\n  'Padova-Ferrara': defaultdict(int,\n              {'butter': -1, 'bread': -126, 'pens': -84, 'honey': -67}),\n  'Udine-Padova': defaultdict(int, {'tomatoes': -5}),\n  'Ferrara-Reggio Emilia': defaultdict(int, {'bread': -42, 'milk': -1})},\n 's5': {'Prato-Livorno': defaultdict(int, {'milk': -139}),\n  'Livorno-Parma': defaultdict(int, {'milk': -31}),\n  'Parma-Brescia': defaultdict(int,\n              {'coca-cola': -173, 'butter': 33, 'pens': -24}),\n  'Bergamo-Piacenza': defaultdict(int,\n              {'bread': -17, 'honey': 11, 'pens': -62}),\n  'Bologna-Forlì': defaultdict(int,\n              {'coca-cola': 16, 'butter': -83, 'tomatoes': -3}),\n  'Forlì-Prato': defaultdict(int, {'tomatoes': 8, 'butter': -25}),\n  'Brescia-Bergamo': defaultdict(int,\n              {'tomatoes': -7, 'butter': 6, 'milk': -23})},\n 's6': {'Rimini-Forlì': defaultdict(int, {'milk': 2}),\n  'Ferrara-Modena': defaultdict(int, {'bread': 2}),\n  'Modena-Reggio Emilia': defaultdict(int, {'tomatoes': -6, 'butter': -13}),\n  'Forlì-Ferrara': defaultdict(int,\n              {'coca-cola': -24, 'honey': -50, 'pens': 6}),\n  'Reggio Emilia-Piacenza': defaultdict(int, {'tomatoes': -36, 'honey': -6}),\n  'Piacenza-Parma': defaultdict(int, {'pens': -68})},\n 's7': {'Turin-Genoa': defaultdict(int,\n              {'coca-cola': 5, 'milk': -1, 'honey': -24}),\n  'Bergamo-Milan': defaultdict(int, {'butter': -26, 'pens': -5}),\n  'Milan-Parma': defaultdict(int, {'bread': -1, 'butter': -27, 'milk': -45}),\n  'Parma-Verona': defaultdict(int,\n              {'bread': -9, 'coca-cola': 9, 'tomatoes': 10}),\n  'Verona-Padova': defaultdict(int, {'milk': -28}),\n  'Genoa-Piacenza': defaultdict(int, {'coca-cola': -5})},\n 's8': {'Padova-Bologna': defaultdict(int,\n              {'milk': 4, 'butter': -5, 'bread': -55, 'honey': -44}),\n  'Bologna-Forlì': defaultdict(int, {'butter': -56, 'milk': -33}),\n  'Forlì-Florence': defaultdict(int, {'coca-cola': 2}),\n  'Florence-Modena': defaultdict(int,\n              {'tomatoes': -20, 'honey': -5, 'butter': 11})},\n 's9': {'Novara-Piacenza': defaultdict(int,\n              {'coca-cola': -56, 'tomatoes': -4}),\n  'Parma-Modena': defaultdict(int, {'milk': -51}),\n  'Piacenza-Parma': defaultdict(int, {'milk': -49, 'tomatoes': -1}),\n  'Bologna-Prato': defaultdict(int, {'tomatoes': -25, 'coca-cola': 4}),\n  'Modena-Bologna': defaultdict(int, {'pens': 0})},\n 's10': {'Pescara-Foggia': defaultdict(int, {'pens': -53, 'milk': -13}),\n  'Foggia-Taranto': defaultdict(int,\n              {'butter': -15, 'tomatoes': -68, 'honey': -28}),\n  'Taranto-Salerno': defaultdict(int, {'pens': -6}),\n  'Naples-Pescara': defaultdict(int, {'honey': -8, 'bread': -19})},\n 's11': {'Rimini-Forlì': defaultdict(int, {'bread': 25}),\n  'Florence-Modena': defaultdict(int, {'butter': -31}),\n  'Forlì-Florence': defaultdict(int, {'honey': 2, 'bread': -22}),\n  'Modena-Reggio Emilia': defaultdict(int, {'milk': -82, 'coca-cola': -58})},\n 's12': {'Siracusa-Messina': defaultdict(int, {'pens': 13, 'butter': -63}),\n  'Messina-Taranto': defaultdict(int, {'milk': -6, 'bread': 5, 'butter': 2})},\n 's13': {'Livorno-Reggio Emilia': defaultdict(int,\n              {'pens': -19, 'coca-cola': 13}),\n  'Milan-Monza': defaultdict(int, {'milk': 2, 'pens': -8}),\n  'Monza-Bergamo': defaultdict(int, {'pens': -20, 'honey': -123}),\n  'Reggio Emilia-Verona': defaultdict(int,\n              {'honey': -92, 'pens': -116, 'milk': -132}),\n  'Verona-Brescia': defaultdict(int, {'butter': -32, 'honey': -17}),\n  'Brescia-Milan': defaultdict(int, {'honey': -19, 'bread': -18})},\n 's14': {'Genoa-Milan': defaultdict(int,\n              {'pens': 41, 'honey': 1, 'butter': -95}),\n  'Milan-Piacenza': defaultdict(int, {'milk': -13, 'butter': -2, 'bread': 4}),\n  'Piacenza-Monza': defaultdict(int, {'pens': -15, 'butter': -131}),\n  'Monza-Novara': defaultdict(int,\n              {'butter': 21, 'bread': -31, 'tomatoes': -3, 'milk': -65})},\n 's15': {'Bergamo-Verona': defaultdict(int, {'butter': -13, 'honey': -34}),\n  'Venice-Udine': defaultdict(int,\n              {'butter': 2, 'coca-cola': -27, 'tomatoes': -37}),\n  'Trento-Brescia': defaultdict(int,\n              {'butter': -17,\n               'coca-cola': -55,\n               'tomatoes': -60,\n               'honey': -83}),\n  'Verona-Vicenza': defaultdict(int, {'pens': -130, 'honey': -103}),\n  'Vicenza-Venice': defaultdict(int, {'bread': 12, 'coca-cola': 2}),\n  'Udine-Trento': defaultdict(int, {'honey': 8, 'milk': 7})},\n 's16': {'Brescia-Piacenza': defaultdict(int,\n              {'bread': -3, 'honey': -20, 'milk': -41, 'pens': -90}),\n  'Piacenza-Bergamo': defaultdict(int, {'butter': -98}),\n  'Bergamo-Verona': defaultdict(int,\n              {'coca-cola': -25, 'butter': -29, 'bread': 4}),\n  'Verona-Padova': defaultdict(int,\n              {'pens': -26, 'honey': -4, 'coca-cola': 12}),\n  'Padova-Vicenza': defaultdict(int, {'tomatoes': -10, 'butter': -1}),\n  'Vicenza-Trento': defaultdict(int, {'tomatoes': 0})},\n 's17': {'Perugia-Forlì': defaultdict(int,\n              {'pens': 14, 'butter': -1, 'tomatoes': -151}),\n  'Forlì-Bologna': defaultdict(int,\n              {'coca-cola': 50, 'honey': -87, 'tomatoes': -1}),\n  'Verona-Brescia': defaultdict(int, {'butter': 0, 'coca-cola': 0}),\n  'Bologna-Reggio Emilia': defaultdict(int,\n              {'butter': -39, 'pens': -52, 'milk': -326, 'honey': -105}),\n  'Reggio Emilia-Verona': defaultdict(int, {'honey': 1, 'butter': -9})},\n 's18': {'Giugliano in Campania-Naples': defaultdict(int,\n              {'honey': -117, 'pens': 6}),\n  'Naples-Salerno': defaultdict(int, {'coca-cola': 0}),\n  'Salerno-Foggia': defaultdict(int, {'pens': 30, 'butter': -4}),\n  'Foggia-Pescara': defaultdict(int, {'butter': -138, 'milk': -50})},\n 's19': {'Latina-Terni': defaultdict(int, {'bread': -30}),\n  'Terni-Rimini': defaultdict(int, {'coca-cola': -106, 'honey': -224}),\n  'Rimini-Florence': defaultdict(int,\n              {'butter': -77, 'honey': -100, 'pens': -1}),\n  'Bari-Pescara': defaultdict(int, {'honey': -31, 'butter': 0}),\n  'Pescara-Latina': defaultdict(int,\n              {'bread': -8, 'pens': 4, 'tomatoes': -23})},\n 's20': {'Ancona-Ravenna': defaultdict(int, {'honey': -3}),\n  'Rimini-Florence': defaultdict(int, {'tomatoes': -79, 'pens': -92}),\n  'Bologna-Prato': defaultdict(int,\n              {'pens': 20, 'tomatoes': -125, 'milk': -175}),\n  'Prato-Forlì': defaultdict(int, {'pens': -71}),\n  'Florence-Modena': defaultdict(int, {'milk': -40}),\n  'Modena-Bologna': defaultdict(int, {'milk': -1, 'tomatoes': 1}),\n  'Ravenna-Rimini': defaultdict(int, {'honey': 22, 'pens': -116})},\n 's21': {'Vicenza-Brescia': defaultdict(int, {'bread': -117}),\n  'Brescia-Bergamo': defaultdict(int, {'coca-cola': -33}),\n  'Bergamo-Verona': defaultdict(int,\n              {'tomatoes': -67, 'coca-cola': -8, 'bread': -12, 'milk': -45}),\n  'Verona-Trento': defaultdict(int, {'coca-cola': -17, 'pens': -116}),\n  'Trento-Bolzano': defaultdict(int, {'tomatoes': 9, 'milk': 15}),\n  'Ferrara-Padova': defaultdict(int, {'bread': -14, 'honey': -27}),\n  'Padova-Vicenza': defaultdict(int,\n              {'milk': -7, 'butter': 8, 'pens': -42, 'tomatoes': -6})},\n 's22': {'Perugia-Ancona': defaultdict(int, {'milk': -16, 'pens': -2}),\n  'Ancona-Pescara': defaultdict(int, {'coca-cola': -4}),\n  'Pescara-Latina': defaultdict(int, {'bread': 6, 'pens': -32, 'butter': -72}),\n  'Latina-Salerno': defaultdict(int, {'bread': -70}),\n  'Salerno-Giugliano in Campania': defaultdict(int, {'pens': 0, 'honey': 0}),\n  'Giugliano in Campania-Naples': defaultdict(int, {'tomatoes': 0}),\n  'Naples-Rome': defaultdict(int, {'coca-cola': -1, 'pens': -5})},\n 's23': {'Venice-Verona': defaultdict(int, {'tomatoes': 45}),\n  'Verona-Padova': defaultdict(int,\n              {'bread': -89, 'honey': -115, 'butter': -4}),\n  'Padova-Trento': defaultdict(int, {'tomatoes': -60, 'milk': -20}),\n  'Trento-Brescia': defaultdict(int, {'bread': -54}),\n  'Brescia-Parma': defaultdict(int, {'milk': -15}),\n  'Parma-Bologna': defaultdict(int, {'butter': -11})},\n 's24': {'Novara-Bergamo': defaultdict(int, {'pens': -47}),\n  'Bergamo-Monza': defaultdict(int, {'milk': -60, 'pens': -10}),\n  'Monza-Piacenza': defaultdict(int, {'butter': -65}),\n  'Milan-Parma': defaultdict(int, {'butter': -87}),\n  'Verona-Ferrara': defaultdict(int, {'butter': -126}),\n  'Parma-Verona': defaultdict(int, {'butter': 5}),\n  'Piacenza-Milan': defaultdict(int, {'butter': -13, 'coca-cola': -3})},\n 's25': {'Vicenza-Ferrara': defaultdict(int, {'honey': -37, 'milk': -157}),\n  'Ferrara-Bologna': defaultdict(int, {'pens': -13, 'bread': -58}),\n  'Modena-Verona': defaultdict(int,\n              {'pens': -30, 'tomatoes': 10, 'coca-cola': 0}),\n  'Bologna-Prato': defaultdict(int, {'honey': -2, 'milk': -25}),\n  'Prato-Reggio Emilia': defaultdict(int,\n              {'butter': 5, 'pens': 1, 'tomatoes': 1}),\n  'Reggio Emilia-Modena': defaultdict(int,\n              {'coca-cola': -9, 'tomatoes': -21, 'bread': -18})},\n 's26': {'Latina-Terni': defaultdict(int, {'butter': -23}),\n  'Terni-Rome': defaultdict(int, {'tomatoes': -70, 'milk': -1, 'honey': -56}),\n  'Rome-Giugliano in Campania': defaultdict(int, {'pens': -97, 'bread': 14}),\n  'Foggia-Pescara': defaultdict(int, {'pens': -30, 'bread': -33, 'milk': 11}),\n  'Pescara-Latina': defaultdict(int,\n              {'bread': -40, 'milk': -26, 'coca-cola': 3, 'honey': -11})},\n 's27': {'Milan-Piacenza': defaultdict(int,\n              {'coca-cola': -18, 'milk': -138, 'bread': -25}),\n  'Piacenza-Parma': defaultdict(int,\n              {'milk': -15, 'bread': -97, 'tomatoes': -10}),\n  'Parma-Modena': defaultdict(int, {'pens': -9, 'coca-cola': -3}),\n  'Modena-Reggio Emilia': defaultdict(int, {'butter': 0, 'coca-cola': 0})},\n 's28': {'Palermo-Siracusa': defaultdict(int, {'coca-cola': 0, 'pens': 0}),\n  'Siracusa-Taranto': defaultdict(int, {'tomatoes': 0, 'butter': 0}),\n  'Giugliano in Campania-Pescara': defaultdict(int,\n              {'coca-cola': 3, 'tomatoes': 9}),\n  'Pescara-Perugia': defaultdict(int,\n              {'tomatoes': -8, 'coca-cola': 2, 'bread': -3}),\n  'Perugia-Florence': defaultdict(int, {'coca-cola': 3, 'milk': -14}),\n  'Taranto-Foggia': defaultdict(int, {'coca-cola': 10}),\n  'Foggia-Giugliano in Campania': defaultdict(int, {'pens': -92})},\n 's29': {'Salerno-Bari': defaultdict(int,\n              {'coca-cola': -34, 'honey': -149, 'milk': -1}),\n  'Bari-Foggia': defaultdict(int, {'pens': -50, 'butter': -42}),\n  'Giugliano in Campania-Salerno': defaultdict(int,\n              {'bread': -92, 'tomatoes': -170}),\n  'Foggia-Pescara': defaultdict(int, {'pens': -33, 'tomatoes': -131})},\n 's30': {'Ravenna-Modena': defaultdict(int, {'butter': -61}),\n  'Modena-Reggio Emilia': defaultdict(int, {'tomatoes': -41}),\n  'Reggio Emilia-Parma': defaultdict(int, {'milk': 18}),\n  'Milan-Novara': defaultdict(int,\n              {'bread': 3, 'coca-cola': -20, 'honey': 11, 'pens': -39}),\n  'Piacenza-Milan': defaultdict(int, {'pens': -14, 'honey': -70, 'milk': 4}),\n  'Parma-Piacenza': defaultdict(int, {'coca-cola': 5, 'milk': -87})},\n 's31': {'Pescara-Foggia': defaultdict(int,\n              {'coca-cola': -62, 'honey': -98, 'pens': -85}),\n  'Salerno-Giugliano in Campania': defaultdict(int, {'milk': 3}),\n  'Giugliano in Campania-Rome': defaultdict(int,\n              {'tomatoes': -17, 'pens': -65, 'milk': 71}),\n  'Perugia-Florence': defaultdict(int, {'butter': 5, 'tomatoes': -53}),\n  'Foggia-Salerno': defaultdict(int, {'honey': -62}),\n  'Rome-Terni': defaultdict(int, {'pens': -258, 'bread': 34}),\n  'Terni-Perugia': defaultdict(int, {'tomatoes': -14, 'bread': -95})},\n 's32': {'Modena-Verona': defaultdict(int,\n              {'bread': 5, 'tomatoes': -1, 'coca-cola': -41}),\n  'Verona-Trento': defaultdict(int, {'butter': 1, 'pens': 0, 'milk': 9}),\n  'Parma-Modena': defaultdict(int, {'coca-cola': 0, 'tomatoes': 4})},\n 's33': {'Prato-Reggio Emilia': defaultdict(int,\n              {'tomatoes': -45, 'butter': 8, 'honey': -83, 'bread': -116}),\n  'Reggio Emilia-Modena': defaultdict(int,\n              {'butter': -22, 'bread': 10, 'milk': 16}),\n  'Verona-Ferrara': defaultdict(int, {'bread': -58}),\n  'Forlì-Ravenna': defaultdict(int, {'tomatoes': -3, 'milk': -55, 'honey': 9}),\n  'Modena-Verona': defaultdict(int, {'tomatoes': -69}),\n  'Ferrara-Bologna': defaultdict(int, {'honey': -11, 'coca-cola': -14}),\n  'Bologna-Forlì': defaultdict(int, {'tomatoes': -36, 'butter': -190})},\n 's34': {'Rome-Terni': defaultdict(int, {'tomatoes': -8}),\n  'Terni-Rimini': defaultdict(int, {'pens': -10}),\n  'Rimini-Perugia': defaultdict(int,\n              {'butter': -27, 'milk': 11, 'coca-cola': 5}),\n  'Perugia-Prato': defaultdict(int, {'coca-cola': -20, 'butter': 3})},\n 's35': {'Brescia-Parma': defaultdict(int, {'pens': 23}),\n  'Reggio Emilia-Verona': defaultdict(int, {'pens': 6}),\n  'Verona-Padova': defaultdict(int, {'pens': 19, 'coca-cola': -51}),\n  'Ferrara-Bologna': defaultdict(int,\n              {'tomatoes': -2, 'butter': -98, 'honey': 1}),\n  'Parma-Reggio Emilia': defaultdict(int, {'tomatoes': -1, 'coca-cola': -39}),\n  'Padova-Ferrara': defaultdict(int, {'butter': -14, 'honey': 0, 'milk': 0})},\n 's36': {'Salerno-Giugliano in Campania': defaultdict(int,\n              {'coca-cola': -18, 'honey': -46, 'tomatoes': -14, 'milk': -68}),\n  'Giugliano in Campania-Pescara': defaultdict(int, {'tomatoes': -46}),\n  'Pescara-Terni': defaultdict(int, {'bread': -169, 'milk': -25, 'pens': 18}),\n  'Terni-Rimini': defaultdict(int, {'pens': -86}),\n  'Rimini-Bologna': defaultdict(int, {'coca-cola': -40, 'milk': -29}),\n  'Bologna-Reggio Emilia': defaultdict(int, {'pens': 4})},\n 's37': {'Naples-Giugliano in Campania': defaultdict(int, {'coca-cola': 10}),\n  'Giugliano in Campania-Latina': defaultdict(int,\n              {'honey': -17, 'bread': -32, 'milk': 7}),\n  'Latina-Rome': defaultdict(int, {'coca-cola': -26}),\n  'Rome-Pescara': defaultdict(int, {'tomatoes': -27})},\n 's38': {'Parma-Brescia': defaultdict(int, {'bread': 36, 'honey': -44}),\n  'Brescia-Piacenza': defaultdict(int,\n              {'tomatoes': -258, 'bread': -83, 'butter': 20}),\n  'Reggio Emilia-Parma': defaultdict(int, {'bread': -121}),\n  'Piacenza-Bergamo': defaultdict(int, {'honey': -68, 'bread': -97})},\n 's39': {'Naples-Salerno': defaultdict(int, {'honey': -19, 'tomatoes': 8}),\n  'Salerno-Pescara': defaultdict(int,\n              {'honey': -36, 'butter': -37, 'milk': 19}),\n  'Pescara-Ancona': defaultdict(int,\n              {'butter': -20, 'tomatoes': -12, 'bread': -2}),\n  'Ancona-Terni': defaultdict(int, {'butter': -96}),\n  'Florence-Modena': defaultdict(int,\n              {'coca-cola': 0, 'butter': 8, 'tomatoes': 4, 'pens': 5}),\n  'Terni-Perugia': defaultdict(int, {'pens': 4, 'butter': -18, 'milk': 0}),\n  'Perugia-Florence': defaultdict(int, {'coca-cola': -12, 'bread': 13})},\n 's40': {'Parma-Bologna': defaultdict(int, {'milk': 16, 'pens': 1}),\n  'Bologna-Prato': defaultdict(int, {'milk': -26, 'bread': -88, 'honey': 19}),\n  'Prato-Modena': defaultdict(int, {'pens': 3})},\n 's41': {'Ravenna-Modena': defaultdict(int, {'pens': -161, 'milk': -14}),\n  'Parma-Brescia': defaultdict(int, {'butter': 8, 'tomatoes': -60}),\n  'Brescia-Milan': defaultdict(int, {'pens': 2}),\n  'Modena-Prato': defaultdict(int, {'milk': -18, 'pens': 4, 'coca-cola': -12}),\n  'Prato-Reggio Emilia': defaultdict(int,\n              {'pens': -25, 'butter': 4, 'bread': -34}),\n  'Milan-Piacenza': defaultdict(int, {'honey': 0, 'pens': -11}),\n  'Reggio Emilia-Parma': defaultdict(int,\n              {'butter': 0, 'milk': 2, 'honey': -5, 'pens': -1})},\n 's42': {'Forlì-Ravenna': defaultdict(int, {'coca-cola': 8}),\n  'Reggio Emilia-Ferrara': defaultdict(int,\n              {'coca-cola': -170, 'tomatoes': -70, 'milk': -163}),\n  'Modena-Reggio Emilia': defaultdict(int, {'pens': 3}),\n  'Ravenna-Modena': defaultdict(int, {'pens': -31, 'honey': -80})},\n 's43': {'Cagliari-Latina': defaultdict(int, {'butter': 1, 'honey': -12}),\n  'Latina-Salerno': defaultdict(int, {'coca-cola': -261, 'pens': -94}),\n  'Salerno-Pescara': defaultdict(int, {'bread': -92, 'pens': -92}),\n  'Pescara-Foggia': defaultdict(int, {'pens': 1, 'bread': -183}),\n  'Foggia-Taranto': defaultdict(int, {'butter': -3})},\n 's44': {'Verona-Ferrara': defaultdict(int, {'tomatoes': -24, 'bread': -12}),\n  'Ferrara-Bologna': defaultdict(int, {'honey': -49}),\n  'Bologna-Prato': defaultdict(int, {'tomatoes': -39, 'coca-cola': -111}),\n  'Prato-Reggio Emilia': defaultdict(int, {'honey': 11}),\n  'Reggio Emilia-Parma': defaultdict(int,\n              {'honey': -37, 'milk': -4, 'coca-cola': -40})},\n 's45': {'Cagliari-Rome': defaultdict(int, {'butter': -4, 'milk': 1}),\n  'Latina-Salerno': defaultdict(int, {'milk': 12, 'tomatoes': 2}),\n  'Salerno-Pescara': defaultdict(int, {'tomatoes': -2, 'coca-cola': -18}),\n  'Pescara-Foggia': defaultdict(int, {'bread': 7, 'tomatoes': -38}),\n  'Rome-Terni': defaultdict(int, {'pens': 12, 'tomatoes': 1, 'butter': -118}),\n  'Terni-Latina': defaultdict(int, {'coca-cola': -189})},\n 's46': {'Brescia-Bergamo': defaultdict(int,\n              {'coca-cola': -289, 'tomatoes': -141}),\n  'Bergamo-Verona': defaultdict(int, {'honey': -94}),\n  'Verona-Reggio Emilia': defaultdict(int,\n              {'pens': -44, 'tomatoes': -105, 'milk': -75}),\n  'Bolzano-Brescia': defaultdict(int,\n              {'pens': -204, 'milk': -77, 'tomatoes': -96})},\n 's47': {'Reggio di Calabria-Messina': defaultdict(int,\n              {'butter': -70, 'pens': -95}),\n  'Messina-Siracusa': defaultdict(int, {'coca-cola': 25, 'tomatoes': -32})},\n 's48': {'Verona-Reggio Emilia': defaultdict(int, {'coca-cola': -25}),\n  'Bologna-Ferrara': defaultdict(int, {'coca-cola': -115}),\n  'Ravenna-Modena': defaultdict(int,\n              {'bread': 33, 'milk': -4, 'coca-cola': 48}),\n  'Modena-Prato': defaultdict(int, {'milk': -118}),\n  'Trento-Verona': defaultdict(int,\n              {'butter': -31, 'coca-cola': -29, 'bread': 2, 'milk': -5}),\n  'Ferrara-Ravenna': defaultdict(int, {'bread': -62}),\n  'Reggio Emilia-Bologna': defaultdict(int, {'butter': -17})},\n 's49': {'Padova-Venice': defaultdict(int, {'bread': -157, 'honey': -38}),\n  'Bologna-Prato': defaultdict(int,\n              {'coca-cola': -37, 'butter': -99, 'honey': -3, 'pens': 21}),\n  'Venice-Ravenna': defaultdict(int, {'bread': -6}),\n  'Ravenna-Bologna': defaultdict(int, {'honey': -107, 'bread': 21})},\n 's50': {'Giugliano in Campania-Salerno': defaultdict(int,\n              {'coca-cola': 20, 'honey': -195, 'milk': -237}),\n  'Salerno-Pescara': defaultdict(int, {'honey': -19, 'coca-cola': -120}),\n  'Pescara-Terni': defaultdict(int, {'tomatoes': -9, 'pens': -112}),\n  'Rome-Giugliano in Campania': defaultdict(int, {'coca-cola': -3})}}"
     },
     "execution_count": 272,
     "metadata": {},
     "output_type": "execute_result"
    }
   ],
   "source": [
    "merchandise_comparison_data = {route: dict(legs) for route, legs in route_merchandise_comparison.items()}\n",
    "merchandise_comparison_data"
   ],
   "metadata": {
    "collapsed": false,
    "ExecuteTime": {
     "end_time": "2024-01-01T06:26:10.360640600Z",
     "start_time": "2024-01-01T06:26:10.315108500Z"
    }
   },
   "id": "d4152c2722c4397d",
   "execution_count": 272
  },
  {
   "cell_type": "code",
   "outputs": [],
   "source": [
    "# Correcting the function to create a new recommended route\n",
    "def create_recommended_route(standard_route_id, standard_routes_dict_, deviations_, merchandise_diff):\n",
    "    # Access the route details from the dictionary\n",
    "    standard_route = standard_routes_dict_[standard_route_id]\n",
    "    \n",
    "    new_route = []\n",
    "    for leg_key, merchandise_ in standard_route.items():\n",
    "        print(\"leg_key: \", leg_key)\n",
    "        # Check if the leg is a common deviation, if so, skip it\n",
    "        if deviations_.get(leg_key, 0) > 0:\n",
    "            continue\n",
    "            \n",
    "        # Extract 'from' and 'to' cities from the leg key\n",
    "        from_city, to_city = leg_key.split('-')\n",
    "        \n",
    "        # Adjust merchandise quantities based on historical data\n",
    "        adjusted_merchandise = {\n",
    "            item_: max(0, qty + merchandise_diff.get(leg_key, {}).get(item_, 0))\n",
    "            for item_, qty in merchandise_.items()\n",
    "        }\n",
    "        \n",
    "        # Add the leg to the new route\n",
    "        new_route.append(\n",
    "            {\"from\": from_city, \"to\": to_city, \"merchandise\": adjusted_merchandise}\n",
    "        )\n",
    "        \n",
    "    return new_route"
   ],
   "metadata": {
    "collapsed": false,
    "ExecuteTime": {
     "end_time": "2024-01-01T06:26:10.609810600Z",
     "start_time": "2024-01-01T06:26:10.590073Z"
    }
   },
   "id": "db80a6f2409fce8",
   "execution_count": 273
  },
  {
   "cell_type": "code",
   "outputs": [
    {
     "name": "stdout",
     "output_type": "stream",
     "text": [
      "leg_key:  Pescara-Terni\n",
      "leg_key:  Terni-Rome\n",
      "leg_key:  Rome-Perugia\n",
      "leg_key:  Perugia-Forlì\n",
      "leg_key:  Forlì-Bologna\n",
      "leg_key:  Bologna-Prato\n",
      "leg_key:  Latina-Salerno\n",
      "leg_key:  Salerno-Foggia\n",
      "leg_key:  Foggia-Bari\n",
      "leg_key:  Bari-Taranto\n",
      "leg_key:  Bergamo-Monza\n",
      "leg_key:  Monza-Milan\n",
      "leg_key:  Milan-Parma\n",
      "leg_key:  Parma-Brescia\n",
      "leg_key:  Brescia-Verona\n",
      "leg_key:  Venice-Udine\n",
      "leg_key:  Udine-Padova\n",
      "leg_key:  Padova-Ferrara\n",
      "leg_key:  Ferrara-Reggio Emilia\n",
      "leg_key:  Bologna-Forlì\n",
      "leg_key:  Forlì-Prato\n",
      "leg_key:  Prato-Livorno\n",
      "leg_key:  Livorno-Parma\n",
      "leg_key:  Parma-Brescia\n",
      "leg_key:  Brescia-Bergamo\n",
      "leg_key:  Bergamo-Piacenza\n",
      "leg_key:  Rimini-Forlì\n",
      "leg_key:  Forlì-Ferrara\n",
      "leg_key:  Ferrara-Modena\n",
      "leg_key:  Modena-Reggio Emilia\n",
      "leg_key:  Reggio Emilia-Piacenza\n",
      "leg_key:  Piacenza-Parma\n",
      "leg_key:  Turin-Genoa\n",
      "leg_key:  Genoa-Piacenza\n",
      "leg_key:  Piacenza-Bergamo\n",
      "leg_key:  Bergamo-Milan\n",
      "leg_key:  Milan-Parma\n",
      "leg_key:  Parma-Verona\n",
      "leg_key:  Verona-Padova\n",
      "leg_key:  Padova-Bologna\n",
      "leg_key:  Bologna-Forlì\n",
      "leg_key:  Forlì-Florence\n",
      "leg_key:  Florence-Modena\n",
      "leg_key:  Novara-Piacenza\n",
      "leg_key:  Piacenza-Parma\n",
      "leg_key:  Parma-Modena\n",
      "leg_key:  Modena-Bologna\n",
      "leg_key:  Bologna-Prato\n",
      "leg_key:  Naples-Pescara\n",
      "leg_key:  Pescara-Foggia\n",
      "leg_key:  Foggia-Taranto\n",
      "leg_key:  Taranto-Salerno\n",
      "leg_key:  Rimini-Forlì\n",
      "leg_key:  Forlì-Florence\n",
      "leg_key:  Florence-Modena\n",
      "leg_key:  Modena-Reggio Emilia\n",
      "leg_key:  Siracusa-Messina\n",
      "leg_key:  Messina-Taranto\n",
      "leg_key:  Livorno-Reggio Emilia\n",
      "leg_key:  Reggio Emilia-Verona\n",
      "leg_key:  Verona-Brescia\n",
      "leg_key:  Brescia-Milan\n",
      "leg_key:  Milan-Monza\n",
      "leg_key:  Monza-Bergamo\n",
      "leg_key:  Genoa-Milan\n",
      "leg_key:  Milan-Piacenza\n",
      "leg_key:  Piacenza-Monza\n",
      "leg_key:  Monza-Novara\n",
      "leg_key:  Bergamo-Verona\n",
      "leg_key:  Verona-Vicenza\n",
      "leg_key:  Vicenza-Venice\n",
      "leg_key:  Venice-Udine\n",
      "leg_key:  Udine-Trento\n",
      "leg_key:  Trento-Brescia\n",
      "leg_key:  Brescia-Piacenza\n",
      "leg_key:  Piacenza-Bergamo\n",
      "leg_key:  Bergamo-Verona\n",
      "leg_key:  Verona-Padova\n",
      "leg_key:  Padova-Vicenza\n",
      "leg_key:  Vicenza-Trento\n",
      "leg_key:  Perugia-Forlì\n",
      "leg_key:  Forlì-Bologna\n",
      "leg_key:  Bologna-Reggio Emilia\n",
      "leg_key:  Reggio Emilia-Verona\n",
      "leg_key:  Verona-Brescia\n",
      "leg_key:  Giugliano in Campania-Naples\n",
      "leg_key:  Naples-Salerno\n",
      "leg_key:  Salerno-Foggia\n",
      "leg_key:  Foggia-Pescara\n",
      "leg_key:  Bari-Pescara\n",
      "leg_key:  Pescara-Latina\n",
      "leg_key:  Latina-Terni\n",
      "leg_key:  Terni-Rimini\n",
      "leg_key:  Rimini-Florence\n",
      "leg_key:  Ancona-Ravenna\n",
      "leg_key:  Ravenna-Rimini\n",
      "leg_key:  Rimini-Florence\n",
      "leg_key:  Florence-Modena\n",
      "leg_key:  Modena-Bologna\n",
      "leg_key:  Bologna-Prato\n",
      "leg_key:  Prato-Forlì\n",
      "leg_key:  Ferrara-Padova\n",
      "leg_key:  Padova-Vicenza\n",
      "leg_key:  Vicenza-Brescia\n",
      "leg_key:  Brescia-Bergamo\n",
      "leg_key:  Bergamo-Verona\n",
      "leg_key:  Verona-Trento\n",
      "leg_key:  Trento-Bolzano\n",
      "leg_key:  Perugia-Ancona\n",
      "leg_key:  Ancona-Pescara\n",
      "leg_key:  Pescara-Latina\n",
      "leg_key:  Latina-Salerno\n",
      "leg_key:  Salerno-Giugliano in Campania\n",
      "leg_key:  Giugliano in Campania-Naples\n",
      "leg_key:  Naples-Rome\n",
      "leg_key:  Venice-Verona\n",
      "leg_key:  Verona-Padova\n",
      "leg_key:  Padova-Trento\n",
      "leg_key:  Trento-Brescia\n",
      "leg_key:  Brescia-Parma\n",
      "leg_key:  Parma-Bologna\n",
      "leg_key:  Novara-Bergamo\n",
      "leg_key:  Bergamo-Monza\n",
      "leg_key:  Monza-Piacenza\n",
      "leg_key:  Piacenza-Milan\n",
      "leg_key:  Milan-Parma\n",
      "leg_key:  Parma-Verona\n",
      "leg_key:  Verona-Ferrara\n",
      "leg_key:  Vicenza-Ferrara\n",
      "leg_key:  Ferrara-Bologna\n",
      "leg_key:  Bologna-Prato\n",
      "leg_key:  Prato-Reggio Emilia\n",
      "leg_key:  Reggio Emilia-Modena\n",
      "leg_key:  Modena-Verona\n",
      "leg_key:  Foggia-Pescara\n",
      "leg_key:  Pescara-Latina\n",
      "leg_key:  Latina-Terni\n",
      "leg_key:  Terni-Rome\n",
      "leg_key:  Rome-Giugliano in Campania\n",
      "leg_key:  Milan-Piacenza\n",
      "leg_key:  Piacenza-Parma\n",
      "leg_key:  Parma-Modena\n",
      "leg_key:  Modena-Reggio Emilia\n",
      "leg_key:  Palermo-Siracusa\n",
      "leg_key:  Siracusa-Taranto\n",
      "leg_key:  Taranto-Foggia\n",
      "leg_key:  Foggia-Giugliano in Campania\n",
      "leg_key:  Giugliano in Campania-Pescara\n",
      "leg_key:  Pescara-Perugia\n",
      "leg_key:  Perugia-Florence\n",
      "leg_key:  Giugliano in Campania-Salerno\n",
      "leg_key:  Salerno-Bari\n",
      "leg_key:  Bari-Foggia\n",
      "leg_key:  Foggia-Pescara\n",
      "leg_key:  Ravenna-Modena\n",
      "leg_key:  Modena-Reggio Emilia\n",
      "leg_key:  Reggio Emilia-Parma\n",
      "leg_key:  Parma-Piacenza\n",
      "leg_key:  Piacenza-Milan\n",
      "leg_key:  Milan-Novara\n",
      "leg_key:  Pescara-Foggia\n",
      "leg_key:  Foggia-Salerno\n",
      "leg_key:  Salerno-Giugliano in Campania\n",
      "leg_key:  Giugliano in Campania-Rome\n",
      "leg_key:  Rome-Terni\n",
      "leg_key:  Terni-Perugia\n",
      "leg_key:  Perugia-Florence\n",
      "leg_key:  Parma-Modena\n",
      "leg_key:  Modena-Verona\n",
      "leg_key:  Verona-Trento\n",
      "leg_key:  Prato-Reggio Emilia\n",
      "leg_key:  Reggio Emilia-Modena\n",
      "leg_key:  Modena-Verona\n",
      "leg_key:  Verona-Ferrara\n",
      "leg_key:  Ferrara-Bologna\n",
      "leg_key:  Bologna-Forlì\n",
      "leg_key:  Forlì-Ravenna\n",
      "leg_key:  Rome-Terni\n",
      "leg_key:  Terni-Rimini\n",
      "leg_key:  Rimini-Perugia\n",
      "leg_key:  Perugia-Prato\n",
      "leg_key:  Brescia-Parma\n",
      "leg_key:  Parma-Reggio Emilia\n",
      "leg_key:  Reggio Emilia-Verona\n",
      "leg_key:  Verona-Padova\n",
      "leg_key:  Padova-Ferrara\n",
      "leg_key:  Ferrara-Bologna\n",
      "leg_key:  Salerno-Giugliano in Campania\n",
      "leg_key:  Giugliano in Campania-Pescara\n",
      "leg_key:  Pescara-Terni\n",
      "leg_key:  Terni-Rimini\n",
      "leg_key:  Rimini-Bologna\n",
      "leg_key:  Bologna-Reggio Emilia\n",
      "leg_key:  Naples-Giugliano in Campania\n",
      "leg_key:  Giugliano in Campania-Latina\n",
      "leg_key:  Latina-Rome\n",
      "leg_key:  Rome-Pescara\n",
      "leg_key:  Reggio Emilia-Parma\n",
      "leg_key:  Parma-Brescia\n",
      "leg_key:  Brescia-Piacenza\n",
      "leg_key:  Piacenza-Bergamo\n",
      "leg_key:  Naples-Salerno\n",
      "leg_key:  Salerno-Pescara\n",
      "leg_key:  Pescara-Ancona\n",
      "leg_key:  Ancona-Terni\n",
      "leg_key:  Terni-Perugia\n",
      "leg_key:  Perugia-Florence\n",
      "leg_key:  Florence-Modena\n",
      "leg_key:  Monza-Parma\n",
      "leg_key:  Parma-Bologna\n",
      "leg_key:  Bologna-Prato\n",
      "leg_key:  Prato-Modena\n",
      "leg_key:  Ravenna-Modena\n",
      "leg_key:  Modena-Prato\n",
      "leg_key:  Prato-Reggio Emilia\n",
      "leg_key:  Reggio Emilia-Parma\n",
      "leg_key:  Parma-Brescia\n",
      "leg_key:  Brescia-Milan\n",
      "leg_key:  Milan-Piacenza\n",
      "leg_key:  Forlì-Ravenna\n",
      "leg_key:  Ravenna-Modena\n",
      "leg_key:  Modena-Reggio Emilia\n",
      "leg_key:  Reggio Emilia-Ferrara\n",
      "leg_key:  Cagliari-Latina\n",
      "leg_key:  Latina-Salerno\n",
      "leg_key:  Salerno-Pescara\n",
      "leg_key:  Pescara-Foggia\n",
      "leg_key:  Foggia-Taranto\n",
      "leg_key:  Verona-Ferrara\n",
      "leg_key:  Ferrara-Bologna\n",
      "leg_key:  Bologna-Prato\n",
      "leg_key:  Prato-Reggio Emilia\n",
      "leg_key:  Reggio Emilia-Parma\n",
      "leg_key:  Cagliari-Rome\n",
      "leg_key:  Rome-Terni\n",
      "leg_key:  Terni-Latina\n",
      "leg_key:  Latina-Salerno\n",
      "leg_key:  Salerno-Pescara\n",
      "leg_key:  Pescara-Foggia\n",
      "leg_key:  Bolzano-Brescia\n",
      "leg_key:  Brescia-Bergamo\n",
      "leg_key:  Bergamo-Verona\n",
      "leg_key:  Verona-Reggio Emilia\n",
      "leg_key:  Reggio di Calabria-Messina\n",
      "leg_key:  Messina-Siracusa\n",
      "leg_key:  Trento-Verona\n",
      "leg_key:  Verona-Reggio Emilia\n",
      "leg_key:  Reggio Emilia-Bologna\n",
      "leg_key:  Bologna-Ferrara\n",
      "leg_key:  Ferrara-Ravenna\n",
      "leg_key:  Ravenna-Modena\n",
      "leg_key:  Modena-Prato\n",
      "leg_key:  Padova-Venice\n",
      "leg_key:  Venice-Ravenna\n",
      "leg_key:  Ravenna-Bologna\n",
      "leg_key:  Bologna-Prato\n",
      "leg_key:  Rome-Giugliano in Campania\n",
      "leg_key:  Giugliano in Campania-Salerno\n",
      "leg_key:  Salerno-Pescara\n",
      "leg_key:  Pescara-Terni\n"
     ]
    }
   ],
   "source": [
    "# Create recommended standard routes\n",
    "rec_standard_routes = []\n",
    "\n",
    "for route_id in standard_routes_dict.keys():\n",
    "    rec_route = create_recommended_route(\n",
    "        route_id, standard_routes_dict, deviation_data, \n",
    "        merchandise_comparison_data.get(route_id, {})\n",
    "    )\n",
    "    \n",
    "    if rec_route:  # Only add the route if it has at least one leg\n",
    "        rec_standard_routes.append({\"id\": route_id, \"route\": rec_route})"
   ],
   "metadata": {
    "collapsed": false,
    "ExecuteTime": {
     "end_time": "2024-01-01T06:26:10.850388500Z",
     "start_time": "2024-01-01T06:26:10.834861100Z"
    }
   },
   "id": "24300dda21b19da",
   "execution_count": 274
  },
  {
   "cell_type": "code",
   "outputs": [
    {
     "data": {
      "text/plain": "[{'id': 's1',\n  'route': [{'from': 'Perugia', 'to': 'Forlì', 'merchandise': {'butter': 0}},\n   {'from': 'Bologna',\n    'to': 'Prato',\n    'merchandise': {'tomatoes': 39, 'bread': 28, 'coca-cola': 0}}]},\n {'id': 's4',\n  'route': [{'from': 'Venice', 'to': 'Udine', 'merchandise': {'milk': 0}}]},\n {'id': 's5',\n  'route': [{'from': 'Livorno', 'to': 'Parma', 'merchandise': {'milk': 4}}]},\n {'id': 's7',\n  'route': [{'from': 'Turin',\n    'to': 'Genoa',\n    'merchandise': {'coca-cola': 39, 'milk': 6, 'honey': 7}},\n   {'from': 'Genoa', 'to': 'Piacenza', 'merchandise': {'coca-cola': 5}}]},\n {'id': 's9',\n  'route': [{'from': 'Bologna',\n    'to': 'Prato',\n    'merchandise': {'tomatoes': 20, 'coca-cola': 6}}]},\n {'id': 's10',\n  'route': [{'from': 'Taranto', 'to': 'Salerno', 'merchandise': {'pens': 2}}]},\n {'id': 's12',\n  'route': [{'from': 'Siracusa',\n    'to': 'Messina',\n    'merchandise': {'pens': 45, 'butter': 0}}]},\n {'id': 's14',\n  'route': [{'from': 'Genoa',\n    'to': 'Milan',\n    'merchandise': {'pens': 73, 'honey': 5, 'butter': 0}},\n   {'from': 'Milan',\n    'to': 'Piacenza',\n    'merchandise': {'milk': 10, 'butter': 4, 'bread': 9}},\n   {'from': 'Monza',\n    'to': 'Novara',\n    'merchandise': {'butter': 25, 'bread': 3, 'tomatoes': 11, 'milk': 0}}]},\n {'id': 's15',\n  'route': [{'from': 'Venice',\n    'to': 'Udine',\n    'merchandise': {'butter': 13, 'coca-cola': 0, 'tomatoes': 0}},\n   {'from': 'Udine',\n    'to': 'Trento',\n    'merchandise': {'honey': 20, 'milk': 55}}]},\n {'id': 's17',\n  'route': [{'from': 'Perugia',\n    'to': 'Forlì',\n    'merchandise': {'pens': 31, 'butter': 8, 'tomatoes': 0}}]},\n {'id': 's19',\n  'route': [{'from': 'Terni',\n    'to': 'Rimini',\n    'merchandise': {'coca-cola': 0, 'honey': 0}}]},\n {'id': 's20',\n  'route': [{'from': 'Bologna',\n    'to': 'Prato',\n    'merchandise': {'pens': 43, 'tomatoes': 0, 'milk': 0}}]},\n {'id': 's25',\n  'route': [{'from': 'Bologna',\n    'to': 'Prato',\n    'merchandise': {'honey': 1, 'milk': 0}}]},\n {'id': 's27',\n  'route': [{'from': 'Milan',\n    'to': 'Piacenza',\n    'merchandise': {'coca-cola': 6, 'milk': 0, 'bread': 0}}]},\n {'id': 's28',\n  'route': [{'from': 'Siracusa',\n    'to': 'Taranto',\n    'merchandise': {'tomatoes': 2, 'butter': 12}}]},\n {'id': 's29',\n  'route': [{'from': 'Bari',\n    'to': 'Foggia',\n    'merchandise': {'pens': 0, 'butter': 0}}]},\n {'id': 's30',\n  'route': [{'from': 'Ravenna',\n    'to': 'Modena',\n    'merchandise': {'butter': 0}}]},\n {'id': 's31',\n  'route': [{'from': 'Terni',\n    'to': 'Perugia',\n    'merchandise': {'tomatoes': 3, 'bread': 0}}]},\n {'id': 's33',\n  'route': [{'from': 'Forlì',\n    'to': 'Ravenna',\n    'merchandise': {'tomatoes': 34, 'milk': 0, 'honey': 35}}]},\n {'id': 's34',\n  'route': [{'from': 'Terni', 'to': 'Rimini', 'merchandise': {'pens': 0}},\n   {'from': 'Rimini',\n    'to': 'Perugia',\n    'merchandise': {'butter': 8, 'milk': 41, 'coca-cola': 8}},\n   {'from': 'Perugia',\n    'to': 'Prato',\n    'merchandise': {'coca-cola': 10, 'butter': 10}}]},\n {'id': 's36',\n  'route': [{'from': 'Terni', 'to': 'Rimini', 'merchandise': {'pens': 0}}]},\n {'id': 's37',\n  'route': [{'from': 'Rome',\n    'to': 'Pescara',\n    'merchandise': {'tomatoes': 0}}]},\n {'id': 's39',\n  'route': [{'from': 'Terni',\n    'to': 'Perugia',\n    'merchandise': {'pens': 32, 'butter': 15, 'milk': 10}}]},\n {'id': 's40',\n  'route': [{'from': 'Monza', 'to': 'Parma', 'merchandise': {'butter': 11}},\n   {'from': 'Bologna',\n    'to': 'Prato',\n    'merchandise': {'milk': 0, 'bread': 0, 'honey': 35}}]},\n {'id': 's41',\n  'route': [{'from': 'Ravenna',\n    'to': 'Modena',\n    'merchandise': {'pens': 0, 'milk': 8}},\n   {'from': 'Milan',\n    'to': 'Piacenza',\n    'merchandise': {'honey': 8, 'pens': 8}}]},\n {'id': 's42',\n  'route': [{'from': 'Forlì',\n    'to': 'Ravenna',\n    'merchandise': {'coca-cola': 14}},\n   {'from': 'Ravenna',\n    'to': 'Modena',\n    'merchandise': {'pens': 14, 'honey': 0}}]},\n {'id': 's43',\n  'route': [{'from': 'Cagliari',\n    'to': 'Latina',\n    'merchandise': {'butter': 6, 'honey': 2}}]},\n {'id': 's44',\n  'route': [{'from': 'Bologna',\n    'to': 'Prato',\n    'merchandise': {'tomatoes': 0, 'coca-cola': 0}}]},\n {'id': 's47',\n  'route': [{'from': 'Messina',\n    'to': 'Siracusa',\n    'merchandise': {'coca-cola': 63, 'tomatoes': 0}}]},\n {'id': 's48',\n  'route': [{'from': 'Ravenna',\n    'to': 'Modena',\n    'merchandise': {'bread': 39, 'milk': 15, 'coca-cola': 89}}]},\n {'id': 's49',\n  'route': [{'from': 'Venice', 'to': 'Ravenna', 'merchandise': {'bread': 28}},\n   {'from': 'Bologna',\n    'to': 'Prato',\n    'merchandise': {'coca-cola': 0, 'butter': 0, 'honey': 30, 'pens': 22}}]}]"
     },
     "execution_count": 275,
     "metadata": {},
     "output_type": "execute_result"
    }
   ],
   "source": [
    "rec_standard_routes"
   ],
   "metadata": {
    "collapsed": false,
    "ExecuteTime": {
     "end_time": "2024-01-01T06:26:11.192998900Z",
     "start_time": "2024-01-01T06:26:11.142361200Z"
    }
   },
   "id": "a9f4b6ee7a4b3957",
   "execution_count": 275
  },
  {
   "cell_type": "code",
   "outputs": [],
   "source": [
    "# # Convert the recommended routes to JSON format\n",
    "# rec_standard_json = json.dumps(rec_standard_routes, indent=4)\n",
    "# # Save the recommended routes to a file\n",
    "# rec_standard_filename = '/mnt/data/recStandard.json'\n",
    "# with open(rec_standard_filename, 'w') as file:\n",
    "#     file.write(rec_standard_json)\n",
    "# \n",
    "# rec_standard_filename"
   ],
   "metadata": {
    "collapsed": false,
    "ExecuteTime": {
     "end_time": "2024-01-01T06:26:11.601533200Z",
     "start_time": "2024-01-01T06:26:11.566431900Z"
    }
   },
   "id": "bbe64fae277bd49a",
   "execution_count": 276
  },
  {
   "cell_type": "code",
   "outputs": [],
   "source": [
    "def find_cities_in_route(x):\n",
    "    cities_ = [city['from'] + ' ' + city['to'] for city in x]\n",
    "    cities_ = ' '.join(cities_)\n",
    "    cities_ = set([city for city in cities_.split(' ')])\n",
    "    return cities_\n",
    "\n",
    "def create_shingles(route):\n",
    "    \"\"\"\n",
    "    Create shingles from a list of trips\n",
    "    \"\"\"\n",
    "    return find_cities_in_route(route)"
   ],
   "metadata": {
    "collapsed": false,
    "ExecuteTime": {
     "end_time": "2024-01-01T06:26:12.037335200Z",
     "start_time": "2024-01-01T06:26:12.012905900Z"
    }
   },
   "id": "1acd4a7814b6fd9",
   "execution_count": 277
  },
  {
   "cell_type": "code",
   "outputs": [],
   "source": [
    "# Create shingles from the standard data\n",
    "standard_shingles = []\n",
    "for route in standard_routes_df['route']:\n",
    "    standard_shingles.append(create_shingles(route))  # 3 is the shingle size"
   ],
   "metadata": {
    "collapsed": false,
    "ExecuteTime": {
     "end_time": "2024-01-01T06:26:12.449048600Z",
     "start_time": "2024-01-01T06:26:12.422800300Z"
    }
   },
   "id": "5f63bc7a5ccb7cfa",
   "execution_count": 278
  },
  {
   "cell_type": "code",
   "outputs": [
    {
     "data": {
      "text/plain": "[{'Bologna', 'Forlì', 'Perugia', 'Pescara', 'Prato', 'Rome', 'Terni'},\n {'Bari', 'Foggia', 'Latina', 'Salerno', 'Taranto'},\n {'Bergamo', 'Brescia', 'Milan', 'Monza', 'Parma', 'Verona'},\n {'Emilia', 'Ferrara', 'Padova', 'Reggio', 'Udine', 'Venice'},\n {'Bergamo',\n  'Bologna',\n  'Brescia',\n  'Forlì',\n  'Livorno',\n  'Parma',\n  'Piacenza',\n  'Prato'},\n {'Emilia',\n  'Ferrara',\n  'Forlì',\n  'Modena',\n  'Parma',\n  'Piacenza',\n  'Reggio',\n  'Rimini'},\n {'Bergamo',\n  'Genoa',\n  'Milan',\n  'Padova',\n  'Parma',\n  'Piacenza',\n  'Turin',\n  'Verona'},\n {'Bologna', 'Florence', 'Forlì', 'Modena', 'Padova'},\n {'Bologna', 'Modena', 'Novara', 'Parma', 'Piacenza', 'Prato'},\n {'Foggia', 'Naples', 'Pescara', 'Salerno', 'Taranto'},\n {'Emilia', 'Florence', 'Forlì', 'Modena', 'Reggio', 'Rimini'},\n {'Messina', 'Siracusa', 'Taranto'},\n {'Bergamo',\n  'Brescia',\n  'Emilia',\n  'Livorno',\n  'Milan',\n  'Monza',\n  'Reggio',\n  'Verona'},\n {'Genoa', 'Milan', 'Monza', 'Novara', 'Piacenza'},\n {'Bergamo', 'Brescia', 'Trento', 'Udine', 'Venice', 'Verona', 'Vicenza'},\n {'Bergamo', 'Brescia', 'Padova', 'Piacenza', 'Trento', 'Verona', 'Vicenza'},\n {'Bologna', 'Brescia', 'Emilia', 'Forlì', 'Perugia', 'Reggio', 'Verona'},\n {'Campania', 'Foggia', 'Giugliano', 'Naples', 'Pescara', 'Salerno', 'in'},\n {'Bari', 'Florence', 'Latina', 'Pescara', 'Rimini', 'Terni'},\n {'Ancona',\n  'Bologna',\n  'Florence',\n  'Forlì',\n  'Modena',\n  'Prato',\n  'Ravenna',\n  'Rimini'},\n {'Bergamo',\n  'Bolzano',\n  'Brescia',\n  'Ferrara',\n  'Padova',\n  'Trento',\n  'Verona',\n  'Vicenza'},\n {'Ancona',\n  'Campania',\n  'Giugliano',\n  'Latina',\n  'Naples',\n  'Perugia',\n  'Pescara',\n  'Rome',\n  'Salerno',\n  'in'},\n {'Bologna', 'Brescia', 'Padova', 'Parma', 'Trento', 'Venice', 'Verona'},\n {'Bergamo',\n  'Ferrara',\n  'Milan',\n  'Monza',\n  'Novara',\n  'Parma',\n  'Piacenza',\n  'Verona'},\n {'Bologna',\n  'Emilia',\n  'Ferrara',\n  'Modena',\n  'Prato',\n  'Reggio',\n  'Verona',\n  'Vicenza'},\n {'Campania',\n  'Foggia',\n  'Giugliano',\n  'Latina',\n  'Pescara',\n  'Rome',\n  'Terni',\n  'in'},\n {'Emilia', 'Milan', 'Modena', 'Parma', 'Piacenza', 'Reggio'},\n {'Campania',\n  'Florence',\n  'Foggia',\n  'Giugliano',\n  'Palermo',\n  'Perugia',\n  'Pescara',\n  'Siracusa',\n  'Taranto',\n  'in'},\n {'Bari', 'Campania', 'Foggia', 'Giugliano', 'Pescara', 'Salerno', 'in'},\n {'Emilia',\n  'Milan',\n  'Modena',\n  'Novara',\n  'Parma',\n  'Piacenza',\n  'Ravenna',\n  'Reggio'},\n {'Campania',\n  'Florence',\n  'Foggia',\n  'Giugliano',\n  'Perugia',\n  'Pescara',\n  'Rome',\n  'Salerno',\n  'Terni',\n  'in'},\n {'Modena', 'Parma', 'Trento', 'Verona'},\n {'Bologna',\n  'Emilia',\n  'Ferrara',\n  'Forlì',\n  'Modena',\n  'Prato',\n  'Ravenna',\n  'Reggio',\n  'Verona'},\n {'Perugia', 'Prato', 'Rimini', 'Rome', 'Terni'},\n {'Bologna',\n  'Brescia',\n  'Emilia',\n  'Ferrara',\n  'Padova',\n  'Parma',\n  'Reggio',\n  'Verona'},\n {'Bologna',\n  'Campania',\n  'Emilia',\n  'Giugliano',\n  'Pescara',\n  'Reggio',\n  'Rimini',\n  'Salerno',\n  'Terni',\n  'in'},\n {'Campania', 'Giugliano', 'Latina', 'Naples', 'Pescara', 'Rome', 'in'},\n {'Bergamo', 'Brescia', 'Emilia', 'Parma', 'Piacenza', 'Reggio'},\n {'Ancona',\n  'Florence',\n  'Modena',\n  'Naples',\n  'Perugia',\n  'Pescara',\n  'Salerno',\n  'Terni'},\n {'Bologna', 'Modena', 'Monza', 'Parma', 'Prato'},\n {'Brescia',\n  'Emilia',\n  'Milan',\n  'Modena',\n  'Parma',\n  'Piacenza',\n  'Prato',\n  'Ravenna',\n  'Reggio'},\n {'Emilia', 'Ferrara', 'Forlì', 'Modena', 'Ravenna', 'Reggio'},\n {'Cagliari', 'Foggia', 'Latina', 'Pescara', 'Salerno', 'Taranto'},\n {'Bologna', 'Emilia', 'Ferrara', 'Parma', 'Prato', 'Reggio', 'Verona'},\n {'Cagliari', 'Foggia', 'Latina', 'Pescara', 'Rome', 'Salerno', 'Terni'},\n {'Bergamo', 'Bolzano', 'Brescia', 'Emilia', 'Reggio', 'Verona'},\n {'Calabria', 'Messina', 'Reggio', 'Siracusa', 'di'},\n {'Bologna',\n  'Emilia',\n  'Ferrara',\n  'Modena',\n  'Prato',\n  'Ravenna',\n  'Reggio',\n  'Trento',\n  'Verona'},\n {'Bologna', 'Padova', 'Prato', 'Ravenna', 'Venice'},\n {'Campania', 'Giugliano', 'Pescara', 'Rome', 'Salerno', 'Terni', 'in'}]"
     },
     "execution_count": 279,
     "metadata": {},
     "output_type": "execute_result"
    }
   ],
   "source": [
    "standard_shingles"
   ],
   "metadata": {
    "collapsed": false,
    "ExecuteTime": {
     "end_time": "2024-01-01T06:26:12.953413700Z",
     "start_time": "2024-01-01T06:26:12.906821600Z"
    }
   },
   "id": "5de408dc13518bf7",
   "execution_count": 279
  },
  {
   "cell_type": "code",
   "outputs": [
    {
     "data": {
      "text/plain": "   id                                              route  \\\n0  s1  [{'from': 'Pescara', 'to': 'Terni', 'merchandi...   \n1  s2  [{'from': 'Latina', 'to': 'Salerno', 'merchand...   \n2  s3  [{'from': 'Bergamo', 'to': 'Monza', 'merchandi...   \n3  s4  [{'from': 'Venice', 'to': 'Udine', 'merchandis...   \n4  s5  [{'from': 'Bologna', 'to': 'Forlì', 'merchandi...   \n\n                                        actual_route  \\\n0  [{'from': 'Pescara', 'to': 'Terni', 'merchandi...   \n1  [{'from': 'Pescara', 'to': 'Terni', 'merchandi...   \n2  [{'from': 'Pescara', 'to': 'Terni', 'merchandi...   \n3  [{'from': 'Pescara', 'to': 'Terni', 'merchandi...   \n4  [{'from': 'Pescara', 'to': 'Terni', 'merchandi...   \n\n                                      route_shingles  \n0  {Prato, Forlì, Bologna, Perugia, Terni, Pescar...  \n1           {Latina, Salerno, Foggia, Bari, Taranto}  \n2    {Milan, Verona, Parma, Bergamo, Monza, Brescia}  \n3   {Venice, Ferrara, Reggio, Padova, Emilia, Udine}  \n4  {Prato, Forlì, Livorno, Piacenza, Bologna, Par...  ",
      "text/html": "<div>\n<style scoped>\n    .dataframe tbody tr th:only-of-type {\n        vertical-align: middle;\n    }\n\n    .dataframe tbody tr th {\n        vertical-align: top;\n    }\n\n    .dataframe thead th {\n        text-align: right;\n    }\n</style>\n<table border=\"1\" class=\"dataframe\">\n  <thead>\n    <tr style=\"text-align: right;\">\n      <th></th>\n      <th>id</th>\n      <th>route</th>\n      <th>actual_route</th>\n      <th>route_shingles</th>\n    </tr>\n  </thead>\n  <tbody>\n    <tr>\n      <th>0</th>\n      <td>s1</td>\n      <td>[{'from': 'Pescara', 'to': 'Terni', 'merchandi...</td>\n      <td>[{'from': 'Pescara', 'to': 'Terni', 'merchandi...</td>\n      <td>{Prato, Forlì, Bologna, Perugia, Terni, Pescar...</td>\n    </tr>\n    <tr>\n      <th>1</th>\n      <td>s2</td>\n      <td>[{'from': 'Latina', 'to': 'Salerno', 'merchand...</td>\n      <td>[{'from': 'Pescara', 'to': 'Terni', 'merchandi...</td>\n      <td>{Latina, Salerno, Foggia, Bari, Taranto}</td>\n    </tr>\n    <tr>\n      <th>2</th>\n      <td>s3</td>\n      <td>[{'from': 'Bergamo', 'to': 'Monza', 'merchandi...</td>\n      <td>[{'from': 'Pescara', 'to': 'Terni', 'merchandi...</td>\n      <td>{Milan, Verona, Parma, Bergamo, Monza, Brescia}</td>\n    </tr>\n    <tr>\n      <th>3</th>\n      <td>s4</td>\n      <td>[{'from': 'Venice', 'to': 'Udine', 'merchandis...</td>\n      <td>[{'from': 'Pescara', 'to': 'Terni', 'merchandi...</td>\n      <td>{Venice, Ferrara, Reggio, Padova, Emilia, Udine}</td>\n    </tr>\n    <tr>\n      <th>4</th>\n      <td>s5</td>\n      <td>[{'from': 'Bologna', 'to': 'Forlì', 'merchandi...</td>\n      <td>[{'from': 'Pescara', 'to': 'Terni', 'merchandi...</td>\n      <td>{Prato, Forlì, Livorno, Piacenza, Bologna, Par...</td>\n    </tr>\n  </tbody>\n</table>\n</div>"
     },
     "execution_count": 280,
     "metadata": {},
     "output_type": "execute_result"
    }
   ],
   "source": [
    "standard_routes_df['route_shingles'] = pd.Series(standard_shingles)\n",
    "standard_routes_df.head()"
   ],
   "metadata": {
    "collapsed": false,
    "ExecuteTime": {
     "end_time": "2024-01-01T06:26:13.383589200Z",
     "start_time": "2024-01-01T06:26:13.340236300Z"
    }
   },
   "id": "e64880e843b9d874",
   "execution_count": 280
  },
  {
   "cell_type": "code",
   "outputs": [
    {
     "data": {
      "text/plain": "       id driver                                              route sroute  \\\n0  a61038    D38  [{'from': 'Pescara', 'to': 'Terni', 'merchandi...     s1   \n1  a64038    D38  [{'from': 'Pescara', 'to': 'Terni', 'merchandi...     s1   \n2  a66586    D38  [{'from': 'Pescara', 'to': 'Terni', 'merchandi...     s1   \n3   a4774    D38  [{'from': 'Pescara', 'to': 'Terni', 'merchandi...     s1   \n4  a75494    D38  [{'from': 'Pescara', 'to': 'Terni', 'merchandi...     s1   \n\n                                      route_shingles  \n0  {Prato, Latina, Forlì, Bologna, Perugia, Terni...  \n1  {Prato, Latina, Forlì, Bologna, Perugia, Terni...  \n2  {Prato, Latina, Forlì, Bologna, Perugia, Terni...  \n3  {Prato, Latina, Forlì, Bologna, Perugia, Terni...  \n4  {Prato, Latina, Forlì, Bologna, Perugia, Terni...  ",
      "text/html": "<div>\n<style scoped>\n    .dataframe tbody tr th:only-of-type {\n        vertical-align: middle;\n    }\n\n    .dataframe tbody tr th {\n        vertical-align: top;\n    }\n\n    .dataframe thead th {\n        text-align: right;\n    }\n</style>\n<table border=\"1\" class=\"dataframe\">\n  <thead>\n    <tr style=\"text-align: right;\">\n      <th></th>\n      <th>id</th>\n      <th>driver</th>\n      <th>route</th>\n      <th>sroute</th>\n      <th>route_shingles</th>\n    </tr>\n  </thead>\n  <tbody>\n    <tr>\n      <th>0</th>\n      <td>a61038</td>\n      <td>D38</td>\n      <td>[{'from': 'Pescara', 'to': 'Terni', 'merchandi...</td>\n      <td>s1</td>\n      <td>{Prato, Latina, Forlì, Bologna, Perugia, Terni...</td>\n    </tr>\n    <tr>\n      <th>1</th>\n      <td>a64038</td>\n      <td>D38</td>\n      <td>[{'from': 'Pescara', 'to': 'Terni', 'merchandi...</td>\n      <td>s1</td>\n      <td>{Prato, Latina, Forlì, Bologna, Perugia, Terni...</td>\n    </tr>\n    <tr>\n      <th>2</th>\n      <td>a66586</td>\n      <td>D38</td>\n      <td>[{'from': 'Pescara', 'to': 'Terni', 'merchandi...</td>\n      <td>s1</td>\n      <td>{Prato, Latina, Forlì, Bologna, Perugia, Terni...</td>\n    </tr>\n    <tr>\n      <th>3</th>\n      <td>a4774</td>\n      <td>D38</td>\n      <td>[{'from': 'Pescara', 'to': 'Terni', 'merchandi...</td>\n      <td>s1</td>\n      <td>{Prato, Latina, Forlì, Bologna, Perugia, Terni...</td>\n    </tr>\n    <tr>\n      <th>4</th>\n      <td>a75494</td>\n      <td>D38</td>\n      <td>[{'from': 'Pescara', 'to': 'Terni', 'merchandi...</td>\n      <td>s1</td>\n      <td>{Prato, Latina, Forlì, Bologna, Perugia, Terni...</td>\n    </tr>\n  </tbody>\n</table>\n</div>"
     },
     "execution_count": 282,
     "metadata": {},
     "output_type": "execute_result"
    }
   ],
   "source": [
    "# Create shingles from the actual data\n",
    "actual_shingles = []\n",
    "for route in actual_routes_df['route']:\n",
    "    actual_shingles.append(create_shingles(route))  # 3 is the shingle size\n",
    "\n",
    "actual_routes_df['route_shingles'] = pd.Series(actual_shingles)\n",
    "actual_routes_df.head()"
   ],
   "metadata": {
    "collapsed": false,
    "ExecuteTime": {
     "end_time": "2024-01-01T06:26:34.388925700Z",
     "start_time": "2024-01-01T06:26:34.345993500Z"
    }
   },
   "id": "73d614f98040f17",
   "execution_count": 282
  },
  {
   "cell_type": "code",
   "outputs": [
    {
     "data": {
      "text/plain": "['Modena',\n 'Prato',\n 'Latina',\n 'Forlì',\n 'Padova',\n 'Campania',\n 'Parma',\n 'Ancona',\n 'Bari',\n 'Pescara',\n 'Siracusa',\n 'Venice',\n 'Trento',\n 'Ravenna',\n 'Calabria',\n 'Reggio',\n 'Salerno',\n 'Livorno',\n 'Bolzano',\n 'Genoa',\n 'Perugia',\n 'Cagliari',\n 'di',\n 'Giugliano',\n 'Monza',\n 'Taranto',\n 'Catania',\n 'Rimini',\n 'Milan',\n 'Verona',\n 'Bologna',\n 'Naples',\n 'Sassari',\n 'Vicenza',\n 'Terni',\n 'Trieste',\n 'Ferrara',\n 'Novara',\n 'Emilia',\n 'Foggia',\n 'Piacenza',\n 'Messina',\n 'in',\n 'Bergamo',\n 'Udine',\n 'Florence',\n 'Turin',\n 'Palermo',\n 'Rome',\n 'Brescia']"
     },
     "execution_count": 283,
     "metadata": {},
     "output_type": "execute_result"
    }
   ],
   "source": [
    "# build a set of all shingles\n",
    "all_shingles = set()\n",
    "for shingles in standard_shingles:\n",
    "    all_shingles.update(shingles)\n",
    "    \n",
    "for shingles in actual_shingles:\n",
    "    all_shingles.update(shingles)\n",
    "    \n",
    "all_shingles = list(all_shingles)\n",
    "all_shingles"
   ],
   "metadata": {
    "collapsed": false,
    "ExecuteTime": {
     "end_time": "2024-01-01T06:26:36.075386800Z",
     "start_time": "2024-01-01T06:26:36.037105900Z"
    }
   },
   "id": "d361e66be62a373c",
   "execution_count": 283
  },
  {
   "cell_type": "code",
   "outputs": [
    {
     "data": {
      "text/plain": "50"
     },
     "execution_count": 284,
     "metadata": {},
     "output_type": "execute_result"
    }
   ],
   "source": [
    "len(all_shingles)"
   ],
   "metadata": {
    "collapsed": false,
    "ExecuteTime": {
     "end_time": "2024-01-01T06:26:36.588507700Z",
     "start_time": "2024-01-01T06:26:36.560903700Z"
    }
   },
   "id": "be4fbe3b19138944",
   "execution_count": 284
  },
  {
   "cell_type": "code",
   "outputs": [],
   "source": [
    "# build vocabulary\n",
    "def build_vocab(shingle_sets: list):\n",
    "    # convert list of shingle sets into single set\n",
    "    full_set = {item_ for set_ in shingle_sets for item_ in set_}\n",
    "    vocab_ = {}\n",
    "    for i, shingle in enumerate(list(full_set)):\n",
    "        vocab_[shingle] = i\n",
    "        \n",
    "    return vocab_"
   ],
   "metadata": {
    "collapsed": false,
    "ExecuteTime": {
     "end_time": "2024-01-01T06:26:36.993457100Z",
     "start_time": "2024-01-01T06:26:36.974737200Z"
    }
   },
   "id": "105dc303a2c06dbe",
   "execution_count": 285
  },
  {
   "cell_type": "code",
   "outputs": [
    {
     "data": {
      "text/plain": "{'Modena': 0,\n 'Prato': 1,\n 'Latina': 2,\n 'Forlì': 3,\n 'Padova': 4,\n 'Campania': 5,\n 'Parma': 6,\n 'Ancona': 7,\n 'Bari': 8,\n 'Pescara': 9,\n 'Siracusa': 10,\n 'Venice': 11,\n 'Trento': 12,\n 'Ravenna': 13,\n 'Calabria': 14,\n 'Reggio': 15,\n 'Salerno': 16,\n 'Livorno': 17,\n 'Bolzano': 18,\n 'Genoa': 19,\n 'Perugia': 20,\n 'Cagliari': 21,\n 'di': 22,\n 'Giugliano': 23,\n 'Monza': 24,\n 'Taranto': 25,\n 'Catania': 26,\n 'Rimini': 27,\n 'Milan': 28,\n 'Verona': 29,\n 'Bologna': 30,\n 'Naples': 31,\n 'Sassari': 32,\n 'Vicenza': 33,\n 'Terni': 34,\n 'Trieste': 35,\n 'Ferrara': 36,\n 'Novara': 37,\n 'Emilia': 38,\n 'Foggia': 39,\n 'Piacenza': 40,\n 'Messina': 41,\n 'in': 42,\n 'Bergamo': 43,\n 'Udine': 44,\n 'Florence': 45,\n 'Turin': 46,\n 'Palermo': 47,\n 'Rome': 48,\n 'Brescia': 49}"
     },
     "execution_count": 286,
     "metadata": {},
     "output_type": "execute_result"
    }
   ],
   "source": [
    "vocab = build_vocab(standard_shingles + actual_shingles)\n",
    "vocab"
   ],
   "metadata": {
    "collapsed": false,
    "ExecuteTime": {
     "end_time": "2024-01-01T06:26:37.645695400Z",
     "start_time": "2024-01-01T06:26:37.601363400Z"
    }
   },
   "id": "ea9c1a06b411f4a9",
   "execution_count": 286
  },
  {
   "cell_type": "code",
   "outputs": [],
   "source": [
    "def one_hot(shingles_: set, vocab_: dict):\n",
    "    vec = np.zeros(len(vocab_))\n",
    "    \n",
    "    for shingle in shingles_:\n",
    "        idx = vocab_[shingle]\n",
    "        vec[idx] = 1\n",
    "    \n",
    "    return vec"
   ],
   "metadata": {
    "collapsed": false,
    "ExecuteTime": {
     "end_time": "2024-01-01T06:26:38.124548300Z",
     "start_time": "2024-01-01T06:26:38.101060600Z"
    }
   },
   "id": "b145fe863d3e40be",
   "execution_count": 287
  },
  {
   "cell_type": "code",
   "outputs": [],
   "source": [
    "standard_routes_df['One_hot_encoded'] = standard_routes_df['route_shingles'].apply(lambda x: one_hot(x, vocab))\n",
    "actual_routes_df['One_hot_encoded'] = actual_routes_df['route_shingles'].apply(lambda x: one_hot(x, vocab))"
   ],
   "metadata": {
    "collapsed": false,
    "ExecuteTime": {
     "end_time": "2024-01-01T06:26:38.784899600Z",
     "start_time": "2024-01-01T06:26:38.741876400Z"
    }
   },
   "id": "49d012227df4b5ed",
   "execution_count": 288
  },
  {
   "cell_type": "code",
   "outputs": [
    {
     "data": {
      "text/plain": "   id                                              route  \\\n0  s1  [{'from': 'Pescara', 'to': 'Terni', 'merchandi...   \n1  s2  [{'from': 'Latina', 'to': 'Salerno', 'merchand...   \n2  s3  [{'from': 'Bergamo', 'to': 'Monza', 'merchandi...   \n3  s4  [{'from': 'Venice', 'to': 'Udine', 'merchandis...   \n4  s5  [{'from': 'Bologna', 'to': 'Forlì', 'merchandi...   \n\n                                        actual_route  \\\n0  [{'from': 'Pescara', 'to': 'Terni', 'merchandi...   \n1  [{'from': 'Pescara', 'to': 'Terni', 'merchandi...   \n2  [{'from': 'Pescara', 'to': 'Terni', 'merchandi...   \n3  [{'from': 'Pescara', 'to': 'Terni', 'merchandi...   \n4  [{'from': 'Pescara', 'to': 'Terni', 'merchandi...   \n\n                                      route_shingles  \\\n0  {Prato, Forlì, Bologna, Perugia, Terni, Pescar...   \n1           {Latina, Salerno, Foggia, Bari, Taranto}   \n2    {Milan, Verona, Parma, Bergamo, Monza, Brescia}   \n3   {Venice, Ferrara, Reggio, Padova, Emilia, Udine}   \n4  {Prato, Forlì, Livorno, Piacenza, Bologna, Par...   \n\n                                     One_hot_encoded  \n0  [0.0, 1.0, 0.0, 1.0, 0.0, 0.0, 0.0, 0.0, 0.0, ...  \n1  [0.0, 0.0, 1.0, 0.0, 0.0, 0.0, 0.0, 0.0, 1.0, ...  \n2  [0.0, 0.0, 0.0, 0.0, 0.0, 0.0, 1.0, 0.0, 0.0, ...  \n3  [0.0, 0.0, 0.0, 0.0, 1.0, 0.0, 0.0, 0.0, 0.0, ...  \n4  [0.0, 1.0, 0.0, 1.0, 0.0, 0.0, 1.0, 0.0, 0.0, ...  ",
      "text/html": "<div>\n<style scoped>\n    .dataframe tbody tr th:only-of-type {\n        vertical-align: middle;\n    }\n\n    .dataframe tbody tr th {\n        vertical-align: top;\n    }\n\n    .dataframe thead th {\n        text-align: right;\n    }\n</style>\n<table border=\"1\" class=\"dataframe\">\n  <thead>\n    <tr style=\"text-align: right;\">\n      <th></th>\n      <th>id</th>\n      <th>route</th>\n      <th>actual_route</th>\n      <th>route_shingles</th>\n      <th>One_hot_encoded</th>\n    </tr>\n  </thead>\n  <tbody>\n    <tr>\n      <th>0</th>\n      <td>s1</td>\n      <td>[{'from': 'Pescara', 'to': 'Terni', 'merchandi...</td>\n      <td>[{'from': 'Pescara', 'to': 'Terni', 'merchandi...</td>\n      <td>{Prato, Forlì, Bologna, Perugia, Terni, Pescar...</td>\n      <td>[0.0, 1.0, 0.0, 1.0, 0.0, 0.0, 0.0, 0.0, 0.0, ...</td>\n    </tr>\n    <tr>\n      <th>1</th>\n      <td>s2</td>\n      <td>[{'from': 'Latina', 'to': 'Salerno', 'merchand...</td>\n      <td>[{'from': 'Pescara', 'to': 'Terni', 'merchandi...</td>\n      <td>{Latina, Salerno, Foggia, Bari, Taranto}</td>\n      <td>[0.0, 0.0, 1.0, 0.0, 0.0, 0.0, 0.0, 0.0, 1.0, ...</td>\n    </tr>\n    <tr>\n      <th>2</th>\n      <td>s3</td>\n      <td>[{'from': 'Bergamo', 'to': 'Monza', 'merchandi...</td>\n      <td>[{'from': 'Pescara', 'to': 'Terni', 'merchandi...</td>\n      <td>{Milan, Verona, Parma, Bergamo, Monza, Brescia}</td>\n      <td>[0.0, 0.0, 0.0, 0.0, 0.0, 0.0, 1.0, 0.0, 0.0, ...</td>\n    </tr>\n    <tr>\n      <th>3</th>\n      <td>s4</td>\n      <td>[{'from': 'Venice', 'to': 'Udine', 'merchandis...</td>\n      <td>[{'from': 'Pescara', 'to': 'Terni', 'merchandi...</td>\n      <td>{Venice, Ferrara, Reggio, Padova, Emilia, Udine}</td>\n      <td>[0.0, 0.0, 0.0, 0.0, 1.0, 0.0, 0.0, 0.0, 0.0, ...</td>\n    </tr>\n    <tr>\n      <th>4</th>\n      <td>s5</td>\n      <td>[{'from': 'Bologna', 'to': 'Forlì', 'merchandi...</td>\n      <td>[{'from': 'Pescara', 'to': 'Terni', 'merchandi...</td>\n      <td>{Prato, Forlì, Livorno, Piacenza, Bologna, Par...</td>\n      <td>[0.0, 1.0, 0.0, 1.0, 0.0, 0.0, 1.0, 0.0, 0.0, ...</td>\n    </tr>\n  </tbody>\n</table>\n</div>"
     },
     "execution_count": 289,
     "metadata": {},
     "output_type": "execute_result"
    }
   ],
   "source": [
    "standard_routes_df.head()"
   ],
   "metadata": {
    "collapsed": false,
    "ExecuteTime": {
     "end_time": "2024-01-01T06:26:39.276359Z",
     "start_time": "2024-01-01T06:26:39.205118500Z"
    }
   },
   "id": "b78dad32b5528b3a",
   "execution_count": 289
  },
  {
   "cell_type": "code",
   "outputs": [
    {
     "data": {
      "text/plain": "       id driver                                              route sroute  \\\n0  a61038    D38  [{'from': 'Pescara', 'to': 'Terni', 'merchandi...     s1   \n1  a64038    D38  [{'from': 'Pescara', 'to': 'Terni', 'merchandi...     s1   \n2  a66586    D38  [{'from': 'Pescara', 'to': 'Terni', 'merchandi...     s1   \n3   a4774    D38  [{'from': 'Pescara', 'to': 'Terni', 'merchandi...     s1   \n4  a75494    D38  [{'from': 'Pescara', 'to': 'Terni', 'merchandi...     s1   \n\n                                      route_shingles  \\\n0  {Prato, Latina, Forlì, Bologna, Perugia, Terni...   \n1  {Prato, Latina, Forlì, Bologna, Perugia, Terni...   \n2  {Prato, Latina, Forlì, Bologna, Perugia, Terni...   \n3  {Prato, Latina, Forlì, Bologna, Perugia, Terni...   \n4  {Prato, Latina, Forlì, Bologna, Perugia, Terni...   \n\n                                     One_hot_encoded  \n0  [0.0, 1.0, 1.0, 1.0, 0.0, 0.0, 0.0, 0.0, 0.0, ...  \n1  [0.0, 1.0, 1.0, 1.0, 0.0, 0.0, 0.0, 0.0, 0.0, ...  \n2  [0.0, 1.0, 1.0, 1.0, 0.0, 0.0, 0.0, 0.0, 0.0, ...  \n3  [0.0, 1.0, 1.0, 1.0, 0.0, 0.0, 0.0, 0.0, 0.0, ...  \n4  [0.0, 1.0, 1.0, 1.0, 0.0, 0.0, 0.0, 0.0, 0.0, ...  ",
      "text/html": "<div>\n<style scoped>\n    .dataframe tbody tr th:only-of-type {\n        vertical-align: middle;\n    }\n\n    .dataframe tbody tr th {\n        vertical-align: top;\n    }\n\n    .dataframe thead th {\n        text-align: right;\n    }\n</style>\n<table border=\"1\" class=\"dataframe\">\n  <thead>\n    <tr style=\"text-align: right;\">\n      <th></th>\n      <th>id</th>\n      <th>driver</th>\n      <th>route</th>\n      <th>sroute</th>\n      <th>route_shingles</th>\n      <th>One_hot_encoded</th>\n    </tr>\n  </thead>\n  <tbody>\n    <tr>\n      <th>0</th>\n      <td>a61038</td>\n      <td>D38</td>\n      <td>[{'from': 'Pescara', 'to': 'Terni', 'merchandi...</td>\n      <td>s1</td>\n      <td>{Prato, Latina, Forlì, Bologna, Perugia, Terni...</td>\n      <td>[0.0, 1.0, 1.0, 1.0, 0.0, 0.0, 0.0, 0.0, 0.0, ...</td>\n    </tr>\n    <tr>\n      <th>1</th>\n      <td>a64038</td>\n      <td>D38</td>\n      <td>[{'from': 'Pescara', 'to': 'Terni', 'merchandi...</td>\n      <td>s1</td>\n      <td>{Prato, Latina, Forlì, Bologna, Perugia, Terni...</td>\n      <td>[0.0, 1.0, 1.0, 1.0, 0.0, 0.0, 0.0, 0.0, 0.0, ...</td>\n    </tr>\n    <tr>\n      <th>2</th>\n      <td>a66586</td>\n      <td>D38</td>\n      <td>[{'from': 'Pescara', 'to': 'Terni', 'merchandi...</td>\n      <td>s1</td>\n      <td>{Prato, Latina, Forlì, Bologna, Perugia, Terni...</td>\n      <td>[0.0, 1.0, 1.0, 1.0, 0.0, 0.0, 0.0, 0.0, 0.0, ...</td>\n    </tr>\n    <tr>\n      <th>3</th>\n      <td>a4774</td>\n      <td>D38</td>\n      <td>[{'from': 'Pescara', 'to': 'Terni', 'merchandi...</td>\n      <td>s1</td>\n      <td>{Prato, Latina, Forlì, Bologna, Perugia, Terni...</td>\n      <td>[0.0, 1.0, 1.0, 1.0, 0.0, 0.0, 0.0, 0.0, 0.0, ...</td>\n    </tr>\n    <tr>\n      <th>4</th>\n      <td>a75494</td>\n      <td>D38</td>\n      <td>[{'from': 'Pescara', 'to': 'Terni', 'merchandi...</td>\n      <td>s1</td>\n      <td>{Prato, Latina, Forlì, Bologna, Perugia, Terni...</td>\n      <td>[0.0, 1.0, 1.0, 1.0, 0.0, 0.0, 0.0, 0.0, 0.0, ...</td>\n    </tr>\n  </tbody>\n</table>\n</div>"
     },
     "execution_count": 290,
     "metadata": {},
     "output_type": "execute_result"
    }
   ],
   "source": [
    "actual_routes_df.head()"
   ],
   "metadata": {
    "collapsed": false,
    "ExecuteTime": {
     "end_time": "2024-01-01T06:26:40.323300600Z",
     "start_time": "2024-01-01T06:26:40.264105900Z"
    }
   },
   "id": "cccdae52f18f3944",
   "execution_count": 290
  },
  {
   "cell_type": "code",
   "outputs": [],
   "source": [
    "def jaccard_similarity(set1, set2):\n",
    "    intersection = 0\n",
    "    union = 0\n",
    "    for i,j in zip(set1,set2):\n",
    "        if (i == j) and (i == 1):\n",
    "            intersection += 1\n",
    "            union += 1\n",
    "        elif i == 1 or j == 1:\n",
    "            union += 1\n",
    "    \n",
    "    return intersection / union if union > 0 else 0.0"
   ],
   "metadata": {
    "collapsed": false,
    "ExecuteTime": {
     "end_time": "2024-01-01T06:26:41.948650Z",
     "start_time": "2024-01-01T06:26:41.918948300Z"
    }
   },
   "id": "dab8615856d65beb",
   "execution_count": 291
  },
  {
   "cell_type": "code",
   "outputs": [
    {
     "name": "stdout",
     "output_type": "stream",
     "text": [
      "Length of vacab : 50\n",
      "First 10 items in vocab:\n",
      "\n",
      "[('Modena', 0), ('Prato', 1), ('Latina', 2), ('Forlì', 3), ('Padova', 4), ('Campania', 5), ('Parma', 6), ('Ancona', 7), ('Bari', 8), ('Pescara', 9)]\n",
      "Shape of our One hot encoded routes: (50,)\n",
      "First 5 rows of our One hot encoded routes:\n",
      " 0    [0.0, 1.0, 0.0, 1.0, 0.0, 0.0, 0.0, 0.0, 0.0, ...\n",
      "1    [0.0, 0.0, 1.0, 0.0, 0.0, 0.0, 0.0, 0.0, 1.0, ...\n",
      "2    [0.0, 0.0, 0.0, 0.0, 0.0, 0.0, 1.0, 0.0, 0.0, ...\n",
      "3    [0.0, 0.0, 0.0, 0.0, 1.0, 0.0, 0.0, 0.0, 0.0, ...\n",
      "4    [0.0, 1.0, 0.0, 1.0, 0.0, 0.0, 1.0, 0.0, 0.0, ...\n",
      "5    [1.0, 0.0, 0.0, 1.0, 0.0, 0.0, 1.0, 0.0, 0.0, ...\n",
      "Name: One_hot_encoded, dtype: object\n",
      "sum of first row: \n",
      "7.0\n",
      "Jaccard Similarity between same route: 0.75\n"
     ]
    }
   ],
   "source": [
    "print(f'Length of vacab : {len(vocab)}')\n",
    "print('First 10 items in vocab:\\n')\n",
    "print([i for i in vocab.items()][:10])\n",
    "\n",
    "print('Shape of our One hot encoded routes: {}'.format(standard_routes_df.loc[0, 'One_hot_encoded'].shape))\n",
    "\n",
    "print('First 5 rows of our One hot encoded routes:\\n {}'.format(standard_routes_df.loc[0:5, 'One_hot_encoded']))\n",
    "\n",
    "print('sum of first row: \\n{}'.format(standard_routes_df.loc[0, 'One_hot_encoded'].sum()))\n",
    "\n",
    "print('Jaccard Similarity between same route: {}'.format(\n",
    "    jaccard_similarity(standard_routes_df.loc[0, 'One_hot_encoded'], actual_routes_df.loc[0, 'One_hot_encoded'])))"
   ],
   "metadata": {
    "collapsed": false,
    "ExecuteTime": {
     "end_time": "2024-01-01T06:26:43.002439800Z",
     "start_time": "2024-01-01T06:26:42.937054100Z"
    }
   },
   "id": "67d30bdf3461f116",
   "execution_count": 292
  },
  {
   "cell_type": "code",
   "outputs": [],
   "source": [
    "# rename the column 'id' to 'sroute' in standard_routes_df\n",
    "standard_routes_df.rename(columns={'id': 'sroute'}, inplace=True)"
   ],
   "metadata": {
    "collapsed": false,
    "ExecuteTime": {
     "end_time": "2024-01-01T06:26:44.991627500Z",
     "start_time": "2024-01-01T06:26:44.930842Z"
    }
   },
   "id": "cc229055b691288c",
   "execution_count": 293
  },
  {
   "cell_type": "code",
   "outputs": [
    {
     "data": {
      "text/plain": "  sroute                                            route_x  \\\n0     s1  [{'from': 'Pescara', 'to': 'Terni', 'merchandi...   \n1     s1  [{'from': 'Pescara', 'to': 'Terni', 'merchandi...   \n2     s1  [{'from': 'Pescara', 'to': 'Terni', 'merchandi...   \n3     s1  [{'from': 'Pescara', 'to': 'Terni', 'merchandi...   \n4     s1  [{'from': 'Pescara', 'to': 'Terni', 'merchandi...   \n\n                                        actual_route  \\\n0  [{'from': 'Pescara', 'to': 'Terni', 'merchandi...   \n1  [{'from': 'Pescara', 'to': 'Terni', 'merchandi...   \n2  [{'from': 'Pescara', 'to': 'Terni', 'merchandi...   \n3  [{'from': 'Pescara', 'to': 'Terni', 'merchandi...   \n4  [{'from': 'Pescara', 'to': 'Terni', 'merchandi...   \n\n                                    route_shingles_x  \\\n0  {Prato, Forlì, Bologna, Perugia, Terni, Pescar...   \n1  {Prato, Forlì, Bologna, Perugia, Terni, Pescar...   \n2  {Prato, Forlì, Bologna, Perugia, Terni, Pescar...   \n3  {Prato, Forlì, Bologna, Perugia, Terni, Pescar...   \n4  {Prato, Forlì, Bologna, Perugia, Terni, Pescar...   \n\n                                   One_hot_encoded_x      id driver  \\\n0  [0.0, 1.0, 0.0, 1.0, 0.0, 0.0, 0.0, 0.0, 0.0, ...  a61038    D38   \n1  [0.0, 1.0, 0.0, 1.0, 0.0, 0.0, 0.0, 0.0, 0.0, ...  a64038    D38   \n2  [0.0, 1.0, 0.0, 1.0, 0.0, 0.0, 0.0, 0.0, 0.0, ...  a66586    D38   \n3  [0.0, 1.0, 0.0, 1.0, 0.0, 0.0, 0.0, 0.0, 0.0, ...   a4774    D38   \n4  [0.0, 1.0, 0.0, 1.0, 0.0, 0.0, 0.0, 0.0, 0.0, ...  a75494    D38   \n\n                                             route_y  \\\n0  [{'from': 'Pescara', 'to': 'Terni', 'merchandi...   \n1  [{'from': 'Pescara', 'to': 'Terni', 'merchandi...   \n2  [{'from': 'Pescara', 'to': 'Terni', 'merchandi...   \n3  [{'from': 'Pescara', 'to': 'Terni', 'merchandi...   \n4  [{'from': 'Pescara', 'to': 'Terni', 'merchandi...   \n\n                                    route_shingles_y  \\\n0  {Prato, Latina, Forlì, Bologna, Perugia, Terni...   \n1  {Prato, Latina, Forlì, Bologna, Perugia, Terni...   \n2  {Prato, Latina, Forlì, Bologna, Perugia, Terni...   \n3  {Prato, Latina, Forlì, Bologna, Perugia, Terni...   \n4  {Prato, Latina, Forlì, Bologna, Perugia, Terni...   \n\n                                   One_hot_encoded_y  \n0  [0.0, 1.0, 1.0, 1.0, 0.0, 0.0, 0.0, 0.0, 0.0, ...  \n1  [0.0, 1.0, 1.0, 1.0, 0.0, 0.0, 0.0, 0.0, 0.0, ...  \n2  [0.0, 1.0, 1.0, 1.0, 0.0, 0.0, 0.0, 0.0, 0.0, ...  \n3  [0.0, 1.0, 1.0, 1.0, 0.0, 0.0, 0.0, 0.0, 0.0, ...  \n4  [0.0, 1.0, 1.0, 1.0, 0.0, 0.0, 0.0, 0.0, 0.0, ...  ",
      "text/html": "<div>\n<style scoped>\n    .dataframe tbody tr th:only-of-type {\n        vertical-align: middle;\n    }\n\n    .dataframe tbody tr th {\n        vertical-align: top;\n    }\n\n    .dataframe thead th {\n        text-align: right;\n    }\n</style>\n<table border=\"1\" class=\"dataframe\">\n  <thead>\n    <tr style=\"text-align: right;\">\n      <th></th>\n      <th>sroute</th>\n      <th>route_x</th>\n      <th>actual_route</th>\n      <th>route_shingles_x</th>\n      <th>One_hot_encoded_x</th>\n      <th>id</th>\n      <th>driver</th>\n      <th>route_y</th>\n      <th>route_shingles_y</th>\n      <th>One_hot_encoded_y</th>\n    </tr>\n  </thead>\n  <tbody>\n    <tr>\n      <th>0</th>\n      <td>s1</td>\n      <td>[{'from': 'Pescara', 'to': 'Terni', 'merchandi...</td>\n      <td>[{'from': 'Pescara', 'to': 'Terni', 'merchandi...</td>\n      <td>{Prato, Forlì, Bologna, Perugia, Terni, Pescar...</td>\n      <td>[0.0, 1.0, 0.0, 1.0, 0.0, 0.0, 0.0, 0.0, 0.0, ...</td>\n      <td>a61038</td>\n      <td>D38</td>\n      <td>[{'from': 'Pescara', 'to': 'Terni', 'merchandi...</td>\n      <td>{Prato, Latina, Forlì, Bologna, Perugia, Terni...</td>\n      <td>[0.0, 1.0, 1.0, 1.0, 0.0, 0.0, 0.0, 0.0, 0.0, ...</td>\n    </tr>\n    <tr>\n      <th>1</th>\n      <td>s1</td>\n      <td>[{'from': 'Pescara', 'to': 'Terni', 'merchandi...</td>\n      <td>[{'from': 'Pescara', 'to': 'Terni', 'merchandi...</td>\n      <td>{Prato, Forlì, Bologna, Perugia, Terni, Pescar...</td>\n      <td>[0.0, 1.0, 0.0, 1.0, 0.0, 0.0, 0.0, 0.0, 0.0, ...</td>\n      <td>a64038</td>\n      <td>D38</td>\n      <td>[{'from': 'Pescara', 'to': 'Terni', 'merchandi...</td>\n      <td>{Prato, Latina, Forlì, Bologna, Perugia, Terni...</td>\n      <td>[0.0, 1.0, 1.0, 1.0, 0.0, 0.0, 0.0, 0.0, 0.0, ...</td>\n    </tr>\n    <tr>\n      <th>2</th>\n      <td>s1</td>\n      <td>[{'from': 'Pescara', 'to': 'Terni', 'merchandi...</td>\n      <td>[{'from': 'Pescara', 'to': 'Terni', 'merchandi...</td>\n      <td>{Prato, Forlì, Bologna, Perugia, Terni, Pescar...</td>\n      <td>[0.0, 1.0, 0.0, 1.0, 0.0, 0.0, 0.0, 0.0, 0.0, ...</td>\n      <td>a66586</td>\n      <td>D38</td>\n      <td>[{'from': 'Pescara', 'to': 'Terni', 'merchandi...</td>\n      <td>{Prato, Latina, Forlì, Bologna, Perugia, Terni...</td>\n      <td>[0.0, 1.0, 1.0, 1.0, 0.0, 0.0, 0.0, 0.0, 0.0, ...</td>\n    </tr>\n    <tr>\n      <th>3</th>\n      <td>s1</td>\n      <td>[{'from': 'Pescara', 'to': 'Terni', 'merchandi...</td>\n      <td>[{'from': 'Pescara', 'to': 'Terni', 'merchandi...</td>\n      <td>{Prato, Forlì, Bologna, Perugia, Terni, Pescar...</td>\n      <td>[0.0, 1.0, 0.0, 1.0, 0.0, 0.0, 0.0, 0.0, 0.0, ...</td>\n      <td>a4774</td>\n      <td>D38</td>\n      <td>[{'from': 'Pescara', 'to': 'Terni', 'merchandi...</td>\n      <td>{Prato, Latina, Forlì, Bologna, Perugia, Terni...</td>\n      <td>[0.0, 1.0, 1.0, 1.0, 0.0, 0.0, 0.0, 0.0, 0.0, ...</td>\n    </tr>\n    <tr>\n      <th>4</th>\n      <td>s1</td>\n      <td>[{'from': 'Pescara', 'to': 'Terni', 'merchandi...</td>\n      <td>[{'from': 'Pescara', 'to': 'Terni', 'merchandi...</td>\n      <td>{Prato, Forlì, Bologna, Perugia, Terni, Pescar...</td>\n      <td>[0.0, 1.0, 0.0, 1.0, 0.0, 0.0, 0.0, 0.0, 0.0, ...</td>\n      <td>a75494</td>\n      <td>D38</td>\n      <td>[{'from': 'Pescara', 'to': 'Terni', 'merchandi...</td>\n      <td>{Prato, Latina, Forlì, Bologna, Perugia, Terni...</td>\n      <td>[0.0, 1.0, 1.0, 1.0, 0.0, 0.0, 0.0, 0.0, 0.0, ...</td>\n    </tr>\n  </tbody>\n</table>\n</div>"
     },
     "execution_count": 294,
     "metadata": {},
     "output_type": "execute_result"
    }
   ],
   "source": [
    "# Merge DataFrames on the ID column\n",
    "merged_df = pd.merge(standard_routes_df, actual_routes_df, on='sroute', how='inner')\n",
    "merged_df.head()"
   ],
   "metadata": {
    "collapsed": false,
    "ExecuteTime": {
     "end_time": "2024-01-01T06:26:45.754191400Z",
     "start_time": "2024-01-01T06:26:45.669211900Z"
    }
   },
   "id": "dbec44f62441290e",
   "execution_count": 294
  },
  {
   "cell_type": "code",
   "outputs": [],
   "source": [
    "def create_driver_profile(merged_df_):\n",
    "    unique_drivers = merged_df_['driver'].unique()\n",
    "    \n",
    "    driver_profiles_ = []\n",
    "    for driver_ in unique_drivers:\n",
    "        driver_df = merged_df_[merged_df_['driver'] == driver_]\n",
    "        driver_df['difference_in_route'] = driver_df['One_hot_encoded_y'] - driver_df['One_hot_encoded_x']\n",
    "        profile = pd.DataFrame(driver_df['difference_in_route'].tolist()).sum().tolist()\n",
    "        driver_profiles_.append(np.array(profile))\n",
    "\n",
    "    return driver_profiles_"
   ],
   "metadata": {
    "collapsed": false,
    "ExecuteTime": {
     "end_time": "2024-01-01T06:26:48.645284300Z",
     "start_time": "2024-01-01T06:26:48.624165200Z"
    }
   },
   "id": "6f359a2cf707d32f",
   "execution_count": 295
  },
  {
   "cell_type": "code",
   "outputs": [
    {
     "name": "stderr",
     "output_type": "stream",
     "text": [
      "C:\\Users\\adnan\\AppData\\Local\\Temp\\ipykernel_25228\\3285339571.py:7: SettingWithCopyWarning: \n",
      "A value is trying to be set on a copy of a slice from a DataFrame.\n",
      "Try using .loc[row_indexer,col_indexer] = value instead\n",
      "\n",
      "See the caveats in the documentation: https://pandas.pydata.org/pandas-docs/stable/user_guide/indexing.html#returning-a-view-versus-a-copy\n",
      "  driver_df['difference_in_route'] = driver_df['One_hot_encoded_y'] - driver_df['One_hot_encoded_x']\n",
      "C:\\Users\\adnan\\AppData\\Local\\Temp\\ipykernel_25228\\3285339571.py:7: SettingWithCopyWarning: \n",
      "A value is trying to be set on a copy of a slice from a DataFrame.\n",
      "Try using .loc[row_indexer,col_indexer] = value instead\n",
      "\n",
      "See the caveats in the documentation: https://pandas.pydata.org/pandas-docs/stable/user_guide/indexing.html#returning-a-view-versus-a-copy\n",
      "  driver_df['difference_in_route'] = driver_df['One_hot_encoded_y'] - driver_df['One_hot_encoded_x']\n",
      "C:\\Users\\adnan\\AppData\\Local\\Temp\\ipykernel_25228\\3285339571.py:7: SettingWithCopyWarning: \n",
      "A value is trying to be set on a copy of a slice from a DataFrame.\n",
      "Try using .loc[row_indexer,col_indexer] = value instead\n",
      "\n",
      "See the caveats in the documentation: https://pandas.pydata.org/pandas-docs/stable/user_guide/indexing.html#returning-a-view-versus-a-copy\n",
      "  driver_df['difference_in_route'] = driver_df['One_hot_encoded_y'] - driver_df['One_hot_encoded_x']\n",
      "C:\\Users\\adnan\\AppData\\Local\\Temp\\ipykernel_25228\\3285339571.py:7: SettingWithCopyWarning: \n",
      "A value is trying to be set on a copy of a slice from a DataFrame.\n",
      "Try using .loc[row_indexer,col_indexer] = value instead\n",
      "\n",
      "See the caveats in the documentation: https://pandas.pydata.org/pandas-docs/stable/user_guide/indexing.html#returning-a-view-versus-a-copy\n",
      "  driver_df['difference_in_route'] = driver_df['One_hot_encoded_y'] - driver_df['One_hot_encoded_x']\n",
      "C:\\Users\\adnan\\AppData\\Local\\Temp\\ipykernel_25228\\3285339571.py:7: SettingWithCopyWarning: \n",
      "A value is trying to be set on a copy of a slice from a DataFrame.\n",
      "Try using .loc[row_indexer,col_indexer] = value instead\n",
      "\n",
      "See the caveats in the documentation: https://pandas.pydata.org/pandas-docs/stable/user_guide/indexing.html#returning-a-view-versus-a-copy\n",
      "  driver_df['difference_in_route'] = driver_df['One_hot_encoded_y'] - driver_df['One_hot_encoded_x']\n",
      "C:\\Users\\adnan\\AppData\\Local\\Temp\\ipykernel_25228\\3285339571.py:7: SettingWithCopyWarning: \n",
      "A value is trying to be set on a copy of a slice from a DataFrame.\n",
      "Try using .loc[row_indexer,col_indexer] = value instead\n",
      "\n",
      "See the caveats in the documentation: https://pandas.pydata.org/pandas-docs/stable/user_guide/indexing.html#returning-a-view-versus-a-copy\n",
      "  driver_df['difference_in_route'] = driver_df['One_hot_encoded_y'] - driver_df['One_hot_encoded_x']\n",
      "C:\\Users\\adnan\\AppData\\Local\\Temp\\ipykernel_25228\\3285339571.py:7: SettingWithCopyWarning: \n",
      "A value is trying to be set on a copy of a slice from a DataFrame.\n",
      "Try using .loc[row_indexer,col_indexer] = value instead\n",
      "\n",
      "See the caveats in the documentation: https://pandas.pydata.org/pandas-docs/stable/user_guide/indexing.html#returning-a-view-versus-a-copy\n",
      "  driver_df['difference_in_route'] = driver_df['One_hot_encoded_y'] - driver_df['One_hot_encoded_x']\n",
      "C:\\Users\\adnan\\AppData\\Local\\Temp\\ipykernel_25228\\3285339571.py:7: SettingWithCopyWarning: \n",
      "A value is trying to be set on a copy of a slice from a DataFrame.\n",
      "Try using .loc[row_indexer,col_indexer] = value instead\n",
      "\n",
      "See the caveats in the documentation: https://pandas.pydata.org/pandas-docs/stable/user_guide/indexing.html#returning-a-view-versus-a-copy\n",
      "  driver_df['difference_in_route'] = driver_df['One_hot_encoded_y'] - driver_df['One_hot_encoded_x']\n",
      "C:\\Users\\adnan\\AppData\\Local\\Temp\\ipykernel_25228\\3285339571.py:7: SettingWithCopyWarning: \n",
      "A value is trying to be set on a copy of a slice from a DataFrame.\n",
      "Try using .loc[row_indexer,col_indexer] = value instead\n",
      "\n",
      "See the caveats in the documentation: https://pandas.pydata.org/pandas-docs/stable/user_guide/indexing.html#returning-a-view-versus-a-copy\n",
      "  driver_df['difference_in_route'] = driver_df['One_hot_encoded_y'] - driver_df['One_hot_encoded_x']\n",
      "C:\\Users\\adnan\\AppData\\Local\\Temp\\ipykernel_25228\\3285339571.py:7: SettingWithCopyWarning: \n",
      "A value is trying to be set on a copy of a slice from a DataFrame.\n",
      "Try using .loc[row_indexer,col_indexer] = value instead\n",
      "\n",
      "See the caveats in the documentation: https://pandas.pydata.org/pandas-docs/stable/user_guide/indexing.html#returning-a-view-versus-a-copy\n",
      "  driver_df['difference_in_route'] = driver_df['One_hot_encoded_y'] - driver_df['One_hot_encoded_x']\n",
      "C:\\Users\\adnan\\AppData\\Local\\Temp\\ipykernel_25228\\3285339571.py:7: SettingWithCopyWarning: \n",
      "A value is trying to be set on a copy of a slice from a DataFrame.\n",
      "Try using .loc[row_indexer,col_indexer] = value instead\n",
      "\n",
      "See the caveats in the documentation: https://pandas.pydata.org/pandas-docs/stable/user_guide/indexing.html#returning-a-view-versus-a-copy\n",
      "  driver_df['difference_in_route'] = driver_df['One_hot_encoded_y'] - driver_df['One_hot_encoded_x']\n",
      "C:\\Users\\adnan\\AppData\\Local\\Temp\\ipykernel_25228\\3285339571.py:7: SettingWithCopyWarning: \n",
      "A value is trying to be set on a copy of a slice from a DataFrame.\n",
      "Try using .loc[row_indexer,col_indexer] = value instead\n",
      "\n",
      "See the caveats in the documentation: https://pandas.pydata.org/pandas-docs/stable/user_guide/indexing.html#returning-a-view-versus-a-copy\n",
      "  driver_df['difference_in_route'] = driver_df['One_hot_encoded_y'] - driver_df['One_hot_encoded_x']\n",
      "C:\\Users\\adnan\\AppData\\Local\\Temp\\ipykernel_25228\\3285339571.py:7: SettingWithCopyWarning: \n",
      "A value is trying to be set on a copy of a slice from a DataFrame.\n",
      "Try using .loc[row_indexer,col_indexer] = value instead\n",
      "\n",
      "See the caveats in the documentation: https://pandas.pydata.org/pandas-docs/stable/user_guide/indexing.html#returning-a-view-versus-a-copy\n",
      "  driver_df['difference_in_route'] = driver_df['One_hot_encoded_y'] - driver_df['One_hot_encoded_x']\n",
      "C:\\Users\\adnan\\AppData\\Local\\Temp\\ipykernel_25228\\3285339571.py:7: SettingWithCopyWarning: \n",
      "A value is trying to be set on a copy of a slice from a DataFrame.\n",
      "Try using .loc[row_indexer,col_indexer] = value instead\n",
      "\n",
      "See the caveats in the documentation: https://pandas.pydata.org/pandas-docs/stable/user_guide/indexing.html#returning-a-view-versus-a-copy\n",
      "  driver_df['difference_in_route'] = driver_df['One_hot_encoded_y'] - driver_df['One_hot_encoded_x']\n",
      "C:\\Users\\adnan\\AppData\\Local\\Temp\\ipykernel_25228\\3285339571.py:7: SettingWithCopyWarning: \n",
      "A value is trying to be set on a copy of a slice from a DataFrame.\n",
      "Try using .loc[row_indexer,col_indexer] = value instead\n",
      "\n",
      "See the caveats in the documentation: https://pandas.pydata.org/pandas-docs/stable/user_guide/indexing.html#returning-a-view-versus-a-copy\n",
      "  driver_df['difference_in_route'] = driver_df['One_hot_encoded_y'] - driver_df['One_hot_encoded_x']\n",
      "C:\\Users\\adnan\\AppData\\Local\\Temp\\ipykernel_25228\\3285339571.py:7: SettingWithCopyWarning: \n",
      "A value is trying to be set on a copy of a slice from a DataFrame.\n",
      "Try using .loc[row_indexer,col_indexer] = value instead\n",
      "\n",
      "See the caveats in the documentation: https://pandas.pydata.org/pandas-docs/stable/user_guide/indexing.html#returning-a-view-versus-a-copy\n",
      "  driver_df['difference_in_route'] = driver_df['One_hot_encoded_y'] - driver_df['One_hot_encoded_x']\n",
      "C:\\Users\\adnan\\AppData\\Local\\Temp\\ipykernel_25228\\3285339571.py:7: SettingWithCopyWarning: \n",
      "A value is trying to be set on a copy of a slice from a DataFrame.\n",
      "Try using .loc[row_indexer,col_indexer] = value instead\n",
      "\n",
      "See the caveats in the documentation: https://pandas.pydata.org/pandas-docs/stable/user_guide/indexing.html#returning-a-view-versus-a-copy\n",
      "  driver_df['difference_in_route'] = driver_df['One_hot_encoded_y'] - driver_df['One_hot_encoded_x']\n",
      "C:\\Users\\adnan\\AppData\\Local\\Temp\\ipykernel_25228\\3285339571.py:7: SettingWithCopyWarning: \n",
      "A value is trying to be set on a copy of a slice from a DataFrame.\n",
      "Try using .loc[row_indexer,col_indexer] = value instead\n",
      "\n",
      "See the caveats in the documentation: https://pandas.pydata.org/pandas-docs/stable/user_guide/indexing.html#returning-a-view-versus-a-copy\n",
      "  driver_df['difference_in_route'] = driver_df['One_hot_encoded_y'] - driver_df['One_hot_encoded_x']\n",
      "C:\\Users\\adnan\\AppData\\Local\\Temp\\ipykernel_25228\\3285339571.py:7: SettingWithCopyWarning: \n",
      "A value is trying to be set on a copy of a slice from a DataFrame.\n",
      "Try using .loc[row_indexer,col_indexer] = value instead\n",
      "\n",
      "See the caveats in the documentation: https://pandas.pydata.org/pandas-docs/stable/user_guide/indexing.html#returning-a-view-versus-a-copy\n",
      "  driver_df['difference_in_route'] = driver_df['One_hot_encoded_y'] - driver_df['One_hot_encoded_x']\n",
      "C:\\Users\\adnan\\AppData\\Local\\Temp\\ipykernel_25228\\3285339571.py:7: SettingWithCopyWarning: \n",
      "A value is trying to be set on a copy of a slice from a DataFrame.\n",
      "Try using .loc[row_indexer,col_indexer] = value instead\n",
      "\n",
      "See the caveats in the documentation: https://pandas.pydata.org/pandas-docs/stable/user_guide/indexing.html#returning-a-view-versus-a-copy\n",
      "  driver_df['difference_in_route'] = driver_df['One_hot_encoded_y'] - driver_df['One_hot_encoded_x']\n",
      "C:\\Users\\adnan\\AppData\\Local\\Temp\\ipykernel_25228\\3285339571.py:7: SettingWithCopyWarning: \n",
      "A value is trying to be set on a copy of a slice from a DataFrame.\n",
      "Try using .loc[row_indexer,col_indexer] = value instead\n",
      "\n",
      "See the caveats in the documentation: https://pandas.pydata.org/pandas-docs/stable/user_guide/indexing.html#returning-a-view-versus-a-copy\n",
      "  driver_df['difference_in_route'] = driver_df['One_hot_encoded_y'] - driver_df['One_hot_encoded_x']\n",
      "C:\\Users\\adnan\\AppData\\Local\\Temp\\ipykernel_25228\\3285339571.py:7: SettingWithCopyWarning: \n",
      "A value is trying to be set on a copy of a slice from a DataFrame.\n",
      "Try using .loc[row_indexer,col_indexer] = value instead\n",
      "\n",
      "See the caveats in the documentation: https://pandas.pydata.org/pandas-docs/stable/user_guide/indexing.html#returning-a-view-versus-a-copy\n",
      "  driver_df['difference_in_route'] = driver_df['One_hot_encoded_y'] - driver_df['One_hot_encoded_x']\n",
      "C:\\Users\\adnan\\AppData\\Local\\Temp\\ipykernel_25228\\3285339571.py:7: SettingWithCopyWarning: \n",
      "A value is trying to be set on a copy of a slice from a DataFrame.\n",
      "Try using .loc[row_indexer,col_indexer] = value instead\n",
      "\n",
      "See the caveats in the documentation: https://pandas.pydata.org/pandas-docs/stable/user_guide/indexing.html#returning-a-view-versus-a-copy\n",
      "  driver_df['difference_in_route'] = driver_df['One_hot_encoded_y'] - driver_df['One_hot_encoded_x']\n",
      "C:\\Users\\adnan\\AppData\\Local\\Temp\\ipykernel_25228\\3285339571.py:7: SettingWithCopyWarning: \n",
      "A value is trying to be set on a copy of a slice from a DataFrame.\n",
      "Try using .loc[row_indexer,col_indexer] = value instead\n",
      "\n",
      "See the caveats in the documentation: https://pandas.pydata.org/pandas-docs/stable/user_guide/indexing.html#returning-a-view-versus-a-copy\n",
      "  driver_df['difference_in_route'] = driver_df['One_hot_encoded_y'] - driver_df['One_hot_encoded_x']\n",
      "C:\\Users\\adnan\\AppData\\Local\\Temp\\ipykernel_25228\\3285339571.py:7: SettingWithCopyWarning: \n",
      "A value is trying to be set on a copy of a slice from a DataFrame.\n",
      "Try using .loc[row_indexer,col_indexer] = value instead\n",
      "\n",
      "See the caveats in the documentation: https://pandas.pydata.org/pandas-docs/stable/user_guide/indexing.html#returning-a-view-versus-a-copy\n",
      "  driver_df['difference_in_route'] = driver_df['One_hot_encoded_y'] - driver_df['One_hot_encoded_x']\n",
      "C:\\Users\\adnan\\AppData\\Local\\Temp\\ipykernel_25228\\3285339571.py:7: SettingWithCopyWarning: \n",
      "A value is trying to be set on a copy of a slice from a DataFrame.\n",
      "Try using .loc[row_indexer,col_indexer] = value instead\n",
      "\n",
      "See the caveats in the documentation: https://pandas.pydata.org/pandas-docs/stable/user_guide/indexing.html#returning-a-view-versus-a-copy\n",
      "  driver_df['difference_in_route'] = driver_df['One_hot_encoded_y'] - driver_df['One_hot_encoded_x']\n",
      "C:\\Users\\adnan\\AppData\\Local\\Temp\\ipykernel_25228\\3285339571.py:7: SettingWithCopyWarning: \n",
      "A value is trying to be set on a copy of a slice from a DataFrame.\n",
      "Try using .loc[row_indexer,col_indexer] = value instead\n",
      "\n",
      "See the caveats in the documentation: https://pandas.pydata.org/pandas-docs/stable/user_guide/indexing.html#returning-a-view-versus-a-copy\n",
      "  driver_df['difference_in_route'] = driver_df['One_hot_encoded_y'] - driver_df['One_hot_encoded_x']\n",
      "C:\\Users\\adnan\\AppData\\Local\\Temp\\ipykernel_25228\\3285339571.py:7: SettingWithCopyWarning: \n",
      "A value is trying to be set on a copy of a slice from a DataFrame.\n",
      "Try using .loc[row_indexer,col_indexer] = value instead\n",
      "\n",
      "See the caveats in the documentation: https://pandas.pydata.org/pandas-docs/stable/user_guide/indexing.html#returning-a-view-versus-a-copy\n",
      "  driver_df['difference_in_route'] = driver_df['One_hot_encoded_y'] - driver_df['One_hot_encoded_x']\n",
      "C:\\Users\\adnan\\AppData\\Local\\Temp\\ipykernel_25228\\3285339571.py:7: SettingWithCopyWarning: \n",
      "A value is trying to be set on a copy of a slice from a DataFrame.\n",
      "Try using .loc[row_indexer,col_indexer] = value instead\n",
      "\n",
      "See the caveats in the documentation: https://pandas.pydata.org/pandas-docs/stable/user_guide/indexing.html#returning-a-view-versus-a-copy\n",
      "  driver_df['difference_in_route'] = driver_df['One_hot_encoded_y'] - driver_df['One_hot_encoded_x']\n",
      "C:\\Users\\adnan\\AppData\\Local\\Temp\\ipykernel_25228\\3285339571.py:7: SettingWithCopyWarning: \n",
      "A value is trying to be set on a copy of a slice from a DataFrame.\n",
      "Try using .loc[row_indexer,col_indexer] = value instead\n",
      "\n",
      "See the caveats in the documentation: https://pandas.pydata.org/pandas-docs/stable/user_guide/indexing.html#returning-a-view-versus-a-copy\n",
      "  driver_df['difference_in_route'] = driver_df['One_hot_encoded_y'] - driver_df['One_hot_encoded_x']\n",
      "C:\\Users\\adnan\\AppData\\Local\\Temp\\ipykernel_25228\\3285339571.py:7: SettingWithCopyWarning: \n",
      "A value is trying to be set on a copy of a slice from a DataFrame.\n",
      "Try using .loc[row_indexer,col_indexer] = value instead\n",
      "\n",
      "See the caveats in the documentation: https://pandas.pydata.org/pandas-docs/stable/user_guide/indexing.html#returning-a-view-versus-a-copy\n",
      "  driver_df['difference_in_route'] = driver_df['One_hot_encoded_y'] - driver_df['One_hot_encoded_x']\n",
      "C:\\Users\\adnan\\AppData\\Local\\Temp\\ipykernel_25228\\3285339571.py:7: SettingWithCopyWarning: \n",
      "A value is trying to be set on a copy of a slice from a DataFrame.\n",
      "Try using .loc[row_indexer,col_indexer] = value instead\n",
      "\n",
      "See the caveats in the documentation: https://pandas.pydata.org/pandas-docs/stable/user_guide/indexing.html#returning-a-view-versus-a-copy\n",
      "  driver_df['difference_in_route'] = driver_df['One_hot_encoded_y'] - driver_df['One_hot_encoded_x']\n",
      "C:\\Users\\adnan\\AppData\\Local\\Temp\\ipykernel_25228\\3285339571.py:7: SettingWithCopyWarning: \n",
      "A value is trying to be set on a copy of a slice from a DataFrame.\n",
      "Try using .loc[row_indexer,col_indexer] = value instead\n",
      "\n",
      "See the caveats in the documentation: https://pandas.pydata.org/pandas-docs/stable/user_guide/indexing.html#returning-a-view-versus-a-copy\n",
      "  driver_df['difference_in_route'] = driver_df['One_hot_encoded_y'] - driver_df['One_hot_encoded_x']\n",
      "C:\\Users\\adnan\\AppData\\Local\\Temp\\ipykernel_25228\\3285339571.py:7: SettingWithCopyWarning: \n",
      "A value is trying to be set on a copy of a slice from a DataFrame.\n",
      "Try using .loc[row_indexer,col_indexer] = value instead\n",
      "\n",
      "See the caveats in the documentation: https://pandas.pydata.org/pandas-docs/stable/user_guide/indexing.html#returning-a-view-versus-a-copy\n",
      "  driver_df['difference_in_route'] = driver_df['One_hot_encoded_y'] - driver_df['One_hot_encoded_x']\n",
      "C:\\Users\\adnan\\AppData\\Local\\Temp\\ipykernel_25228\\3285339571.py:7: SettingWithCopyWarning: \n",
      "A value is trying to be set on a copy of a slice from a DataFrame.\n",
      "Try using .loc[row_indexer,col_indexer] = value instead\n",
      "\n",
      "See the caveats in the documentation: https://pandas.pydata.org/pandas-docs/stable/user_guide/indexing.html#returning-a-view-versus-a-copy\n",
      "  driver_df['difference_in_route'] = driver_df['One_hot_encoded_y'] - driver_df['One_hot_encoded_x']\n",
      "C:\\Users\\adnan\\AppData\\Local\\Temp\\ipykernel_25228\\3285339571.py:7: SettingWithCopyWarning: \n",
      "A value is trying to be set on a copy of a slice from a DataFrame.\n",
      "Try using .loc[row_indexer,col_indexer] = value instead\n",
      "\n",
      "See the caveats in the documentation: https://pandas.pydata.org/pandas-docs/stable/user_guide/indexing.html#returning-a-view-versus-a-copy\n",
      "  driver_df['difference_in_route'] = driver_df['One_hot_encoded_y'] - driver_df['One_hot_encoded_x']\n",
      "C:\\Users\\adnan\\AppData\\Local\\Temp\\ipykernel_25228\\3285339571.py:7: SettingWithCopyWarning: \n",
      "A value is trying to be set on a copy of a slice from a DataFrame.\n",
      "Try using .loc[row_indexer,col_indexer] = value instead\n",
      "\n",
      "See the caveats in the documentation: https://pandas.pydata.org/pandas-docs/stable/user_guide/indexing.html#returning-a-view-versus-a-copy\n",
      "  driver_df['difference_in_route'] = driver_df['One_hot_encoded_y'] - driver_df['One_hot_encoded_x']\n",
      "C:\\Users\\adnan\\AppData\\Local\\Temp\\ipykernel_25228\\3285339571.py:7: SettingWithCopyWarning: \n",
      "A value is trying to be set on a copy of a slice from a DataFrame.\n",
      "Try using .loc[row_indexer,col_indexer] = value instead\n",
      "\n",
      "See the caveats in the documentation: https://pandas.pydata.org/pandas-docs/stable/user_guide/indexing.html#returning-a-view-versus-a-copy\n",
      "  driver_df['difference_in_route'] = driver_df['One_hot_encoded_y'] - driver_df['One_hot_encoded_x']\n",
      "C:\\Users\\adnan\\AppData\\Local\\Temp\\ipykernel_25228\\3285339571.py:7: SettingWithCopyWarning: \n",
      "A value is trying to be set on a copy of a slice from a DataFrame.\n",
      "Try using .loc[row_indexer,col_indexer] = value instead\n",
      "\n",
      "See the caveats in the documentation: https://pandas.pydata.org/pandas-docs/stable/user_guide/indexing.html#returning-a-view-versus-a-copy\n",
      "  driver_df['difference_in_route'] = driver_df['One_hot_encoded_y'] - driver_df['One_hot_encoded_x']\n",
      "C:\\Users\\adnan\\AppData\\Local\\Temp\\ipykernel_25228\\3285339571.py:7: SettingWithCopyWarning: \n",
      "A value is trying to be set on a copy of a slice from a DataFrame.\n",
      "Try using .loc[row_indexer,col_indexer] = value instead\n",
      "\n",
      "See the caveats in the documentation: https://pandas.pydata.org/pandas-docs/stable/user_guide/indexing.html#returning-a-view-versus-a-copy\n",
      "  driver_df['difference_in_route'] = driver_df['One_hot_encoded_y'] - driver_df['One_hot_encoded_x']\n",
      "C:\\Users\\adnan\\AppData\\Local\\Temp\\ipykernel_25228\\3285339571.py:7: SettingWithCopyWarning: \n",
      "A value is trying to be set on a copy of a slice from a DataFrame.\n",
      "Try using .loc[row_indexer,col_indexer] = value instead\n",
      "\n",
      "See the caveats in the documentation: https://pandas.pydata.org/pandas-docs/stable/user_guide/indexing.html#returning-a-view-versus-a-copy\n",
      "  driver_df['difference_in_route'] = driver_df['One_hot_encoded_y'] - driver_df['One_hot_encoded_x']\n",
      "C:\\Users\\adnan\\AppData\\Local\\Temp\\ipykernel_25228\\3285339571.py:7: SettingWithCopyWarning: \n",
      "A value is trying to be set on a copy of a slice from a DataFrame.\n",
      "Try using .loc[row_indexer,col_indexer] = value instead\n",
      "\n",
      "See the caveats in the documentation: https://pandas.pydata.org/pandas-docs/stable/user_guide/indexing.html#returning-a-view-versus-a-copy\n",
      "  driver_df['difference_in_route'] = driver_df['One_hot_encoded_y'] - driver_df['One_hot_encoded_x']\n",
      "C:\\Users\\adnan\\AppData\\Local\\Temp\\ipykernel_25228\\3285339571.py:7: SettingWithCopyWarning: \n",
      "A value is trying to be set on a copy of a slice from a DataFrame.\n",
      "Try using .loc[row_indexer,col_indexer] = value instead\n",
      "\n",
      "See the caveats in the documentation: https://pandas.pydata.org/pandas-docs/stable/user_guide/indexing.html#returning-a-view-versus-a-copy\n",
      "  driver_df['difference_in_route'] = driver_df['One_hot_encoded_y'] - driver_df['One_hot_encoded_x']\n",
      "C:\\Users\\adnan\\AppData\\Local\\Temp\\ipykernel_25228\\3285339571.py:7: SettingWithCopyWarning: \n",
      "A value is trying to be set on a copy of a slice from a DataFrame.\n",
      "Try using .loc[row_indexer,col_indexer] = value instead\n",
      "\n",
      "See the caveats in the documentation: https://pandas.pydata.org/pandas-docs/stable/user_guide/indexing.html#returning-a-view-versus-a-copy\n",
      "  driver_df['difference_in_route'] = driver_df['One_hot_encoded_y'] - driver_df['One_hot_encoded_x']\n",
      "C:\\Users\\adnan\\AppData\\Local\\Temp\\ipykernel_25228\\3285339571.py:7: SettingWithCopyWarning: \n",
      "A value is trying to be set on a copy of a slice from a DataFrame.\n",
      "Try using .loc[row_indexer,col_indexer] = value instead\n",
      "\n",
      "See the caveats in the documentation: https://pandas.pydata.org/pandas-docs/stable/user_guide/indexing.html#returning-a-view-versus-a-copy\n",
      "  driver_df['difference_in_route'] = driver_df['One_hot_encoded_y'] - driver_df['One_hot_encoded_x']\n",
      "C:\\Users\\adnan\\AppData\\Local\\Temp\\ipykernel_25228\\3285339571.py:7: SettingWithCopyWarning: \n",
      "A value is trying to be set on a copy of a slice from a DataFrame.\n",
      "Try using .loc[row_indexer,col_indexer] = value instead\n",
      "\n",
      "See the caveats in the documentation: https://pandas.pydata.org/pandas-docs/stable/user_guide/indexing.html#returning-a-view-versus-a-copy\n",
      "  driver_df['difference_in_route'] = driver_df['One_hot_encoded_y'] - driver_df['One_hot_encoded_x']\n",
      "C:\\Users\\adnan\\AppData\\Local\\Temp\\ipykernel_25228\\3285339571.py:7: SettingWithCopyWarning: \n",
      "A value is trying to be set on a copy of a slice from a DataFrame.\n",
      "Try using .loc[row_indexer,col_indexer] = value instead\n",
      "\n",
      "See the caveats in the documentation: https://pandas.pydata.org/pandas-docs/stable/user_guide/indexing.html#returning-a-view-versus-a-copy\n",
      "  driver_df['difference_in_route'] = driver_df['One_hot_encoded_y'] - driver_df['One_hot_encoded_x']\n",
      "C:\\Users\\adnan\\AppData\\Local\\Temp\\ipykernel_25228\\3285339571.py:7: SettingWithCopyWarning: \n",
      "A value is trying to be set on a copy of a slice from a DataFrame.\n",
      "Try using .loc[row_indexer,col_indexer] = value instead\n",
      "\n",
      "See the caveats in the documentation: https://pandas.pydata.org/pandas-docs/stable/user_guide/indexing.html#returning-a-view-versus-a-copy\n",
      "  driver_df['difference_in_route'] = driver_df['One_hot_encoded_y'] - driver_df['One_hot_encoded_x']\n",
      "C:\\Users\\adnan\\AppData\\Local\\Temp\\ipykernel_25228\\3285339571.py:7: SettingWithCopyWarning: \n",
      "A value is trying to be set on a copy of a slice from a DataFrame.\n",
      "Try using .loc[row_indexer,col_indexer] = value instead\n",
      "\n",
      "See the caveats in the documentation: https://pandas.pydata.org/pandas-docs/stable/user_guide/indexing.html#returning-a-view-versus-a-copy\n",
      "  driver_df['difference_in_route'] = driver_df['One_hot_encoded_y'] - driver_df['One_hot_encoded_x']\n",
      "C:\\Users\\adnan\\AppData\\Local\\Temp\\ipykernel_25228\\3285339571.py:7: SettingWithCopyWarning: \n",
      "A value is trying to be set on a copy of a slice from a DataFrame.\n",
      "Try using .loc[row_indexer,col_indexer] = value instead\n",
      "\n",
      "See the caveats in the documentation: https://pandas.pydata.org/pandas-docs/stable/user_guide/indexing.html#returning-a-view-versus-a-copy\n",
      "  driver_df['difference_in_route'] = driver_df['One_hot_encoded_y'] - driver_df['One_hot_encoded_x']\n"
     ]
    },
    {
     "data": {
      "text/plain": "[array([  0.,   0.,  12.,  -3.,   0.,   0.,   0.,   1.,   0.,   0.,   0.,\n          0.,   0.,   0.,   0.,   1.,   0.,   0.,   0.,   0.,  -1.,   0.,\n          0.,   0.,   0.,   0.,   0.,   2.,   0.,   0.,   0.,   2.,   0.,\n          0.,   0.,   0.,   1.,   0.,   1.,   1.,   0.,   0.,   0.,   0.,\n          0.,   1.,   0.,   0., -12.,   0.]),\n array([ 0.,  0., -1.,  0.,  0.,  6.,  0.,  0., -6.,  2.,  0.,  0.,  0.,\n         0.,  0.,  0.,  0.,  0.,  0.,  0.,  0.,  0.,  0.,  6.,  0.,  0.,\n         0.,  0.,  0.,  0.,  0.,  4.,  0.,  0.,  1.,  0.,  0.,  0.,  0.,\n         0.,  0.,  1.,  6.,  0.,  0.,  0.,  0.,  0.,  0.,  0.]),\n array([11.,  0.,  0.,  0., 11.,  0.,  0.,  0.,  0.,  0.,  0.,  0.,  0.,\n         0.,  0.,  1.,  0.,  0.,  0.,  0.,  0.,  0.,  0.,  0.,  0.,  0.,\n         0.,  0.,  0.,  0.,  1.,  0.,  0.,  0.,  0.,  0.,  0., 11.,  1.,\n         0.,  1.,  0.,  0.,  0.,  0.,  0.,  0.,  0.,  0.,  0.]),\n array([ 4.,  0.,  0.,  0., -1.,  0.,  0.,  0.,  0.,  0.,  0.,  0.,  2.,\n         4.,  0., -7.,  0.,  0.,  4.,  0.,  0.,  0.,  0.,  0.,  0.,  0.,\n         0.,  0.,  0.,  2.,  5.,  0.,  0.,  4.,  0.,  4.,  0.,  0., -7.,\n         0.,  1.,  0.,  0.,  0., -3.,  0.,  0.,  0.,  0.,  0.]),\n array([ 0., -1.,  0.,  0.,  0.,  0., -1.,  0.,  0.,  0.,  0.,  0.,  0.,\n         3.,  0.,  5.,  0.,  0.,  0.,  0.,  0.,  0.,  0.,  0.,  0.,  0.,\n         0.,  1.,  0.,  2.,  0.,  0.,  0.,  0.,  0.,  0.,  0.,  3.,  5.,\n         0.,  0.,  0.,  0.,  0.,  0.,  1.,  0.,  0.,  0.,  0.]),\n array([ 0.,  1.,  0., -1.,  0.,  0.,  0.,  0.,  0.,  0.,  0.,  0.,  0.,\n         0.,  0.,  0.,  0.,  0.,  0.,  0.,  0.,  0.,  0.,  0.,  1.,  0.,\n         0.,  0.,  1.,  0.,  1.,  0.,  0.,  0.,  0.,  0.,  0.,  0.,  0.,\n         0.,  0.,  0.,  0.,  1.,  0.,  1.,  0.,  0.,  0.,  0.]),\n array([ 0.,  0.,  0.,  0.,  0.,  0.,  0.,  0.,  0.,  0.,  0.,  0.,  0.,\n         0.,  0.,  5.,  0.,  0.,  0.,  0.,  0.,  0.,  0.,  0.,  0.,  0.,\n         0.,  0.,  0.,  0.,  0.,  0.,  0.,  1.,  0.,  0.,  0.,  1.,  5.,\n         0., -5.,  0.,  0.,  0.,  0.,  0.,  0.,  0.,  0.,  1.]),\n array([-4.,  1.,  0.,  0.,  0.,  0.,  0.,  0.,  0.,  0.,  0.,  2.,  1.,\n         1.,  0.,  3.,  0.,  2.,  0.,  0.,  0.,  0.,  0.,  0.,  0.,  0.,\n         0.,  0.,  0.,  0.,  0.,  0.,  0.,  0.,  0.,  0.,  1.,  0.,  3.,\n         0.,  0.,  0.,  0.,  0.,  0.,  0.,  0.,  0.,  0.,  0.]),\n array([-2.,  0.,  0.,  2.,  0.,  0., -1.,  0.,  0.,  0.,  0.,  0.,  0.,\n         0.,  0.,  2.,  0.,  0.,  0.,  0.,  0.,  0.,  0.,  0.,  1.,  0.,\n         0.,  0.,  0.,  3.,  0.,  0.,  0.,  0.,  0.,  0.,  3.,  0.,  2.,\n         0.,  0.,  0.,  0.,  0.,  0.,  0.,  0.,  0.,  0.,  0.]),\n array([ 0.,  0.,  7.,  0.,  0.,  1.,  0.,  1.,  5., -1.,  0.,  0.,  0.,\n         0.,  0.,  0., -5.,  0.,  0.,  0.,  1.,  0.,  0.,  1.,  0., -4.,\n         0.,  0.,  0.,  0.,  0., -3.,  0.,  0.,  0.,  0.,  0.,  0.,  0.,\n         0.,  0.,  5.,  1.,  0.,  0.,  0.,  0.,  0.,  0.,  0.]),\n array([ 0.,  3.,  0., -1.,  0.,  0.,  0.,  0.,  0.,  0.,  0.,  0.,  0.,\n         1.,  0., -1.,  0.,  1.,  0.,  0.,  0.,  0.,  0.,  0.,  0.,  0.,\n         0.,  0.,  0.,  1.,  8.,  0.,  0.,  0.,  0.,  0.,  0.,  0., -1.,\n         0.,  1.,  0.,  0.,  0.,  0.,  0.,  0.,  0.,  0.,  0.]),\n array([ 0.,  0.,  0.,  0.,  0.,  0.,  0.,  0.,  7.,  0., -4.,  0.,  0.,\n         0.,  2.,  2.,  1.,  0.,  0.,  0.,  0.,  0.,  2.,  0.,  0., -6.,\n         0.,  0.,  0.,  0.,  0.,  1.,  0.,  0.,  0.,  0.,  0.,  0.,  0.,\n         0.,  0.,  0.,  0.,  0.,  0.,  0.,  0.,  5.,  0.,  0.]),\n array([ 0.,  0.,  0.,  0.,  4.,  0.,  6.,  0.,  0.,  0.,  0.,  0.,  1.,\n         0.,  0.,  0.,  0.,  0.,  0.,  0.,  0.,  0.,  0.,  0., -2.,  0.,\n         0.,  0.,  0.,  0.,  1.,  0.,  0.,  4.,  0.,  0.,  5.,  2.,  0.,\n         0.,  0.,  0.,  0.,  0.,  0.,  1.,  0.,  0.,  0., -1.]),\n array([ 0.,  0.,  0.,  0.,  0.,  0.,  0.,  0.,  0.,  0.,  0.,  0.,  0.,\n         0.,  0.,  0.,  0.,  0.,  0.,  0.,  0.,  0.,  0.,  0.,  0.,  0.,\n         0.,  0., -1.,  0.,  0.,  0.,  0.,  0.,  0.,  0.,  0.,  0.,  0.,\n         0.,  0.,  0.,  0.,  2.,  0.,  0.,  2.,  0.,  0.,  1.]),\n array([ 0.,  0.,  0.,  0.,  4.,  0.,  0.,  0.,  0.,  0.,  0., -1., -1.,\n         6.,  0.,  2.,  0.,  0.,  6.,  0.,  0.,  0.,  0.,  0.,  1.,  0.,\n         0.,  0.,  0.,  0.,  0.,  0.,  0.,  0.,  0.,  1.,  7.,  1.,  2.,\n         0.,  0.,  0.,  0.,  0., -1.,  0.,  0.,  0.,  0.,  0.]),\n array([ 0.,  0.,  0.,  0., -1.,  0.,  1.,  0.,  0.,  0.,  0.,  8., -1.,\n         0.,  0.,  0.,  0.,  0.,  0.,  0.,  0.,  0.,  0.,  0.,  2.,  0.,\n         0.,  0.,  0.,  0.,  0.,  0.,  0., -4.,  0.,  0.,  2.,  0.,  0.,\n         0.,  0.,  0.,  0.,  0.,  0.,  0.,  0.,  0.,  0.,  0.]),\n array([ 2.,  1.,  0.,  0.,  1.,  0.,  5.,  1.,  0.,  0.,  0.,  0.,  9.,\n         1.,  0., -1.,  0.,  0.,  0.,  0.,  0.,  0.,  0.,  0.,  0.,  0.,\n         0.,  0.,  1., -9.,  0.,  0.,  0.,  0.,  0.,  0.,  2.,  0., -1.,\n         0.,  1.,  0.,  0.,  1.,  0.,  0.,  0.,  0.,  0., -2.]),\n array([ 0.,  0., 11.,  0.,  0.,  0.,  0.,  0.,  2., -5.,  0.,  0.,  0.,\n         0.,  0.,  0., -1.,  0.,  0.,  0.,  1.,  0.,  0.,  0.,  0.,  3.,\n         0.,  0.,  0.,  0.,  0.,  0.,  0.,  0.,  1.,  0.,  0.,  0.,  0.,\n        -1.,  0.,  0.,  0.,  0.,  0.,  0.,  0.,  0.,  6.,  0.]),\n array([  0.,   0.,  -1.,   1.,   0.,   1.,   0.,  11.,   0., -11.,   0.,\n          0.,   0.,   0.,   0.,   0.,   0.,   0.,   0.,   0.,   0.,   0.,\n          0.,   1.,   0.,   0.,   0.,  -1.,   0.,   0.,   0.,   0.,   0.,\n          0.,   0.,   0.,   0.,   0.,   0.,   0.,   0.,   0.,   1.,   0.,\n          0.,   0.,   0.,   0.,   0.,   0.]),\n array([-1.,  0.,  0., -1.,  0.,  0.,  1.,  0.,  0.,  1.,  0.,  0.,  0.,\n        -2.,  0.,  2.,  0.,  3.,  0.,  0.,  5.,  0.,  0.,  0.,  0.,  0.,\n         0.,  0.,  0.,  4., -2.,  0.,  0.,  0.,  0.,  0., 11.,  0.,  2.,\n         0.,  0.,  0.,  0.,  0.,  0.,  0.,  0.,  0.,  0.,  0.]),\n array([ 3.,  0.,  0.,  1., -8.,  0.,  2.,  0.,  0.,  0.,  0., 17.,  0.,\n         1.,  0.,  3.,  0.,  0.,  0.,  0.,  0.,  0.,  0.,  0.,  2.,  0.,\n         0.,  0.,  1.,  0.,  2.,  0.,  0., -1.,  0.,  0., -2.,  1.,  3.,\n         0.,  2.,  0.,  0.,  0.,  0.,  0.,  0.,  0.,  0.,  0.]),\n array([ 0.,  1.,  0.,  1.,  0., -1.,  0.,  0.,  2., -1.,  0.,  0.,  0.,\n         1.,  0.,  0.,  0.,  0.,  0.,  0.,  0.,  0.,  0., -1.,  0.,  0.,\n         0.,  0.,  0.,  0.,  0.,  0.,  0.,  0.,  3.,  0.,  0.,  0.,  0.,\n         6.,  0.,  0., -1.,  0.,  0.,  0.,  0.,  0.,  0.,  0.]),\n array([ 0.,  0.,  0.,  0., -7.,  0., -4.,  0.,  0.,  0.,  0., -1., -1.,\n         1.,  0.,  3.,  0.,  0.,  1.,  0.,  0.,  0.,  0.,  0.,  0.,  0.,\n         0.,  0.,  2., -2.,  0.,  0.,  0.,  3.,  0.,  0.,  9.,  0.,  3.,\n         0.,  5.,  0.,  0.,  0.,  0.,  0.,  0.,  0.,  0.,  0.]),\n array([ 0.,  0.,  0.,  0.,  0.,  0.,  0.,  0.,  0.,  0.,  0.,  0.,  0.,\n         0.,  0.,  5.,  0.,  0.,  0.,  0.,  0.,  0.,  0.,  0.,  0.,  0.,\n         0.,  0., -1.,  0.,  1.,  0.,  0.,  0.,  0.,  0.,  0.,  0.,  5.,\n         0.,  0.,  0.,  0.,  0.,  0.,  0.,  4.,  0.,  0.,  7.]),\n array([ 0.,  0.,  0.,  2.,  2.,  0.,  4.,  0.,  0.,  0.,  0.,  0.,  0.,\n         5.,  0., -2.,  0.,  5.,  0.,  0.,  0.,  0.,  0.,  0.,  0.,  0.,\n         0.,  0.,  0.,  0.,  0.,  0.,  0.,  0.,  0.,  0.,  0.,  0., -2.,\n         0.,  3.,  0.,  0.,  0.,  0.,  5.,  0.,  0.,  0.,  1.]),\n array([ 0.,  0.,  0.,  0.,  0.,  0.,  0.,  3.,  1., -1.,  0.,  0.,  0.,\n         0.,  0.,  0.,  5.,  0.,  0.,  0.,  7.,  0.,  0.,  0.,  0.,  0.,\n         0.,  1.,  0.,  0.,  0.,  4.,  0.,  0., -1.,  0.,  0.,  0.,  0.,\n        -1.,  0.,  0.,  0.,  0.,  0.,  0.,  0.,  0.,  0.,  0.]),\n array([-1.,  3.,  0.,  0.,  0.,  0.,  0.,  0.,  0.,  0.,  0.,  0.,  0.,\n         0.,  0.,  0.,  0.,  0.,  0.,  0.,  0.,  0.,  0.,  0.,  0.,  0.,\n         0.,  0., -1.,  1.,  0.,  0.,  0.,  0.,  0.,  0., 12.,  0.,  0.,\n         0., -1.,  0.,  0.,  2.,  0.,  0.,  0.,  0.,  0., 14.]),\n array([ 0.,  0.,  1.,  1.,  0.,  0.,  0.,  0.,  2., -1., -2.,  0.,  0.,\n         0.,  0.,  0.,  2.,  0.,  0.,  0.,  0.,  0.,  0.,  0.,  0.,  0.,\n         0.,  0.,  0.,  0.,  0.,  0.,  0.,  0.,  0.,  0.,  0.,  0.,  0.,\n        -1.,  0.,  0.,  0.,  0.,  0.,  0.,  0.,  0.,  0.,  0.]),\n array([ 0.,  0.,  4.,  0.,  0.,  0.,  0.,  1., -1., -1.,  0.,  0.,  0.,\n         0.,  0.,  0., -1.,  0.,  0.,  0.,  2.,  0.,  0.,  0.,  0.,  2.,\n         0.,  0.,  0.,  0.,  0.,  4.,  0.,  0.,  0.,  0.,  0.,  0.,  0.,\n         0.,  0.,  0.,  0.,  0.,  0.,  0.,  0.,  0.,  3.,  0.]),\n array([ 0.,  5.,  0.,  0.,  0.,  0., -4.,  0.,  0.,  0.,  0.,  0.,  0.,\n        -1.,  0.,  0.,  0.,  0.,  0.,  5.,  0.,  0.,  0.,  0.,  1.,  0.,\n         0.,  0., -5.,  3.,  3.,  0.,  0.,  0.,  0.,  0.,  6.,  0.,  0.,\n         0., -2.,  0.,  0.,  4.,  0.,  0.,  0.,  0.,  0.,  5.]),\n array([ 0.,  0.,  3.,  1.,  0., -1.,  0.,  2.,  1.,  0.,  0.,  0.,  0.,\n         0.,  0.,  0.,  0.,  0.,  0.,  0.,  0.,  0.,  0., -1.,  0.,  0.,\n         0.,  1.,  0.,  0.,  0., 10.,  0.,  0.,  0.,  0.,  0.,  0.,  0.,\n         0.,  0.,  0., -1.,  0.,  0.,  0.,  0.,  0.,  0.,  0.]),\n array([-1.,  2.,  0.,  0.,  0.,  0., -3.,  0.,  0.,  0.,  0.,  0.,  0.,\n         0.,  0.,  0.,  0.,  0.,  0.,  0.,  0.,  0.,  0.,  0.,  0.,  0.,\n         0.,  0.,  0.,  0.,  3.,  0.,  0.,  0.,  0.,  0.,  1.,  0.,  0.,\n         0.,  0.,  0.,  0.,  0.,  0.,  0.,  0.,  0.,  0.,  0.]),\n array([-1., -2.,  0.,  0.,  7.,  0.,  4.,  0.,  0.,  0.,  0.,  0.,  4.,\n         0.,  0.,  0.,  0.,  2.,  0.,  0.,  0.,  0.,  0.,  0.,  0.,  0.,\n         0.,  9.,  0., -1.,  0.,  0.,  0.,  2.,  0.,  0., -2.,  0.,  0.,\n         0.,  8.,  0.,  0.,  0.,  0.,  5.,  0.,  0.,  0.,  0.]),\n array([ 0., -4.,  0.,  1.,  0.,  1.,  0.,  0.,  0.,  0.,  0.,  0.,  0.,\n         0.,  0.,  0.,  0.,  3.,  0.,  0.,  0.,  0.,  0.,  1.,  0.,  0.,\n         0.,  0.,  0.,  0.,  1.,  0.,  0.,  0.,  0.,  0.,  0.,  0.,  0.,\n         0.,  0.,  0.,  1.,  0.,  0.,  0.,  0.,  0.,  0.,  0.]),\n array([ 2.,  0.,  0.,  0.,  0.,  0.,  0.,  0.,  0.,  0.,  0.,  0.,  1.,\n        11.,  0.,  0.,  0.,  0.,  0.,  0.,  0.,  0.,  0.,  0.,  0.,  0.,\n         0.,  0.,  1.,  0.,  0.,  0.,  0.,  0.,  0.,  0., -1.,  0.,  0.,\n         0.,  8.,  0.,  0.,  0.,  0.,  0.,  0.,  0.,  0.,  0.]),\n array([ 0.,  3.,  2.,  1.,  0.,  0.,  0.,  5.,  1., -1.,  0.,  0.,  0.,\n         0.,  0.,  0.,  0.,  0.,  0.,  0.,  2.,  0.,  0.,  0.,  0.,  0.,\n         0., -1.,  0.,  0.,  0.,  5.,  0.,  0., -1.,  0.,  6.,  0.,  0.,\n         0.,  0.,  0.,  0.,  0.,  0.,  0.,  0.,  0.,  0.,  0.]),\n array([ 0.,  0., -4.,  0.,  0.,  0.,  0.,  2.,  0.,  0.,  0.,  0.,  0.,\n         0.,  0.,  0., 13.,  0.,  0.,  0.,  1.,  0.,  0.,  0.,  0.,  0.,\n         0.,  0.,  0.,  0.,  0., -4.,  0.,  0.,  3.,  0.,  0.,  0.,  0.,\n         2.,  0.,  0.,  0.,  0.,  0.,  0.,  0.,  0., -1.,  0.]),\n array([ 5.,  0.,  0.,  0.,  0.,  0., -1.,  0.,  0.,  0.,  0.,  0.,  0.,\n         0.,  0.,  0.,  0.,  0.,  0.,  0.,  0.,  0.,  0.,  0.,  1.,  0.,\n         0.,  0.,  0.,  7.,  3.,  0.,  0.,  0.,  0.,  0.,  2.,  0.,  0.,\n         0.,  0.,  0.,  0.,  0.,  0.,  0.,  0.,  0.,  0., -1.]),\n array([ 0.,  3.,  5.,  4.,  0.,  3.,  0.,  0.,  1., -1.,  0.,  0.,  0.,\n         0.,  0.,  0., -3.,  1.,  0.,  0.,  0.,  0.,  0.,  3.,  0.,  0.,\n         0.,  1.,  0.,  0.,  3., -2.,  0.,  0.,  0.,  0.,  0.,  0.,  0.,\n         3.,  0.,  0.,  3.,  0.,  0.,  0.,  0.,  0.,  2.,  0.]),\n array([ 0.,  0.,  0.,  0.,  0.,  0.,  0.,  0.,  0.,  0.,  0.,  0.,  0.,\n         0.,  0.,  0.,  0.,  0.,  0.,  0.,  0.,  0.,  0.,  0., -5.,  0.,\n         0.,  0.,  5.,  0.,  0.,  0.,  0.,  0.,  0.,  0.,  0.,  0.,  0.,\n         0.,  0.,  0.,  0.,  0.,  0.,  0.,  0.,  0.,  0.,  0.]),\n array([ 0.,  0.,  0.,  0.,  0.,  0., -1.,  0.,  0.,  0.,  0.,  0.,  0.,\n        -1.,  0.,  0.,  0.,  0.,  0.,  0.,  0.,  0.,  0.,  0.,  1.,  0.,\n         0.,  1., -1.,  1.,  5.,  0.,  0.,  0.,  0.,  0.,  5.,  5.,  0.,\n         0., -1.,  0.,  0.,  1.,  0.,  0.,  0.,  0.,  0.,  0.]),\n array([-9.,  9.,  0.,  0.,  0.,  0.,  3.,  0.,  0.,  0.,  0.,  0.,  0.,\n        -1.,  0., -4.,  0.,  0.,  0.,  0.,  0.,  0.,  0.,  0.,  0.,  0.,\n         0.,  0.,  0.,  0.,  2.,  0.,  0.,  0.,  0.,  0.,  0.,  0., -4.,\n         0.,  0.,  0.,  0.,  0.,  0.,  1.,  0.,  0.,  0.,  0.]),\n array([ 0.,  0., -3.,  0.,  0.,  4.,  0.,  1., 12.,  0.,  0.,  0.,  0.,\n         0.,  0.,  0.,  0.,  0.,  0.,  0.,  1.,  0.,  0.,  4.,  0.,  0.,\n         0.,  0.,  0.,  0.,  0.,  3., 11.,  0.,  2.,  0.,  0.,  0.,  0.,\n         0.,  0.,  0.,  4.,  0.,  0.,  0.,  0.,  0.,  1.,  0.]),\n array([ 3., -1.,  0.,  6.,  2.,  0., -1.,  0.,  0.,  0.,  0.,  0.,  0.,\n         3.,  0., -3.,  0.,  1.,  0.,  0.,  0.,  0.,  0.,  0.,  0.,  0.,\n         0.,  0.,  0.,  0.,  0.,  0.,  0.,  4.,  0.,  0., -2.,  0., -3.,\n         0.,  4.,  0.,  0.,  0.,  0.,  4.,  0.,  0.,  0.,  2.]),\n array([ 0.,  0.,  0.,  0.,  0.,  2.,  0.,  0.,  7.,  0.,  0.,  0.,  0.,\n         0.,  0.,  0., -1.,  0.,  0.,  0.,  1.,  0.,  0.,  2.,  0.,  0.,\n         0.,  0.,  0.,  0.,  0.,  7.,  0.,  0., -1.,  0.,  0.,  0.,  0.,\n         0.,  0.,  0.,  2.,  0.,  0.,  0.,  0.,  0.,  0.,  0.]),\n array([ 0.,  0.,  0.,  0., 10.,  0.,  3.,  0.,  0.,  0.,  0.,  1.,  1.,\n         0.,  0.,  0.,  0.,  0., -2.,  0.,  0.,  0.,  0.,  0.,  2.,  0.,\n         0.,  0.,  2., -1.,  1.,  0.,  0.,  2.,  0.,  0.,  2.,  0.,  0.,\n         0.,  1.,  0.,  0.,  0.,  0.,  0.,  0.,  0.,  0.,  0.]),\n array([ 0.,  0.,  0.,  0.,  0.,  0.,  0.,  0.,  0.,  0., -8.,  0.,  0.,\n         0.,  0.,  0.,  3.,  0.,  0.,  0.,  0.,  0.,  0.,  0.,  0., 11.,\n         2.,  0.,  0.,  0.,  0.,  0.,  0.,  0.,  0.,  0.,  0.,  0.,  0.,\n         0.,  0.,  0.,  0.,  0.,  0.,  0.,  0.,  3.,  0.,  0.]),\n array([ 0.,  0.,  0.,  2.,  5.,  0.,  5.,  0.,  0.,  0.,  0.,  4., -3.,\n         0.,  0., -1.,  0.,  0.,  0.,  0.,  0.,  0.,  0.,  0.,  0.,  0.,\n         0.,  2.,  0.,  0.,  0.,  0.,  0.,  1.,  0.,  0.,  0.,  0., -1.,\n         0.,  1.,  0.,  0.,  0.,  0.,  0.,  0.,  0.,  0.,  6.]),\n array([ 0., -2.,  0.,  2.,  0.,  0.,  0.,  0.,  0.,  0.,  0., -1.,  1.,\n        -5.,  0.,  0.,  0.,  0.,  0.,  0.,  0.,  0.,  0.,  0.,  0.,  0.,\n         0.,  6.,  0.,  0.,  0.,  0.,  0.,  1.,  0.,  0.,  2.,  0.,  0.,\n         0.,  0.,  0.,  0.,  0.,  2.,  3.,  0.,  0.,  0.,  0.]),\n array([ 0.,  0.,  3.,  0.,  0.,  0.,  0.,  0.,  2., -1.,  0.,  0.,  0.,\n         0.,  0.,  0.,  0.,  0.,  0.,  0., 12.,  0.,  0.,  0.,  0.,  0.,\n         0.,  0.,  0.,  0.,  0.,  2.,  0.,  0.,  0.,  0.,  0.,  0.,  0.,\n         2.,  0.,  0.,  0.,  0.,  0.,  0.,  0.,  0., -9.,  0.])]"
     },
     "execution_count": 296,
     "metadata": {},
     "output_type": "execute_result"
    }
   ],
   "source": [
    "driver_profiles = create_driver_profile(merged_df)\n",
    "driver_profiles"
   ],
   "metadata": {
    "collapsed": false,
    "ExecuteTime": {
     "end_time": "2024-01-01T06:26:49.469276200Z",
     "start_time": "2024-01-01T06:26:49.345117Z"
    }
   },
   "id": "e2bfc2544c2d2e4",
   "execution_count": 296
  },
  {
   "cell_type": "code",
   "outputs": [],
   "source": [
    "from scipy.spatial.distance import cosine"
   ],
   "metadata": {
    "collapsed": false,
    "ExecuteTime": {
     "end_time": "2024-01-01T06:26:50.521538900Z",
     "start_time": "2024-01-01T06:26:50.482980500Z"
    }
   },
   "id": "145fa00cf37d4cff",
   "execution_count": 297
  },
  {
   "cell_type": "code",
   "outputs": [],
   "source": [
    "driver_max_routes = {}\n",
    "for driver_number, driver in enumerate(driver_profiles):\n",
    "    route_similarities = []\n",
    "\n",
    "    for index, One_hot_encoded in enumerate(standard_routes_df['One_hot_encoded']):\n",
    "        cosine_distance = cosine(driver, One_hot_encoded)\n",
    "        cosine_similarity = 1 - cosine_distance\n",
    "        route_similarities.append((index, cosine_similarity))\n",
    "\n",
    "    # Sort based on similarity and pick top 5\n",
    "    max_five_routes = sorted(route_similarities, key=lambda x: x[1], reverse=True)[:5]\n",
    "\n",
    "    driver_max_routes[driver_number] = max_five_routes"
   ],
   "metadata": {
    "collapsed": false,
    "ExecuteTime": {
     "end_time": "2024-01-01T06:26:51.326473800Z",
     "start_time": "2024-01-01T06:26:51.201774400Z"
    }
   },
   "id": "44803f544f0f55e2",
   "execution_count": 298
  },
  {
   "cell_type": "code",
   "outputs": [
    {
     "data": {
      "text/plain": "{0: [(18, 0.34668762264076824),\n  (1, 0.3291402943021917),\n  (42, 0.3004626062886657),\n  (9, 0.075955452531275),\n  (35, 0.0716114874039433)],\n 1: [(17, 0.7019464566889481),\n  (36, 0.672698687660242),\n  (49, 0.6142031496028296),\n  (21, 0.5628201018672558),\n  (25, 0.5471756551645828)],\n 2: [(7, 0.5369202722440214),\n  (8, 0.5114492951128095),\n  (29, 0.46138341907847646),\n  (26, 0.29834542214913884),\n  (31, 0.2870976630345343)],\n 3: [(19, 0.3084763486195622),\n  (8, 0.27399831217559556),\n  (39, 0.27013510133444885),\n  (31, 0.2684624220856098),\n  (20, 0.26101844883193714)],\n 4: [(41, 0.608780777528101),\n  (29, 0.6083303292403595),\n  (10, 0.5619514869490163),\n  (45, 0.5619514869490163),\n  (32, 0.5353033790313109)],\n 5: [(39, 0.50709255283711),\n  (2, 0.4629100498862757),\n  (12, 0.40089186286863654),\n  (23, 0.40089186286863654),\n  (13, 0.3380617018914066)],\n 6: [(45, 0.5084751798731266),\n  (16, 0.4707565417620041),\n  (3, 0.4622501635210243),\n  (10, 0.4622501635210243),\n  (41, 0.4622501635210243)],\n 7: [(3, 0.5417363388859614),\n  (43, 0.44582257006028225),\n  (12, 0.41702882811414954),\n  (34, 0.3649002245998809),\n  (37, 0.3611575592573075)],\n 8: [(16, 0.5669467095138409),\n  (43, 0.5669467095138409),\n  (32, 0.5555555555555556),\n  (34, 0.5303300858899106),\n  (3, 0.47628967220784024)],\n 9: [(18, 0.3607042096811741),\n  (25, 0.25558282541117916),\n  (36, 0.18215302221567486),\n  (46, 0.17960530202677494),\n  (1, 0.10776318121606487)],\n 10: [(48, 0.6),\n  (39, 0.5499999999999999),\n  (8, 0.5477225575051661),\n  (4, 0.474341649025257),\n  (19, 0.43481317827315213)],\n 11: [(28, 0.255550625999976),\n  (18, 0.24152294576982403),\n  (35, 0.08017837257372729),\n  (1, 0.07559289460184548),\n  (46, 0.07559289460184548)],\n 12: [(34, 0.5175491695067657),\n  (20, 0.44854261357253034),\n  (43, 0.44262666813799045),\n  (22, 0.4057411124598246),\n  (5, 0.3795360576382949)],\n 13: [(37, 0.3872983346207417),\n  (45, 0.3872983346207417),\n  (14, 0.358568582800318),\n  (15, 0.358568582800318),\n  (4, 0.3354101966249685)],\n 14: [(41, 0.5647871700573311),\n  (32, 0.46114679330365704),\n  (20, 0.4603482701187488),\n  (47, 0.4340205113446184),\n  (3, 0.43189607122031215)],\n 15: [(3, 0.3851644432598216),\n  (48, 0.3281650616569468),\n  (22, 0.2773500981126146),\n  (23, 0.1853123291652753),\n  (39, 0.1406421692815486)],\n 16: [(8, 0.2547623326825341),\n  (39, 0.24806946917841688),\n  (31, 0.2426813358485378),\n  (26, 0.19814848097530424),\n  (5, 0.19611613513818404)],\n 17: [(1, 0.44382983746376903),\n  (36, 0.321518293292546),\n  (25, 0.3007528242702513),\n  (44, 0.29472510218483383),\n  (21, 0.2690015037973321)],\n 18: [(19, 0.24695729028681557),\n  (21, 0.0401609664451249),\n  (7, 0.02839809171235319),\n  (41, 0.02592379236826059),\n  (16, 0.024000768036866016)],\n 19: [(43, 0.49227388986997744),\n  (34, 0.46048005908698575),\n  (3, 0.4430971434505433),\n  (23, 0.4093156080773207),\n  (24, 0.4093156080773207)],\n 20: [(14, 0.30049929057013924),\n  (26, 0.2840042890767529),\n  (29, 0.28109134757052257),\n  (48, 0.2666666666666666),\n  (3, 0.2637182684284134)],\n 21: [(1, 0.47809144373375734),\n  (44, 0.4040610178208843),\n  (9, 0.29880715233359845),\n  (42, 0.2727723627949905),\n  (33, 0.23904572186687867)],\n 22: [(41, 0.4507489358552088),\n  (5, 0.39036002917941326),\n  (24, 0.39036002917941326),\n  (32, 0.32203059435976533),\n  (47, 0.2990284090483535)],\n 23: [(37, 0.6416236526819377),\n  (45, 0.6416236526819377),\n  (16, 0.628970902033151),\n  (34, 0.588348405414552),\n  (12, 0.5229763603684907)],\n 24: [(4, 0.49029033784546006),\n  (19, 0.3922322702763681),\n  (7, 0.37210420376762543),\n  (6, 0.294174202707276),\n  (48, 0.28941438070815306)],\n 25: [(38, 0.5893689584893059),\n  (21, 0.558156305651438),\n  (9, 0.3069703067574603),\n  (33, 0.3069703067574603),\n  (30, 0.279078152825719)],\n 26: [(20, 0.5426488617097117),\n  (34, 0.5052248022814558),\n  (45, 0.36731544334622646),\n  (2, 0.34570865256115435),\n  (14, 0.3400680204068024)],\n 27: [(1, 0.44721359549995787),\n  (18, 0.20412414523193156),\n  (28, 0.18898223650461365),\n  (21, 0.158113883008419),\n  (7, 0.11180339887498947)],\n 28: [(21, 0.5212466913156831),\n  (36, 0.519174131651165),\n  (33, 0.3071475584169756),\n  (25, 0.2913857587071793),\n  (44, 0.25958706582558255)],\n 29: [(20, 0.4592793267718459),\n  (24, 0.4337638086178546),\n  (32, 0.3849001794597505),\n  (47, 0.3849001794597505),\n  (43, 0.3546040716334875)],\n 30: [(9, 0.4099600308453939),\n  (38, 0.38892223413129856),\n  (21, 0.34786262139146906),\n  (36, 0.34647946433761856),\n  (17, 0.24253562503633297)],\n 31: [(48, 0.4564354645876385),\n  (0, 0.3857583749052298),\n  (24, 0.36084391824351614),\n  (32, 0.3402069087198858),\n  (47, 0.3402069087198858)],\n 32: [(15, 0.4608980128252179),\n  (5, 0.38801755220330414),\n  (6, 0.38801755220330414),\n  (18, 0.34847872611203146),\n  (10, 0.3235873885326006)],\n 33: [(35, 0.23094010767585027),\n  (17, 0.2070196678027063),\n  (28, 0.2070196678027063),\n  (36, 0.2070196678027063),\n  (49, 0.2070196678027063)],\n 34: [(29, 0.5613413993878117),\n  (40, 0.529237746757157),\n  (48, 0.3550234734023465),\n  (41, 0.35355339059327373),\n  (19, 0.3317017360018888)],\n 35: [(21, 0.39557740264262),\n  (38, 0.3402069087198858),\n  (43, 0.32732683535398843),\n  (32, 0.3207501495497921),\n  (24, 0.30618621784789724)],\n 36: [(30, 0.3837612894400988),\n  (28, 0.3822353935782191),\n  (49, 0.3822353935782191),\n  (38, 0.3575484709670971),\n  (35, 0.3411211461689767)],\n 37: [(24, 0.6335525936249404),\n  (32, 0.5973191135873606),\n  (47, 0.5973191135873606),\n  (31, 0.5797509043642028),\n  (43, 0.43825049008927763)],\n 38: [(25, 0.5908789478687515),\n  (36, 0.4562105641233376),\n  (0, 0.38602432348897797),\n  (4, 0.3610926903642371),\n  (19, 0.3610926903642371)],\n 39: [(26, 0.28867513459481287),\n  (6, 0.25),\n  (29, 0.25),\n  (40, 0.2357022603955159),\n  (0, 0.0)],\n 40: [(24, 0.426882789138483),\n  (43, 0.41486990682251124),\n  (23, 0.3880752628531664),\n  (34, 0.3880752628531664),\n  (32, 0.36588086663230124)],\n 41: [(4, 0.342381191631163),\n  (48, 0.30934411244487303),\n  (0, 0.28758784208880117),\n  (33, 0.27840970120038566),\n  (43, 0.1568660956848006)],\n 42: [(28, 0.4934053696844758),\n  (17, 0.3083783560527973),\n  (49, 0.3083783560527973),\n  (30, 0.2752083664615126),\n  (36, 0.2672612419124244)],\n 43: [(7, 0.5773502691896257),\n  (19, 0.4564354645876384),\n  (15, 0.39036002917941326),\n  (4, 0.33471934069760145),\n  (10, 0.24595492912420724)],\n 44: [(36, 0.4622267874476056),\n  (17, 0.4266708807208668),\n  (28, 0.4266708807208668),\n  (21, 0.38672667625067425),\n  (1, 0.2524218971470027)],\n 45: [(22, 0.4897673613362543),\n  (48, 0.4636004455717535),\n  (3, 0.458474650308089),\n  (6, 0.4581354163361445),\n  (34, 0.4581354163361445)],\n 46: [(1, 0.43516891051214657),\n  (9, 0.43516891051214657),\n  (42, 0.3972530476874161),\n  (27, 0.1318760946791574),\n  (11, 0.12038585308576921)],\n 47: [(22, 0.5793584501023474),\n  (4, 0.44630369914433676),\n  (34, 0.44630369914433676),\n  (2, 0.4049155956077708),\n  (37, 0.3681050869161553)],\n 48: [(10, 0.47601655464870696),\n  (18, 0.3894680901671239),\n  (5, 0.3747658444979307),\n  (7, 0.23702273156998865),\n  (35, 0.2011204569461973)],\n 49: [(38, 0.29244882593280086),\n  (16, 0.28859164214632904),\n  (27, 0.26157418189029846),\n  (1, 0.1991886376285652),\n  (21, 0.14084763640246845)]}"
     },
     "execution_count": 299,
     "metadata": {},
     "output_type": "execute_result"
    }
   ],
   "source": [
    "driver_max_routes"
   ],
   "metadata": {
    "collapsed": false,
    "ExecuteTime": {
     "end_time": "2024-01-01T06:26:52.299904200Z",
     "start_time": "2024-01-01T06:26:52.267305Z"
    }
   },
   "id": "10e6b9db4c0c99f0",
   "execution_count": 299
  },
  {
   "cell_type": "code",
   "outputs": [],
   "source": [],
   "metadata": {
    "collapsed": false
   },
   "id": "9b4c5a1b046ddfc4"
  }
 ],
 "metadata": {
  "kernelspec": {
   "display_name": "Python 3",
   "language": "python",
   "name": "python3"
  },
  "language_info": {
   "codemirror_mode": {
    "name": "ipython",
    "version": 2
   },
   "file_extension": ".py",
   "mimetype": "text/x-python",
   "name": "python",
   "nbconvert_exporter": "python",
   "pygments_lexer": "ipython2",
   "version": "2.7.6"
  }
 },
 "nbformat": 4,
 "nbformat_minor": 5
}
