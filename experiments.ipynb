{
 "cells": [
  {
   "cell_type": "code",
   "execution_count": 1,
   "outputs": [],
   "source": [
    "from copy import deepcopy"
   ],
   "metadata": {
    "collapsed": false,
    "ExecuteTime": {
     "end_time": "2023-12-26T11:36:28.563896400Z",
     "start_time": "2023-12-26T11:36:28.543380Z"
    }
   },
   "id": "6cec8061336f4161"
  },
  {
   "cell_type": "code",
   "execution_count": null,
   "outputs": [],
   "source": [
    "def generate_random_route(city_from, city_to):\n",
    "    merchandise_types = ['milk', 'honey', 'butter', 'tomatoes', 'pens', 'bread', 'coca-cola']\n",
    "    merchandise = {item: random.randint(1, 50) for item in random.sample(merchandise_types, random.randint(1, len(merchandise_types)))}\n",
    "    return {'from': city_from, 'to': city_to, 'merchandise': merchandise}"
   ],
   "metadata": {
    "collapsed": false
   },
   "id": "10e5dc6b618d262"
  },
  {
   "cell_type": "code",
   "outputs": [],
   "source": [
    "def generate_random_standard_route(route_id):\n",
    "    cities = ['Rome', 'Milan', 'Verona', 'Venezia', 'Bergamo', 'Bolzano', 'Trento']\n",
    "    num_trips = random.randint(2, 4)\n",
    "    return {'id': f's{route_id}', 'route': [generate_random_route(cities[i], cities[i+1]) for i in range(num_trips)]}"
   ],
   "metadata": {
    "collapsed": false
   },
   "id": "406665e63ae525d4"
  },
  {
   "cell_type": "code",
   "outputs": [],
   "source": [
    "def introduce_variation(route):\n",
    "    # Simulate variations by randomly modifying quantities, adding/removing items, and changing cities\n",
    "    modified_route = deepcopy(route)\n",
    "    for trip in modified_route['route']:\n",
    "        for item, quantity in trip['merchandise'].items():\n",
    "            if random.random() < 0.3:  # 30% chance of modification\n",
    "                trip['merchandise'][item] = max(1, quantity + random.randint(-5, 5))\n",
    "        if random.random() < 0.2:  # 20% chance of adding/removing items\n",
    "            item_to_change = random.choice(['milk', 'honey', 'butter', 'tomatoes', 'pens', 'bread', 'coca-cola'])\n",
    "            trip['merchandise'][item_to_change] = random.randint(1, 50)\n",
    "        if random.random() < 0.1:  # 10% chance of changing cities\n",
    "            trip['from'] = random.choice(['Rome', 'Milan', 'Verona', 'Venezia', 'Bergamo', 'Bolzano', 'Trento'])\n",
    "            trip['to'] = random.choice(['Rome', 'Milan', 'Verona', 'Venezia', 'Bergamo', 'Bolzano', 'Trento'])\n",
    "    return modified_route"
   ],
   "metadata": {
    "collapsed": false
   },
   "id": "405032fbfc6a0132"
  },
  {
   "cell_type": "code",
   "outputs": [],
   "source": [
    "def generate_actual_route(route_id, driver, standard_route):\n",
    "    actual_route = deepcopy(standard_route)\n",
    "    actual_route['id'] = f'a{route_id}'\n",
    "    actual_route['driver'] = driver\n",
    "    actual_route['route'] = [generate_random_route(trip['from'], trip['to']) for trip in standard_route['route']]\n",
    "    actual_route = introduce_variation(actual_route)\n",
    "    return actual_route"
   ],
   "metadata": {
    "collapsed": false
   },
   "id": "82553836cd8dfed3"
  },
  {
   "cell_type": "code",
   "outputs": [],
   "source": [
    "def generate_synthetic_dataset(num_standard_routes, num_actual_routes_per_standard):\n",
    "    standard_routes = [generate_random_standard_route(i) for i in range(1, num_standard_routes + 1)]\n",
    "\n",
    "    actual_routes = []\n",
    "    for route_id in range(1, num_actual_routes_per_standard + 1):\n",
    "        driver = random.choice(['A', 'B', 'C', 'D', 'E'])\n",
    "        standard_route = random.choice(standard_routes)\n",
    "        actual_route = generate_actual_route(route_id, driver, standard_route)\n",
    "        actual_routes.append(actual_route)\n",
    "\n",
    "    with open('standard.json', 'w') as standard_file:\n",
    "        json.dump(standard_routes, standard_file, indent=2)\n",
    "\n",
    "    with open('actual.json', 'w') as actual_file:\n",
    "        json.dump(actual_routes, actual_file, indent=2)"
   ],
   "metadata": {
    "collapsed": false
   },
   "id": "e698e13690886798"
  },
  {
   "cell_type": "code",
   "outputs": [],
   "source": [
    "if __name__ == \"__main__\":\n",
    "    generate_synthetic_dataset(num_standard_routes=100, num_actual_routes_per_standard=200)"
   ],
   "metadata": {
    "collapsed": false
   },
   "id": "37e5cfa6d9a6041f"
  },
  {
   "cell_type": "code",
   "outputs": [],
   "source": [],
   "metadata": {
    "collapsed": false
   },
   "id": "7e08d5e665db7a67"
  },
  {
   "cell_type": "code",
   "outputs": [],
   "source": [],
   "metadata": {
    "collapsed": false,
    "ExecuteTime": {
     "end_time": "2023-12-26T18:36:32.197044500Z",
     "start_time": "2023-12-26T18:36:32.181742200Z"
    }
   },
   "id": "a6138875db04aa6a",
   "execution_count": 21
  },
  {
   "cell_type": "markdown",
   "source": [
    "## Modifying the synthetic dataset"
   ],
   "metadata": {
    "collapsed": false
   },
   "id": "72ccc4b5c582ecaf"
  },
  {
   "cell_type": "markdown",
   "source": [
    "### Generating connected standard routes"
   ],
   "metadata": {
    "collapsed": false
   },
   "id": "5b4fbe7d3530d37c"
  },
  {
   "cell_type": "code",
   "outputs": [],
   "source": [
    "import json\n",
    "\n",
    "# List of top 50 cities in Italy (from Wikipedia)\n",
    "cities = [\n",
    "    \"Rome\", \"Milan\", \"Naples\", \"Turin\", \"Palermo\", \"Genoa\", \"Bologna\", \"Florence\",\n",
    "    \"Bari\", \"Catania\", \"Verona\", \"Venice\", \"Messina\", \"Padua\", \"Prato\", \"Trieste\",\n",
    "    \"Brescia\", \"Parma\", \"Taranto\", \"Modena\", \"Reggio Calabria\", \"Reggio Emilia\",\n",
    "    \"Perugia\", \"Ravenna\", \"Livorno\", \"Rimini\", \"Cagliari\", \"Foggia\", \"Ferrara\",\n",
    "    \"Salerno\", \"Latina\", \"Giugliano in Campania\", \"Monza\", \"Sassari\", \"Bergamo\",\n",
    "    \"Pescara\", \"Trento\", \"Forlì\", \"Syracuse\", \"Vicenza\", \"Terni\", \"Bolzano-Bozen\",\n",
    "    \"Piacenza\", \"Novara\", \"Ancona\", \"Udine\", \"Andria\", \"Arezzo\", \"Cesena\"\n",
    "]\n",
    "\n",
    "# Merchandise types\n",
    "merchandise_types = ['milk', 'honey', 'butter', 'tomatoes', 'pens', 'bread', 'coca-cola']"
   ],
   "metadata": {
    "collapsed": false,
    "ExecuteTime": {
     "end_time": "2023-12-26T14:27:11.490615700Z",
     "start_time": "2023-12-26T14:27:11.474367200Z"
    }
   },
   "id": "f3a534ace473c682",
   "execution_count": 8
  },
  {
   "cell_type": "code",
   "outputs": [],
   "source": [
    "def generate_merchandise():\n",
    "    \"\"\"Generate a random set of merchandise with quantities.\"\"\"\n",
    "    return {\n",
    "        # merchandise_type: random_quantity for _ in range(random_number_of_items)\n",
    "        random.choice(merchandise_types): random.randint(1, 50) for _ in range(random.randint(1, 4))\n",
    "    }\n",
    "\n",
    "def generate_connected_route(min_trips_, max_trips_):\n",
    "    \"\"\"\n",
    "    Generate a connected route with a random number of trips within the specified constraint.\n",
    "    \n",
    "    @param min_trips_: minimum number of trips in the route\n",
    "    @param max_trips_: maximum number of trips in the route\n",
    "    \n",
    "    @return: a connected route with a random number of trips within the specified constraint\n",
    "    \"\"\"\n",
    "    route_length = random.randint(min_trips_, max_trips_)  # Number of trips in the route\n",
    "    \n",
    "    # random.sample() returns a list of unique elements, so the route is guaranteed to be connected\n",
    "    selected_cities = random.sample(cities, route_length + 1)  # One more city for the final destination\n",
    "    \n",
    "    # randomize the order of the cities\n",
    "    random.shuffle(selected_cities)\n",
    "    \n",
    "    route_ = []\n",
    "    for i in range(route_length):  # Generate a trip for each pair of cities\n",
    "        from_city = selected_cities[i]\n",
    "        to_city = selected_cities[i + 1]\n",
    "        route_.append({\"from\": from_city, \"to\": to_city, \"merchandise\": generate_merchandise()})\n",
    "\n",
    "    return route_\n",
    "\n",
    "def generate_standard_routes_connected(num_routes, min_trips_, max_trips_):\n",
    "    \"\"\"\n",
    "    Generate a set of standard routes with connected trips and trip number constraints.\n",
    "    \n",
    "    @param num_routes: number of routes to generate\n",
    "    @param min_trips_: minimum number of trips in the route\n",
    "    @param max_trips_: maximum number of trips in the route\n",
    "    \n",
    "    @return: a set of standard routes with connected trips and trip number constraints\n",
    "    \"\"\"\n",
    "    standard_routes = []\n",
    "    for i in range(num_routes):  # Generate a standard route for each route id\n",
    "        # Generate a connected route with the specified trip constraints\n",
    "        route_ = generate_connected_route(min_trips_, max_trips_)\n",
    "        \n",
    "        # Add the route to the list of standard routes\n",
    "        standard_routes.append({\"id\": f\"s{i+1}\", \"route\": route_})  \n",
    "    \n",
    "    return standard_routes"
   ],
   "metadata": {
    "collapsed": false,
    "ExecuteTime": {
     "end_time": "2023-12-26T14:27:12.026933800Z",
     "start_time": "2023-12-26T14:27:12.017826800Z"
    }
   },
   "id": "218bf0df0ff57bdd",
   "execution_count": 9
  },
  {
   "cell_type": "code",
   "outputs": [
    {
     "name": "stdout",
     "output_type": "stream",
     "text": [
      "{\n",
      "  \"id\": \"s1\",\n",
      "  \"route\": [\n",
      "    {\n",
      "      \"from\": \"Venice\",\n",
      "      \"to\": \"Modena\",\n",
      "      \"merchandise\": {\n",
      "        \"butter\": 2\n",
      "      }\n",
      "    },\n",
      "    {\n",
      "      \"from\": \"Modena\",\n",
      "      \"to\": \"Ravenna\",\n",
      "      \"merchandise\": {\n",
      "        \"butter\": 8,\n",
      "        \"milk\": 8\n",
      "      }\n",
      "    },\n",
      "    {\n",
      "      \"from\": \"Ravenna\",\n",
      "      \"to\": \"Turin\",\n",
      "      \"merchandise\": {\n",
      "        \"coca-cola\": 15,\n",
      "        \"milk\": 2\n",
      "      }\n",
      "    },\n",
      "    {\n",
      "      \"from\": \"Turin\",\n",
      "      \"to\": \"Foggia\",\n",
      "      \"merchandise\": {\n",
      "        \"pens\": 1\n",
      "      }\n",
      "    }\n",
      "  ]\n",
      "}\n",
      "{\n",
      "  \"id\": \"s2\",\n",
      "  \"route\": [\n",
      "    {\n",
      "      \"from\": \"Sassari\",\n",
      "      \"to\": \"Novara\",\n",
      "      \"merchandise\": {\n",
      "        \"bread\": 34,\n",
      "        \"honey\": 50,\n",
      "        \"coca-cola\": 30\n",
      "      }\n",
      "    },\n",
      "    {\n",
      "      \"from\": \"Novara\",\n",
      "      \"to\": \"Milan\",\n",
      "      \"merchandise\": {\n",
      "        \"bread\": 32,\n",
      "        \"butter\": 12,\n",
      "        \"honey\": 5\n",
      "      }\n",
      "    },\n",
      "    {\n",
      "      \"from\": \"Milan\",\n",
      "      \"to\": \"Cagliari\",\n",
      "      \"merchandise\": {\n",
      "        \"honey\": 16\n",
      "      }\n",
      "    },\n",
      "    {\n",
      "      \"from\": \"Cagliari\",\n",
      "      \"to\": \"Latina\",\n",
      "      \"merchandise\": {\n",
      "        \"honey\": 30,\n",
      "        \"butter\": 40\n",
      "      }\n",
      "    }\n",
      "  ]\n",
      "}\n",
      "{\n",
      "  \"id\": \"s3\",\n",
      "  \"route\": [\n",
      "    {\n",
      "      \"from\": \"Parma\",\n",
      "      \"to\": \"Naples\",\n",
      "      \"merchandise\": {\n",
      "        \"honey\": 1,\n",
      "        \"bread\": 3,\n",
      "        \"coca-cola\": 44\n",
      "      }\n",
      "    },\n",
      "    {\n",
      "      \"from\": \"Naples\",\n",
      "      \"to\": \"Novara\",\n",
      "      \"merchandise\": {\n",
      "        \"pens\": 38,\n",
      "        \"milk\": 9,\n",
      "        \"bread\": 7\n",
      "      }\n",
      "    },\n",
      "    {\n",
      "      \"from\": \"Novara\",\n",
      "      \"to\": \"Foggia\",\n",
      "      \"merchandise\": {\n",
      "        \"butter\": 24,\n",
      "        \"tomatoes\": 1,\n",
      "        \"milk\": 28,\n",
      "        \"coca-cola\": 37\n",
      "      }\n",
      "    },\n",
      "    {\n",
      "      \"from\": \"Foggia\",\n",
      "      \"to\": \"Livorno\",\n",
      "      \"merchandise\": {\n",
      "        \"tomatoes\": 40\n",
      "      }\n",
      "    },\n",
      "    {\n",
      "      \"from\": \"Livorno\",\n",
      "      \"to\": \"Milan\",\n",
      "      \"merchandise\": {\n",
      "        \"honey\": 31\n",
      "      }\n",
      "    },\n",
      "    {\n",
      "      \"from\": \"Milan\",\n",
      "      \"to\": \"Reggio Calabria\",\n",
      "      \"merchandise\": {\n",
      "        \"butter\": 30,\n",
      "        \"pens\": 45,\n",
      "        \"milk\": 6\n",
      "      }\n",
      "    },\n",
      "    {\n",
      "      \"from\": \"Reggio Calabria\",\n",
      "      \"to\": \"Turin\",\n",
      "      \"merchandise\": {\n",
      "        \"honey\": 26,\n",
      "        \"coca-cola\": 28,\n",
      "        \"tomatoes\": 29\n",
      "      }\n",
      "    }\n",
      "  ]\n",
      "}\n",
      "{\n",
      "  \"id\": \"s4\",\n",
      "  \"route\": [\n",
      "    {\n",
      "      \"from\": \"Catania\",\n",
      "      \"to\": \"Syracuse\",\n",
      "      \"merchandise\": {\n",
      "        \"butter\": 21,\n",
      "        \"coca-cola\": 19\n",
      "      }\n",
      "    },\n",
      "    {\n",
      "      \"from\": \"Syracuse\",\n",
      "      \"to\": \"Trieste\",\n",
      "      \"merchandise\": {\n",
      "        \"pens\": 19\n",
      "      }\n",
      "    },\n",
      "    {\n",
      "      \"from\": \"Trieste\",\n",
      "      \"to\": \"Ravenna\",\n",
      "      \"merchandise\": {\n",
      "        \"coca-cola\": 25,\n",
      "        \"pens\": 50\n",
      "      }\n",
      "    },\n",
      "    {\n",
      "      \"from\": \"Ravenna\",\n",
      "      \"to\": \"Prato\",\n",
      "      \"merchandise\": {\n",
      "        \"bread\": 39\n",
      "      }\n",
      "    },\n",
      "    {\n",
      "      \"from\": \"Prato\",\n",
      "      \"to\": \"Milan\",\n",
      "      \"merchandise\": {\n",
      "        \"pens\": 38,\n",
      "        \"tomatoes\": 42\n",
      "      }\n",
      "    },\n",
      "    {\n",
      "      \"from\": \"Milan\",\n",
      "      \"to\": \"Pescara\",\n",
      "      \"merchandise\": {\n",
      "        \"tomatoes\": 13,\n",
      "        \"honey\": 33,\n",
      "        \"milk\": 22\n",
      "      }\n",
      "    }\n",
      "  ]\n",
      "}\n",
      "{\n",
      "  \"id\": \"s5\",\n",
      "  \"route\": [\n",
      "    {\n",
      "      \"from\": \"Reggio Calabria\",\n",
      "      \"to\": \"Giugliano in Campania\",\n",
      "      \"merchandise\": {\n",
      "        \"pens\": 7,\n",
      "        \"coca-cola\": 39,\n",
      "        \"butter\": 23\n",
      "      }\n",
      "    },\n",
      "    {\n",
      "      \"from\": \"Giugliano in Campania\",\n",
      "      \"to\": \"Ferrara\",\n",
      "      \"merchandise\": {\n",
      "        \"coca-cola\": 17\n",
      "      }\n",
      "    },\n",
      "    {\n",
      "      \"from\": \"Ferrara\",\n",
      "      \"to\": \"Catania\",\n",
      "      \"merchandise\": {\n",
      "        \"honey\": 17,\n",
      "        \"tomatoes\": 26,\n",
      "        \"butter\": 46,\n",
      "        \"pens\": 46\n",
      "      }\n",
      "    },\n",
      "    {\n",
      "      \"from\": \"Catania\",\n",
      "      \"to\": \"Cesena\",\n",
      "      \"merchandise\": {\n",
      "        \"butter\": 33,\n",
      "        \"milk\": 40\n",
      "      }\n",
      "    },\n",
      "    {\n",
      "      \"from\": \"Cesena\",\n",
      "      \"to\": \"Bologna\",\n",
      "      \"merchandise\": {\n",
      "        \"butter\": 48,\n",
      "        \"coca-cola\": 5,\n",
      "        \"bread\": 30,\n",
      "        \"milk\": 5\n",
      "      }\n",
      "    }\n",
      "  ]\n",
      "}\n",
      "{\n",
      "  \"id\": \"s6\",\n",
      "  \"route\": [\n",
      "    {\n",
      "      \"from\": \"Andria\",\n",
      "      \"to\": \"Forl\\u00ec\",\n",
      "      \"merchandise\": {\n",
      "        \"milk\": 35\n",
      "      }\n",
      "    },\n",
      "    {\n",
      "      \"from\": \"Forl\\u00ec\",\n",
      "      \"to\": \"Reggio Calabria\",\n",
      "      \"merchandise\": {\n",
      "        \"tomatoes\": 41,\n",
      "        \"bread\": 40\n",
      "      }\n",
      "    },\n",
      "    {\n",
      "      \"from\": \"Reggio Calabria\",\n",
      "      \"to\": \"Prato\",\n",
      "      \"merchandise\": {\n",
      "        \"pens\": 30\n",
      "      }\n",
      "    },\n",
      "    {\n",
      "      \"from\": \"Prato\",\n",
      "      \"to\": \"Giugliano in Campania\",\n",
      "      \"merchandise\": {\n",
      "        \"tomatoes\": 14,\n",
      "        \"coca-cola\": 9,\n",
      "        \"butter\": 10\n",
      "      }\n",
      "    }\n",
      "  ]\n",
      "}\n",
      "{\n",
      "  \"id\": \"s7\",\n",
      "  \"route\": [\n",
      "    {\n",
      "      \"from\": \"Perugia\",\n",
      "      \"to\": \"Ferrara\",\n",
      "      \"merchandise\": {\n",
      "        \"honey\": 8,\n",
      "        \"butter\": 24\n",
      "      }\n",
      "    },\n",
      "    {\n",
      "      \"from\": \"Ferrara\",\n",
      "      \"to\": \"Reggio Emilia\",\n",
      "      \"merchandise\": {\n",
      "        \"pens\": 32,\n",
      "        \"milk\": 21\n",
      "      }\n",
      "    },\n",
      "    {\n",
      "      \"from\": \"Reggio Emilia\",\n",
      "      \"to\": \"Arezzo\",\n",
      "      \"merchandise\": {\n",
      "        \"milk\": 24\n",
      "      }\n",
      "    },\n",
      "    {\n",
      "      \"from\": \"Arezzo\",\n",
      "      \"to\": \"Rome\",\n",
      "      \"merchandise\": {\n",
      "        \"bread\": 33\n",
      "      }\n",
      "    },\n",
      "    {\n",
      "      \"from\": \"Rome\",\n",
      "      \"to\": \"Novara\",\n",
      "      \"merchandise\": {\n",
      "        \"pens\": 31\n",
      "      }\n",
      "    },\n",
      "    {\n",
      "      \"from\": \"Novara\",\n",
      "      \"to\": \"Venice\",\n",
      "      \"merchandise\": {\n",
      "        \"milk\": 9,\n",
      "        \"coca-cola\": 32\n",
      "      }\n",
      "    },\n",
      "    {\n",
      "      \"from\": \"Venice\",\n",
      "      \"to\": \"Livorno\",\n",
      "      \"merchandise\": {\n",
      "        \"honey\": 30,\n",
      "        \"butter\": 12\n",
      "      }\n",
      "    }\n",
      "  ]\n",
      "}\n",
      "{\n",
      "  \"id\": \"s8\",\n",
      "  \"route\": [\n",
      "    {\n",
      "      \"from\": \"Messina\",\n",
      "      \"to\": \"Syracuse\",\n",
      "      \"merchandise\": {\n",
      "        \"bread\": 34,\n",
      "        \"butter\": 46\n",
      "      }\n",
      "    },\n",
      "    {\n",
      "      \"from\": \"Syracuse\",\n",
      "      \"to\": \"Foggia\",\n",
      "      \"merchandise\": {\n",
      "        \"tomatoes\": 33\n",
      "      }\n",
      "    },\n",
      "    {\n",
      "      \"from\": \"Foggia\",\n",
      "      \"to\": \"Trento\",\n",
      "      \"merchandise\": {\n",
      "        \"butter\": 19,\n",
      "        \"tomatoes\": 7,\n",
      "        \"milk\": 3,\n",
      "        \"honey\": 44\n",
      "      }\n",
      "    },\n",
      "    {\n",
      "      \"from\": \"Trento\",\n",
      "      \"to\": \"Terni\",\n",
      "      \"merchandise\": {\n",
      "        \"coca-cola\": 41,\n",
      "        \"honey\": 30,\n",
      "        \"butter\": 48\n",
      "      }\n",
      "    },\n",
      "    {\n",
      "      \"from\": \"Terni\",\n",
      "      \"to\": \"Udine\",\n",
      "      \"merchandise\": {\n",
      "        \"tomatoes\": 6,\n",
      "        \"honey\": 43\n",
      "      }\n",
      "    },\n",
      "    {\n",
      "      \"from\": \"Udine\",\n",
      "      \"to\": \"Prato\",\n",
      "      \"merchandise\": {\n",
      "        \"pens\": 25,\n",
      "        \"butter\": 2,\n",
      "        \"honey\": 32\n",
      "      }\n",
      "    }\n",
      "  ]\n",
      "}\n",
      "{\n",
      "  \"id\": \"s9\",\n",
      "  \"route\": [\n",
      "    {\n",
      "      \"from\": \"Reggio Calabria\",\n",
      "      \"to\": \"Messina\",\n",
      "      \"merchandise\": {\n",
      "        \"milk\": 7,\n",
      "        \"tomatoes\": 26\n",
      "      }\n",
      "    },\n",
      "    {\n",
      "      \"from\": \"Messina\",\n",
      "      \"to\": \"Rome\",\n",
      "      \"merchandise\": {\n",
      "        \"honey\": 21,\n",
      "        \"tomatoes\": 2\n",
      "      }\n",
      "    },\n",
      "    {\n",
      "      \"from\": \"Rome\",\n",
      "      \"to\": \"Cesena\",\n",
      "      \"merchandise\": {\n",
      "        \"bread\": 13\n",
      "      }\n",
      "    },\n",
      "    {\n",
      "      \"from\": \"Cesena\",\n",
      "      \"to\": \"Terni\",\n",
      "      \"merchandise\": {\n",
      "        \"milk\": 2\n",
      "      }\n",
      "    },\n",
      "    {\n",
      "      \"from\": \"Terni\",\n",
      "      \"to\": \"Trento\",\n",
      "      \"merchandise\": {\n",
      "        \"tomatoes\": 26,\n",
      "        \"coca-cola\": 50\n",
      "      }\n",
      "    },\n",
      "    {\n",
      "      \"from\": \"Trento\",\n",
      "      \"to\": \"Bolzano-Bozen\",\n",
      "      \"merchandise\": {\n",
      "        \"bread\": 46,\n",
      "        \"coca-cola\": 38,\n",
      "        \"honey\": 30\n",
      "      }\n",
      "    },\n",
      "    {\n",
      "      \"from\": \"Bolzano-Bozen\",\n",
      "      \"to\": \"Milan\",\n",
      "      \"merchandise\": {\n",
      "        \"coca-cola\": 40,\n",
      "        \"milk\": 42\n",
      "      }\n",
      "    }\n",
      "  ]\n",
      "}\n",
      "{\n",
      "  \"id\": \"s10\",\n",
      "  \"route\": [\n",
      "    {\n",
      "      \"from\": \"Bologna\",\n",
      "      \"to\": \"Cagliari\",\n",
      "      \"merchandise\": {\n",
      "        \"butter\": 25\n",
      "      }\n",
      "    },\n",
      "    {\n",
      "      \"from\": \"Cagliari\",\n",
      "      \"to\": \"Latina\",\n",
      "      \"merchandise\": {\n",
      "        \"honey\": 6\n",
      "      }\n",
      "    },\n",
      "    {\n",
      "      \"from\": \"Latina\",\n",
      "      \"to\": \"Palermo\",\n",
      "      \"merchandise\": {\n",
      "        \"coca-cola\": 40\n",
      "      }\n",
      "    }\n",
      "  ]\n",
      "}\n"
     ]
    }
   ],
   "source": [
    "# Define minimum and maximum number of trips in a route\n",
    "min_trips = 3\n",
    "max_trips = 7\n",
    "\n",
    "# Generate 10 standard connected routes with the specified trip constraints\n",
    "standard_connected_routes = generate_standard_routes_connected(10, min_trips, max_trips)\n",
    "\n",
    "# Print the generated connected routes with constraints\n",
    "for route in standard_connected_routes:\n",
    "    print(json.dumps(route, indent=2))"
   ],
   "metadata": {
    "collapsed": false,
    "ExecuteTime": {
     "end_time": "2023-12-26T14:27:12.794012900Z",
     "start_time": "2023-12-26T14:27:12.780214900Z"
    }
   },
   "id": "88b4fd6e76fa11f2",
   "execution_count": 10
  },
  {
   "cell_type": "markdown",
   "source": [
    "### Generating actual routes with variations"
   ],
   "metadata": {
    "collapsed": false
   },
   "id": "c1bd71a88abaa590"
  },
  {
   "cell_type": "code",
   "outputs": [],
   "source": [
    "import json\n",
    "import random\n",
    "\n",
    "# Constants for the number of drivers and their IDs\n",
    "NUM_DRIVERS = 20\n",
    "DRIVERS = [f'D{i}' for i in range(1, NUM_DRIVERS + 1)]\n",
    "\n",
    "# Function to load the standard routes data\n",
    "def load_standard_routes(file_path):\n",
    "    with open(file_path, 'r') as file_:\n",
    "        return json.load(file_)\n",
    "\n",
    "# Function to adjust merchandise quantities\n",
    "def adjust_merchandise(merchandise):\n",
    "    adjusted = {}\n",
    "    for item, quantity in merchandise.items():\n",
    "        decision = random.choice(['increase', 'decrease', 'omit', 'keep'])\n",
    "        if decision == 'increase':\n",
    "            adjusted[item] = min(quantity + random.randint(1, 5), 50)  # Cap at 50 for max quantity\n",
    "        elif decision == 'decrease' and quantity > 1:\n",
    "            adjusted[item] = max(quantity - random.randint(1, quantity - 1), 1)  # Ensure at least 1\n",
    "        elif decision == 'keep':\n",
    "            adjusted[item] = quantity\n",
    "    return adjusted"
   ],
   "metadata": {
    "collapsed": false
   },
   "id": "34dd489f327c9799",
   "execution_count": null
  },
  {
   "cell_type": "code",
   "outputs": [],
   "source": [
    "# Load the standard routes\n",
    "standard_routes = load_standard_routes('standard.json')"
   ],
   "metadata": {
    "collapsed": false
   },
   "id": "1995587c4da45722"
  },
  {
   "cell_type": "code",
   "outputs": [
    {
     "name": "stdout",
     "output_type": "stream",
     "text": [
      "[\n",
      "  {\n",
      "    \"id\": \"a2329\",\n",
      "    \"driver\": \"D1\",\n",
      "    \"sroute\": \"s1\",\n",
      "    \"route\": [\n",
      "      {\n",
      "        \"from\": \"Vicenza\",\n",
      "        \"to\": \"Giugliano in Campania\",\n",
      "        \"merchandise\": {\n",
      "          \"honey\": 48,\n",
      "          \"milk\": 35\n",
      "        }\n",
      "      },\n",
      "      {\n",
      "        \"from\": \"Giugliano in Campania\",\n",
      "        \"to\": \"Genoa\",\n",
      "        \"merchandise\": {\n",
      "          \"pens\": 21,\n",
      "          \"milk\": 2,\n",
      "          \"honey\": 22\n",
      "        }\n",
      "      },\n",
      "      {\n",
      "        \"from\": \"Genoa\",\n",
      "        \"to\": \"Monza\",\n",
      "        \"merchandise\": {\n",
      "          \"tomatoes\": 6\n",
      "        }\n",
      "      },\n",
      "      {\n",
      "        \"from\": \"Monza\",\n",
      "        \"to\": \"Ravenna\",\n",
      "        \"merchandise\": {\n",
      "          \"butter\": 47\n",
      "        }\n",
      "      },\n",
      "      {\n",
      "        \"from\": \"Ravenna\",\n",
      "        \"to\": \"Pescara\",\n",
      "        \"merchandise\": {\n",
      "          \"bread\": 41\n",
      "        }\n",
      "      },\n",
      "      {\n",
      "        \"from\": \"Pescara\",\n",
      "        \"to\": \"Rome\",\n",
      "        \"merchandise\": {\n",
      "          \"bread\": 40\n",
      "        }\n",
      "      },\n",
      "      {\n",
      "        \"from\": \"Rome\",\n",
      "        \"to\": \"Turin\",\n",
      "        \"merchandise\": {\n",
      "          \"milk\": 33,\n",
      "          \"butter\": 6,\n",
      "          \"honey\": 17\n",
      "        }\n",
      "      },\n",
      "      {\n",
      "        \"from\": \"Turin\",\n",
      "        \"to\": \"Modena\",\n",
      "        \"merchandise\": {\n",
      "          \"milk\": 43,\n",
      "          \"bread\": 36\n",
      "        }\n",
      "      },\n",
      "      {\n",
      "        \"from\": \"Modena\",\n",
      "        \"to\": \"Bari\",\n",
      "        \"merchandise\": {\n",
      "          \"tomatoes\": 12,\n",
      "          \"pens\": 42,\n",
      "          \"butter\": 18,\n",
      "          \"bread\": 36\n",
      "        }\n",
      "      }\n",
      "    ]\n",
      "  },\n",
      "  {\n",
      "    \"id\": \"a8543\",\n",
      "    \"driver\": \"D1\",\n",
      "    \"sroute\": \"s2\",\n",
      "    \"route\": [\n",
      "      {\n",
      "        \"from\": \"Verona\",\n",
      "        \"to\": \"Palermo\",\n",
      "        \"merchandise\": {\n",
      "          \"bread\": 6\n",
      "        }\n",
      "      },\n",
      "      {\n",
      "        \"from\": \"Palermo\",\n",
      "        \"to\": \"Rimini\",\n",
      "        \"merchandise\": {\n",
      "          \"pens\": 19\n",
      "        }\n",
      "      },\n",
      "      {\n",
      "        \"from\": \"Rimini\",\n",
      "        \"to\": \"Turin\",\n",
      "        \"merchandise\": {\n",
      "          \"milk\": 7,\n",
      "          \"coca-cola\": 20,\n",
      "          \"honey\": 13\n",
      "        }\n",
      "      },\n",
      "      {\n",
      "        \"from\": \"Turin\",\n",
      "        \"to\": \"Pescara\",\n",
      "        \"merchandise\": {\n",
      "          \"coca-cola\": 2,\n",
      "          \"tomatoes\": 50\n",
      "        }\n",
      "      },\n",
      "      {\n",
      "        \"from\": \"Pescara\",\n",
      "        \"to\": \"Florence\",\n",
      "        \"merchandise\": {}\n",
      "      },\n",
      "      {\n",
      "        \"from\": \"Florence\",\n",
      "        \"to\": \"Venice\",\n",
      "        \"merchandise\": {\n",
      "          \"pens\": 2,\n",
      "          \"milk\": 14,\n",
      "          \"coca-cola\": 7\n",
      "        }\n",
      "      },\n",
      "      {\n",
      "        \"from\": \"Venice\",\n",
      "        \"to\": \"Vicenza\",\n",
      "        \"merchandise\": {\n",
      "          \"butter\": 21\n",
      "        }\n",
      "      }\n",
      "    ]\n",
      "  },\n",
      "  {\n",
      "    \"id\": \"a6351\",\n",
      "    \"driver\": \"D1\",\n",
      "    \"sroute\": \"s2\",\n",
      "    \"route\": [\n",
      "      {\n",
      "        \"from\": \"Verona\",\n",
      "        \"to\": \"Palermo\",\n",
      "        \"merchandise\": {\n",
      "          \"bread\": 6,\n",
      "          \"coca-cola\": 35,\n",
      "          \"tomatoes\": 11\n",
      "        }\n",
      "      },\n",
      "      {\n",
      "        \"from\": \"Palermo\",\n",
      "        \"to\": \"Rimini\",\n",
      "        \"merchandise\": {}\n",
      "      },\n",
      "      {\n",
      "        \"from\": \"Rimini\",\n",
      "        \"to\": \"Turin\",\n",
      "        \"merchandise\": {\n",
      "          \"milk\": 2,\n",
      "          \"coca-cola\": 14,\n",
      "          \"honey\": 22\n",
      "        }\n",
      "      },\n",
      "      {\n",
      "        \"from\": \"Turin\",\n",
      "        \"to\": \"Livorno\",\n",
      "        \"merchandise\": {\n",
      "          \"honey\": 18,\n",
      "          \"tomatoes\": 50\n",
      "        }\n",
      "      },\n",
      "      {\n",
      "        \"from\": \"Livorno\",\n",
      "        \"to\": \"Pescara\",\n",
      "        \"merchandise\": {\n",
      "          \"bread\": 32,\n",
      "          \"coca-cola\": 25,\n",
      "          \"milk\": 21\n",
      "        }\n",
      "      },\n",
      "      {\n",
      "        \"from\": \"Pescara\",\n",
      "        \"to\": \"Venice\",\n",
      "        \"merchandise\": {\n",
      "          \"pens\": 33\n",
      "        }\n",
      "      },\n",
      "      {\n",
      "        \"from\": \"Venice\",\n",
      "        \"to\": \"Vicenza\",\n",
      "        \"merchandise\": {\n",
      "          \"butter\": 21,\n",
      "          \"milk\": 50\n",
      "        }\n",
      "      }\n",
      "    ]\n",
      "  }\n",
      "]\n"
     ]
    }
   ],
   "source": [
    "def create_actual_route_variation(standard_route, driver_id):\n",
    "    \"\"\"\n",
    "    Create a variation of the standard route to form an actual route.\n",
    "    Variations include minor changes in the route and merchandise.\n",
    "\n",
    "    :param standard_route: The original standard route.\n",
    "    :param driver_id: The ID of the driver for the actual route.\n",
    "    :return: A varied actual route.\n",
    "    \"\"\"\n",
    "    actual_route = {\n",
    "        \"id\": f\"a{random.randint(1, 10000)}\",  # Unique ID for the actual route\n",
    "        \"driver\": driver_id,\n",
    "        \"sroute\": standard_route[\"id\"],\n",
    "        \"route\": []\n",
    "    }\n",
    "\n",
    "    # Iterate over the trips in the standard route to create variations\n",
    "    for trip in standard_route[\"route\"]:\n",
    "        # Randomly decide to make a minor detour\n",
    "        if random.choice([True, False]):\n",
    "            # Choose a random nearby city for a detour\n",
    "            detour_city = random.choice(\n",
    "                [city for city in cities if city != trip[\"from\"] and city != trip[\"to\"]]\n",
    "            )\n",
    "            \n",
    "            # add a detour city in from of the original trip or after the original trip\n",
    "            if random.choice([True, False]):\n",
    "                # Add a detour trip (from the detour city to the original city)\n",
    "                actual_route[\"route\"].append({\n",
    "                    \"from\": detour_city, \"to\": trip[\"from\"], \n",
    "                    \"merchandise\": generate_merchandise()\n",
    "                })\n",
    "            else:\n",
    "                # Add a detour trip (from the original city to the detour city)\n",
    "                actual_route[\"route\"].append({\n",
    "                    \"from\": trip[\"from\"], \"to\": detour_city, \n",
    "                    \"merchandise\": adjust_merchandise(trip[\"merchandise\"])\n",
    "                })\n",
    "                \n",
    "                # Add the original trip (from the detour city to the original destination)\n",
    "                actual_route[\"route\"].append({\n",
    "                    \"from\": detour_city, \"to\": trip[\"to\"],\n",
    "                    \"merchandise\": generate_merchandise()\n",
    "                })\n",
    "        else:\n",
    "            # Keep the original trip but adjust the merchandise\n",
    "            actual_route[\"route\"].append({\n",
    "                \"from\": trip[\"from\"], \"to\": trip[\"to\"], \n",
    "                \"merchandise\": adjust_merchandise(trip[\"merchandise\"])\n",
    "            })\n",
    "\n",
    "    return actual_route\n",
    "\n",
    "# Generate actual routes with variations\n",
    "actual_routes_with_variations = []\n",
    "for driver in DRIVERS:\n",
    "    for standard_route in standard_routes:\n",
    "        # Generate multiple variations for each standard route\n",
    "        for _ in range(random.randint(1, 3)):\n",
    "            varied_route = create_actual_route_variation(standard_route, driver)\n",
    "            actual_routes_with_variations.append(varied_route)\n",
    "\n",
    "# Display the first few actual routes for review\n",
    "print(json.dumps(actual_routes_with_variations[:3], indent=2))"
   ],
   "metadata": {
    "collapsed": false,
    "ExecuteTime": {
     "end_time": "2023-12-26T17:26:18.253599600Z",
     "start_time": "2023-12-26T17:26:18.199039200Z"
    }
   },
   "id": "3ad18cc6d92e941a",
   "execution_count": 14
  },
  {
   "cell_type": "code",
   "outputs": [
    {
     "data": {
      "text/plain": "{'id': 's1',\n 'route': [{'from': 'Vicenza',\n   'to': 'Genoa',\n   'merchandise': {'honey': 48, 'milk': 39}},\n  {'from': 'Genoa',\n   'to': 'Monza',\n   'merchandise': {'coca-cola': 42, 'tomatoes': 6}},\n  {'from': 'Monza',\n   'to': 'Pescara',\n   'merchandise': {'pens': 49, 'butter': 44}},\n  {'from': 'Pescara',\n   'to': 'Turin',\n   'merchandise': {'bread': 36, 'pens': 3, 'milk': 49}},\n  {'from': 'Turin',\n   'to': 'Bari',\n   'merchandise': {'milk': 40, 'tomatoes': 20, 'bread': 31}}]}"
     },
     "execution_count": 19,
     "metadata": {},
     "output_type": "execute_result"
    }
   ],
   "source": [
    "standard_routes[0]"
   ],
   "metadata": {
    "collapsed": false,
    "ExecuteTime": {
     "end_time": "2023-12-26T17:30:22.949912400Z",
     "start_time": "2023-12-26T17:30:22.926591600Z"
    }
   },
   "id": "a1f5fbefd7768be",
   "execution_count": 19
  },
  {
   "cell_type": "code",
   "outputs": [
    {
     "data": {
      "text/plain": "{'id': 'a2329',\n 'driver': 'D1',\n 'sroute': 's1',\n 'route': [{'from': 'Vicenza',\n   'to': 'Giugliano in Campania',\n   'merchandise': {'honey': 48, 'milk': 35}},\n  {'from': 'Giugliano in Campania',\n   'to': 'Genoa',\n   'merchandise': {'pens': 21, 'milk': 2, 'honey': 22}},\n  {'from': 'Genoa', 'to': 'Monza', 'merchandise': {'tomatoes': 6}},\n  {'from': 'Monza', 'to': 'Ravenna', 'merchandise': {'butter': 47}},\n  {'from': 'Ravenna', 'to': 'Pescara', 'merchandise': {'bread': 41}},\n  {'from': 'Pescara', 'to': 'Rome', 'merchandise': {'bread': 40}},\n  {'from': 'Rome',\n   'to': 'Turin',\n   'merchandise': {'milk': 33, 'butter': 6, 'honey': 17}},\n  {'from': 'Turin', 'to': 'Modena', 'merchandise': {'milk': 43, 'bread': 36}},\n  {'from': 'Modena',\n   'to': 'Bari',\n   'merchandise': {'tomatoes': 12, 'pens': 42, 'butter': 18, 'bread': 36}}]}"
     },
     "execution_count": 20,
     "metadata": {},
     "output_type": "execute_result"
    }
   ],
   "source": [
    "actual_routes_with_variations[0]"
   ],
   "metadata": {
    "collapsed": false,
    "ExecuteTime": {
     "end_time": "2023-12-26T17:30:31.113453400Z",
     "start_time": "2023-12-26T17:30:31.084790600Z"
    }
   },
   "id": "a59b3a00c7441fa5",
   "execution_count": 20
  },
  {
   "cell_type": "markdown",
   "source": [
    "## Cities and Distances (Once City distance matrix against all other cities)"
   ],
   "metadata": {
    "collapsed": false
   },
   "id": "51c1dc7c201e4a72"
  },
  {
   "cell_type": "markdown",
   "source": [
    "### Loading Italian cities and their coordinates from a CSV file"
   ],
   "metadata": {
    "collapsed": false
   },
   "id": "206afd3e4c1bca84"
  },
  {
   "cell_type": "code",
   "outputs": [],
   "source": [
    "import pandas as pd"
   ],
   "metadata": {
    "collapsed": false,
    "ExecuteTime": {
     "end_time": "2023-12-29T20:08:23.230916500Z",
     "start_time": "2023-12-29T20:08:23.177945500Z"
    }
   },
   "id": "f305c19b82ec31f8",
   "execution_count": 19
  },
  {
   "cell_type": "code",
   "outputs": [
    {
     "data": {
      "text/plain": "     city      lat      lng country iso2 admin_name  capital  population  \\\n0    Rome  41.8931  12.4828   Italy   IT      Lazio  primary     2872800   \n1   Milan  45.4669   9.1900   Italy   IT   Lombardy    admin     1366180   \n2  Naples  40.8333  14.2500   Italy   IT   Campania    admin      966144   \n\n   population_proper  \n0            2872800  \n1            1366180  \n2             966144  ",
      "text/html": "<div>\n<style scoped>\n    .dataframe tbody tr th:only-of-type {\n        vertical-align: middle;\n    }\n\n    .dataframe tbody tr th {\n        vertical-align: top;\n    }\n\n    .dataframe thead th {\n        text-align: right;\n    }\n</style>\n<table border=\"1\" class=\"dataframe\">\n  <thead>\n    <tr style=\"text-align: right;\">\n      <th></th>\n      <th>city</th>\n      <th>lat</th>\n      <th>lng</th>\n      <th>country</th>\n      <th>iso2</th>\n      <th>admin_name</th>\n      <th>capital</th>\n      <th>population</th>\n      <th>population_proper</th>\n    </tr>\n  </thead>\n  <tbody>\n    <tr>\n      <th>0</th>\n      <td>Rome</td>\n      <td>41.8931</td>\n      <td>12.4828</td>\n      <td>Italy</td>\n      <td>IT</td>\n      <td>Lazio</td>\n      <td>primary</td>\n      <td>2872800</td>\n      <td>2872800</td>\n    </tr>\n    <tr>\n      <th>1</th>\n      <td>Milan</td>\n      <td>45.4669</td>\n      <td>9.1900</td>\n      <td>Italy</td>\n      <td>IT</td>\n      <td>Lombardy</td>\n      <td>admin</td>\n      <td>1366180</td>\n      <td>1366180</td>\n    </tr>\n    <tr>\n      <th>2</th>\n      <td>Naples</td>\n      <td>40.8333</td>\n      <td>14.2500</td>\n      <td>Italy</td>\n      <td>IT</td>\n      <td>Campania</td>\n      <td>admin</td>\n      <td>966144</td>\n      <td>966144</td>\n    </tr>\n  </tbody>\n</table>\n</div>"
     },
     "execution_count": 20,
     "metadata": {},
     "output_type": "execute_result"
    }
   ],
   "source": [
    "it_cities_df = pd.read_csv(\"Dataset/it-cities.csv\")\n",
    "\n",
    "# rename so that the column names are shorter and comply with PEP-8\n",
    "it_cities_df.rename(\n",
    "    columns={\"CountryName\": \"Country\", \"CapitalName\": \"capital\", \"CapitalLatitude\": \"lat\", \n",
    "             \"CapitalLongitude\": \"lon\", \"CountryCode\": \"code\", \"ContinentName\": \"continent\"}, inplace=True)\n",
    "it_cities_df.head(3)"
   ],
   "metadata": {
    "collapsed": false,
    "ExecuteTime": {
     "end_time": "2023-12-29T20:08:23.555303200Z",
     "start_time": "2023-12-29T20:08:23.493479200Z"
    }
   },
   "id": "409c241fa26609f2",
   "execution_count": 20
  },
  {
   "cell_type": "code",
   "outputs": [],
   "source": [
    "# List of top 50 cities in Italy (from Wikipedia)\n",
    "cities = [\n",
    "    \"Rome\", \"Milan\", \"Naples\", \"Turin\", \"Palermo\", \"Genoa\", \"Bologna\", \"Florence\",\n",
    "    \"Bari\", \"Catania\", \"Verona\", \"Venice\", \"Messina\", \"Padova\", \"Prato\", \"Trieste\",\n",
    "    \"Brescia\", \"Parma\", \"Taranto\", \"Modena\", \"Reggio di Calabria\", \"Reggio Emilia\",\n",
    "    \"Perugia\", \"Ravenna\", \"Livorno\", \"Rimini\", \"Cagliari\", \"Foggia\", \"Ferrara\",\n",
    "    \"Salerno\", \"Latina\", \"Giugliano in Campania\", \"Monza\", \"Sassari\", \"Bergamo\",\n",
    "    \"Pescara\", \"Trento\", \"Forlì\", \"Siracusa\", \"Vicenza\", \"Terni\", \"Bolzano\",\n",
    "    \"Piacenza\", \"Novara\", \"Ancona\", \"Udine\"\n",
    "]"
   ],
   "metadata": {
    "collapsed": false,
    "ExecuteTime": {
     "end_time": "2023-12-29T20:14:08.893594300Z",
     "start_time": "2023-12-29T20:14:08.852961300Z"
    }
   },
   "id": "7684becfc04e4d6a",
   "execution_count": 21
  },
  {
   "cell_type": "code",
   "outputs": [
    {
     "name": "stdout",
     "output_type": "stream",
     "text": [
      "Collecting geopy\n",
      "  Downloading geopy-2.4.1-py3-none-any.whl.metadata (6.8 kB)\n",
      "Collecting geographiclib<3,>=1.52 (from geopy)\n",
      "  Downloading geographiclib-2.0-py3-none-any.whl (40 kB)\n",
      "     ---------------------------------------- 0.0/40.3 kB ? eta -:--:--\n",
      "     ---------------------------------------- 0.0/40.3 kB ? eta -:--:--\n",
      "     ------------------- ------------------ 20.5/40.3 kB 320.0 kB/s eta 0:00:01\n",
      "     -------------------------------------- 40.3/40.3 kB 385.7 kB/s eta 0:00:00\n",
      "Downloading geopy-2.4.1-py3-none-any.whl (125 kB)\n",
      "   ---------------------------------------- 0.0/125.4 kB ? eta -:--:--\n",
      "   ---------------------- ----------------- 71.7/125.4 kB 1.3 MB/s eta 0:00:01\n",
      "   ---------------------------------------- 125.4/125.4 kB 1.5 MB/s eta 0:00:00\n",
      "Installing collected packages: geographiclib, geopy\n",
      "Successfully installed geographiclib-2.0 geopy-2.4.1\n"
     ]
    }
   ],
   "source": [
    "!pip install geopy"
   ],
   "metadata": {
    "collapsed": false,
    "ExecuteTime": {
     "end_time": "2023-12-27T13:11:16.959683300Z",
     "start_time": "2023-12-27T13:11:12.082577Z"
    }
   },
   "id": "6044a21ef5bc647b",
   "execution_count": 4
  },
  {
   "cell_type": "code",
   "outputs": [],
   "source": [
    "from geopy import distance"
   ],
   "metadata": {
    "collapsed": false,
    "ExecuteTime": {
     "end_time": "2023-12-29T20:14:18.435127400Z",
     "start_time": "2023-12-29T20:14:18.420809400Z"
    }
   },
   "id": "1ea7ccfca4436027",
   "execution_count": 22
  },
  {
   "cell_type": "code",
   "outputs": [],
   "source": [],
   "metadata": {
    "collapsed": false,
    "ExecuteTime": {
     "end_time": "2023-12-29T20:14:19.177909300Z",
     "start_time": "2023-12-29T20:14:19.130095100Z"
    }
   },
   "id": "61ce49014da944",
   "execution_count": 22
  },
  {
   "cell_type": "code",
   "outputs": [
    {
     "data": {
      "text/plain": "   index   city      lat      lng country iso2 admin_name  capital  \\\n0      0   Rome  41.8931  12.4828   Italy   IT      Lazio  primary   \n1      1  Milan  45.4669   9.1900   Italy   IT   Lombardy    admin   \n\n   population  population_proper  \n0     2872800            2872800  \n1     1366180            1366180  ",
      "text/html": "<div>\n<style scoped>\n    .dataframe tbody tr th:only-of-type {\n        vertical-align: middle;\n    }\n\n    .dataframe tbody tr th {\n        vertical-align: top;\n    }\n\n    .dataframe thead th {\n        text-align: right;\n    }\n</style>\n<table border=\"1\" class=\"dataframe\">\n  <thead>\n    <tr style=\"text-align: right;\">\n      <th></th>\n      <th>index</th>\n      <th>city</th>\n      <th>lat</th>\n      <th>lng</th>\n      <th>country</th>\n      <th>iso2</th>\n      <th>admin_name</th>\n      <th>capital</th>\n      <th>population</th>\n      <th>population_proper</th>\n    </tr>\n  </thead>\n  <tbody>\n    <tr>\n      <th>0</th>\n      <td>0</td>\n      <td>Rome</td>\n      <td>41.8931</td>\n      <td>12.4828</td>\n      <td>Italy</td>\n      <td>IT</td>\n      <td>Lazio</td>\n      <td>primary</td>\n      <td>2872800</td>\n      <td>2872800</td>\n    </tr>\n    <tr>\n      <th>1</th>\n      <td>1</td>\n      <td>Milan</td>\n      <td>45.4669</td>\n      <td>9.1900</td>\n      <td>Italy</td>\n      <td>IT</td>\n      <td>Lombardy</td>\n      <td>admin</td>\n      <td>1366180</td>\n      <td>1366180</td>\n    </tr>\n  </tbody>\n</table>\n</div>"
     },
     "execution_count": 23,
     "metadata": {},
     "output_type": "execute_result"
    }
   ],
   "source": [
    "hest = it_cities_df[it_cities_df[\"city\"].isin([\"Rome\", \"Milan\"])].reset_index()\n",
    "hest"
   ],
   "metadata": {
    "collapsed": false,
    "ExecuteTime": {
     "end_time": "2023-12-29T20:14:21.891628100Z",
     "start_time": "2023-12-29T20:14:21.831176400Z"
    }
   },
   "id": "23dc712bb39e8bcf",
   "execution_count": 23
  },
  {
   "cell_type": "code",
   "outputs": [
    {
     "data": {
      "text/plain": "   index   city      lat      lng country iso2 admin_name  capital  \\\n0      0   Rome  41.8931  12.4828   Italy   IT      Lazio  primary   \n1      1  Milan  45.4669   9.1900   Italy   IT   Lombardy    admin   \n\n   population  population_proper  \n0     2872800            2872800  \n1     1366180            1366180  ",
      "text/html": "<div>\n<style scoped>\n    .dataframe tbody tr th:only-of-type {\n        vertical-align: middle;\n    }\n\n    .dataframe tbody tr th {\n        vertical-align: top;\n    }\n\n    .dataframe thead th {\n        text-align: right;\n    }\n</style>\n<table border=\"1\" class=\"dataframe\">\n  <thead>\n    <tr style=\"text-align: right;\">\n      <th></th>\n      <th>index</th>\n      <th>city</th>\n      <th>lat</th>\n      <th>lng</th>\n      <th>country</th>\n      <th>iso2</th>\n      <th>admin_name</th>\n      <th>capital</th>\n      <th>population</th>\n      <th>population_proper</th>\n    </tr>\n  </thead>\n  <tbody>\n    <tr>\n      <th>0</th>\n      <td>0</td>\n      <td>Rome</td>\n      <td>41.8931</td>\n      <td>12.4828</td>\n      <td>Italy</td>\n      <td>IT</td>\n      <td>Lazio</td>\n      <td>primary</td>\n      <td>2872800</td>\n      <td>2872800</td>\n    </tr>\n    <tr>\n      <th>1</th>\n      <td>1</td>\n      <td>Milan</td>\n      <td>45.4669</td>\n      <td>9.1900</td>\n      <td>Italy</td>\n      <td>IT</td>\n      <td>Lombardy</td>\n      <td>admin</td>\n      <td>1366180</td>\n      <td>1366180</td>\n    </tr>\n  </tbody>\n</table>\n</div>"
     },
     "execution_count": 24,
     "metadata": {},
     "output_type": "execute_result"
    }
   ],
   "source": [
    "hest_cities = hest.copy()\n",
    "hest_cities"
   ],
   "metadata": {
    "collapsed": false,
    "ExecuteTime": {
     "end_time": "2023-12-29T20:14:23.260556300Z",
     "start_time": "2023-12-29T20:14:23.209057300Z"
    }
   },
   "id": "33d136481ccff1df",
   "execution_count": 24
  },
  {
   "cell_type": "code",
   "outputs": [],
   "source": [
    "d = distance.distance((hest_cities.loc[0, \"lat\"], hest_cities.loc[0, \"lng\"]), (hest_cities.loc[1, \"lat\"], hest_cities.loc[1, \"lng\"]))"
   ],
   "metadata": {
    "collapsed": false,
    "ExecuteTime": {
     "end_time": "2023-12-29T20:14:24.145348400Z",
     "start_time": "2023-12-29T20:14:24.083846600Z"
    }
   },
   "id": "544f2fcac61a5ce7",
   "execution_count": 25
  },
  {
   "cell_type": "code",
   "outputs": [
    {
     "data": {
      "text/plain": "477.56703300539994"
     },
     "execution_count": 26,
     "metadata": {},
     "output_type": "execute_result"
    }
   ],
   "source": [
    "d.km"
   ],
   "metadata": {
    "collapsed": false,
    "ExecuteTime": {
     "end_time": "2023-12-29T20:14:24.870814900Z",
     "start_time": "2023-12-29T20:14:24.815074500Z"
    }
   },
   "id": "406d675ed4c5d93b",
   "execution_count": 26
  },
  {
   "cell_type": "code",
   "outputs": [],
   "source": [
    "# Function to calculate the distance between two cities\n",
    "def calculate_distance(city1_, city2_):\n",
    "    \"\"\"\n",
    "    Calculate the distance between two cities.\n",
    "    \n",
    "    @param city1_: the first city\n",
    "    @param city2_: the second city\n",
    "    \n",
    "    @return: the distance between the two cities\n",
    "    \"\"\"\n",
    "    # Get the coordinates of the two cities\n",
    "    city1_coords = it_cities_df[it_cities_df[\"city\"] == city1_].reset_index()\n",
    "    city2_coords = it_cities_df[it_cities_df[\"city\"] == city2_].reset_index()\n",
    "    \n",
    "    # Calculate the distance between the two cities\n",
    "    d_ = distance.distance(\n",
    "        (city1_coords.loc[0, \"lat\"], city1_coords.loc[0, \"lng\"]), \n",
    "        (city2_coords.loc[0, \"lat\"], city2_coords.loc[0, \"lng\"])\n",
    "    )\n",
    "    \n",
    "    return d_.km"
   ],
   "metadata": {
    "collapsed": false,
    "ExecuteTime": {
     "end_time": "2023-12-29T20:14:28.230926100Z",
     "start_time": "2023-12-29T20:14:28.180408700Z"
    }
   },
   "id": "86a80f90bd23a02e",
   "execution_count": 27
  },
  {
   "cell_type": "code",
   "outputs": [
    {
     "name": "stdout",
     "output_type": "stream",
     "text": [
      "Calculating distances from Rome...\n",
      "Calculating distances from Milan...\n",
      "Calculating distances from Naples...\n",
      "Calculating distances from Turin...\n",
      "Calculating distances from Palermo...\n",
      "Calculating distances from Genoa...\n",
      "Calculating distances from Bologna...\n",
      "Calculating distances from Florence...\n",
      "Calculating distances from Bari...\n",
      "Calculating distances from Catania...\n",
      "Calculating distances from Verona...\n",
      "Calculating distances from Venice...\n",
      "Calculating distances from Messina...\n",
      "Calculating distances from Padova...\n",
      "Calculating distances from Prato...\n",
      "Calculating distances from Trieste...\n",
      "Calculating distances from Brescia...\n",
      "Calculating distances from Parma...\n",
      "Calculating distances from Taranto...\n",
      "Calculating distances from Modena...\n",
      "Calculating distances from Reggio di Calabria...\n",
      "Calculating distances from Reggio Emilia...\n",
      "Calculating distances from Perugia...\n",
      "Calculating distances from Ravenna...\n",
      "Calculating distances from Livorno...\n",
      "Calculating distances from Rimini...\n",
      "Calculating distances from Cagliari...\n",
      "Calculating distances from Foggia...\n",
      "Calculating distances from Ferrara...\n",
      "Calculating distances from Salerno...\n",
      "Calculating distances from Latina...\n",
      "Calculating distances from Giugliano in Campania...\n",
      "Calculating distances from Monza...\n",
      "Calculating distances from Sassari...\n",
      "Calculating distances from Bergamo...\n",
      "Calculating distances from Pescara...\n",
      "Calculating distances from Trento...\n",
      "Calculating distances from Forlì...\n",
      "Calculating distances from Siracusa...\n",
      "Calculating distances from Vicenza...\n",
      "Calculating distances from Terni...\n",
      "Calculating distances from Bolzano...\n",
      "Calculating distances from Piacenza...\n",
      "Calculating distances from Novara...\n",
      "Calculating distances from Ancona...\n",
      "Calculating distances from Udine...\n"
     ]
    },
    {
     "data": {
      "text/plain": "                             Rome        Milan      Naples        Turin  \\\nRome                          NaN   477.567033  188.983954   525.654881   \nMilan                  477.567033          NaN  658.795099   126.368016   \nNaples                 188.983954   658.795099         NaN   713.872634   \nTurin                  525.654881   126.368016  713.872634          NaN   \nPalermo                426.070596   886.731534  311.254244   906.531599   \nGenoa                  401.960481   119.074773  589.883509   124.164189   \nBologna                303.426129   201.294867  471.266331    297.35052   \nFlorence               231.573282    249.65985  409.244195   319.806402   \nBari                   375.743088    787.25523  222.591127   866.794236   \nCatania                536.516598  1012.102091  377.111118  1045.055611   \nVerona                 411.827441   141.053275  576.060945   263.357432   \nVenice                 394.235339   245.770683  534.970168   367.571438   \nMessina                 487.19464   964.732071  313.790278  1006.815162   \nPadova                 393.382873   210.406332   543.42402   331.847866   \nPrato                  248.147738    232.19542   426.64309   302.925431   \nTrieste                430.114958   358.147179  536.569976   481.529305   \nBrescia                444.166736    80.918196  616.741216   205.947957   \nParma                  367.295624   116.109452  545.013835   211.563582   \nTaranto                429.414636    859.26351  256.306097   934.454932   \nModena                 330.898203   164.369113  503.350001    261.29049   \nReggio di Calabria      499.08567    976.59988  325.000461  1018.913915   \nReggio Emilia          346.053603   142.040451  521.541945   237.369129   \nPerugia                135.641091   365.520524  296.404891   436.002499   \nRavenna                281.225006   264.815549  431.975428   365.836103   \nLivorno                256.258442   230.624861   443.96714   269.975121   \nRimini                 240.760212   309.801057  384.117116   404.724317   \nCagliari               411.196295   693.070515  473.378305   660.652945   \nFoggia                 259.464629   679.555935  129.408218   754.111344   \nFerrara                334.108832   203.403385  493.697828    312.10728   \nSalerno                233.465747   698.565607   46.260705   756.906799   \nLatina                   58.86623   536.304062  133.151384   583.812016   \nGiugliano in Campania  178.609663   647.295212   11.870912   703.024591   \nMonza                   484.63829    14.521817  664.580123   137.200736   \nSassari                353.132777   529.103939  480.446341   488.863097   \nBergamo                479.180758    45.233906  655.493291   170.483886   \nPescara                156.481076   523.151271  181.173968   600.987183   \nTrento                 476.492079   164.026504  634.209108    290.09242   \nForlì                  262.360392   264.379364  418.661581   359.381308   \nSiracusa               587.331036   1062.64513  427.428791  1094.546857   \nVicenza                413.191956   184.649862  568.023935    308.20977   \nTerni                   75.433725   425.098547  234.062925   487.484745   \nBolzano                519.558232   203.152836  671.186074   326.592325   \nPiacenza               416.732462    61.230419  597.568447    159.42756   \nNovara                 503.245517    44.880189  687.456249    84.543828   \nAncona                 209.359851    400.53683  315.062864   493.099051   \nUdine                  467.623013   321.469527  587.219011   447.342585   \n\n                          Palermo       Genoa     Bologna    Florence  \\\nRome                   426.070596  401.960481  303.426129  231.573282   \nMilan                  886.731534  119.074773  201.294867   249.65985   \nNaples                 311.254244  589.883509  471.266331  409.244195   \nTurin                  906.531599  124.164189   297.35052  319.806402   \nPalermo                       NaN  791.237705  728.185082  652.598277   \nGenoa                  791.237705         NaN  192.035334  199.020967   \nBologna                728.185082  192.035334         NaN   80.592957   \nFlorence               652.598277  199.020967   80.592957         NaN   \nBari                    449.63845  744.436321  586.419172  547.149958   \nCatania                166.886925  925.542935  838.013128  768.089051   \nVerona                 836.737023  198.708244  108.555765   186.42429   \nVenice                 817.939233  291.655727  130.904873  204.172005   \nMessina                 192.39251  884.970425  783.200363  717.140387   \nPadova                 819.070252  257.512192  109.843935  188.312963   \nPrato                  667.914297  182.870184   70.911939   17.563219   \nTrieste                837.561941  405.248766  230.327073  288.671406   \nBrescia                864.608927  161.311339  145.995394  212.840944   \nParma                   784.44169  118.949089   87.458165   136.25886   \nTaranto                424.802385  811.188543  659.246978  615.883569   \nModena                 753.214482  160.545546   37.184093  100.644781   \nReggio di Calabria     200.702661  897.035499  794.748213  728.899866   \nReggio Emilia          765.887069  138.870267   60.810059  114.485532   \nPerugia                560.900711  313.463209  175.079792  117.479289   \nRavenna                706.409787  260.341115    68.90462  104.347589   \nLivorno                656.193281  145.916846  133.544059    80.09918   \nRimini                 663.426588  293.027182  109.097726  110.291319   \nCagliari               389.885769  575.898576  613.490493  535.361988   \nFoggia                 416.189162  631.012682  480.324502  435.425145   \nFerrara                760.122739  218.097648   43.523951   121.48992   \nSalerno                309.179944  632.789532  507.926371  448.931861   \nLatina                 374.176913  460.321866  359.517915  289.515835   \nGiugliano in Campania  320.788938  578.989951  459.478485   397.70694   \nMonza                  895.917268  133.043651  203.083273  255.354727   \nSassari                504.869482  410.425862   476.68002   404.72284   \nBergamo                 895.56001  154.046588  187.492809  247.861681   \nPescara                488.277503  479.042293   323.71036  281.254315   \nTrento                 902.364648  251.493907  175.694363  255.307957   \nForlì                  688.230026  249.430089   63.376385   81.900025   \nSiracusa               205.977151  975.413171  888.918379  818.903863   \nVicenza                 839.26032   242.12071  118.497313  199.034206   \nTerni                  497.480598  363.551385  238.938016  175.439348   \nBolzano                945.604773  299.455683  222.751707  303.133429   \nPiacenza               828.231151   93.456605  143.975342  188.436006   \nNovara                 904.659204     118.119  239.848115  280.376288   \nAncona                 611.056371  377.958288  199.591316  183.196257   \nUdine                   883.22246  384.468591  229.236664  299.113631   \n\n                             Bari      Catania  ...       Trento       Forlì  \\\nRome                   375.743088   536.516598  ...   476.492079  262.360392   \nMilan                   787.25523  1012.102091  ...   164.026504  264.379364   \nNaples                 222.591127   377.111118  ...   634.209108  418.661581   \nTurin                  866.794236  1045.055611  ...    290.09242  359.381308   \nPalermo                 449.63845   166.886925  ...   902.364648  688.230026   \nGenoa                  744.436321   925.542935  ...   251.493907  249.430089   \nBologna                586.419172   838.013128  ...   175.694363   63.376385   \nFlorence               547.149958   768.089051  ...   255.307957   81.900025   \nBari                          NaN   430.630052  ...   718.614589  524.296808   \nCatania                430.630052          NaN  ...  1006.853535   790.29282   \nVerona                 675.612941   945.452982  ...    70.473568  157.885085   \nVenice                  604.11917   911.258452  ...   117.455915  135.905618   \nMessina                344.425304    87.142121  ...   947.957681  732.121363   \nPadova                 624.456527   918.005322  ...    94.312459  131.074003   \nPrato                  564.257393   784.626727  ...   242.927006   85.849824   \nTrieste                561.742163   911.847021  ...   211.202048  207.914745   \nBrescia                728.222482   980.532429  ...    91.088629  204.797465   \nParma                  671.492107   903.652569  ...   153.559678  150.762895   \nTaranto                 79.289567   378.893623  ...   795.616317  597.856406   \nModena                 623.007797   867.021976  ...   158.624487  100.560331   \nReggio di Calabria     350.225702    84.140837  ...   959.206678  743.468743   \nReggio Emilia          645.258794   882.564951  ...   156.540289  124.087866   \nPerugia                430.985959   664.046531  ...   343.492861   127.52361   \nRavenna                528.423971   805.487066  ...   202.252121   23.643684   \nLivorno                603.717374   784.403657  ...   286.683911  159.108773   \nRimini                 480.187905   758.786197  ...   250.656642    45.74937   \nCagliari                693.06887   556.507007  ...   777.231262    607.2353   \nFoggia                 116.839176    441.86591  ...   623.235676  419.794154   \nFerrara                593.952917   864.789701  ...   142.550929   75.043146   \nSalerno                184.267875   354.257168  ...   667.082061  453.167378   \nLatina                 334.073213    478.90604  ...   530.867946  315.101825   \nGiugliano in Campania  225.651686   388.757547  ...   622.338272  406.799128   \nMonza                  789.498831  1019.911249  ...   152.951744  265.666067   \nSassari                700.865536   668.581778  ...   628.322233  483.748628   \nBergamo                772.438755  1015.579314  ...   119.662285  248.264303   \nPescara                265.917594   556.254848  ...   470.444338  263.448008   \nTrento                 718.614589  1006.853535  ...          NaN  216.565989   \nForlì                  524.296808    790.29282  ...   216.565989         NaN   \nSiracusa               470.539572    50.909174  ...   1057.72333  841.166339   \nVicenza                 653.55769    941.36868  ...    66.577348  151.560624   \nTerni                  385.437658   599.583757  ...    407.98074  191.773043   \nBolzano                743.255527  1045.942168  ...    51.344031  257.529453   \nPiacenza               727.973011   951.839793  ...   158.120576  207.345729   \nNovara                 823.421235  1034.545741  ...   206.212923  303.223759   \nAncona                 390.751845   692.166436  ...   331.809954  136.247729   \nUdine                  622.317638   963.860536  ...   163.756866  223.991228   \n\n                          Siracusa     Vicenza       Terni      Bolzano  \\\nRome                    587.331036  413.191956   75.433725   519.558232   \nMilan                   1062.64513  184.649862  425.098547   203.152836   \nNaples                  427.428791  568.023935  234.062925   671.186074   \nTurin                  1094.546857   308.20977  487.484745   326.592325   \nPalermo                 205.977151   839.26032  497.480598   945.604773   \nGenoa                   975.413171   242.12071  363.551385   299.455683   \nBologna                 888.918379  118.497313  238.938016   222.751707   \nFlorence                818.903863  199.034206  175.439348   303.133429   \nBari                    470.539572   653.55769  385.437658   743.255527   \nCatania                  50.909174   941.36868  599.583757  1045.942168   \nVerona                  996.361619   45.279573  345.885961   121.060057   \nVenice                  961.866235   62.334407  320.720214   139.907694   \nMessina                 126.997468  881.807933  544.403088   984.846784   \nPadova                  968.784772   30.192994  321.935793     127.9376   \nPrato                   835.417075  188.937899  192.924741   291.581274   \nTrieste                 961.392954  173.579143  354.857698   209.266432   \nBrescia                1031.386208  103.851111  383.442228   138.146096   \nParma                   954.409765  127.065769   310.95904   204.846515   \nTaranto                 414.097556  730.198712  448.760728    821.22973   \nModena                  917.892369  111.857934   269.78929   208.576116   \nReggio di Calabria      120.341782  893.019529  556.001162   995.917618   \nReggio Emilia           933.384386  118.846721  287.544059   207.621203   \nPerugia                 714.951265   279.02158   64.523885   385.049415   \nRavenna                 856.306054  136.090313  209.052795   240.685786   \nLivorno                 834.669407  242.961687  219.582204   337.637191   \nRimini                  809.536741  184.194853  166.476092   287.258973   \nCagliari                 591.86851  730.327219  474.868935   828.112149   \nFoggia                  488.445281  557.053252  269.714847   652.399859   \nFerrara                 915.680497   79.823096  265.535302   186.155704   \nSalerno                 403.518241  600.607084  273.522669   702.227454   \nLatina                  529.778485  466.609344  123.516462   572.604114   \nGiugliano in Campania   439.116106  556.154495  222.449825   659.335652   \nMonza                  1070.522646  177.741771  430.628155   190.476177   \nSassari                  710.67114  588.392045  396.424931   679.662575   \nBergamo                1066.339969  147.497736  421.533488   157.925494   \nPescara                 606.021929  403.927144  129.707609   502.573187   \nTrento                  1057.72333   66.577348   407.98074    51.344031   \nForlì                   841.166339  151.560624  191.773043   257.529453   \nSiracusa                       NaN  992.210788  650.490926   1096.72237   \nVicenza                 992.210788         NaN  343.332805   106.461252   \nTerni                   650.490926  343.332805         NaN   449.179649   \nBolzano                 1096.72237  106.461252  449.179649          NaN   \nPiacenza               1002.446786  155.375144  363.875339   206.074553   \nNovara                 1084.826176  229.517444  455.035507   242.056383   \nAncona                  742.417094  265.572891  137.170239   362.625712   \nUdine                  1013.790331   142.88836   392.29686   152.503235   \n\n                          Piacenza       Novara      Ancona        Udine  \nRome                    416.732462   503.245517  209.359851   467.623013  \nMilan                    61.230419    44.880189   400.53683   321.469527  \nNaples                  597.568447   687.456249  315.062864   587.219011  \nTurin                    159.42756    84.543828  493.099051   447.342585  \nPalermo                 828.231151   904.659204  611.056371    883.22246  \nGenoa                    93.456605      118.119  377.958288   384.468591  \nBologna                 143.975342   239.848115  199.591316   229.236664  \nFlorence                188.436006   280.376288  183.196257   299.113631  \nBari                    727.973011   823.421235  390.751845   622.317638  \nCatania                 951.839793  1034.545741  692.166436   963.860536  \nVerona                  110.303485   185.891951  284.981414   187.778259  \nVenice                  211.110794   290.632576  223.372321    98.869751  \nMessina                 903.817265   990.000815  626.199841   895.205653  \nPadova                  175.550155   255.233509  237.736538   128.511734  \nPrato                   170.966043   262.817386  197.109407   295.642233  \nTrieste                 325.833098   402.983026  226.854657    62.299337  \nBrescia                  67.955791    125.73327  337.827101   241.442538  \nParma                    56.751726   152.706653  286.808488   267.283613  \nTaranto                 799.379682   894.309243  466.026709   701.501493  \nModena                  106.801325   202.664101  236.767088   240.048142  \nReggio di Calabria       915.66759  1001.959831  636.913196   905.525976  \nReggio Emilia            83.375176   179.332919  260.138167   254.018498  \nPerugia                 304.508494   397.606269  107.241339    335.08635  \nRavenna                 210.301905   305.394665  137.850357   200.522746  \nLivorno                 173.397686   250.157491  259.207482    362.77043  \nRimini                  253.072834   348.922969   90.745952   229.140871  \nCagliari                648.531646   692.357574  610.742607   831.217479  \nFoggia                  619.423188   714.121662  291.481566   544.161547  \nFerrara                 153.180015   245.691672  203.253792   186.495933  \nSalerno                 637.355049   728.342155  341.941232   611.015078  \nLatina                  475.408806     562.1111  244.047698   511.727651  \nGiugliano in Campania    586.06603   676.124096  303.455616   575.760453  \nMonza                    68.078649     53.43123  401.468825   312.311388  \nSassari                 489.220228    524.75352  520.274483   703.524993  \nBergamo                    71.7232    86.609248  382.573801   279.660324  \nPescara                 463.228395   558.259958  140.092662   407.870337  \nTrento                  158.120576   206.212923  331.809954   163.756866  \nForlì                   207.345729   303.223759  136.247729   223.991228  \nSiracusa               1002.446786  1084.826176  742.417094  1013.790331  \nVicenza                 155.375144   229.517444  265.572891    142.88836  \nTerni                   363.875339   455.035507  137.170239    392.29686  \nBolzano                 206.074553   242.056383  362.625712   152.503235  \nPiacenza                       NaN    95.959467  343.488985   298.081732  \nNovara                   95.959467          NaN  439.415072   365.596555  \nAncona                  343.488985   439.415072         NaN   273.163019  \nUdine                   298.081732   365.596555  273.163019          NaN  \n\n[46 rows x 46 columns]",
      "text/html": "<div>\n<style scoped>\n    .dataframe tbody tr th:only-of-type {\n        vertical-align: middle;\n    }\n\n    .dataframe tbody tr th {\n        vertical-align: top;\n    }\n\n    .dataframe thead th {\n        text-align: right;\n    }\n</style>\n<table border=\"1\" class=\"dataframe\">\n  <thead>\n    <tr style=\"text-align: right;\">\n      <th></th>\n      <th>Rome</th>\n      <th>Milan</th>\n      <th>Naples</th>\n      <th>Turin</th>\n      <th>Palermo</th>\n      <th>Genoa</th>\n      <th>Bologna</th>\n      <th>Florence</th>\n      <th>Bari</th>\n      <th>Catania</th>\n      <th>...</th>\n      <th>Trento</th>\n      <th>Forlì</th>\n      <th>Siracusa</th>\n      <th>Vicenza</th>\n      <th>Terni</th>\n      <th>Bolzano</th>\n      <th>Piacenza</th>\n      <th>Novara</th>\n      <th>Ancona</th>\n      <th>Udine</th>\n    </tr>\n  </thead>\n  <tbody>\n    <tr>\n      <th>Rome</th>\n      <td>NaN</td>\n      <td>477.567033</td>\n      <td>188.983954</td>\n      <td>525.654881</td>\n      <td>426.070596</td>\n      <td>401.960481</td>\n      <td>303.426129</td>\n      <td>231.573282</td>\n      <td>375.743088</td>\n      <td>536.516598</td>\n      <td>...</td>\n      <td>476.492079</td>\n      <td>262.360392</td>\n      <td>587.331036</td>\n      <td>413.191956</td>\n      <td>75.433725</td>\n      <td>519.558232</td>\n      <td>416.732462</td>\n      <td>503.245517</td>\n      <td>209.359851</td>\n      <td>467.623013</td>\n    </tr>\n    <tr>\n      <th>Milan</th>\n      <td>477.567033</td>\n      <td>NaN</td>\n      <td>658.795099</td>\n      <td>126.368016</td>\n      <td>886.731534</td>\n      <td>119.074773</td>\n      <td>201.294867</td>\n      <td>249.65985</td>\n      <td>787.25523</td>\n      <td>1012.102091</td>\n      <td>...</td>\n      <td>164.026504</td>\n      <td>264.379364</td>\n      <td>1062.64513</td>\n      <td>184.649862</td>\n      <td>425.098547</td>\n      <td>203.152836</td>\n      <td>61.230419</td>\n      <td>44.880189</td>\n      <td>400.53683</td>\n      <td>321.469527</td>\n    </tr>\n    <tr>\n      <th>Naples</th>\n      <td>188.983954</td>\n      <td>658.795099</td>\n      <td>NaN</td>\n      <td>713.872634</td>\n      <td>311.254244</td>\n      <td>589.883509</td>\n      <td>471.266331</td>\n      <td>409.244195</td>\n      <td>222.591127</td>\n      <td>377.111118</td>\n      <td>...</td>\n      <td>634.209108</td>\n      <td>418.661581</td>\n      <td>427.428791</td>\n      <td>568.023935</td>\n      <td>234.062925</td>\n      <td>671.186074</td>\n      <td>597.568447</td>\n      <td>687.456249</td>\n      <td>315.062864</td>\n      <td>587.219011</td>\n    </tr>\n    <tr>\n      <th>Turin</th>\n      <td>525.654881</td>\n      <td>126.368016</td>\n      <td>713.872634</td>\n      <td>NaN</td>\n      <td>906.531599</td>\n      <td>124.164189</td>\n      <td>297.35052</td>\n      <td>319.806402</td>\n      <td>866.794236</td>\n      <td>1045.055611</td>\n      <td>...</td>\n      <td>290.09242</td>\n      <td>359.381308</td>\n      <td>1094.546857</td>\n      <td>308.20977</td>\n      <td>487.484745</td>\n      <td>326.592325</td>\n      <td>159.42756</td>\n      <td>84.543828</td>\n      <td>493.099051</td>\n      <td>447.342585</td>\n    </tr>\n    <tr>\n      <th>Palermo</th>\n      <td>426.070596</td>\n      <td>886.731534</td>\n      <td>311.254244</td>\n      <td>906.531599</td>\n      <td>NaN</td>\n      <td>791.237705</td>\n      <td>728.185082</td>\n      <td>652.598277</td>\n      <td>449.63845</td>\n      <td>166.886925</td>\n      <td>...</td>\n      <td>902.364648</td>\n      <td>688.230026</td>\n      <td>205.977151</td>\n      <td>839.26032</td>\n      <td>497.480598</td>\n      <td>945.604773</td>\n      <td>828.231151</td>\n      <td>904.659204</td>\n      <td>611.056371</td>\n      <td>883.22246</td>\n    </tr>\n    <tr>\n      <th>Genoa</th>\n      <td>401.960481</td>\n      <td>119.074773</td>\n      <td>589.883509</td>\n      <td>124.164189</td>\n      <td>791.237705</td>\n      <td>NaN</td>\n      <td>192.035334</td>\n      <td>199.020967</td>\n      <td>744.436321</td>\n      <td>925.542935</td>\n      <td>...</td>\n      <td>251.493907</td>\n      <td>249.430089</td>\n      <td>975.413171</td>\n      <td>242.12071</td>\n      <td>363.551385</td>\n      <td>299.455683</td>\n      <td>93.456605</td>\n      <td>118.119</td>\n      <td>377.958288</td>\n      <td>384.468591</td>\n    </tr>\n    <tr>\n      <th>Bologna</th>\n      <td>303.426129</td>\n      <td>201.294867</td>\n      <td>471.266331</td>\n      <td>297.35052</td>\n      <td>728.185082</td>\n      <td>192.035334</td>\n      <td>NaN</td>\n      <td>80.592957</td>\n      <td>586.419172</td>\n      <td>838.013128</td>\n      <td>...</td>\n      <td>175.694363</td>\n      <td>63.376385</td>\n      <td>888.918379</td>\n      <td>118.497313</td>\n      <td>238.938016</td>\n      <td>222.751707</td>\n      <td>143.975342</td>\n      <td>239.848115</td>\n      <td>199.591316</td>\n      <td>229.236664</td>\n    </tr>\n    <tr>\n      <th>Florence</th>\n      <td>231.573282</td>\n      <td>249.65985</td>\n      <td>409.244195</td>\n      <td>319.806402</td>\n      <td>652.598277</td>\n      <td>199.020967</td>\n      <td>80.592957</td>\n      <td>NaN</td>\n      <td>547.149958</td>\n      <td>768.089051</td>\n      <td>...</td>\n      <td>255.307957</td>\n      <td>81.900025</td>\n      <td>818.903863</td>\n      <td>199.034206</td>\n      <td>175.439348</td>\n      <td>303.133429</td>\n      <td>188.436006</td>\n      <td>280.376288</td>\n      <td>183.196257</td>\n      <td>299.113631</td>\n    </tr>\n    <tr>\n      <th>Bari</th>\n      <td>375.743088</td>\n      <td>787.25523</td>\n      <td>222.591127</td>\n      <td>866.794236</td>\n      <td>449.63845</td>\n      <td>744.436321</td>\n      <td>586.419172</td>\n      <td>547.149958</td>\n      <td>NaN</td>\n      <td>430.630052</td>\n      <td>...</td>\n      <td>718.614589</td>\n      <td>524.296808</td>\n      <td>470.539572</td>\n      <td>653.55769</td>\n      <td>385.437658</td>\n      <td>743.255527</td>\n      <td>727.973011</td>\n      <td>823.421235</td>\n      <td>390.751845</td>\n      <td>622.317638</td>\n    </tr>\n    <tr>\n      <th>Catania</th>\n      <td>536.516598</td>\n      <td>1012.102091</td>\n      <td>377.111118</td>\n      <td>1045.055611</td>\n      <td>166.886925</td>\n      <td>925.542935</td>\n      <td>838.013128</td>\n      <td>768.089051</td>\n      <td>430.630052</td>\n      <td>NaN</td>\n      <td>...</td>\n      <td>1006.853535</td>\n      <td>790.29282</td>\n      <td>50.909174</td>\n      <td>941.36868</td>\n      <td>599.583757</td>\n      <td>1045.942168</td>\n      <td>951.839793</td>\n      <td>1034.545741</td>\n      <td>692.166436</td>\n      <td>963.860536</td>\n    </tr>\n    <tr>\n      <th>Verona</th>\n      <td>411.827441</td>\n      <td>141.053275</td>\n      <td>576.060945</td>\n      <td>263.357432</td>\n      <td>836.737023</td>\n      <td>198.708244</td>\n      <td>108.555765</td>\n      <td>186.42429</td>\n      <td>675.612941</td>\n      <td>945.452982</td>\n      <td>...</td>\n      <td>70.473568</td>\n      <td>157.885085</td>\n      <td>996.361619</td>\n      <td>45.279573</td>\n      <td>345.885961</td>\n      <td>121.060057</td>\n      <td>110.303485</td>\n      <td>185.891951</td>\n      <td>284.981414</td>\n      <td>187.778259</td>\n    </tr>\n    <tr>\n      <th>Venice</th>\n      <td>394.235339</td>\n      <td>245.770683</td>\n      <td>534.970168</td>\n      <td>367.571438</td>\n      <td>817.939233</td>\n      <td>291.655727</td>\n      <td>130.904873</td>\n      <td>204.172005</td>\n      <td>604.11917</td>\n      <td>911.258452</td>\n      <td>...</td>\n      <td>117.455915</td>\n      <td>135.905618</td>\n      <td>961.866235</td>\n      <td>62.334407</td>\n      <td>320.720214</td>\n      <td>139.907694</td>\n      <td>211.110794</td>\n      <td>290.632576</td>\n      <td>223.372321</td>\n      <td>98.869751</td>\n    </tr>\n    <tr>\n      <th>Messina</th>\n      <td>487.19464</td>\n      <td>964.732071</td>\n      <td>313.790278</td>\n      <td>1006.815162</td>\n      <td>192.39251</td>\n      <td>884.970425</td>\n      <td>783.200363</td>\n      <td>717.140387</td>\n      <td>344.425304</td>\n      <td>87.142121</td>\n      <td>...</td>\n      <td>947.957681</td>\n      <td>732.121363</td>\n      <td>126.997468</td>\n      <td>881.807933</td>\n      <td>544.403088</td>\n      <td>984.846784</td>\n      <td>903.817265</td>\n      <td>990.000815</td>\n      <td>626.199841</td>\n      <td>895.205653</td>\n    </tr>\n    <tr>\n      <th>Padova</th>\n      <td>393.382873</td>\n      <td>210.406332</td>\n      <td>543.42402</td>\n      <td>331.847866</td>\n      <td>819.070252</td>\n      <td>257.512192</td>\n      <td>109.843935</td>\n      <td>188.312963</td>\n      <td>624.456527</td>\n      <td>918.005322</td>\n      <td>...</td>\n      <td>94.312459</td>\n      <td>131.074003</td>\n      <td>968.784772</td>\n      <td>30.192994</td>\n      <td>321.935793</td>\n      <td>127.9376</td>\n      <td>175.550155</td>\n      <td>255.233509</td>\n      <td>237.736538</td>\n      <td>128.511734</td>\n    </tr>\n    <tr>\n      <th>Prato</th>\n      <td>248.147738</td>\n      <td>232.19542</td>\n      <td>426.64309</td>\n      <td>302.925431</td>\n      <td>667.914297</td>\n      <td>182.870184</td>\n      <td>70.911939</td>\n      <td>17.563219</td>\n      <td>564.257393</td>\n      <td>784.626727</td>\n      <td>...</td>\n      <td>242.927006</td>\n      <td>85.849824</td>\n      <td>835.417075</td>\n      <td>188.937899</td>\n      <td>192.924741</td>\n      <td>291.581274</td>\n      <td>170.966043</td>\n      <td>262.817386</td>\n      <td>197.109407</td>\n      <td>295.642233</td>\n    </tr>\n    <tr>\n      <th>Trieste</th>\n      <td>430.114958</td>\n      <td>358.147179</td>\n      <td>536.569976</td>\n      <td>481.529305</td>\n      <td>837.561941</td>\n      <td>405.248766</td>\n      <td>230.327073</td>\n      <td>288.671406</td>\n      <td>561.742163</td>\n      <td>911.847021</td>\n      <td>...</td>\n      <td>211.202048</td>\n      <td>207.914745</td>\n      <td>961.392954</td>\n      <td>173.579143</td>\n      <td>354.857698</td>\n      <td>209.266432</td>\n      <td>325.833098</td>\n      <td>402.983026</td>\n      <td>226.854657</td>\n      <td>62.299337</td>\n    </tr>\n    <tr>\n      <th>Brescia</th>\n      <td>444.166736</td>\n      <td>80.918196</td>\n      <td>616.741216</td>\n      <td>205.947957</td>\n      <td>864.608927</td>\n      <td>161.311339</td>\n      <td>145.995394</td>\n      <td>212.840944</td>\n      <td>728.222482</td>\n      <td>980.532429</td>\n      <td>...</td>\n      <td>91.088629</td>\n      <td>204.797465</td>\n      <td>1031.386208</td>\n      <td>103.851111</td>\n      <td>383.442228</td>\n      <td>138.146096</td>\n      <td>67.955791</td>\n      <td>125.73327</td>\n      <td>337.827101</td>\n      <td>241.442538</td>\n    </tr>\n    <tr>\n      <th>Parma</th>\n      <td>367.295624</td>\n      <td>116.109452</td>\n      <td>545.013835</td>\n      <td>211.563582</td>\n      <td>784.44169</td>\n      <td>118.949089</td>\n      <td>87.458165</td>\n      <td>136.25886</td>\n      <td>671.492107</td>\n      <td>903.652569</td>\n      <td>...</td>\n      <td>153.559678</td>\n      <td>150.762895</td>\n      <td>954.409765</td>\n      <td>127.065769</td>\n      <td>310.95904</td>\n      <td>204.846515</td>\n      <td>56.751726</td>\n      <td>152.706653</td>\n      <td>286.808488</td>\n      <td>267.283613</td>\n    </tr>\n    <tr>\n      <th>Taranto</th>\n      <td>429.414636</td>\n      <td>859.26351</td>\n      <td>256.306097</td>\n      <td>934.454932</td>\n      <td>424.802385</td>\n      <td>811.188543</td>\n      <td>659.246978</td>\n      <td>615.883569</td>\n      <td>79.289567</td>\n      <td>378.893623</td>\n      <td>...</td>\n      <td>795.616317</td>\n      <td>597.856406</td>\n      <td>414.097556</td>\n      <td>730.198712</td>\n      <td>448.760728</td>\n      <td>821.22973</td>\n      <td>799.379682</td>\n      <td>894.309243</td>\n      <td>466.026709</td>\n      <td>701.501493</td>\n    </tr>\n    <tr>\n      <th>Modena</th>\n      <td>330.898203</td>\n      <td>164.369113</td>\n      <td>503.350001</td>\n      <td>261.29049</td>\n      <td>753.214482</td>\n      <td>160.545546</td>\n      <td>37.184093</td>\n      <td>100.644781</td>\n      <td>623.007797</td>\n      <td>867.021976</td>\n      <td>...</td>\n      <td>158.624487</td>\n      <td>100.560331</td>\n      <td>917.892369</td>\n      <td>111.857934</td>\n      <td>269.78929</td>\n      <td>208.576116</td>\n      <td>106.801325</td>\n      <td>202.664101</td>\n      <td>236.767088</td>\n      <td>240.048142</td>\n    </tr>\n    <tr>\n      <th>Reggio di Calabria</th>\n      <td>499.08567</td>\n      <td>976.59988</td>\n      <td>325.000461</td>\n      <td>1018.913915</td>\n      <td>200.702661</td>\n      <td>897.035499</td>\n      <td>794.748213</td>\n      <td>728.899866</td>\n      <td>350.225702</td>\n      <td>84.140837</td>\n      <td>...</td>\n      <td>959.206678</td>\n      <td>743.468743</td>\n      <td>120.341782</td>\n      <td>893.019529</td>\n      <td>556.001162</td>\n      <td>995.917618</td>\n      <td>915.66759</td>\n      <td>1001.959831</td>\n      <td>636.913196</td>\n      <td>905.525976</td>\n    </tr>\n    <tr>\n      <th>Reggio Emilia</th>\n      <td>346.053603</td>\n      <td>142.040451</td>\n      <td>521.541945</td>\n      <td>237.369129</td>\n      <td>765.887069</td>\n      <td>138.870267</td>\n      <td>60.810059</td>\n      <td>114.485532</td>\n      <td>645.258794</td>\n      <td>882.564951</td>\n      <td>...</td>\n      <td>156.540289</td>\n      <td>124.087866</td>\n      <td>933.384386</td>\n      <td>118.846721</td>\n      <td>287.544059</td>\n      <td>207.621203</td>\n      <td>83.375176</td>\n      <td>179.332919</td>\n      <td>260.138167</td>\n      <td>254.018498</td>\n    </tr>\n    <tr>\n      <th>Perugia</th>\n      <td>135.641091</td>\n      <td>365.520524</td>\n      <td>296.404891</td>\n      <td>436.002499</td>\n      <td>560.900711</td>\n      <td>313.463209</td>\n      <td>175.079792</td>\n      <td>117.479289</td>\n      <td>430.985959</td>\n      <td>664.046531</td>\n      <td>...</td>\n      <td>343.492861</td>\n      <td>127.52361</td>\n      <td>714.951265</td>\n      <td>279.02158</td>\n      <td>64.523885</td>\n      <td>385.049415</td>\n      <td>304.508494</td>\n      <td>397.606269</td>\n      <td>107.241339</td>\n      <td>335.08635</td>\n    </tr>\n    <tr>\n      <th>Ravenna</th>\n      <td>281.225006</td>\n      <td>264.815549</td>\n      <td>431.975428</td>\n      <td>365.836103</td>\n      <td>706.409787</td>\n      <td>260.341115</td>\n      <td>68.90462</td>\n      <td>104.347589</td>\n      <td>528.423971</td>\n      <td>805.487066</td>\n      <td>...</td>\n      <td>202.252121</td>\n      <td>23.643684</td>\n      <td>856.306054</td>\n      <td>136.090313</td>\n      <td>209.052795</td>\n      <td>240.685786</td>\n      <td>210.301905</td>\n      <td>305.394665</td>\n      <td>137.850357</td>\n      <td>200.522746</td>\n    </tr>\n    <tr>\n      <th>Livorno</th>\n      <td>256.258442</td>\n      <td>230.624861</td>\n      <td>443.96714</td>\n      <td>269.975121</td>\n      <td>656.193281</td>\n      <td>145.916846</td>\n      <td>133.544059</td>\n      <td>80.09918</td>\n      <td>603.717374</td>\n      <td>784.403657</td>\n      <td>...</td>\n      <td>286.683911</td>\n      <td>159.108773</td>\n      <td>834.669407</td>\n      <td>242.961687</td>\n      <td>219.582204</td>\n      <td>337.637191</td>\n      <td>173.397686</td>\n      <td>250.157491</td>\n      <td>259.207482</td>\n      <td>362.77043</td>\n    </tr>\n    <tr>\n      <th>Rimini</th>\n      <td>240.760212</td>\n      <td>309.801057</td>\n      <td>384.117116</td>\n      <td>404.724317</td>\n      <td>663.426588</td>\n      <td>293.027182</td>\n      <td>109.097726</td>\n      <td>110.291319</td>\n      <td>480.187905</td>\n      <td>758.786197</td>\n      <td>...</td>\n      <td>250.656642</td>\n      <td>45.74937</td>\n      <td>809.536741</td>\n      <td>184.194853</td>\n      <td>166.476092</td>\n      <td>287.258973</td>\n      <td>253.072834</td>\n      <td>348.922969</td>\n      <td>90.745952</td>\n      <td>229.140871</td>\n    </tr>\n    <tr>\n      <th>Cagliari</th>\n      <td>411.196295</td>\n      <td>693.070515</td>\n      <td>473.378305</td>\n      <td>660.652945</td>\n      <td>389.885769</td>\n      <td>575.898576</td>\n      <td>613.490493</td>\n      <td>535.361988</td>\n      <td>693.06887</td>\n      <td>556.507007</td>\n      <td>...</td>\n      <td>777.231262</td>\n      <td>607.2353</td>\n      <td>591.86851</td>\n      <td>730.327219</td>\n      <td>474.868935</td>\n      <td>828.112149</td>\n      <td>648.531646</td>\n      <td>692.357574</td>\n      <td>610.742607</td>\n      <td>831.217479</td>\n    </tr>\n    <tr>\n      <th>Foggia</th>\n      <td>259.464629</td>\n      <td>679.555935</td>\n      <td>129.408218</td>\n      <td>754.111344</td>\n      <td>416.189162</td>\n      <td>631.012682</td>\n      <td>480.324502</td>\n      <td>435.425145</td>\n      <td>116.839176</td>\n      <td>441.86591</td>\n      <td>...</td>\n      <td>623.235676</td>\n      <td>419.794154</td>\n      <td>488.445281</td>\n      <td>557.053252</td>\n      <td>269.714847</td>\n      <td>652.399859</td>\n      <td>619.423188</td>\n      <td>714.121662</td>\n      <td>291.481566</td>\n      <td>544.161547</td>\n    </tr>\n    <tr>\n      <th>Ferrara</th>\n      <td>334.108832</td>\n      <td>203.403385</td>\n      <td>493.697828</td>\n      <td>312.10728</td>\n      <td>760.122739</td>\n      <td>218.097648</td>\n      <td>43.523951</td>\n      <td>121.48992</td>\n      <td>593.952917</td>\n      <td>864.789701</td>\n      <td>...</td>\n      <td>142.550929</td>\n      <td>75.043146</td>\n      <td>915.680497</td>\n      <td>79.823096</td>\n      <td>265.535302</td>\n      <td>186.155704</td>\n      <td>153.180015</td>\n      <td>245.691672</td>\n      <td>203.253792</td>\n      <td>186.495933</td>\n    </tr>\n    <tr>\n      <th>Salerno</th>\n      <td>233.465747</td>\n      <td>698.565607</td>\n      <td>46.260705</td>\n      <td>756.906799</td>\n      <td>309.179944</td>\n      <td>632.789532</td>\n      <td>507.926371</td>\n      <td>448.931861</td>\n      <td>184.267875</td>\n      <td>354.257168</td>\n      <td>...</td>\n      <td>667.082061</td>\n      <td>453.167378</td>\n      <td>403.518241</td>\n      <td>600.607084</td>\n      <td>273.522669</td>\n      <td>702.227454</td>\n      <td>637.355049</td>\n      <td>728.342155</td>\n      <td>341.941232</td>\n      <td>611.015078</td>\n    </tr>\n    <tr>\n      <th>Latina</th>\n      <td>58.86623</td>\n      <td>536.304062</td>\n      <td>133.151384</td>\n      <td>583.812016</td>\n      <td>374.176913</td>\n      <td>460.321866</td>\n      <td>359.517915</td>\n      <td>289.515835</td>\n      <td>334.073213</td>\n      <td>478.90604</td>\n      <td>...</td>\n      <td>530.867946</td>\n      <td>315.101825</td>\n      <td>529.778485</td>\n      <td>466.609344</td>\n      <td>123.516462</td>\n      <td>572.604114</td>\n      <td>475.408806</td>\n      <td>562.1111</td>\n      <td>244.047698</td>\n      <td>511.727651</td>\n    </tr>\n    <tr>\n      <th>Giugliano in Campania</th>\n      <td>178.609663</td>\n      <td>647.295212</td>\n      <td>11.870912</td>\n      <td>703.024591</td>\n      <td>320.788938</td>\n      <td>578.989951</td>\n      <td>459.478485</td>\n      <td>397.70694</td>\n      <td>225.651686</td>\n      <td>388.757547</td>\n      <td>...</td>\n      <td>622.338272</td>\n      <td>406.799128</td>\n      <td>439.116106</td>\n      <td>556.154495</td>\n      <td>222.449825</td>\n      <td>659.335652</td>\n      <td>586.06603</td>\n      <td>676.124096</td>\n      <td>303.455616</td>\n      <td>575.760453</td>\n    </tr>\n    <tr>\n      <th>Monza</th>\n      <td>484.63829</td>\n      <td>14.521817</td>\n      <td>664.580123</td>\n      <td>137.200736</td>\n      <td>895.917268</td>\n      <td>133.043651</td>\n      <td>203.083273</td>\n      <td>255.354727</td>\n      <td>789.498831</td>\n      <td>1019.911249</td>\n      <td>...</td>\n      <td>152.951744</td>\n      <td>265.666067</td>\n      <td>1070.522646</td>\n      <td>177.741771</td>\n      <td>430.628155</td>\n      <td>190.476177</td>\n      <td>68.078649</td>\n      <td>53.43123</td>\n      <td>401.468825</td>\n      <td>312.311388</td>\n    </tr>\n    <tr>\n      <th>Sassari</th>\n      <td>353.132777</td>\n      <td>529.103939</td>\n      <td>480.446341</td>\n      <td>488.863097</td>\n      <td>504.869482</td>\n      <td>410.425862</td>\n      <td>476.68002</td>\n      <td>404.72284</td>\n      <td>700.865536</td>\n      <td>668.581778</td>\n      <td>...</td>\n      <td>628.322233</td>\n      <td>483.748628</td>\n      <td>710.67114</td>\n      <td>588.392045</td>\n      <td>396.424931</td>\n      <td>679.662575</td>\n      <td>489.220228</td>\n      <td>524.75352</td>\n      <td>520.274483</td>\n      <td>703.524993</td>\n    </tr>\n    <tr>\n      <th>Bergamo</th>\n      <td>479.180758</td>\n      <td>45.233906</td>\n      <td>655.493291</td>\n      <td>170.483886</td>\n      <td>895.56001</td>\n      <td>154.046588</td>\n      <td>187.492809</td>\n      <td>247.861681</td>\n      <td>772.438755</td>\n      <td>1015.579314</td>\n      <td>...</td>\n      <td>119.662285</td>\n      <td>248.264303</td>\n      <td>1066.339969</td>\n      <td>147.497736</td>\n      <td>421.533488</td>\n      <td>157.925494</td>\n      <td>71.7232</td>\n      <td>86.609248</td>\n      <td>382.573801</td>\n      <td>279.660324</td>\n    </tr>\n    <tr>\n      <th>Pescara</th>\n      <td>156.481076</td>\n      <td>523.151271</td>\n      <td>181.173968</td>\n      <td>600.987183</td>\n      <td>488.277503</td>\n      <td>479.042293</td>\n      <td>323.71036</td>\n      <td>281.254315</td>\n      <td>265.917594</td>\n      <td>556.254848</td>\n      <td>...</td>\n      <td>470.444338</td>\n      <td>263.448008</td>\n      <td>606.021929</td>\n      <td>403.927144</td>\n      <td>129.707609</td>\n      <td>502.573187</td>\n      <td>463.228395</td>\n      <td>558.259958</td>\n      <td>140.092662</td>\n      <td>407.870337</td>\n    </tr>\n    <tr>\n      <th>Trento</th>\n      <td>476.492079</td>\n      <td>164.026504</td>\n      <td>634.209108</td>\n      <td>290.09242</td>\n      <td>902.364648</td>\n      <td>251.493907</td>\n      <td>175.694363</td>\n      <td>255.307957</td>\n      <td>718.614589</td>\n      <td>1006.853535</td>\n      <td>...</td>\n      <td>NaN</td>\n      <td>216.565989</td>\n      <td>1057.72333</td>\n      <td>66.577348</td>\n      <td>407.98074</td>\n      <td>51.344031</td>\n      <td>158.120576</td>\n      <td>206.212923</td>\n      <td>331.809954</td>\n      <td>163.756866</td>\n    </tr>\n    <tr>\n      <th>Forlì</th>\n      <td>262.360392</td>\n      <td>264.379364</td>\n      <td>418.661581</td>\n      <td>359.381308</td>\n      <td>688.230026</td>\n      <td>249.430089</td>\n      <td>63.376385</td>\n      <td>81.900025</td>\n      <td>524.296808</td>\n      <td>790.29282</td>\n      <td>...</td>\n      <td>216.565989</td>\n      <td>NaN</td>\n      <td>841.166339</td>\n      <td>151.560624</td>\n      <td>191.773043</td>\n      <td>257.529453</td>\n      <td>207.345729</td>\n      <td>303.223759</td>\n      <td>136.247729</td>\n      <td>223.991228</td>\n    </tr>\n    <tr>\n      <th>Siracusa</th>\n      <td>587.331036</td>\n      <td>1062.64513</td>\n      <td>427.428791</td>\n      <td>1094.546857</td>\n      <td>205.977151</td>\n      <td>975.413171</td>\n      <td>888.918379</td>\n      <td>818.903863</td>\n      <td>470.539572</td>\n      <td>50.909174</td>\n      <td>...</td>\n      <td>1057.72333</td>\n      <td>841.166339</td>\n      <td>NaN</td>\n      <td>992.210788</td>\n      <td>650.490926</td>\n      <td>1096.72237</td>\n      <td>1002.446786</td>\n      <td>1084.826176</td>\n      <td>742.417094</td>\n      <td>1013.790331</td>\n    </tr>\n    <tr>\n      <th>Vicenza</th>\n      <td>413.191956</td>\n      <td>184.649862</td>\n      <td>568.023935</td>\n      <td>308.20977</td>\n      <td>839.26032</td>\n      <td>242.12071</td>\n      <td>118.497313</td>\n      <td>199.034206</td>\n      <td>653.55769</td>\n      <td>941.36868</td>\n      <td>...</td>\n      <td>66.577348</td>\n      <td>151.560624</td>\n      <td>992.210788</td>\n      <td>NaN</td>\n      <td>343.332805</td>\n      <td>106.461252</td>\n      <td>155.375144</td>\n      <td>229.517444</td>\n      <td>265.572891</td>\n      <td>142.88836</td>\n    </tr>\n    <tr>\n      <th>Terni</th>\n      <td>75.433725</td>\n      <td>425.098547</td>\n      <td>234.062925</td>\n      <td>487.484745</td>\n      <td>497.480598</td>\n      <td>363.551385</td>\n      <td>238.938016</td>\n      <td>175.439348</td>\n      <td>385.437658</td>\n      <td>599.583757</td>\n      <td>...</td>\n      <td>407.98074</td>\n      <td>191.773043</td>\n      <td>650.490926</td>\n      <td>343.332805</td>\n      <td>NaN</td>\n      <td>449.179649</td>\n      <td>363.875339</td>\n      <td>455.035507</td>\n      <td>137.170239</td>\n      <td>392.29686</td>\n    </tr>\n    <tr>\n      <th>Bolzano</th>\n      <td>519.558232</td>\n      <td>203.152836</td>\n      <td>671.186074</td>\n      <td>326.592325</td>\n      <td>945.604773</td>\n      <td>299.455683</td>\n      <td>222.751707</td>\n      <td>303.133429</td>\n      <td>743.255527</td>\n      <td>1045.942168</td>\n      <td>...</td>\n      <td>51.344031</td>\n      <td>257.529453</td>\n      <td>1096.72237</td>\n      <td>106.461252</td>\n      <td>449.179649</td>\n      <td>NaN</td>\n      <td>206.074553</td>\n      <td>242.056383</td>\n      <td>362.625712</td>\n      <td>152.503235</td>\n    </tr>\n    <tr>\n      <th>Piacenza</th>\n      <td>416.732462</td>\n      <td>61.230419</td>\n      <td>597.568447</td>\n      <td>159.42756</td>\n      <td>828.231151</td>\n      <td>93.456605</td>\n      <td>143.975342</td>\n      <td>188.436006</td>\n      <td>727.973011</td>\n      <td>951.839793</td>\n      <td>...</td>\n      <td>158.120576</td>\n      <td>207.345729</td>\n      <td>1002.446786</td>\n      <td>155.375144</td>\n      <td>363.875339</td>\n      <td>206.074553</td>\n      <td>NaN</td>\n      <td>95.959467</td>\n      <td>343.488985</td>\n      <td>298.081732</td>\n    </tr>\n    <tr>\n      <th>Novara</th>\n      <td>503.245517</td>\n      <td>44.880189</td>\n      <td>687.456249</td>\n      <td>84.543828</td>\n      <td>904.659204</td>\n      <td>118.119</td>\n      <td>239.848115</td>\n      <td>280.376288</td>\n      <td>823.421235</td>\n      <td>1034.545741</td>\n      <td>...</td>\n      <td>206.212923</td>\n      <td>303.223759</td>\n      <td>1084.826176</td>\n      <td>229.517444</td>\n      <td>455.035507</td>\n      <td>242.056383</td>\n      <td>95.959467</td>\n      <td>NaN</td>\n      <td>439.415072</td>\n      <td>365.596555</td>\n    </tr>\n    <tr>\n      <th>Ancona</th>\n      <td>209.359851</td>\n      <td>400.53683</td>\n      <td>315.062864</td>\n      <td>493.099051</td>\n      <td>611.056371</td>\n      <td>377.958288</td>\n      <td>199.591316</td>\n      <td>183.196257</td>\n      <td>390.751845</td>\n      <td>692.166436</td>\n      <td>...</td>\n      <td>331.809954</td>\n      <td>136.247729</td>\n      <td>742.417094</td>\n      <td>265.572891</td>\n      <td>137.170239</td>\n      <td>362.625712</td>\n      <td>343.488985</td>\n      <td>439.415072</td>\n      <td>NaN</td>\n      <td>273.163019</td>\n    </tr>\n    <tr>\n      <th>Udine</th>\n      <td>467.623013</td>\n      <td>321.469527</td>\n      <td>587.219011</td>\n      <td>447.342585</td>\n      <td>883.22246</td>\n      <td>384.468591</td>\n      <td>229.236664</td>\n      <td>299.113631</td>\n      <td>622.317638</td>\n      <td>963.860536</td>\n      <td>...</td>\n      <td>163.756866</td>\n      <td>223.991228</td>\n      <td>1013.790331</td>\n      <td>142.88836</td>\n      <td>392.29686</td>\n      <td>152.503235</td>\n      <td>298.081732</td>\n      <td>365.596555</td>\n      <td>273.163019</td>\n      <td>NaN</td>\n    </tr>\n  </tbody>\n</table>\n<p>46 rows × 46 columns</p>\n</div>"
     },
     "execution_count": 28,
     "metadata": {},
     "output_type": "execute_result"
    }
   ],
   "source": [
    "# Create a distance matrix for the cities\n",
    "distance_matrix = pd.DataFrame(index=cities, columns=cities)\n",
    "for city1 in cities:\n",
    "    print(f\"Calculating distances from {city1}...\")\n",
    "    for city2 in cities:\n",
    "        if city1 == city2:\n",
    "            continue\n",
    "        distance_matrix.loc[city1, city2] = calculate_distance(city1, city2)\n",
    "        \n",
    "# Display the distance matrix\n",
    "distance_matrix"
   ],
   "metadata": {
    "collapsed": false,
    "ExecuteTime": {
     "end_time": "2023-12-29T20:14:40.464340600Z",
     "start_time": "2023-12-29T20:14:37.210163700Z"
    }
   },
   "id": "5ffdafc8ba253211",
   "execution_count": 28
  },
  {
   "cell_type": "code",
   "outputs": [],
   "source": [
    "# Save the distance matrix to a CSV file\n",
    "distance_matrix.to_csv(\"Dataset/distance-matrix.csv\")"
   ],
   "metadata": {
    "collapsed": false,
    "ExecuteTime": {
     "end_time": "2023-12-27T13:36:24.941908700Z",
     "start_time": "2023-12-27T13:36:24.890368600Z"
    }
   },
   "id": "3a98c9dba492e29a",
   "execution_count": 18
  },
  {
   "cell_type": "code",
   "outputs": [],
   "source": [
    "# Load the distance matrix from a CSV file\n",
    "distance_matrix = pd.read_csv(\"Dataset/distance-matrix.csv\", index_col=0)"
   ],
   "metadata": {
    "collapsed": false,
    "ExecuteTime": {
     "end_time": "2023-12-27T13:36:30.530335400Z",
     "start_time": "2023-12-27T13:36:30.495982800Z"
    }
   },
   "id": "b5e6ec0c458328c7",
   "execution_count": 19
  },
  {
   "cell_type": "code",
   "outputs": [
    {
     "data": {
      "text/plain": "                             Rome        Milan      Naples        Turin  \\\nRome                          NaN   477.567033  188.983954   525.654881   \nMilan                  477.567033          NaN  658.795099   126.368016   \nNaples                 188.983954   658.795099         NaN   713.872634   \nTurin                  525.654881   126.368016  713.872634          NaN   \nPalermo                426.070596   886.731534  311.254244   906.531599   \nGenoa                  401.960481   119.074773  589.883509   124.164189   \nBologna                303.426129   201.294867  471.266331   297.350520   \nFlorence               231.573282   249.659850  409.244195   319.806402   \nBari                   375.743088   787.255230  222.591127   866.794236   \nCatania                536.516598  1012.102091  377.111118  1045.055611   \nVerona                 411.827441   141.053275  576.060945   263.357432   \nVenice                 394.235339   245.770683  534.970168   367.571438   \nMessina                487.194640   964.732071  313.790278  1006.815162   \nPadova                 393.382873   210.406332  543.424020   331.847866   \nPrato                  248.147738   232.195420  426.643090   302.925431   \nTrieste                430.114958   358.147179  536.569976   481.529305   \nBrescia                444.166736    80.918196  616.741216   205.947957   \nParma                  367.295624   116.109452  545.013835   211.563582   \nTaranto                429.414636   859.263510  256.306097   934.454932   \nModena                 330.898203   164.369113  503.350001   261.290490   \nReggio di Calabria     499.085670   976.599880  325.000461  1018.913915   \nReggio Emilia          346.053603   142.040451  521.541945   237.369129   \nPerugia                135.641091   365.520524  296.404891   436.002499   \nRavenna                281.225006   264.815549  431.975428   365.836103   \nLivorno                256.258442   230.624861  443.967140   269.975121   \nRimini                 240.760212   309.801057  384.117116   404.724317   \nCagliari               411.196295   693.070515  473.378305   660.652945   \nFoggia                 259.464629   679.555935  129.408218   754.111344   \nFerrara                334.108832   203.403385  493.697828   312.107280   \nSalerno                233.465747   698.565607   46.260705   756.906799   \nLatina                  58.866230   536.304062  133.151384   583.812016   \nGiugliano in Campania  178.609663   647.295212   11.870912   703.024591   \nMonza                  484.638290    14.521817  664.580123   137.200736   \nSassari                353.132777   529.103939  480.446341   488.863097   \nBergamo                479.180758    45.233906  655.493291   170.483886   \nPescara                156.481076   523.151271  181.173968   600.987183   \nTrento                 476.492079   164.026504  634.209108   290.092420   \nForlì                  262.360392   264.379364  418.661581   359.381308   \nSiracusa               587.331036  1062.645130  427.428791  1094.546857   \nVicenza                413.191956   184.649862  568.023935   308.209770   \nTerni                   75.433725   425.098547  234.062925   487.484745   \nBolzano                519.558232   203.152836  671.186074   326.592325   \nPiacenza               416.732462    61.230419  597.568447   159.427560   \nNovara                 503.245517    44.880189  687.456249    84.543828   \nAncona                 209.359851   400.536830  315.062864   493.099051   \nUdine                  467.623013   321.469527  587.219011   447.342585   \n\n                          Palermo       Genoa     Bologna    Florence  \\\nRome                   426.070596  401.960481  303.426129  231.573282   \nMilan                  886.731534  119.074773  201.294867  249.659850   \nNaples                 311.254244  589.883509  471.266331  409.244195   \nTurin                  906.531599  124.164189  297.350520  319.806402   \nPalermo                       NaN  791.237705  728.185082  652.598277   \nGenoa                  791.237705         NaN  192.035334  199.020967   \nBologna                728.185082  192.035334         NaN   80.592957   \nFlorence               652.598277  199.020967   80.592957         NaN   \nBari                   449.638450  744.436321  586.419172  547.149958   \nCatania                166.886925  925.542935  838.013128  768.089051   \nVerona                 836.737023  198.708244  108.555765  186.424290   \nVenice                 817.939233  291.655727  130.904873  204.172005   \nMessina                192.392510  884.970425  783.200363  717.140387   \nPadova                 819.070252  257.512192  109.843935  188.312963   \nPrato                  667.914297  182.870184   70.911939   17.563219   \nTrieste                837.561941  405.248766  230.327073  288.671406   \nBrescia                864.608927  161.311339  145.995394  212.840944   \nParma                  784.441690  118.949089   87.458165  136.258860   \nTaranto                424.802385  811.188543  659.246978  615.883569   \nModena                 753.214482  160.545546   37.184093  100.644781   \nReggio di Calabria     200.702661  897.035499  794.748213  728.899866   \nReggio Emilia          765.887069  138.870267   60.810059  114.485532   \nPerugia                560.900711  313.463209  175.079792  117.479289   \nRavenna                706.409787  260.341115   68.904620  104.347589   \nLivorno                656.193281  145.916846  133.544059   80.099180   \nRimini                 663.426588  293.027182  109.097726  110.291319   \nCagliari               389.885769  575.898576  613.490493  535.361988   \nFoggia                 416.189162  631.012682  480.324502  435.425145   \nFerrara                760.122739  218.097648   43.523951  121.489920   \nSalerno                309.179944  632.789532  507.926371  448.931861   \nLatina                 374.176913  460.321866  359.517915  289.515835   \nGiugliano in Campania  320.788938  578.989951  459.478485  397.706940   \nMonza                  895.917268  133.043651  203.083273  255.354727   \nSassari                504.869482  410.425862  476.680020  404.722840   \nBergamo                895.560010  154.046588  187.492809  247.861681   \nPescara                488.277503  479.042293  323.710360  281.254315   \nTrento                 902.364648  251.493907  175.694363  255.307957   \nForlì                  688.230026  249.430089   63.376385   81.900025   \nSiracusa               205.977151  975.413171  888.918379  818.903863   \nVicenza                839.260320  242.120710  118.497313  199.034206   \nTerni                  497.480598  363.551385  238.938016  175.439348   \nBolzano                945.604773  299.455683  222.751707  303.133429   \nPiacenza               828.231151   93.456605  143.975342  188.436006   \nNovara                 904.659204  118.119000  239.848115  280.376288   \nAncona                 611.056371  377.958288  199.591316  183.196257   \nUdine                  883.222460  384.468591  229.236664  299.113631   \n\n                             Bari      Catania  ...       Trento       Forlì  \\\nRome                   375.743088   536.516598  ...   476.492079  262.360392   \nMilan                  787.255230  1012.102091  ...   164.026504  264.379364   \nNaples                 222.591127   377.111118  ...   634.209108  418.661581   \nTurin                  866.794236  1045.055611  ...   290.092420  359.381308   \nPalermo                449.638450   166.886925  ...   902.364648  688.230026   \nGenoa                  744.436321   925.542935  ...   251.493907  249.430089   \nBologna                586.419172   838.013128  ...   175.694363   63.376385   \nFlorence               547.149958   768.089051  ...   255.307957   81.900025   \nBari                          NaN   430.630052  ...   718.614589  524.296808   \nCatania                430.630052          NaN  ...  1006.853535  790.292820   \nVerona                 675.612941   945.452982  ...    70.473568  157.885085   \nVenice                 604.119170   911.258452  ...   117.455915  135.905618   \nMessina                344.425304    87.142121  ...   947.957681  732.121363   \nPadova                 624.456527   918.005322  ...    94.312459  131.074003   \nPrato                  564.257393   784.626727  ...   242.927006   85.849824   \nTrieste                561.742163   911.847021  ...   211.202048  207.914745   \nBrescia                728.222482   980.532429  ...    91.088629  204.797465   \nParma                  671.492107   903.652569  ...   153.559678  150.762895   \nTaranto                 79.289567   378.893623  ...   795.616317  597.856406   \nModena                 623.007797   867.021976  ...   158.624487  100.560331   \nReggio di Calabria     350.225702    84.140837  ...   959.206678  743.468743   \nReggio Emilia          645.258794   882.564951  ...   156.540289  124.087866   \nPerugia                430.985959   664.046531  ...   343.492861  127.523610   \nRavenna                528.423971   805.487066  ...   202.252121   23.643684   \nLivorno                603.717374   784.403657  ...   286.683911  159.108773   \nRimini                 480.187905   758.786197  ...   250.656642   45.749370   \nCagliari               693.068870   556.507007  ...   777.231262  607.235300   \nFoggia                 116.839176   441.865910  ...   623.235676  419.794154   \nFerrara                593.952917   864.789701  ...   142.550929   75.043146   \nSalerno                184.267875   354.257168  ...   667.082061  453.167378   \nLatina                 334.073213   478.906040  ...   530.867946  315.101825   \nGiugliano in Campania  225.651686   388.757547  ...   622.338272  406.799128   \nMonza                  789.498831  1019.911249  ...   152.951744  265.666067   \nSassari                700.865536   668.581778  ...   628.322233  483.748628   \nBergamo                772.438755  1015.579314  ...   119.662285  248.264303   \nPescara                265.917594   556.254848  ...   470.444338  263.448008   \nTrento                 718.614589  1006.853535  ...          NaN  216.565989   \nForlì                  524.296808   790.292820  ...   216.565989         NaN   \nSiracusa               470.539572    50.909174  ...  1057.723330  841.166339   \nVicenza                653.557690   941.368680  ...    66.577348  151.560624   \nTerni                  385.437658   599.583757  ...   407.980740  191.773043   \nBolzano                743.255527  1045.942168  ...    51.344031  257.529453   \nPiacenza               727.973011   951.839793  ...   158.120576  207.345729   \nNovara                 823.421235  1034.545741  ...   206.212923  303.223759   \nAncona                 390.751845   692.166436  ...   331.809954  136.247729   \nUdine                  622.317638   963.860536  ...   163.756866  223.991228   \n\n                          Siracusa     Vicenza       Terni      Bolzano  \\\nRome                    587.331036  413.191956   75.433725   519.558232   \nMilan                  1062.645130  184.649862  425.098547   203.152836   \nNaples                  427.428791  568.023935  234.062925   671.186074   \nTurin                  1094.546857  308.209770  487.484745   326.592325   \nPalermo                 205.977151  839.260320  497.480598   945.604773   \nGenoa                   975.413171  242.120710  363.551385   299.455683   \nBologna                 888.918379  118.497313  238.938016   222.751707   \nFlorence                818.903863  199.034206  175.439348   303.133429   \nBari                    470.539572  653.557690  385.437658   743.255527   \nCatania                  50.909174  941.368680  599.583757  1045.942168   \nVerona                  996.361619   45.279573  345.885961   121.060057   \nVenice                  961.866235   62.334407  320.720214   139.907694   \nMessina                 126.997468  881.807933  544.403088   984.846784   \nPadova                  968.784772   30.192994  321.935793   127.937600   \nPrato                   835.417075  188.937899  192.924741   291.581274   \nTrieste                 961.392954  173.579143  354.857698   209.266432   \nBrescia                1031.386208  103.851111  383.442228   138.146096   \nParma                   954.409765  127.065769  310.959040   204.846515   \nTaranto                 414.097556  730.198712  448.760728   821.229730   \nModena                  917.892369  111.857934  269.789290   208.576116   \nReggio di Calabria      120.341782  893.019529  556.001162   995.917618   \nReggio Emilia           933.384386  118.846721  287.544059   207.621203   \nPerugia                 714.951265  279.021580   64.523885   385.049415   \nRavenna                 856.306054  136.090313  209.052795   240.685786   \nLivorno                 834.669407  242.961687  219.582204   337.637191   \nRimini                  809.536741  184.194853  166.476092   287.258973   \nCagliari                591.868510  730.327219  474.868935   828.112149   \nFoggia                  488.445281  557.053252  269.714847   652.399859   \nFerrara                 915.680497   79.823096  265.535302   186.155704   \nSalerno                 403.518241  600.607084  273.522669   702.227454   \nLatina                  529.778485  466.609344  123.516462   572.604114   \nGiugliano in Campania   439.116106  556.154495  222.449825   659.335652   \nMonza                  1070.522646  177.741771  430.628155   190.476177   \nSassari                 710.671140  588.392045  396.424931   679.662575   \nBergamo                1066.339969  147.497736  421.533488   157.925494   \nPescara                 606.021929  403.927144  129.707609   502.573187   \nTrento                 1057.723330   66.577348  407.980740    51.344031   \nForlì                   841.166339  151.560624  191.773043   257.529453   \nSiracusa                       NaN  992.210788  650.490926  1096.722370   \nVicenza                 992.210788         NaN  343.332805   106.461252   \nTerni                   650.490926  343.332805         NaN   449.179649   \nBolzano                1096.722370  106.461252  449.179649          NaN   \nPiacenza               1002.446786  155.375144  363.875339   206.074553   \nNovara                 1084.826176  229.517444  455.035507   242.056383   \nAncona                  742.417094  265.572891  137.170239   362.625712   \nUdine                  1013.790331  142.888360  392.296860   152.503235   \n\n                          Piacenza       Novara      Ancona        Udine  \nRome                    416.732462   503.245517  209.359851   467.623013  \nMilan                    61.230419    44.880189  400.536830   321.469527  \nNaples                  597.568447   687.456249  315.062864   587.219011  \nTurin                   159.427560    84.543828  493.099051   447.342585  \nPalermo                 828.231151   904.659204  611.056371   883.222460  \nGenoa                    93.456605   118.119000  377.958288   384.468591  \nBologna                 143.975342   239.848115  199.591316   229.236664  \nFlorence                188.436006   280.376288  183.196257   299.113631  \nBari                    727.973011   823.421235  390.751845   622.317638  \nCatania                 951.839793  1034.545741  692.166436   963.860536  \nVerona                  110.303485   185.891951  284.981414   187.778259  \nVenice                  211.110794   290.632576  223.372321    98.869751  \nMessina                 903.817265   990.000815  626.199841   895.205653  \nPadova                  175.550155   255.233509  237.736538   128.511734  \nPrato                   170.966043   262.817386  197.109407   295.642233  \nTrieste                 325.833098   402.983026  226.854657    62.299337  \nBrescia                  67.955791   125.733270  337.827101   241.442538  \nParma                    56.751726   152.706653  286.808488   267.283613  \nTaranto                 799.379682   894.309243  466.026709   701.501493  \nModena                  106.801325   202.664101  236.767088   240.048142  \nReggio di Calabria      915.667590  1001.959831  636.913196   905.525976  \nReggio Emilia            83.375176   179.332919  260.138167   254.018498  \nPerugia                 304.508494   397.606269  107.241339   335.086350  \nRavenna                 210.301905   305.394665  137.850357   200.522746  \nLivorno                 173.397686   250.157491  259.207482   362.770430  \nRimini                  253.072834   348.922969   90.745952   229.140871  \nCagliari                648.531646   692.357574  610.742607   831.217479  \nFoggia                  619.423188   714.121662  291.481566   544.161547  \nFerrara                 153.180015   245.691672  203.253792   186.495933  \nSalerno                 637.355049   728.342155  341.941232   611.015078  \nLatina                  475.408806   562.111100  244.047698   511.727651  \nGiugliano in Campania   586.066030   676.124096  303.455616   575.760453  \nMonza                    68.078649    53.431230  401.468825   312.311388  \nSassari                 489.220228   524.753520  520.274483   703.524993  \nBergamo                  71.723200    86.609248  382.573801   279.660324  \nPescara                 463.228395   558.259958  140.092662   407.870337  \nTrento                  158.120576   206.212923  331.809954   163.756866  \nForlì                   207.345729   303.223759  136.247729   223.991228  \nSiracusa               1002.446786  1084.826176  742.417094  1013.790331  \nVicenza                 155.375144   229.517444  265.572891   142.888360  \nTerni                   363.875339   455.035507  137.170239   392.296860  \nBolzano                 206.074553   242.056383  362.625712   152.503235  \nPiacenza                       NaN    95.959467  343.488985   298.081732  \nNovara                   95.959467          NaN  439.415072   365.596555  \nAncona                  343.488985   439.415072         NaN   273.163019  \nUdine                   298.081732   365.596555  273.163019          NaN  \n\n[46 rows x 46 columns]",
      "text/html": "<div>\n<style scoped>\n    .dataframe tbody tr th:only-of-type {\n        vertical-align: middle;\n    }\n\n    .dataframe tbody tr th {\n        vertical-align: top;\n    }\n\n    .dataframe thead th {\n        text-align: right;\n    }\n</style>\n<table border=\"1\" class=\"dataframe\">\n  <thead>\n    <tr style=\"text-align: right;\">\n      <th></th>\n      <th>Rome</th>\n      <th>Milan</th>\n      <th>Naples</th>\n      <th>Turin</th>\n      <th>Palermo</th>\n      <th>Genoa</th>\n      <th>Bologna</th>\n      <th>Florence</th>\n      <th>Bari</th>\n      <th>Catania</th>\n      <th>...</th>\n      <th>Trento</th>\n      <th>Forlì</th>\n      <th>Siracusa</th>\n      <th>Vicenza</th>\n      <th>Terni</th>\n      <th>Bolzano</th>\n      <th>Piacenza</th>\n      <th>Novara</th>\n      <th>Ancona</th>\n      <th>Udine</th>\n    </tr>\n  </thead>\n  <tbody>\n    <tr>\n      <th>Rome</th>\n      <td>NaN</td>\n      <td>477.567033</td>\n      <td>188.983954</td>\n      <td>525.654881</td>\n      <td>426.070596</td>\n      <td>401.960481</td>\n      <td>303.426129</td>\n      <td>231.573282</td>\n      <td>375.743088</td>\n      <td>536.516598</td>\n      <td>...</td>\n      <td>476.492079</td>\n      <td>262.360392</td>\n      <td>587.331036</td>\n      <td>413.191956</td>\n      <td>75.433725</td>\n      <td>519.558232</td>\n      <td>416.732462</td>\n      <td>503.245517</td>\n      <td>209.359851</td>\n      <td>467.623013</td>\n    </tr>\n    <tr>\n      <th>Milan</th>\n      <td>477.567033</td>\n      <td>NaN</td>\n      <td>658.795099</td>\n      <td>126.368016</td>\n      <td>886.731534</td>\n      <td>119.074773</td>\n      <td>201.294867</td>\n      <td>249.659850</td>\n      <td>787.255230</td>\n      <td>1012.102091</td>\n      <td>...</td>\n      <td>164.026504</td>\n      <td>264.379364</td>\n      <td>1062.645130</td>\n      <td>184.649862</td>\n      <td>425.098547</td>\n      <td>203.152836</td>\n      <td>61.230419</td>\n      <td>44.880189</td>\n      <td>400.536830</td>\n      <td>321.469527</td>\n    </tr>\n    <tr>\n      <th>Naples</th>\n      <td>188.983954</td>\n      <td>658.795099</td>\n      <td>NaN</td>\n      <td>713.872634</td>\n      <td>311.254244</td>\n      <td>589.883509</td>\n      <td>471.266331</td>\n      <td>409.244195</td>\n      <td>222.591127</td>\n      <td>377.111118</td>\n      <td>...</td>\n      <td>634.209108</td>\n      <td>418.661581</td>\n      <td>427.428791</td>\n      <td>568.023935</td>\n      <td>234.062925</td>\n      <td>671.186074</td>\n      <td>597.568447</td>\n      <td>687.456249</td>\n      <td>315.062864</td>\n      <td>587.219011</td>\n    </tr>\n    <tr>\n      <th>Turin</th>\n      <td>525.654881</td>\n      <td>126.368016</td>\n      <td>713.872634</td>\n      <td>NaN</td>\n      <td>906.531599</td>\n      <td>124.164189</td>\n      <td>297.350520</td>\n      <td>319.806402</td>\n      <td>866.794236</td>\n      <td>1045.055611</td>\n      <td>...</td>\n      <td>290.092420</td>\n      <td>359.381308</td>\n      <td>1094.546857</td>\n      <td>308.209770</td>\n      <td>487.484745</td>\n      <td>326.592325</td>\n      <td>159.427560</td>\n      <td>84.543828</td>\n      <td>493.099051</td>\n      <td>447.342585</td>\n    </tr>\n    <tr>\n      <th>Palermo</th>\n      <td>426.070596</td>\n      <td>886.731534</td>\n      <td>311.254244</td>\n      <td>906.531599</td>\n      <td>NaN</td>\n      <td>791.237705</td>\n      <td>728.185082</td>\n      <td>652.598277</td>\n      <td>449.638450</td>\n      <td>166.886925</td>\n      <td>...</td>\n      <td>902.364648</td>\n      <td>688.230026</td>\n      <td>205.977151</td>\n      <td>839.260320</td>\n      <td>497.480598</td>\n      <td>945.604773</td>\n      <td>828.231151</td>\n      <td>904.659204</td>\n      <td>611.056371</td>\n      <td>883.222460</td>\n    </tr>\n    <tr>\n      <th>Genoa</th>\n      <td>401.960481</td>\n      <td>119.074773</td>\n      <td>589.883509</td>\n      <td>124.164189</td>\n      <td>791.237705</td>\n      <td>NaN</td>\n      <td>192.035334</td>\n      <td>199.020967</td>\n      <td>744.436321</td>\n      <td>925.542935</td>\n      <td>...</td>\n      <td>251.493907</td>\n      <td>249.430089</td>\n      <td>975.413171</td>\n      <td>242.120710</td>\n      <td>363.551385</td>\n      <td>299.455683</td>\n      <td>93.456605</td>\n      <td>118.119000</td>\n      <td>377.958288</td>\n      <td>384.468591</td>\n    </tr>\n    <tr>\n      <th>Bologna</th>\n      <td>303.426129</td>\n      <td>201.294867</td>\n      <td>471.266331</td>\n      <td>297.350520</td>\n      <td>728.185082</td>\n      <td>192.035334</td>\n      <td>NaN</td>\n      <td>80.592957</td>\n      <td>586.419172</td>\n      <td>838.013128</td>\n      <td>...</td>\n      <td>175.694363</td>\n      <td>63.376385</td>\n      <td>888.918379</td>\n      <td>118.497313</td>\n      <td>238.938016</td>\n      <td>222.751707</td>\n      <td>143.975342</td>\n      <td>239.848115</td>\n      <td>199.591316</td>\n      <td>229.236664</td>\n    </tr>\n    <tr>\n      <th>Florence</th>\n      <td>231.573282</td>\n      <td>249.659850</td>\n      <td>409.244195</td>\n      <td>319.806402</td>\n      <td>652.598277</td>\n      <td>199.020967</td>\n      <td>80.592957</td>\n      <td>NaN</td>\n      <td>547.149958</td>\n      <td>768.089051</td>\n      <td>...</td>\n      <td>255.307957</td>\n      <td>81.900025</td>\n      <td>818.903863</td>\n      <td>199.034206</td>\n      <td>175.439348</td>\n      <td>303.133429</td>\n      <td>188.436006</td>\n      <td>280.376288</td>\n      <td>183.196257</td>\n      <td>299.113631</td>\n    </tr>\n    <tr>\n      <th>Bari</th>\n      <td>375.743088</td>\n      <td>787.255230</td>\n      <td>222.591127</td>\n      <td>866.794236</td>\n      <td>449.638450</td>\n      <td>744.436321</td>\n      <td>586.419172</td>\n      <td>547.149958</td>\n      <td>NaN</td>\n      <td>430.630052</td>\n      <td>...</td>\n      <td>718.614589</td>\n      <td>524.296808</td>\n      <td>470.539572</td>\n      <td>653.557690</td>\n      <td>385.437658</td>\n      <td>743.255527</td>\n      <td>727.973011</td>\n      <td>823.421235</td>\n      <td>390.751845</td>\n      <td>622.317638</td>\n    </tr>\n    <tr>\n      <th>Catania</th>\n      <td>536.516598</td>\n      <td>1012.102091</td>\n      <td>377.111118</td>\n      <td>1045.055611</td>\n      <td>166.886925</td>\n      <td>925.542935</td>\n      <td>838.013128</td>\n      <td>768.089051</td>\n      <td>430.630052</td>\n      <td>NaN</td>\n      <td>...</td>\n      <td>1006.853535</td>\n      <td>790.292820</td>\n      <td>50.909174</td>\n      <td>941.368680</td>\n      <td>599.583757</td>\n      <td>1045.942168</td>\n      <td>951.839793</td>\n      <td>1034.545741</td>\n      <td>692.166436</td>\n      <td>963.860536</td>\n    </tr>\n    <tr>\n      <th>Verona</th>\n      <td>411.827441</td>\n      <td>141.053275</td>\n      <td>576.060945</td>\n      <td>263.357432</td>\n      <td>836.737023</td>\n      <td>198.708244</td>\n      <td>108.555765</td>\n      <td>186.424290</td>\n      <td>675.612941</td>\n      <td>945.452982</td>\n      <td>...</td>\n      <td>70.473568</td>\n      <td>157.885085</td>\n      <td>996.361619</td>\n      <td>45.279573</td>\n      <td>345.885961</td>\n      <td>121.060057</td>\n      <td>110.303485</td>\n      <td>185.891951</td>\n      <td>284.981414</td>\n      <td>187.778259</td>\n    </tr>\n    <tr>\n      <th>Venice</th>\n      <td>394.235339</td>\n      <td>245.770683</td>\n      <td>534.970168</td>\n      <td>367.571438</td>\n      <td>817.939233</td>\n      <td>291.655727</td>\n      <td>130.904873</td>\n      <td>204.172005</td>\n      <td>604.119170</td>\n      <td>911.258452</td>\n      <td>...</td>\n      <td>117.455915</td>\n      <td>135.905618</td>\n      <td>961.866235</td>\n      <td>62.334407</td>\n      <td>320.720214</td>\n      <td>139.907694</td>\n      <td>211.110794</td>\n      <td>290.632576</td>\n      <td>223.372321</td>\n      <td>98.869751</td>\n    </tr>\n    <tr>\n      <th>Messina</th>\n      <td>487.194640</td>\n      <td>964.732071</td>\n      <td>313.790278</td>\n      <td>1006.815162</td>\n      <td>192.392510</td>\n      <td>884.970425</td>\n      <td>783.200363</td>\n      <td>717.140387</td>\n      <td>344.425304</td>\n      <td>87.142121</td>\n      <td>...</td>\n      <td>947.957681</td>\n      <td>732.121363</td>\n      <td>126.997468</td>\n      <td>881.807933</td>\n      <td>544.403088</td>\n      <td>984.846784</td>\n      <td>903.817265</td>\n      <td>990.000815</td>\n      <td>626.199841</td>\n      <td>895.205653</td>\n    </tr>\n    <tr>\n      <th>Padova</th>\n      <td>393.382873</td>\n      <td>210.406332</td>\n      <td>543.424020</td>\n      <td>331.847866</td>\n      <td>819.070252</td>\n      <td>257.512192</td>\n      <td>109.843935</td>\n      <td>188.312963</td>\n      <td>624.456527</td>\n      <td>918.005322</td>\n      <td>...</td>\n      <td>94.312459</td>\n      <td>131.074003</td>\n      <td>968.784772</td>\n      <td>30.192994</td>\n      <td>321.935793</td>\n      <td>127.937600</td>\n      <td>175.550155</td>\n      <td>255.233509</td>\n      <td>237.736538</td>\n      <td>128.511734</td>\n    </tr>\n    <tr>\n      <th>Prato</th>\n      <td>248.147738</td>\n      <td>232.195420</td>\n      <td>426.643090</td>\n      <td>302.925431</td>\n      <td>667.914297</td>\n      <td>182.870184</td>\n      <td>70.911939</td>\n      <td>17.563219</td>\n      <td>564.257393</td>\n      <td>784.626727</td>\n      <td>...</td>\n      <td>242.927006</td>\n      <td>85.849824</td>\n      <td>835.417075</td>\n      <td>188.937899</td>\n      <td>192.924741</td>\n      <td>291.581274</td>\n      <td>170.966043</td>\n      <td>262.817386</td>\n      <td>197.109407</td>\n      <td>295.642233</td>\n    </tr>\n    <tr>\n      <th>Trieste</th>\n      <td>430.114958</td>\n      <td>358.147179</td>\n      <td>536.569976</td>\n      <td>481.529305</td>\n      <td>837.561941</td>\n      <td>405.248766</td>\n      <td>230.327073</td>\n      <td>288.671406</td>\n      <td>561.742163</td>\n      <td>911.847021</td>\n      <td>...</td>\n      <td>211.202048</td>\n      <td>207.914745</td>\n      <td>961.392954</td>\n      <td>173.579143</td>\n      <td>354.857698</td>\n      <td>209.266432</td>\n      <td>325.833098</td>\n      <td>402.983026</td>\n      <td>226.854657</td>\n      <td>62.299337</td>\n    </tr>\n    <tr>\n      <th>Brescia</th>\n      <td>444.166736</td>\n      <td>80.918196</td>\n      <td>616.741216</td>\n      <td>205.947957</td>\n      <td>864.608927</td>\n      <td>161.311339</td>\n      <td>145.995394</td>\n      <td>212.840944</td>\n      <td>728.222482</td>\n      <td>980.532429</td>\n      <td>...</td>\n      <td>91.088629</td>\n      <td>204.797465</td>\n      <td>1031.386208</td>\n      <td>103.851111</td>\n      <td>383.442228</td>\n      <td>138.146096</td>\n      <td>67.955791</td>\n      <td>125.733270</td>\n      <td>337.827101</td>\n      <td>241.442538</td>\n    </tr>\n    <tr>\n      <th>Parma</th>\n      <td>367.295624</td>\n      <td>116.109452</td>\n      <td>545.013835</td>\n      <td>211.563582</td>\n      <td>784.441690</td>\n      <td>118.949089</td>\n      <td>87.458165</td>\n      <td>136.258860</td>\n      <td>671.492107</td>\n      <td>903.652569</td>\n      <td>...</td>\n      <td>153.559678</td>\n      <td>150.762895</td>\n      <td>954.409765</td>\n      <td>127.065769</td>\n      <td>310.959040</td>\n      <td>204.846515</td>\n      <td>56.751726</td>\n      <td>152.706653</td>\n      <td>286.808488</td>\n      <td>267.283613</td>\n    </tr>\n    <tr>\n      <th>Taranto</th>\n      <td>429.414636</td>\n      <td>859.263510</td>\n      <td>256.306097</td>\n      <td>934.454932</td>\n      <td>424.802385</td>\n      <td>811.188543</td>\n      <td>659.246978</td>\n      <td>615.883569</td>\n      <td>79.289567</td>\n      <td>378.893623</td>\n      <td>...</td>\n      <td>795.616317</td>\n      <td>597.856406</td>\n      <td>414.097556</td>\n      <td>730.198712</td>\n      <td>448.760728</td>\n      <td>821.229730</td>\n      <td>799.379682</td>\n      <td>894.309243</td>\n      <td>466.026709</td>\n      <td>701.501493</td>\n    </tr>\n    <tr>\n      <th>Modena</th>\n      <td>330.898203</td>\n      <td>164.369113</td>\n      <td>503.350001</td>\n      <td>261.290490</td>\n      <td>753.214482</td>\n      <td>160.545546</td>\n      <td>37.184093</td>\n      <td>100.644781</td>\n      <td>623.007797</td>\n      <td>867.021976</td>\n      <td>...</td>\n      <td>158.624487</td>\n      <td>100.560331</td>\n      <td>917.892369</td>\n      <td>111.857934</td>\n      <td>269.789290</td>\n      <td>208.576116</td>\n      <td>106.801325</td>\n      <td>202.664101</td>\n      <td>236.767088</td>\n      <td>240.048142</td>\n    </tr>\n    <tr>\n      <th>Reggio di Calabria</th>\n      <td>499.085670</td>\n      <td>976.599880</td>\n      <td>325.000461</td>\n      <td>1018.913915</td>\n      <td>200.702661</td>\n      <td>897.035499</td>\n      <td>794.748213</td>\n      <td>728.899866</td>\n      <td>350.225702</td>\n      <td>84.140837</td>\n      <td>...</td>\n      <td>959.206678</td>\n      <td>743.468743</td>\n      <td>120.341782</td>\n      <td>893.019529</td>\n      <td>556.001162</td>\n      <td>995.917618</td>\n      <td>915.667590</td>\n      <td>1001.959831</td>\n      <td>636.913196</td>\n      <td>905.525976</td>\n    </tr>\n    <tr>\n      <th>Reggio Emilia</th>\n      <td>346.053603</td>\n      <td>142.040451</td>\n      <td>521.541945</td>\n      <td>237.369129</td>\n      <td>765.887069</td>\n      <td>138.870267</td>\n      <td>60.810059</td>\n      <td>114.485532</td>\n      <td>645.258794</td>\n      <td>882.564951</td>\n      <td>...</td>\n      <td>156.540289</td>\n      <td>124.087866</td>\n      <td>933.384386</td>\n      <td>118.846721</td>\n      <td>287.544059</td>\n      <td>207.621203</td>\n      <td>83.375176</td>\n      <td>179.332919</td>\n      <td>260.138167</td>\n      <td>254.018498</td>\n    </tr>\n    <tr>\n      <th>Perugia</th>\n      <td>135.641091</td>\n      <td>365.520524</td>\n      <td>296.404891</td>\n      <td>436.002499</td>\n      <td>560.900711</td>\n      <td>313.463209</td>\n      <td>175.079792</td>\n      <td>117.479289</td>\n      <td>430.985959</td>\n      <td>664.046531</td>\n      <td>...</td>\n      <td>343.492861</td>\n      <td>127.523610</td>\n      <td>714.951265</td>\n      <td>279.021580</td>\n      <td>64.523885</td>\n      <td>385.049415</td>\n      <td>304.508494</td>\n      <td>397.606269</td>\n      <td>107.241339</td>\n      <td>335.086350</td>\n    </tr>\n    <tr>\n      <th>Ravenna</th>\n      <td>281.225006</td>\n      <td>264.815549</td>\n      <td>431.975428</td>\n      <td>365.836103</td>\n      <td>706.409787</td>\n      <td>260.341115</td>\n      <td>68.904620</td>\n      <td>104.347589</td>\n      <td>528.423971</td>\n      <td>805.487066</td>\n      <td>...</td>\n      <td>202.252121</td>\n      <td>23.643684</td>\n      <td>856.306054</td>\n      <td>136.090313</td>\n      <td>209.052795</td>\n      <td>240.685786</td>\n      <td>210.301905</td>\n      <td>305.394665</td>\n      <td>137.850357</td>\n      <td>200.522746</td>\n    </tr>\n    <tr>\n      <th>Livorno</th>\n      <td>256.258442</td>\n      <td>230.624861</td>\n      <td>443.967140</td>\n      <td>269.975121</td>\n      <td>656.193281</td>\n      <td>145.916846</td>\n      <td>133.544059</td>\n      <td>80.099180</td>\n      <td>603.717374</td>\n      <td>784.403657</td>\n      <td>...</td>\n      <td>286.683911</td>\n      <td>159.108773</td>\n      <td>834.669407</td>\n      <td>242.961687</td>\n      <td>219.582204</td>\n      <td>337.637191</td>\n      <td>173.397686</td>\n      <td>250.157491</td>\n      <td>259.207482</td>\n      <td>362.770430</td>\n    </tr>\n    <tr>\n      <th>Rimini</th>\n      <td>240.760212</td>\n      <td>309.801057</td>\n      <td>384.117116</td>\n      <td>404.724317</td>\n      <td>663.426588</td>\n      <td>293.027182</td>\n      <td>109.097726</td>\n      <td>110.291319</td>\n      <td>480.187905</td>\n      <td>758.786197</td>\n      <td>...</td>\n      <td>250.656642</td>\n      <td>45.749370</td>\n      <td>809.536741</td>\n      <td>184.194853</td>\n      <td>166.476092</td>\n      <td>287.258973</td>\n      <td>253.072834</td>\n      <td>348.922969</td>\n      <td>90.745952</td>\n      <td>229.140871</td>\n    </tr>\n    <tr>\n      <th>Cagliari</th>\n      <td>411.196295</td>\n      <td>693.070515</td>\n      <td>473.378305</td>\n      <td>660.652945</td>\n      <td>389.885769</td>\n      <td>575.898576</td>\n      <td>613.490493</td>\n      <td>535.361988</td>\n      <td>693.068870</td>\n      <td>556.507007</td>\n      <td>...</td>\n      <td>777.231262</td>\n      <td>607.235300</td>\n      <td>591.868510</td>\n      <td>730.327219</td>\n      <td>474.868935</td>\n      <td>828.112149</td>\n      <td>648.531646</td>\n      <td>692.357574</td>\n      <td>610.742607</td>\n      <td>831.217479</td>\n    </tr>\n    <tr>\n      <th>Foggia</th>\n      <td>259.464629</td>\n      <td>679.555935</td>\n      <td>129.408218</td>\n      <td>754.111344</td>\n      <td>416.189162</td>\n      <td>631.012682</td>\n      <td>480.324502</td>\n      <td>435.425145</td>\n      <td>116.839176</td>\n      <td>441.865910</td>\n      <td>...</td>\n      <td>623.235676</td>\n      <td>419.794154</td>\n      <td>488.445281</td>\n      <td>557.053252</td>\n      <td>269.714847</td>\n      <td>652.399859</td>\n      <td>619.423188</td>\n      <td>714.121662</td>\n      <td>291.481566</td>\n      <td>544.161547</td>\n    </tr>\n    <tr>\n      <th>Ferrara</th>\n      <td>334.108832</td>\n      <td>203.403385</td>\n      <td>493.697828</td>\n      <td>312.107280</td>\n      <td>760.122739</td>\n      <td>218.097648</td>\n      <td>43.523951</td>\n      <td>121.489920</td>\n      <td>593.952917</td>\n      <td>864.789701</td>\n      <td>...</td>\n      <td>142.550929</td>\n      <td>75.043146</td>\n      <td>915.680497</td>\n      <td>79.823096</td>\n      <td>265.535302</td>\n      <td>186.155704</td>\n      <td>153.180015</td>\n      <td>245.691672</td>\n      <td>203.253792</td>\n      <td>186.495933</td>\n    </tr>\n    <tr>\n      <th>Salerno</th>\n      <td>233.465747</td>\n      <td>698.565607</td>\n      <td>46.260705</td>\n      <td>756.906799</td>\n      <td>309.179944</td>\n      <td>632.789532</td>\n      <td>507.926371</td>\n      <td>448.931861</td>\n      <td>184.267875</td>\n      <td>354.257168</td>\n      <td>...</td>\n      <td>667.082061</td>\n      <td>453.167378</td>\n      <td>403.518241</td>\n      <td>600.607084</td>\n      <td>273.522669</td>\n      <td>702.227454</td>\n      <td>637.355049</td>\n      <td>728.342155</td>\n      <td>341.941232</td>\n      <td>611.015078</td>\n    </tr>\n    <tr>\n      <th>Latina</th>\n      <td>58.866230</td>\n      <td>536.304062</td>\n      <td>133.151384</td>\n      <td>583.812016</td>\n      <td>374.176913</td>\n      <td>460.321866</td>\n      <td>359.517915</td>\n      <td>289.515835</td>\n      <td>334.073213</td>\n      <td>478.906040</td>\n      <td>...</td>\n      <td>530.867946</td>\n      <td>315.101825</td>\n      <td>529.778485</td>\n      <td>466.609344</td>\n      <td>123.516462</td>\n      <td>572.604114</td>\n      <td>475.408806</td>\n      <td>562.111100</td>\n      <td>244.047698</td>\n      <td>511.727651</td>\n    </tr>\n    <tr>\n      <th>Giugliano in Campania</th>\n      <td>178.609663</td>\n      <td>647.295212</td>\n      <td>11.870912</td>\n      <td>703.024591</td>\n      <td>320.788938</td>\n      <td>578.989951</td>\n      <td>459.478485</td>\n      <td>397.706940</td>\n      <td>225.651686</td>\n      <td>388.757547</td>\n      <td>...</td>\n      <td>622.338272</td>\n      <td>406.799128</td>\n      <td>439.116106</td>\n      <td>556.154495</td>\n      <td>222.449825</td>\n      <td>659.335652</td>\n      <td>586.066030</td>\n      <td>676.124096</td>\n      <td>303.455616</td>\n      <td>575.760453</td>\n    </tr>\n    <tr>\n      <th>Monza</th>\n      <td>484.638290</td>\n      <td>14.521817</td>\n      <td>664.580123</td>\n      <td>137.200736</td>\n      <td>895.917268</td>\n      <td>133.043651</td>\n      <td>203.083273</td>\n      <td>255.354727</td>\n      <td>789.498831</td>\n      <td>1019.911249</td>\n      <td>...</td>\n      <td>152.951744</td>\n      <td>265.666067</td>\n      <td>1070.522646</td>\n      <td>177.741771</td>\n      <td>430.628155</td>\n      <td>190.476177</td>\n      <td>68.078649</td>\n      <td>53.431230</td>\n      <td>401.468825</td>\n      <td>312.311388</td>\n    </tr>\n    <tr>\n      <th>Sassari</th>\n      <td>353.132777</td>\n      <td>529.103939</td>\n      <td>480.446341</td>\n      <td>488.863097</td>\n      <td>504.869482</td>\n      <td>410.425862</td>\n      <td>476.680020</td>\n      <td>404.722840</td>\n      <td>700.865536</td>\n      <td>668.581778</td>\n      <td>...</td>\n      <td>628.322233</td>\n      <td>483.748628</td>\n      <td>710.671140</td>\n      <td>588.392045</td>\n      <td>396.424931</td>\n      <td>679.662575</td>\n      <td>489.220228</td>\n      <td>524.753520</td>\n      <td>520.274483</td>\n      <td>703.524993</td>\n    </tr>\n    <tr>\n      <th>Bergamo</th>\n      <td>479.180758</td>\n      <td>45.233906</td>\n      <td>655.493291</td>\n      <td>170.483886</td>\n      <td>895.560010</td>\n      <td>154.046588</td>\n      <td>187.492809</td>\n      <td>247.861681</td>\n      <td>772.438755</td>\n      <td>1015.579314</td>\n      <td>...</td>\n      <td>119.662285</td>\n      <td>248.264303</td>\n      <td>1066.339969</td>\n      <td>147.497736</td>\n      <td>421.533488</td>\n      <td>157.925494</td>\n      <td>71.723200</td>\n      <td>86.609248</td>\n      <td>382.573801</td>\n      <td>279.660324</td>\n    </tr>\n    <tr>\n      <th>Pescara</th>\n      <td>156.481076</td>\n      <td>523.151271</td>\n      <td>181.173968</td>\n      <td>600.987183</td>\n      <td>488.277503</td>\n      <td>479.042293</td>\n      <td>323.710360</td>\n      <td>281.254315</td>\n      <td>265.917594</td>\n      <td>556.254848</td>\n      <td>...</td>\n      <td>470.444338</td>\n      <td>263.448008</td>\n      <td>606.021929</td>\n      <td>403.927144</td>\n      <td>129.707609</td>\n      <td>502.573187</td>\n      <td>463.228395</td>\n      <td>558.259958</td>\n      <td>140.092662</td>\n      <td>407.870337</td>\n    </tr>\n    <tr>\n      <th>Trento</th>\n      <td>476.492079</td>\n      <td>164.026504</td>\n      <td>634.209108</td>\n      <td>290.092420</td>\n      <td>902.364648</td>\n      <td>251.493907</td>\n      <td>175.694363</td>\n      <td>255.307957</td>\n      <td>718.614589</td>\n      <td>1006.853535</td>\n      <td>...</td>\n      <td>NaN</td>\n      <td>216.565989</td>\n      <td>1057.723330</td>\n      <td>66.577348</td>\n      <td>407.980740</td>\n      <td>51.344031</td>\n      <td>158.120576</td>\n      <td>206.212923</td>\n      <td>331.809954</td>\n      <td>163.756866</td>\n    </tr>\n    <tr>\n      <th>Forlì</th>\n      <td>262.360392</td>\n      <td>264.379364</td>\n      <td>418.661581</td>\n      <td>359.381308</td>\n      <td>688.230026</td>\n      <td>249.430089</td>\n      <td>63.376385</td>\n      <td>81.900025</td>\n      <td>524.296808</td>\n      <td>790.292820</td>\n      <td>...</td>\n      <td>216.565989</td>\n      <td>NaN</td>\n      <td>841.166339</td>\n      <td>151.560624</td>\n      <td>191.773043</td>\n      <td>257.529453</td>\n      <td>207.345729</td>\n      <td>303.223759</td>\n      <td>136.247729</td>\n      <td>223.991228</td>\n    </tr>\n    <tr>\n      <th>Siracusa</th>\n      <td>587.331036</td>\n      <td>1062.645130</td>\n      <td>427.428791</td>\n      <td>1094.546857</td>\n      <td>205.977151</td>\n      <td>975.413171</td>\n      <td>888.918379</td>\n      <td>818.903863</td>\n      <td>470.539572</td>\n      <td>50.909174</td>\n      <td>...</td>\n      <td>1057.723330</td>\n      <td>841.166339</td>\n      <td>NaN</td>\n      <td>992.210788</td>\n      <td>650.490926</td>\n      <td>1096.722370</td>\n      <td>1002.446786</td>\n      <td>1084.826176</td>\n      <td>742.417094</td>\n      <td>1013.790331</td>\n    </tr>\n    <tr>\n      <th>Vicenza</th>\n      <td>413.191956</td>\n      <td>184.649862</td>\n      <td>568.023935</td>\n      <td>308.209770</td>\n      <td>839.260320</td>\n      <td>242.120710</td>\n      <td>118.497313</td>\n      <td>199.034206</td>\n      <td>653.557690</td>\n      <td>941.368680</td>\n      <td>...</td>\n      <td>66.577348</td>\n      <td>151.560624</td>\n      <td>992.210788</td>\n      <td>NaN</td>\n      <td>343.332805</td>\n      <td>106.461252</td>\n      <td>155.375144</td>\n      <td>229.517444</td>\n      <td>265.572891</td>\n      <td>142.888360</td>\n    </tr>\n    <tr>\n      <th>Terni</th>\n      <td>75.433725</td>\n      <td>425.098547</td>\n      <td>234.062925</td>\n      <td>487.484745</td>\n      <td>497.480598</td>\n      <td>363.551385</td>\n      <td>238.938016</td>\n      <td>175.439348</td>\n      <td>385.437658</td>\n      <td>599.583757</td>\n      <td>...</td>\n      <td>407.980740</td>\n      <td>191.773043</td>\n      <td>650.490926</td>\n      <td>343.332805</td>\n      <td>NaN</td>\n      <td>449.179649</td>\n      <td>363.875339</td>\n      <td>455.035507</td>\n      <td>137.170239</td>\n      <td>392.296860</td>\n    </tr>\n    <tr>\n      <th>Bolzano</th>\n      <td>519.558232</td>\n      <td>203.152836</td>\n      <td>671.186074</td>\n      <td>326.592325</td>\n      <td>945.604773</td>\n      <td>299.455683</td>\n      <td>222.751707</td>\n      <td>303.133429</td>\n      <td>743.255527</td>\n      <td>1045.942168</td>\n      <td>...</td>\n      <td>51.344031</td>\n      <td>257.529453</td>\n      <td>1096.722370</td>\n      <td>106.461252</td>\n      <td>449.179649</td>\n      <td>NaN</td>\n      <td>206.074553</td>\n      <td>242.056383</td>\n      <td>362.625712</td>\n      <td>152.503235</td>\n    </tr>\n    <tr>\n      <th>Piacenza</th>\n      <td>416.732462</td>\n      <td>61.230419</td>\n      <td>597.568447</td>\n      <td>159.427560</td>\n      <td>828.231151</td>\n      <td>93.456605</td>\n      <td>143.975342</td>\n      <td>188.436006</td>\n      <td>727.973011</td>\n      <td>951.839793</td>\n      <td>...</td>\n      <td>158.120576</td>\n      <td>207.345729</td>\n      <td>1002.446786</td>\n      <td>155.375144</td>\n      <td>363.875339</td>\n      <td>206.074553</td>\n      <td>NaN</td>\n      <td>95.959467</td>\n      <td>343.488985</td>\n      <td>298.081732</td>\n    </tr>\n    <tr>\n      <th>Novara</th>\n      <td>503.245517</td>\n      <td>44.880189</td>\n      <td>687.456249</td>\n      <td>84.543828</td>\n      <td>904.659204</td>\n      <td>118.119000</td>\n      <td>239.848115</td>\n      <td>280.376288</td>\n      <td>823.421235</td>\n      <td>1034.545741</td>\n      <td>...</td>\n      <td>206.212923</td>\n      <td>303.223759</td>\n      <td>1084.826176</td>\n      <td>229.517444</td>\n      <td>455.035507</td>\n      <td>242.056383</td>\n      <td>95.959467</td>\n      <td>NaN</td>\n      <td>439.415072</td>\n      <td>365.596555</td>\n    </tr>\n    <tr>\n      <th>Ancona</th>\n      <td>209.359851</td>\n      <td>400.536830</td>\n      <td>315.062864</td>\n      <td>493.099051</td>\n      <td>611.056371</td>\n      <td>377.958288</td>\n      <td>199.591316</td>\n      <td>183.196257</td>\n      <td>390.751845</td>\n      <td>692.166436</td>\n      <td>...</td>\n      <td>331.809954</td>\n      <td>136.247729</td>\n      <td>742.417094</td>\n      <td>265.572891</td>\n      <td>137.170239</td>\n      <td>362.625712</td>\n      <td>343.488985</td>\n      <td>439.415072</td>\n      <td>NaN</td>\n      <td>273.163019</td>\n    </tr>\n    <tr>\n      <th>Udine</th>\n      <td>467.623013</td>\n      <td>321.469527</td>\n      <td>587.219011</td>\n      <td>447.342585</td>\n      <td>883.222460</td>\n      <td>384.468591</td>\n      <td>229.236664</td>\n      <td>299.113631</td>\n      <td>622.317638</td>\n      <td>963.860536</td>\n      <td>...</td>\n      <td>163.756866</td>\n      <td>223.991228</td>\n      <td>1013.790331</td>\n      <td>142.888360</td>\n      <td>392.296860</td>\n      <td>152.503235</td>\n      <td>298.081732</td>\n      <td>365.596555</td>\n      <td>273.163019</td>\n      <td>NaN</td>\n    </tr>\n  </tbody>\n</table>\n<p>46 rows × 46 columns</p>\n</div>"
     },
     "execution_count": 20,
     "metadata": {},
     "output_type": "execute_result"
    }
   ],
   "source": [
    "distance_matrix"
   ],
   "metadata": {
    "collapsed": false,
    "ExecuteTime": {
     "end_time": "2023-12-27T13:36:32.374540Z",
     "start_time": "2023-12-27T13:36:32.325407900Z"
    }
   },
   "id": "dd6dc6cef7804d01",
   "execution_count": 20
  },
  {
   "cell_type": "code",
   "outputs": [],
   "source": [
    "# To add city variation to the actual routes, based on the standard routes, consider the city with least distance\n",
    "# from the standard route city and add that city to the actual route"
   ],
   "metadata": {
    "collapsed": false
   },
   "id": "ebe2d5f67183a2f4"
  },
  {
   "cell_type": "markdown",
   "source": [
    "## 2. Data Analysis and Mining"
   ],
   "metadata": {
    "collapsed": false
   },
   "id": "ba245a523841cac2"
  },
  {
   "cell_type": "markdown",
   "source": [
    "### 2.1. Loading the data"
   ],
   "metadata": {
    "collapsed": false
   },
   "id": "f7fbee2ec8840d93"
  },
  {
   "cell_type": "code",
   "outputs": [],
   "source": [
    "import json\n",
    "import random\n",
    "import pandas as pd\n",
    "import numpy as np\n",
    "import matplotlib.pyplot as plt\n",
    "from geopy import distance\n",
    "\n",
    "from sklearn.metrics.pairwise import cosine_similarity\n",
    "from sklearn.feature_extraction.text import CountVectorizer"
   ],
   "metadata": {
    "collapsed": false,
    "ExecuteTime": {
     "end_time": "2023-12-29T19:55:56.253908900Z",
     "start_time": "2023-12-29T19:55:29.269624500Z"
    }
   },
   "id": "82d8632546010493",
   "execution_count": 12
  },
  {
   "cell_type": "code",
   "outputs": [],
   "source": [
    "# Load the standard routes from a JSON\n",
    "with open(\"Dataset/standard_routes.json\", \"r\") as file:\n",
    "    standard_routes = json.load(file)\n",
    "    \n",
    "# Load the actual routes from a JSON\n",
    "with open(\"Dataset/actual_routes.json\", \"r\") as file:\n",
    "    actual_routes = json.load(file)"
   ],
   "metadata": {
    "collapsed": false,
    "ExecuteTime": {
     "end_time": "2023-12-29T19:09:32.459757200Z",
     "start_time": "2023-12-29T19:09:32.409191Z"
    }
   },
   "id": "bad2a0a564430b98",
   "execution_count": 7
  },
  {
   "cell_type": "code",
   "outputs": [],
   "source": [
    "# Convert route data into a suitable format for analysis\n",
    "def convert_route_to_df(routes):\n",
    "    \"\"\"Convert routes data to a Pandas DataFrame.\"\"\"\n",
    "    rows = []\n",
    "    for route_ in routes:\n",
    "        for trip in route_[\"route\"]:\n",
    "            row = {\n",
    "                \"route_id\": route_[\"id\"],\n",
    "                \"from\": trip[\"from\"],\n",
    "                \"to\": trip[\"to\"],\n",
    "                \"merchandise\": \", \".join([f\"{item}: {qty}\" for item, qty in trip[\"merchandise\"].items()])\n",
    "            }\n",
    "            rows.append(row)\n",
    "    return pd.DataFrame(rows)"
   ],
   "metadata": {
    "collapsed": false,
    "ExecuteTime": {
     "end_time": "2023-12-29T19:56:27.706247600Z",
     "start_time": "2023-12-29T19:56:27.679847300Z"
    }
   },
   "id": "82596f5eaff6ea00",
   "execution_count": 13
  },
  {
   "cell_type": "code",
   "outputs": [],
   "source": [
    "# Convert the sample data into DataFrames\n",
    "standard_routes_df = convert_route_to_df(standard_routes)\n",
    "actual_routes_df = convert_route_to_df(actual_routes)"
   ],
   "metadata": {
    "collapsed": false,
    "ExecuteTime": {
     "end_time": "2023-12-29T19:56:31.506469700Z",
     "start_time": "2023-12-29T19:56:31.458280100Z"
    }
   },
   "id": "d8811fade4d3936c",
   "execution_count": 14
  },
  {
   "cell_type": "code",
   "outputs": [
    {
     "data": {
      "text/plain": "  route_id     from       to                                      merchandise\n0       s1   Trento  Bolzano                                pens: 5, milk: 30\n1       s1  Bolzano  Vicenza  honey: 15, pens: 34, tomatoes: 2, coca-cola: 26\n2       s1  Vicenza   Padova              bread: 47, butter: 39, tomatoes: 29\n3       s1   Padova  Bologna                pens: 50, tomatoes: 16, butter: 2\n4       s1  Bologna    Forlì                               pens: 11, bread: 8",
      "text/html": "<div>\n<style scoped>\n    .dataframe tbody tr th:only-of-type {\n        vertical-align: middle;\n    }\n\n    .dataframe tbody tr th {\n        vertical-align: top;\n    }\n\n    .dataframe thead th {\n        text-align: right;\n    }\n</style>\n<table border=\"1\" class=\"dataframe\">\n  <thead>\n    <tr style=\"text-align: right;\">\n      <th></th>\n      <th>route_id</th>\n      <th>from</th>\n      <th>to</th>\n      <th>merchandise</th>\n    </tr>\n  </thead>\n  <tbody>\n    <tr>\n      <th>0</th>\n      <td>s1</td>\n      <td>Trento</td>\n      <td>Bolzano</td>\n      <td>pens: 5, milk: 30</td>\n    </tr>\n    <tr>\n      <th>1</th>\n      <td>s1</td>\n      <td>Bolzano</td>\n      <td>Vicenza</td>\n      <td>honey: 15, pens: 34, tomatoes: 2, coca-cola: 26</td>\n    </tr>\n    <tr>\n      <th>2</th>\n      <td>s1</td>\n      <td>Vicenza</td>\n      <td>Padova</td>\n      <td>bread: 47, butter: 39, tomatoes: 29</td>\n    </tr>\n    <tr>\n      <th>3</th>\n      <td>s1</td>\n      <td>Padova</td>\n      <td>Bologna</td>\n      <td>pens: 50, tomatoes: 16, butter: 2</td>\n    </tr>\n    <tr>\n      <th>4</th>\n      <td>s1</td>\n      <td>Bologna</td>\n      <td>Forlì</td>\n      <td>pens: 11, bread: 8</td>\n    </tr>\n  </tbody>\n</table>\n</div>"
     },
     "execution_count": 15,
     "metadata": {},
     "output_type": "execute_result"
    }
   ],
   "source": [
    "# Display the first few rows of each DataFrame for inspection\n",
    "standard_routes_df.head()"
   ],
   "metadata": {
    "collapsed": false,
    "ExecuteTime": {
     "end_time": "2023-12-29T19:56:36.924974800Z",
     "start_time": "2023-12-29T19:56:36.888634800Z"
    }
   },
   "id": "b53be785d4b4bcd",
   "execution_count": 15
  },
  {
   "cell_type": "code",
   "outputs": [
    {
     "data": {
      "text/plain": "  route_id     from       to                                      merchandise\n0   a28078   Trento  Bolzano                                pens: 5, milk: 30\n1   a28078  Bolzano  Vicenza  honey: 15, pens: 34, tomatoes: 2, coca-cola: 26\n2   a28078  Vicenza   Padova              bread: 47, butter: 39, tomatoes: 29\n3   a28078   Padova  Ravenna                 pens: 23, tomatoes: 2, butter: 2\n4   a28078  Ravenna    Forlì                               pens: 11, bread: 1",
      "text/html": "<div>\n<style scoped>\n    .dataframe tbody tr th:only-of-type {\n        vertical-align: middle;\n    }\n\n    .dataframe tbody tr th {\n        vertical-align: top;\n    }\n\n    .dataframe thead th {\n        text-align: right;\n    }\n</style>\n<table border=\"1\" class=\"dataframe\">\n  <thead>\n    <tr style=\"text-align: right;\">\n      <th></th>\n      <th>route_id</th>\n      <th>from</th>\n      <th>to</th>\n      <th>merchandise</th>\n    </tr>\n  </thead>\n  <tbody>\n    <tr>\n      <th>0</th>\n      <td>a28078</td>\n      <td>Trento</td>\n      <td>Bolzano</td>\n      <td>pens: 5, milk: 30</td>\n    </tr>\n    <tr>\n      <th>1</th>\n      <td>a28078</td>\n      <td>Bolzano</td>\n      <td>Vicenza</td>\n      <td>honey: 15, pens: 34, tomatoes: 2, coca-cola: 26</td>\n    </tr>\n    <tr>\n      <th>2</th>\n      <td>a28078</td>\n      <td>Vicenza</td>\n      <td>Padova</td>\n      <td>bread: 47, butter: 39, tomatoes: 29</td>\n    </tr>\n    <tr>\n      <th>3</th>\n      <td>a28078</td>\n      <td>Padova</td>\n      <td>Ravenna</td>\n      <td>pens: 23, tomatoes: 2, butter: 2</td>\n    </tr>\n    <tr>\n      <th>4</th>\n      <td>a28078</td>\n      <td>Ravenna</td>\n      <td>Forlì</td>\n      <td>pens: 11, bread: 1</td>\n    </tr>\n  </tbody>\n</table>\n</div>"
     },
     "execution_count": 16,
     "metadata": {},
     "output_type": "execute_result"
    }
   ],
   "source": [
    "actual_routes_df.head()"
   ],
   "metadata": {
    "collapsed": false,
    "ExecuteTime": {
     "end_time": "2023-12-29T19:56:38.438199400Z",
     "start_time": "2023-12-29T19:56:38.393056200Z"
    }
   },
   "id": "ec153baebe9b0ba2",
   "execution_count": 16
  },
  {
   "cell_type": "markdown",
   "source": [
    "### 2.2. Analysis Step 1: Comparing Standard and Actual Routes"
   ],
   "metadata": {
    "collapsed": false
   },
   "id": "fdf86fb3ff389b93"
  },
  {
   "cell_type": "code",
   "outputs": [],
   "source": [
    "def analyze_route_deviations(standard_routes_df_, actual_routes_df_):\n",
    "    \"\"\"Analyze deviations between standard and actual routes.\"\"\"\n",
    "    # Merge the two dataframes on 'from' and 'to' columns to find matching routes\n",
    "    # merged_routes = pd.merge(standard_routes_df_, actual_routes_df_, on=['from', 'to'], suffixes=('_std', '_act'))\n",
    "    # \n",
    "    # # Calculate the deviation in merchandise for each route\n",
    "    # merged_routes['merchandise_deviation'] = merged_routes.apply(\n",
    "    #     lambda row: len(row['merchandise_std'].split(', ')) - len(row['merchandise_act'].split(', ')), axis=1\n",
    "    # )\n",
    "    # \n",
    "    # # Calculate the deviation in distance for each route\n",
    "    # merged_routes['distance_deviation'] = merged_routes.apply(\n",
    "    #     lambda row: calculate_distance(row['from'], row['to']) - calculate_distance(row['from_act'], row['to_act']), axis=1\n",
    "    # )\n",
    "    # \n",
    "    # # Calculate the deviation in number of trips for each route\n",
    "    # merged_routes['num_trips_deviation'] = merged_routes.apply(\n",
    "    #     lambda row: len(standard_routes_df_[standard_routes_df_['route_id'] == row['route_id_std']]) - 1, axis=1\n",
    "    # )\n",
    "    # \n",
    "    # # Calculate the deviation in number of trips for each route\n",
    "    # merged_routes['num_trips_deviation'] = merged_routes.apply(\n",
    "    #     lambda row: len(standard_routes_df_[standard_routes_df_['route_id'] == row['route_id_std']]) - 1, axis=1\n",
    "    # )\n",
    "\n",
    "    # Count the frequency of each route in both standard and actual routes\n",
    "    route_frequency_std = standard_routes_df_.groupby(['from', 'to']).size().reset_index(name='count_std')\n",
    "    route_frequency_act = actual_routes_df_.groupby(['from', 'to']).size().reset_index(name='count_act')\n",
    "\n",
    "    # Merge frequencies to compare\n",
    "    frequency_comparison = pd.merge(\n",
    "        route_frequency_std, route_frequency_act, on=['from', 'to'], how='outer').fillna(0)\n",
    "    \n",
    "    # Sort by the difference in frequency (indicating deviations)\n",
    "    frequency_comparison['frequency_diff'] = frequency_comparison['count_act'] - frequency_comparison['count_std']\n",
    "    sorted_frequency_comparison = frequency_comparison.sort_values(by='frequency_diff', ascending=False)\n",
    "\n",
    "    return sorted_frequency_comparison"
   ],
   "metadata": {
    "collapsed": false,
    "ExecuteTime": {
     "end_time": "2023-12-29T20:15:31.134793Z",
     "start_time": "2023-12-29T20:15:31.081614500Z"
    }
   },
   "id": "7ed6b3f15e1d5cf2",
   "execution_count": 31
  },
  {
   "cell_type": "code",
   "outputs": [
    {
     "data": {
      "text/plain": "         from       to  count_std  count_act  frequency_diff\n75     Naples  Pescara        7.0        215           208.0\n93      Parma   Verona        5.0        169           164.0\n103   Pescara     Rome        5.0        162           157.0\n44      Forlì   Rimini        4.0        145           141.0\n30   Florence  Bologna        4.0        141           137.0",
      "text/html": "<div>\n<style scoped>\n    .dataframe tbody tr th:only-of-type {\n        vertical-align: middle;\n    }\n\n    .dataframe tbody tr th {\n        vertical-align: top;\n    }\n\n    .dataframe thead th {\n        text-align: right;\n    }\n</style>\n<table border=\"1\" class=\"dataframe\">\n  <thead>\n    <tr style=\"text-align: right;\">\n      <th></th>\n      <th>from</th>\n      <th>to</th>\n      <th>count_std</th>\n      <th>count_act</th>\n      <th>frequency_diff</th>\n    </tr>\n  </thead>\n  <tbody>\n    <tr>\n      <th>75</th>\n      <td>Naples</td>\n      <td>Pescara</td>\n      <td>7.0</td>\n      <td>215</td>\n      <td>208.0</td>\n    </tr>\n    <tr>\n      <th>93</th>\n      <td>Parma</td>\n      <td>Verona</td>\n      <td>5.0</td>\n      <td>169</td>\n      <td>164.0</td>\n    </tr>\n    <tr>\n      <th>103</th>\n      <td>Pescara</td>\n      <td>Rome</td>\n      <td>5.0</td>\n      <td>162</td>\n      <td>157.0</td>\n    </tr>\n    <tr>\n      <th>44</th>\n      <td>Forlì</td>\n      <td>Rimini</td>\n      <td>4.0</td>\n      <td>145</td>\n      <td>141.0</td>\n    </tr>\n    <tr>\n      <th>30</th>\n      <td>Florence</td>\n      <td>Bologna</td>\n      <td>4.0</td>\n      <td>141</td>\n      <td>137.0</td>\n    </tr>\n  </tbody>\n</table>\n</div>"
     },
     "execution_count": 32,
     "metadata": {},
     "output_type": "execute_result"
    }
   ],
   "source": [
    "# Perform the analysis\n",
    "route_deviations_analysis = analyze_route_deviations(standard_routes_df, actual_routes_df)\n",
    "\n",
    "# Display the result\n",
    "route_deviations_analysis.head()"
   ],
   "metadata": {
    "collapsed": false,
    "ExecuteTime": {
     "end_time": "2023-12-29T20:15:32.880704200Z",
     "start_time": "2023-12-29T20:15:32.826882300Z"
    }
   },
   "id": "37ead07f0847b733",
   "execution_count": 32
  },
  {
   "cell_type": "markdown",
   "source": [
    "### 2.3. Analysis Step 2: Analyzing Driver Behavior"
   ],
   "metadata": {
    "collapsed": false
   },
   "id": "22c9e2e09cb159d8"
  },
  {
   "cell_type": "code",
   "outputs": [],
   "source": [
    "def analyze_driver_behavior(actual_routes_df_):\n",
    "    \"\"\"Analyze the behavior of drivers based on the actual routes they take.\"\"\"\n",
    "    # Group by driver and count the frequency of each route\n",
    "    driver_route_frequency = actual_routes_df_.groupby(['driver', 'from', 'to']).size().reset_index(name='count')\n",
    "\n",
    "    # Sort by driver and count to find the most common routes for each driver\n",
    "    sorted_driver_routes = driver_route_frequency.sort_values(by=['driver', 'count'], ascending=[True, False])\n",
    "\n",
    "    return sorted_driver_routes"
   ],
   "metadata": {
    "collapsed": false,
    "ExecuteTime": {
     "end_time": "2023-12-29T20:18:24.382072700Z",
     "start_time": "2023-12-29T20:18:24.334183700Z"
    }
   },
   "id": "9e2aaf9e2c0f14be",
   "execution_count": 33
  },
  {
   "cell_type": "code",
   "outputs": [
    {
     "data": {
      "text/plain": "    driver      from        to  count\n252     D1    Verona   Brescia     14\n173     D1     Prato  Florence     11\n22      D1   Bologna     Forlì      9\n61      D1  Florence   Livorno      8\n136     D1    Padova    Verona      8",
      "text/html": "<div>\n<style scoped>\n    .dataframe tbody tr th:only-of-type {\n        vertical-align: middle;\n    }\n\n    .dataframe tbody tr th {\n        vertical-align: top;\n    }\n\n    .dataframe thead th {\n        text-align: right;\n    }\n</style>\n<table border=\"1\" class=\"dataframe\">\n  <thead>\n    <tr style=\"text-align: right;\">\n      <th></th>\n      <th>driver</th>\n      <th>from</th>\n      <th>to</th>\n      <th>count</th>\n    </tr>\n  </thead>\n  <tbody>\n    <tr>\n      <th>252</th>\n      <td>D1</td>\n      <td>Verona</td>\n      <td>Brescia</td>\n      <td>14</td>\n    </tr>\n    <tr>\n      <th>173</th>\n      <td>D1</td>\n      <td>Prato</td>\n      <td>Florence</td>\n      <td>11</td>\n    </tr>\n    <tr>\n      <th>22</th>\n      <td>D1</td>\n      <td>Bologna</td>\n      <td>Forlì</td>\n      <td>9</td>\n    </tr>\n    <tr>\n      <th>61</th>\n      <td>D1</td>\n      <td>Florence</td>\n      <td>Livorno</td>\n      <td>8</td>\n    </tr>\n    <tr>\n      <th>136</th>\n      <td>D1</td>\n      <td>Padova</td>\n      <td>Verona</td>\n      <td>8</td>\n    </tr>\n  </tbody>\n</table>\n</div>"
     },
     "execution_count": 34,
     "metadata": {},
     "output_type": "execute_result"
    }
   ],
   "source": [
    "# We need to add a 'driver' column to the actual routes dataframe for this analysis\n",
    "# Adding a sample driver column to the actual_routes_df for demonstration\n",
    "actual_routes_df['driver'] = actual_routes_df['route_id'].apply(lambda x: 'D' + str(int(x[-2:]) % 20 + 1))\n",
    "\n",
    "# Perform the analysis\n",
    "driver_behavior_analysis = analyze_driver_behavior(actual_routes_df)\n",
    "\n",
    "# Display the result\n",
    "driver_behavior_analysis.head()"
   ],
   "metadata": {
    "collapsed": false,
    "ExecuteTime": {
     "end_time": "2023-12-29T20:18:33.513639600Z",
     "start_time": "2023-12-29T20:18:33.459190200Z"
    }
   },
   "id": "aa243c213372c176",
   "execution_count": 34
  },
  {
   "cell_type": "code",
   "outputs": [],
   "source": [],
   "metadata": {
    "collapsed": false
   },
   "id": "3b420d881892dc6a"
  }
 ],
 "metadata": {
  "kernelspec": {
   "display_name": "Python 3",
   "language": "python",
   "name": "python3"
  },
  "language_info": {
   "codemirror_mode": {
    "name": "ipython",
    "version": 2
   },
   "file_extension": ".py",
   "mimetype": "text/x-python",
   "name": "python",
   "nbconvert_exporter": "python",
   "pygments_lexer": "ipython2",
   "version": "2.7.6"
  }
 },
 "nbformat": 4,
 "nbformat_minor": 5
}
