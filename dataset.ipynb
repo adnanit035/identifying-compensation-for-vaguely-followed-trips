{
 "cells": [
  {
   "cell_type": "code",
   "execution_count": 7,
   "outputs": [],
   "source": [
    "import json\n",
    "import random\n",
    "from copy import deepcopy\n",
    "\n",
    "def generate_random_route(city_from, city_to):\n",
    "    merchandise_types = ['milk', 'honey', 'butter', 'tomatoes', 'pens', 'bread', 'coca-cola']\n",
    "    merchandise = {item: random.randint(1, 50) for item in random.sample(merchandise_types, random.randint(1, len(merchandise_types)))}\n",
    "    return {'from': city_from, 'to': city_to, 'merchandise': merchandise}\n",
    "\n",
    "def generate_random_standard_route(route_id):\n",
    "    cities = ['Rome', 'Milan', 'Verona', 'Venezia', 'Bergamo', 'Bolzano', 'Trento']\n",
    "    num_trips = random.randint(2, 4)\n",
    "    return {'id': f's{route_id}', 'route': [generate_random_route(cities[i], cities[i+1]) for i in range(num_trips)]}\n",
    "\n",
    "def introduce_variation(route):\n",
    "    # Simulate variations by randomly modifying quantities, adding/removing items, and changing cities\n",
    "    modified_route = deepcopy(route)\n",
    "    for trip in modified_route['route']:\n",
    "        for item, quantity in trip['merchandise'].items():\n",
    "            if random.random() < 0.3:  # 30% chance of modification\n",
    "                trip['merchandise'][item] = max(1, quantity + random.randint(-5, 5))\n",
    "        if random.random() < 0.2:  # 20% chance of adding/removing items\n",
    "            item_to_change = random.choice(['milk', 'honey', 'butter', 'tomatoes', 'pens', 'bread', 'coca-cola'])\n",
    "            trip['merchandise'][item_to_change] = random.randint(1, 50)\n",
    "        if random.random() < 0.1:  # 10% chance of changing cities\n",
    "            trip['from'] = random.choice(['Rome', 'Milan', 'Verona', 'Venezia', 'Bergamo', 'Bolzano', 'Trento'])\n",
    "            trip['to'] = random.choice(['Rome', 'Milan', 'Verona', 'Venezia', 'Bergamo', 'Bolzano', 'Trento'])\n",
    "    return modified_route\n",
    "\n",
    "def generate_actual_route(route_id, driver, standard_route):\n",
    "    actual_route = deepcopy(standard_route)\n",
    "    actual_route['id'] = f'a{route_id}'\n",
    "    actual_route['driver'] = driver\n",
    "    actual_route['route'] = [generate_random_route(trip['from'], trip['to']) for trip in standard_route['route']]\n",
    "    actual_route = introduce_variation(actual_route)\n",
    "    return actual_route\n",
    "\n",
    "def generate_synthetic_dataset(num_standard_routes, num_actual_routes_per_standard):\n",
    "    standard_routes = [generate_random_standard_route(i) for i in range(1, num_standard_routes + 1)]\n",
    "\n",
    "    actual_routes = []\n",
    "    for route_id in range(1, num_actual_routes_per_standard + 1):\n",
    "        driver = random.choice(['A', 'B', 'C', 'D', 'E'])\n",
    "        standard_route = random.choice(standard_routes)\n",
    "        actual_route = generate_actual_route(route_id, driver, standard_route)\n",
    "        actual_routes.append(actual_route)\n",
    "\n",
    "    with open('standard.json', 'w') as standard_file:\n",
    "        json.dump(standard_routes, standard_file, indent=2)\n",
    "\n",
    "    with open('actual.json', 'w') as actual_file:\n",
    "        json.dump(actual_routes, actual_file, indent=2)\n",
    "\n",
    "if __name__ == \"__main__\":\n",
    "    generate_synthetic_dataset(num_standard_routes=100, num_actual_routes_per_standard=200)\n"
   ],
   "metadata": {
    "collapsed": false,
    "ExecuteTime": {
     "end_time": "2023-12-23T16:39:08.530318300Z",
     "start_time": "2023-12-23T16:39:08.466835Z"
    }
   },
   "id": "6cec8061336f4161"
  },
  {
   "cell_type": "code",
   "execution_count": null,
   "outputs": [],
   "source": [],
   "metadata": {
    "collapsed": false
   },
   "id": "10e5dc6b618d262"
  }
 ],
 "metadata": {
  "kernelspec": {
   "display_name": "Python 3",
   "language": "python",
   "name": "python3"
  },
  "language_info": {
   "codemirror_mode": {
    "name": "ipython",
    "version": 2
   },
   "file_extension": ".py",
   "mimetype": "text/x-python",
   "name": "python",
   "nbconvert_exporter": "python",
   "pygments_lexer": "ipython2",
   "version": "2.7.6"
  }
 },
 "nbformat": 4,
 "nbformat_minor": 5
}
